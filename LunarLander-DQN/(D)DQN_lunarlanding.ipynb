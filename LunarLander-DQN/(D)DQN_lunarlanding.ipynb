{
  "cells": [
    {
      "cell_type": "code",
      "execution_count": null,
      "metadata": {
        "id": "UC0YBv93ZFSw"
      },
      "outputs": [],
      "source": [
        "!pip3 install box2d-py\n",
        "!pip3 install gym[Box_2D]\n",
        "!pip3 install ipdb\n",
        "\n",
        "!pip install gym pyvirtualdisplay > /dev/null 2>&1\n",
        "!apt-get install -y xvfb python-opengl ffmpeg > /dev/null 2>&1"
      ]
    },
    {
      "cell_type": "code",
      "execution_count": null,
      "metadata": {
        "id": "TnBmoW03ZiGN"
      },
      "outputs": [],
      "source": [
        "import gym\n",
        "import math\n",
        "import random\n",
        "import pandas as pd\n",
        "import torch\n",
        "import torch.nn as nn\n",
        "import torch.nn.functional as F\n",
        "import numpy as np\n",
        "from collections import deque\n",
        "import torch.optim as optim\n",
        "import matplotlib.pyplot as plt\n",
        "from collections import namedtuple, deque\n",
        "from itertools import count\n",
        "from gym import wrappers\n",
        "import time\n",
        "from IPython.display import clear_output"
      ]
    },
    {
      "cell_type": "code",
      "execution_count": null,
      "metadata": {
        "id": "cMNluhHrob_1"
      },
      "outputs": [],
      "source": [
        "# For visualization\n",
        "from gym.wrappers.monitoring import video_recorder\n",
        "from IPython.display import HTML\n",
        "from IPython import display \n",
        "import glob\n",
        "import base64, io\n",
        "from pyvirtualdisplay import Display\n",
        "from IPython import display as ipythondisplay\n",
        "from gym.wrappers import Monitor"
      ]
    },
    {
      "cell_type": "code",
      "source": [
        "# Helper method\n",
        "def plot_scores(scores):\n",
        "    fig = plt.figure()\n",
        "    ax = fig.add_subplot(111)\n",
        "    plt.plot(np.arange(len(scores)), scores)\n",
        "    plt.ylabel('Score')\n",
        "    plt.xlabel('Episode #')\n",
        "     \n",
        "    # Take 100 episode averages and plot them too\n",
        "    if len(scores) >= 100:\n",
        "        cumsum_vec = np.cumsum(np.insert(scores, 0, 0)) \n",
        "        ma_vec = (cumsum_vec[100:] - cumsum_vec[:-100]) / 100\n",
        "\n",
        "        #padd beginning with 0s \n",
        "        zeros = 100 * [0]\n",
        "        plt.plot([*zeros, *ma_vec])\n",
        "    \n",
        "    plt.show()\n"
      ],
      "metadata": {
        "id": "XtZ5IQeg9x-x"
      },
      "execution_count": null,
      "outputs": []
    },
    {
      "cell_type": "markdown",
      "source": [
        "# References\n",
        "\n",
        "Double Deep Q Network referenced from:\n",
        "\n",
        "https://goodboychan.github.io/python/reinforcement_learning/pytorch/udacity/2021/05/07/DQN-LunarLander.html\n",
        "\n",
        "Prioritized Experience Replay referenced from: \n",
        "\n",
        "https://github.com/davidrpugh/stochastic-expatriate-descent/tree/master/_notebooks"
      ],
      "metadata": {
        "id": "g9DpXeR-KM1h"
      }
    },
    {
      "cell_type": "markdown",
      "source": [
        "#Q Network Class"
      ],
      "metadata": {
        "id": "P8oTHlnge2Ko"
      }
    },
    {
      "cell_type": "code",
      "execution_count": null,
      "metadata": {
        "id": "ZDlE3HDWcDEj"
      },
      "outputs": [],
      "source": [
        "\"\"\"\n",
        "Q-network class\n",
        "\"\"\"\n",
        "class QNetwork(nn.Module):\n",
        "  def __init__(self, num_states, num_actions, hidden_layers, seed=0):\n",
        "    super(QNetwork, self).__init__()\n",
        "    self.seed = torch.manual_seed(seed)\n",
        "    self.fc1 = nn.Linear(num_states, hidden_layers[0])\n",
        "    self.fc2 = nn.Linear(hidden_layers[0], hidden_layers[1])\n",
        "    self.fc3 = nn.Linear(hidden_layers[1], num_actions)\n",
        "\n",
        "  def forward(self, X):\n",
        "    X = F.relu((self.fc1(X)))\n",
        "    X = F.relu((self.fc2(X)))\n",
        "    return self.fc3(X)"
      ]
    },
    {
      "cell_type": "markdown",
      "source": [
        "# Memory Classes"
      ],
      "metadata": {
        "id": "res_JiwLe62a"
      }
    },
    {
      "cell_type": "code",
      "execution_count": null,
      "metadata": {
        "id": "XbS3JV0lj7jA"
      },
      "outputs": [],
      "source": [
        "#define data structure for experience \n",
        "Experience = namedtuple('Experience',\n",
        "                        ('state', 'action', 'next_state', 'reward', 'done'))\n",
        "\n",
        "\n",
        "\"\"\"\n",
        "Replay Memory to store experiences \n",
        "\"\"\"\n",
        "class ReplayMemory:\n",
        "  def __init__(self, mem_capacity, rand_seed):\n",
        "    #self.num_actions = num_actions\n",
        "    self.memory = deque(maxlen = mem_capacity)\n",
        "    self.seed = random.seed(rand_seed)\n",
        "\n",
        "  \"\"\"\n",
        "  Magic method to return size of memory\n",
        "  \"\"\"\n",
        "  def __len__(self):\n",
        "    return len(self.memory)\n",
        "\n",
        "  \"\"\"\n",
        "  Add experience to memory\n",
        "  \"\"\"\n",
        "  def add_experience(self, state, action, next_state, reward, done):\n",
        "    self.memory.append(Experience(state, action, next_state, reward, done))\n",
        "\n",
        "  \"\"\"\n",
        "  Get n experiences from memory\n",
        "  \"\"\"\n",
        "  def sample_exp(self, n):\n",
        "\n",
        "    #get n exp\n",
        "    experiences = random.sample(self.memory, k=n)\n",
        "\n",
        "    states = [] \n",
        "    actions = []\n",
        "    rewards = [] \n",
        "    next_states = [] \n",
        "    dones = []  \n",
        "\n",
        "    #get states, actions..\n",
        "    for e in experiences:\n",
        "      if e is not None:\n",
        "        state, action, next_state, reward, done = e\n",
        "        states.append(state)\n",
        "        actions.append(action)\n",
        "        next_states.append(next_state)\n",
        "        rewards.append(reward)\n",
        "        dones.append(done)\n",
        "\n",
        "    #convert to tensors \n",
        "    states = torch.from_numpy(np.vstack(states)).to(torch.float).to(device)\n",
        "    actions = torch.from_numpy(np.vstack(actions)).to(torch.long).to(device)\n",
        "    next_states = torch.from_numpy(np.vstack(next_states)).to(torch.float).to(device)\n",
        "    rewards = torch.from_numpy(np.vstack(rewards)).to(torch.float).to(device)\n",
        "    dones = torch.from_numpy(np.vstack(dones).astype(np.uint8)).to(torch.float).to(device)\n",
        "\n",
        "    #return as tuple \n",
        "    return (states, actions, next_states, rewards, dones)\n"
      ]
    },
    {
      "cell_type": "code",
      "execution_count": null,
      "metadata": {
        "id": "p66NYVHDIfpd"
      },
      "outputs": [],
      "source": [
        "\n",
        "\"\"\"\n",
        "Priority Experience Replay Memory\n",
        "\"\"\"\n",
        "\n",
        "class PERMemory:\n",
        "  def __init__(self, mem_capacity, rand_seed, alpha):\n",
        "    self.alpha = alpha \n",
        "    self.mem_capacity = mem_capacity\n",
        "    self.memory = np.empty(self.mem_capacity, dtype=[(\"priority\", np.float32), (\"experience\", Experience)])\n",
        "    self.seed = np.random.RandomState(rand_seed)\n",
        "    self.mem_length = 0\n",
        "\n",
        "\n",
        "  \"\"\"\n",
        "  returns current size of memory\n",
        "  \"\"\"\n",
        "  def __len__(self):\n",
        "    return self.mem_length\n",
        "\n",
        "  \"\"\"\n",
        "  adds experience to memory and sets priority\n",
        "  \"\"\"\n",
        "  def add_experience(self, state, action, next_state, reward, done):\n",
        "    experience = Experience(state, action, next_state, reward, done)\n",
        "\n",
        "    ##if first entry\n",
        "    if self.mem_length == 0:\n",
        "      priority = 1\n",
        "    else:\n",
        "      priority = self.memory['priority'].max() \n",
        "\n",
        "    ##if memory is full \n",
        "    if self.mem_length == self.mem_capacity:\n",
        "      ##check if priority of new exp is more than the exp with the least priority is memory \n",
        "      ##and add to memeory \n",
        "      all_priorities = self.memory['priority']\n",
        "      if priority > all_priorities.min():\n",
        "        self.memory[all_priorities.argmin()] = (priority, experience)\n",
        "    else:\n",
        "      self.memory[self.mem_length] = (priority, experience)\n",
        "      self.mem_length += 1\n",
        "\n",
        "  \"\"\"\n",
        "  Get n experiences from memory\n",
        "  returns: experiences from memory & their indexes + weights    \n",
        "  \"\"\"\n",
        "  def sample_exp(self, n, beta):\n",
        "    #get priorities of all experiences \n",
        "    priorities = self.memory[:self.mem_length]['priority']\n",
        "    sampling_probs = priorities**self.alpha / np.sum(priorities**self.alpha)\n",
        "    #sample n experiences \n",
        "    idxs = self.seed.choice(np.arange(self.mem_length), size = n, replace = True, p = sampling_probs)\n",
        "    exp = self.memory['experience'][idxs]\n",
        "    weights = (self.mem_length * sampling_probs[idxs])**-beta \n",
        "    weights_norm = weights / weights.max() \n",
        "\n",
        "    return idxs, exp, weights_norm\n",
        "\n",
        "  \"\"\"\n",
        "  Helper Function to convert array of experiences to tensors\n",
        "  \"\"\"\n",
        "  def convert_exp_to_tensor(self, experiences):\n",
        "    states = [] \n",
        "    actions = []\n",
        "    rewards = [] \n",
        "    next_states = [] \n",
        "    dones = []  \n",
        "\n",
        "    #get states, actions..\n",
        "    for e in experiences:\n",
        "      if e is not None:\n",
        "        state, action, next_state, reward, done = e\n",
        "        states.append(state)\n",
        "        actions.append(action)\n",
        "        next_states.append(next_state)\n",
        "        rewards.append(reward)\n",
        "        dones.append(done)\n",
        "\n",
        "    #convert to tensors \n",
        "    states = torch.from_numpy(np.vstack(states)).to(torch.float).to(device)\n",
        "    actions = torch.from_numpy(np.vstack(actions)).to(torch.long).to(device)\n",
        "    next_states = torch.from_numpy(np.vstack(next_states)).to(torch.float).to(device)\n",
        "    rewards = torch.from_numpy(np.vstack(rewards)).to(torch.float).to(device)\n",
        "    dones = torch.from_numpy(np.vstack(dones).astype(np.uint8)).to(torch.float).to(device)\n",
        "\n",
        "    return (states, actions, next_states, rewards, dones)\n",
        "\n",
        "\n"
      ]
    },
    {
      "cell_type": "markdown",
      "source": [
        "# Agent Class"
      ],
      "metadata": {
        "id": "FxBKRFGnfA3G"
      }
    },
    {
      "cell_type": "code",
      "execution_count": null,
      "metadata": {
        "id": "OxVhs2ta70wv"
      },
      "outputs": [],
      "source": [
        "class Agent():\n",
        "\n",
        "  def __init__(self, num_states, num_actions, seed, learning_rate, memory_capacity, batch_size, update_frequency, gamma, tau, alpha, beta, ddqn = True, per = True):\n",
        "    self.num_states = num_states\n",
        "    self.num_actions = num_actions\n",
        "    self.seed = seed #random.seed(seed)\n",
        "    self.update_frequency = update_frequency \n",
        "    self.batch_size = batch_size\n",
        "    self.gamma = gamma \n",
        "    self.tau = tau \n",
        "    self.ddqn = ddqn\n",
        "    self.time_step = 0 \n",
        "    self.per = per \n",
        "    self.beta = beta\n",
        "    self.num_episodes = 0 \n",
        "\n",
        "\n",
        "    #Q-network \n",
        "    # local = policy, target = target \n",
        "    self.policy_net = QNetwork(num_states, num_actions, [64, 64], self.seed).to(device)\n",
        "    self.target_net = QNetwork(num_states, num_actions,[64,64],  self.seed).to(device)\n",
        "    #initialize target with policy net params \n",
        "    self.sync_networks()\n",
        "\n",
        "    self.optimizer = optim.Adam(self.policy_net.parameters(), lr = learning_rate)\n",
        "\n",
        "    #memory\n",
        "    if per:\n",
        "      self.memory = PERMemory(memory_capacity, self.seed, alpha)\n",
        "    else:\n",
        "      self.memory = ReplayMemory(memory_capacity, self.seed)\n",
        "\n",
        "\n",
        "  \"\"\"\n",
        "  sync both networks\n",
        "  \"\"\"\n",
        "  def sync_networks(self):\n",
        "    _ = self.target_net.load_state_dict(self.policy_net.state_dict())\n",
        "\n",
        "  \"\"\"\n",
        "  Agent executes action to build knowledge base\n",
        "  Every n steps, learns from experience \n",
        "  \"\"\"\n",
        "  def execute_action(self, state, action, reward, next_state, done):\n",
        "    #add experience\n",
        "    self.memory.add_experience(state, action, reward, next_state, done)\n",
        "\n",
        "    \n",
        "    #back prop every n steps \n",
        "    if done:\n",
        "      self.num_episodes += 1\n",
        "    else:\n",
        "      self.time_step += 1 \n",
        "\n",
        "\n",
        "    if self.time_step % self.update_frequency == 0:\n",
        "      #check if there are enough experiences\n",
        "      if len(self.memory) > self.batch_size:\n",
        "        if self.per:\n",
        "          #sample from per \n",
        "          self.beta = 1 - np.exp(-1e-2 * self.num_episodes)\n",
        "          idxs, exps, weights = self.memory.sample_exp(self.batch_size, self.beta)\n",
        "          #learn from experience \n",
        "          self.per_learn(idxs, exps, weights, self.gamma)\n",
        "        else:\n",
        "          #sample from replay mempry\n",
        "          exp = self.memory.sample_exp(self.batch_size)\n",
        "          #learn from experience\n",
        "          self.ddqn_learn(exp, self.gamma)\n",
        "\n",
        "\n",
        "  \"\"\"\n",
        "  Select an actions based on actions available for a given state\n",
        "  \"\"\"\n",
        "  def select_action(self, state, eps = 0 ):\n",
        "    state = torch.from_numpy(state).float().unsqueeze(0).to(device)\n",
        "    #turn off grad for forward pass \n",
        "    self.policy_net.eval()\n",
        "    with torch.no_grad():\n",
        "        actions = self.policy_net(state)\n",
        "    self.policy_net.train()\n",
        "    \n",
        "    # Epsilon-greedy action selection\n",
        "    if random.random() > eps:\n",
        "        return np.argmax(actions.cpu().data.numpy())\n",
        "    else:\n",
        "        return random.choice(np.arange(self.num_actions))\n",
        "  \"\"\"\n",
        "  Learns from prior experiences \n",
        "  for per + dqn (or) per + ddqn \n",
        "  \"\"\"\n",
        "  def per_learn(self, indexes, experiences, weights, gamma):\n",
        "    states, actions, rewards, next_states, dones = self.memory.convert_exp_to_tensor(experiences)\n",
        "\n",
        "    \n",
        "\n",
        "    #get error in q calculation\n",
        "    if self.ddqn:\n",
        "       _, q_values = self.policy_net(next_states).max(dim =1 , keepdim = True) #gets actions \n",
        "    else:\n",
        "      #add code for dqn \n",
        "      _, q_values = self.target_net(next_states).max(dim =1 , keepdim = True) #gets actions \n",
        "\n",
        "    q_values_next = self.target_net(next_states).gather(dim = 1, index = q_values)\n",
        "    target_q_values = rewards + gamma * q_values_next * (1 - dones)\n",
        "    policy_q_values = self.policy_net(states).gather(1, actions)\n",
        "    q_error = target_q_values - policy_q_values \n",
        "\n",
        "    #fix dimenions for remainign calcs \n",
        "    actions = (actions.long().unsqueeze(dim=1))\n",
        "    rewards = rewards.unsqueeze(dim=1)\n",
        "    dones = dones.unsqueeze(dim=1)\n",
        "\n",
        "    #update priorities \n",
        "    priorities = (q_error.abs().cpu().detach().numpy().flatten())\n",
        "    self.memory.memory[\"priority\"][indexes] = priorities + 1e-6 #ensure val is positive \n",
        "\n",
        "    #calculate loss \n",
        "    weights = (torch.Tensor(weights).view((-1, 1))).to(device)\n",
        "    loss = torch.mean((q_error * weights)**2)\n",
        "    \n",
        "    #back-prop\n",
        "    self.optimizer.zero_grad()\n",
        "    loss.backward() \n",
        "    self.optimizer.step()\n",
        "\n",
        "    #sync networks \n",
        "    self.sync_networks()\n",
        "\n",
        "\n",
        "  \"\"\"\n",
        "  Learns from prior experiences\n",
        "  only for ddqn + dqn \n",
        "  \"\"\"\n",
        "  def ddqn_learn(self, experiences, gamma):\n",
        "    states, actions, rewards, next_states, dones = experiences \n",
        "\n",
        "    # Target Q-value calculation \n",
        "    # Q-value of next state \n",
        "    if self.ddqn:\n",
        "      _, q_values = self.policy_net(next_states).max(dim =1 , keepdim = True) #gets actions \n",
        "      \n",
        "    else:\n",
        "      _, q_values = self.target_net(next_states).max(dim =1 , keepdim = True) #gets actions \n",
        "\n",
        "    q_values_next = self.target_net(next_states).gather(dim = 1, index = q_values)\n",
        "    target_q_values = rewards + gamma * q_values_next * (1 - dones)\n",
        "\n",
        "    policy_q_values = self.policy_net(states).gather(1, actions)\n",
        "\n",
        "\n",
        "    ### Loss calculation \n",
        "    loss = F.mse_loss(policy_q_values, target_q_values)\n",
        "\n",
        "    \n",
        "    self.optimizer.zero_grad()\n",
        "    loss.backward()\n",
        "    self.optimizer.step()\n",
        "\n",
        "    #update target net based on policy net \n",
        "    for target_param, policy_param in zip(self.target_net.parameters(), self.policy_net.parameters()):\n",
        "       target_param.data.copy_(self.tau*policy_param.data + (1.0-self.tau)*target_param.data)\n",
        "\n",
        "    "
      ]
    },
    {
      "cell_type": "markdown",
      "source": [
        "#Training Function"
      ],
      "metadata": {
        "id": "uZnUQk-ofFn2"
      }
    },
    {
      "cell_type": "code",
      "execution_count": null,
      "metadata": {
        "id": "D0uKre1S1xTA"
      },
      "outputs": [],
      "source": [
        "def train_ddqn(env, agent, fname, num_episodes = 2000, max_steps = 1000, eps_start = 1.0, eps_end = 0.01, eps_decay = 0.995):\n",
        "  scores = [] \n",
        "  scores_window = deque(maxlen = 100)\n",
        "  eps = eps_start \n",
        "\n",
        "  for i in range(1, num_episodes+1):\n",
        "    state = env.reset() \n",
        "    current_score = 0 \n",
        "    for step in range(max_steps):\n",
        "      #select action \n",
        "      action = agent.select_action(state, eps)\n",
        "      #take action in environment\n",
        "      next_state, reward, done, _ = env.step(action)\n",
        "      #store experience in memory & learn \n",
        "      agent.execute_action(state, action, reward, next_state, done)\n",
        "      \n",
        "      #update state & rewards \n",
        "      state = next_state \n",
        "      current_score += reward\n",
        "\n",
        "      # game over \n",
        "      if done:\n",
        "        break \n",
        "\n",
        "    #save episode scores   \n",
        "    scores_window.append(current_score)       \n",
        "    scores.append(current_score)                    \n",
        "    \n",
        "    #decay epsilon \n",
        "    eps = max(eps_end, eps_decay*eps) \n",
        "\n",
        "    #Score printing formatting  \n",
        "    print('\\rEpisode {}\\tAverage Score: {:.2f}'.format(i, np.mean(scores_window)), end=\"\")\n",
        "    if i % 100 == 0:\n",
        "          print('\\rEpisode {}\\tAverage Score: {:.2f}'.format(i, np.mean(scores_window)))\n",
        "\n",
        "    #break condition to stop training \n",
        "    if np.mean(scores_window)>=200.0:\n",
        "          print('\\nEnvironment solved in {:d} episodes!\\tAverage Score: {:.2f}'.format(i-100, np.mean(scores_window)))\n",
        "          torch.save(agent.policy_net.state_dict(), fname)\n",
        "          break\n",
        "          \n",
        "  return scores\n",
        "\n",
        "\n",
        "\n"
      ]
    },
    {
      "cell_type": "markdown",
      "source": [
        "#Code for visualization"
      ],
      "metadata": {
        "id": "Zo-mYUbaepK2"
      }
    },
    {
      "cell_type": "code",
      "execution_count": null,
      "metadata": {
        "id": "0tJRcYz27Z9D"
      },
      "outputs": [],
      "source": [
        "def play_game(env, agent, render, checkpoint_fname = None):\n",
        "    done = False\n",
        "    state = env.reset()\n",
        "    reward_total = 0\n",
        "\n",
        "    if checkpoint_fname:\n",
        "      policy_net = QNetwork(num_states, num_actions, [64, 64]).to(device)\n",
        "      policy_net.load_state_dict(torch.load(checkpoint_fname))\n",
        "      policy_net.eval()\n",
        "    else:\n",
        "      policy_net = agent.policy_net\n",
        "\n",
        "\n",
        "    \n",
        "\n",
        "    while not done:\n",
        "        state_t = torch.from_numpy(state).float().unsqueeze(0).to(device)\n",
        "        action = policy_net(state_t).max(1)[1].view(1, 1)\n",
        "        \n",
        "        state, reward, done, _ = env.step(action.item())\n",
        "        reward_total += reward\n",
        "        \n",
        "        if render: env.render()\n",
        "        \n",
        "    \n",
        "    if render:\n",
        "        print(f'reward = {reward_total}')\n",
        "        env.close()\n",
        "        show_video()\n",
        "    \n",
        "\n",
        "    return reward_total\n",
        "\n",
        "\n",
        "def show_video():\n",
        "  mp4list = glob.glob('video/*.mp4')\n",
        "  if len(mp4list) > 0:\n",
        "    mp4 = mp4list[0]\n",
        "    video = io.open(mp4, 'r+b').read()\n",
        "    encoded = base64.b64encode(video)\n",
        "    ipythondisplay.display(HTML(data='''<video alt=\"test\" autoplay \n",
        "                loop controls style=\"height: 400px;\">\n",
        "                <source src=\"data:video/mp4;base64,{0}\" type=\"video/mp4\" />\n",
        "             </video>'''.format(encoded.decode('ascii'))))\n",
        "  else: \n",
        "    print(\"Could not find video\")\n",
        "    \n",
        "\n",
        "def wrap_env(env):\n",
        "  env = Monitor(env, './video', force=True)\n",
        "  return env"
      ]
    },
    {
      "cell_type": "markdown",
      "source": [
        "# Environment Setup"
      ],
      "metadata": {
        "id": "qM8neJpbet7J"
      }
    },
    {
      "cell_type": "code",
      "execution_count": null,
      "metadata": {
        "colab": {
          "base_uri": "https://localhost:8080/"
        },
        "id": "EZFwfrNsc-a-",
        "outputId": "d4417690-34b3-4f36-ba57-7f429df08a3d"
      },
      "outputs": [
        {
          "output_type": "stream",
          "name": "stdout",
          "text": [
            "device:  cuda:0\n",
            "game:  LunarLander-v2\n",
            "States size: 8 Actions size:  4\n"
          ]
        }
      ],
      "source": [
        "device = torch.device(\"cuda:0\" if torch.cuda.is_available() else \"cpu\")\n",
        "print(\"device: \", device)\n",
        "\n",
        "game = 'LunarLander-v2'\n",
        "env = gym.make(game)\n",
        "\n",
        "print(\"game: \", game)\n",
        "num_states = env.observation_space.shape[0]\n",
        "num_actions = env.action_space.n\n",
        "\n",
        "print(\"States size:\", num_states, \"Actions size: \",  num_actions)"
      ]
    },
    {
      "cell_type": "markdown",
      "metadata": {
        "id": "dXp8K9iec_Hg"
      },
      "source": [
        "# Train agent on DDQN + PER\n"
      ]
    },
    {
      "cell_type": "code",
      "execution_count": null,
      "metadata": {
        "colab": {
          "base_uri": "https://localhost:8080/"
        },
        "id": "ggL6BNH8dWAi",
        "outputId": "a230fb19-669a-4b74-de8c-3e6d5d4be5b7"
      },
      "outputs": [
        {
          "output_type": "stream",
          "name": "stdout",
          "text": [
            "Episode 100\tAverage Score: -169.66\n",
            "Episode 200\tAverage Score: -78.98\n",
            "Episode 300\tAverage Score: 47.42\n",
            "Episode 400\tAverage Score: 108.69\n",
            "Episode 456\tAverage Score: 200.29\n",
            "Environment solved in 356 episodes!\tAverage Score: 200.29\n"
          ]
        }
      ],
      "source": [
        "#set up parameters for agent\n",
        "seed = 0\n",
        "learning_rate = 5e-4\n",
        "memory_capacity = 100000\n",
        "batch_size = 64\n",
        "update_every = 4\n",
        "gamma = 0.99 \n",
        "tau = 0.001\n",
        "ddqn = True #using DQN now\n",
        "per = True\n",
        "alpha = 0.5 #0 - uniform sampling \n",
        "beta = 1 #fix this to decay - doesnt matter, dont need to pass in \n",
        "\n",
        "#training params \n",
        "num_episodes = 2000 ##changes this \n",
        "max_steps = 1000\n",
        "eps_start = 1.0\n",
        "eps_end = 0.01\n",
        "eps_decay = 0.995\n",
        "\n",
        "checkpoint_fname = 'ddqn_per.pth'\n",
        "\n",
        "agent = Agent(num_states, num_actions, seed, learning_rate, memory_capacity, batch_size, update_every, gamma, tau, alpha, beta, ddqn, per )\n",
        "scores = train_ddqn(env, agent, checkpoint_fname, num_episodes, max_steps , eps_start, eps_end , eps_decay)\n",
        "\n",
        "\n"
      ]
    },
    {
      "cell_type": "code",
      "execution_count": null,
      "metadata": {
        "colab": {
          "base_uri": "https://localhost:8080/",
          "height": 279
        },
        "id": "p9FiNYhsLQF0",
        "outputId": "adb74fd5-04d9-4772-b045-ecec0039a9fc"
      },
      "outputs": [
        {
          "output_type": "display_data",
          "data": {
            "text/plain": [
              "<Figure size 432x288 with 1 Axes>"
            ],
            "image/png": "[encoded data removed]"
          },
          "metadata": {
            "needs_background": "light"
          }
        }
      ],
      "source": [
        "plot_scores(scores)"
      ]
    },
    {
      "cell_type": "code",
      "source": [
        "env = gym.make('LunarLander-v2')\n",
        "agent.policy_net.eval()\n",
        "rewards = []\n",
        "\n",
        "\n",
        "for i in range(1000):\n",
        "    if i % 100 == 0:\n",
        "        print(f'iteration: {i}')\n",
        "    rewards.append(play_game(env, agent, False, 'ddqn_per.pth'))\n",
        "\n",
        "ddqn_per_df = pd.DataFrame(rewards)\n",
        "\n",
        "agent.policy_net.train()"
      ],
      "metadata": {
        "colab": {
          "base_uri": "https://localhost:8080/"
        },
        "id": "7wot3DurHpOE",
        "outputId": "4a6d65db-7ffa-4832-bd47-0de96d718656"
      },
      "execution_count": null,
      "outputs": [
        {
          "output_type": "stream",
          "name": "stdout",
          "text": [
            "iteration: 0\n",
            "iteration: 100\n",
            "iteration: 200\n",
            "iteration: 300\n",
            "iteration: 400\n",
            "iteration: 500\n",
            "iteration: 600\n",
            "iteration: 700\n",
            "iteration: 800\n",
            "iteration: 900\n"
          ]
        },
        {
          "output_type": "execute_result",
          "data": {
            "text/plain": [
              "QNetwork(\n",
              "  (fc1): Linear(in_features=8, out_features=64, bias=True)\n",
              "  (fc2): Linear(in_features=64, out_features=64, bias=True)\n",
              "  (fc3): Linear(in_features=64, out_features=4, bias=True)\n",
              ")"
            ]
          },
          "metadata": {},
          "execution_count": 19
        }
      ]
    },
    {
      "cell_type": "code",
      "source": [
        "ddqn_per_df.describe()"
      ],
      "metadata": {
        "colab": {
          "base_uri": "https://localhost:8080/",
          "height": 300
        },
        "id": "3j2DaYbhM4eX",
        "outputId": "a53dd744-d763-43f1-fa9b-bae4ffea37ec"
      },
      "execution_count": null,
      "outputs": [
        {
          "output_type": "execute_result",
          "data": {
            "text/plain": [
              "                 0\n",
              "count  1000.000000\n",
              "mean    198.981672\n",
              "std     143.253681\n",
              "min    -209.885049\n",
              "25%     238.607137\n",
              "50%     253.691175\n",
              "75%     267.525015\n",
              "max     301.220229"
            ],
            "text/html": [
              "\n",
              "  <div id=\"df-d3238449-1e25-41ae-8906-522c36b273fe\">\n",
              "    <div class=\"colab-df-container\">\n",
              "      <div>\n",
              "<style scoped>\n",
              "    .dataframe tbody tr th:only-of-type {\n",
              "        vertical-align: middle;\n",
              "    }\n",
              "\n",
              "    .dataframe tbody tr th {\n",
              "        vertical-align: top;\n",
              "    }\n",
              "\n",
              "    .dataframe thead th {\n",
              "        text-align: right;\n",
              "    }\n",
              "</style>\n",
              "<table border=\"1\" class=\"dataframe\">\n",
              "  <thead>\n",
              "    <tr style=\"text-align: right;\">\n",
              "      <th></th>\n",
              "      <th>0</th>\n",
              "    </tr>\n",
              "  </thead>\n",
              "  <tbody>\n",
              "    <tr>\n",
              "      <th>count</th>\n",
              "      <td>1000.000000</td>\n",
              "    </tr>\n",
              "    <tr>\n",
              "      <th>mean</th>\n",
              "      <td>198.981672</td>\n",
              "    </tr>\n",
              "    <tr>\n",
              "      <th>std</th>\n",
              "      <td>143.253681</td>\n",
              "    </tr>\n",
              "    <tr>\n",
              "      <th>min</th>\n",
              "      <td>-209.885049</td>\n",
              "    </tr>\n",
              "    <tr>\n",
              "      <th>25%</th>\n",
              "      <td>238.607137</td>\n",
              "    </tr>\n",
              "    <tr>\n",
              "      <th>50%</th>\n",
              "      <td>253.691175</td>\n",
              "    </tr>\n",
              "    <tr>\n",
              "      <th>75%</th>\n",
              "      <td>267.525015</td>\n",
              "    </tr>\n",
              "    <tr>\n",
              "      <th>max</th>\n",
              "      <td>301.220229</td>\n",
              "    </tr>\n",
              "  </tbody>\n",
              "</table>\n",
              "</div>\n",
              "      <button class=\"colab-df-convert\" onclick=\"convertToInteractive('df-d3238449-1e25-41ae-8906-522c36b273fe')\"\n",
              "              title=\"Convert this dataframe to an interactive table.\"\n",
              "              style=\"display:none;\">\n",
              "        \n",
              "  <svg xmlns=\"http://www.w3.org/2000/svg\" height=\"24px\"viewBox=\"0 0 24 24\"\n",
              "       width=\"24px\">\n",
              "    <path d=\"M0 0h24v24H0V0z\" fill=\"none\"/>\n",
              "    <path d=\"M18.56 5.44l.94 2.06.94-2.06 2.06-.94-2.06-.94-.94-2.06-.94 2.06-2.06.94zm-11 1L8.5 8.5l.94-2.06 2.06-.94-2.06-.94L8.5 2.5l-.94 2.06-2.06.94zm10 10l.94 2.06.94-2.06 2.06-.94-2.06-.94-.94-2.06-.94 2.06-2.06.94z\"/><path d=\"M17.41 7.96l-1.37-1.37c-.4-.4-.92-.59-1.43-.59-.52 0-1.04.2-1.43.59L10.3 9.45l-7.72 7.72c-.78.78-.78 2.05 0 2.83L4 21.41c.39.39.9.59 1.41.59.51 0 1.02-.2 1.41-.59l7.78-7.78 2.81-2.81c.8-.78.8-2.07 0-2.86zM5.41 20L4 18.59l7.72-7.72 1.47 1.35L5.41 20z\"/>\n",
              "  </svg>\n",
              "      </button>\n",
              "      \n",
              "  <style>\n",
              "    .colab-df-container {\n",
              "      display:flex;\n",
              "      flex-wrap:wrap;\n",
              "      gap: 12px;\n",
              "    }\n",
              "\n",
              "    .colab-df-convert {\n",
              "      background-color: #E8F0FE;\n",
              "      border: none;\n",
              "      border-radius: 50%;\n",
              "      cursor: pointer;\n",
              "      display: none;\n",
              "      fill: #1967D2;\n",
              "      height: 32px;\n",
              "      padding: 0 0 0 0;\n",
              "      width: 32px;\n",
              "    }\n",
              "\n",
              "    .colab-df-convert:hover {\n",
              "      background-color: #E2EBFA;\n",
              "      box-shadow: 0px 1px 2px rgba(60, 64, 67, 0.3), 0px 1px 3px 1px rgba(60, 64, 67, 0.15);\n",
              "      fill: #174EA6;\n",
              "    }\n",
              "\n",
              "    [theme=dark] .colab-df-convert {\n",
              "      background-color: #3B4455;\n",
              "      fill: #D2E3FC;\n",
              "    }\n",
              "\n",
              "    [theme=dark] .colab-df-convert:hover {\n",
              "      background-color: #434B5C;\n",
              "      box-shadow: 0px 1px 3px 1px rgba(0, 0, 0, 0.15);\n",
              "      filter: drop-shadow(0px 1px 2px rgba(0, 0, 0, 0.3));\n",
              "      fill: #FFFFFF;\n",
              "    }\n",
              "  </style>\n",
              "\n",
              "      <script>\n",
              "        const buttonEl =\n",
              "          document.querySelector('#df-d3238449-1e25-41ae-8906-522c36b273fe button.colab-df-convert');\n",
              "        buttonEl.style.display =\n",
              "          google.colab.kernel.accessAllowed ? 'block' : 'none';\n",
              "\n",
              "        async function convertToInteractive(key) {\n",
              "          const element = document.querySelector('#df-d3238449-1e25-41ae-8906-522c36b273fe');\n",
              "          const dataTable =\n",
              "            await google.colab.kernel.invokeFunction('convertToInteractive',\n",
              "                                                     [key], {});\n",
              "          if (!dataTable) return;\n",
              "\n",
              "          const docLinkHtml = 'Like what you see? Visit the ' +\n",
              "            '<a target=\"_blank\" href=https://colab.research.google.com/notebooks/data_table.ipynb>data table notebook</a>'\n",
              "            + ' to learn more about interactive tables.';\n",
              "          element.innerHTML = '';\n",
              "          dataTable['output_type'] = 'display_data';\n",
              "          await google.colab.output.renderOutput(dataTable, element);\n",
              "          const docLink = document.createElement('div');\n",
              "          docLink.innerHTML = docLinkHtml;\n",
              "          element.appendChild(docLink);\n",
              "        }\n",
              "      </script>\n",
              "    </div>\n",
              "  </div>\n",
              "  "
            ]
          },
          "metadata": {},
          "execution_count": 20
        }
      ]
    },
    {
      "cell_type": "code",
      "source": [
        "display = Display(visible=0, size=(1400, 900))\n",
        "display.start()\n",
        "\n",
        "env = wrap_env(gym.make('LunarLander-v2'))\n",
        "play_game(env, agent, True, checkpoint_fname)"
      ],
      "metadata": {
        "colab": {
          "base_uri": "https://localhost:8080/",
          "height": 459
        },
        "id": "es9vnnRJa3qG",
        "outputId": "bfb60b9c-7209-4f14-c50e-e514a8874bb8"
      },
      "execution_count": null,
      "outputs": [
        {
          "output_type": "stream",
          "name": "stdout",
          "text": [
            "reward = 233.16208173772893\n"
          ]
        },
        {
          "output_type": "display_data",
          "data": {
            "text/plain": [
              "<IPython.core.display.HTML object>"
            ],
            "text/html": [
              "<video alt=\"test\" autoplay \n",
              "                loop controls style=\"height: 400px;\">\n",
              "                <source src=\"data:video/mp4;base64,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\" type=\"video/mp4\" />\n",
              "             </video>"
            ]
          },
          "metadata": {}
        },
        {
          "output_type": "execute_result",
          "data": {
            "text/plain": [
              "233.16208173772893"
            ]
          },
          "metadata": {},
          "execution_count": 47
        }
      ]
    },
    {
      "cell_type": "markdown",
      "source": [
        "# Train agent on DQN + PER"
      ],
      "metadata": {
        "id": "_t7XOm_SeZga"
      }
    },
    {
      "cell_type": "code",
      "source": [
        "#set up parameters for agent\n",
        "seed = 0\n",
        "learning_rate = 5e-4\n",
        "memory_capacity = 100000\n",
        "batch_size = 64\n",
        "update_every = 4\n",
        "gamma = 0.99 \n",
        "tau = 0.001\n",
        "ddqn = False\n",
        "per = True\n",
        "alpha = 0.5 #0 - uniform sampling \n",
        "beta = 1 #fix this to decay - doesnt matter, dont need to pass in \n",
        "\n",
        "#training params \n",
        "num_episodes = 2000\n",
        "max_steps = 1000\n",
        "eps_start = 1.0\n",
        "eps_end = 0.01\n",
        "eps_decay = 0.995\n",
        "\n",
        "checkpoint_fname = 'dqn_per.pth'\n",
        "\n",
        "time_start = time.time()\n",
        "agent = Agent(num_states, num_actions, seed, learning_rate, memory_capacity, batch_size, update_every, gamma, tau, alpha, beta, ddqn, per )\n",
        "scores = train_ddqn(env, agent, checkpoint_fname, num_episodes, max_steps , eps_start, eps_end , eps_decay)\n",
        "print(\"Time elapsed: \", time.time()-time_start, \" s\")\n"
      ],
      "metadata": {
        "colab": {
          "base_uri": "https://localhost:8080/"
        },
        "id": "OI4Z-c9MfciL",
        "outputId": "e7f1eb7f-5e75-4937-cfff-2348826d4f22"
      },
      "execution_count": null,
      "outputs": [
        {
          "output_type": "stream",
          "name": "stdout",
          "text": [
            "Episode 100\tAverage Score: -151.11\n",
            "Episode 200\tAverage Score: -93.84\n",
            "Episode 300\tAverage Score: 4.50\n",
            "Episode 400\tAverage Score: 141.06\n",
            "Episode 500\tAverage Score: 192.95\n",
            "Episode 526\tAverage Score: 202.39\n",
            "Environment solved in 426 episodes!\tAverage Score: 202.39\n",
            "Time elapsed:  766.5216629505157  s\n"
          ]
        }
      ]
    },
    {
      "cell_type": "code",
      "source": [
        "plot_scores(scores)"
      ],
      "metadata": {
        "id": "hqZUDbnAfh4G",
        "colab": {
          "base_uri": "https://localhost:8080/",
          "height": 279
        },
        "outputId": "f5bb6093-d390-4c49-be63-50e02fa404b3"
      },
      "execution_count": null,
      "outputs": [
        {
          "output_type": "display_data",
          "data": {
            "text/plain": [
              "<Figure size 432x288 with 1 Axes>"
            ],
            "image/png": "[encoded data removed]"
          },
          "metadata": {
            "needs_background": "light"
          }
        }
      ]
    },
    {
      "cell_type": "code",
      "source": [
        "env = gym.make('LunarLander-v2')\n",
        "agent.policy_net.eval()\n",
        "rewards = []\n",
        "\n",
        "\n",
        "for i in range(1000):\n",
        "    if i % 100 == 0:\n",
        "        print(f'iteration: {i}')\n",
        "    rewards.append(play_game(env, agent, False, 'dqn_per.pth'))\n",
        "\n",
        "dqn_per_df = pd.DataFrame(rewards)\n",
        "\n",
        "agent.policy_net.train()"
      ],
      "metadata": {
        "colab": {
          "base_uri": "https://localhost:8080/"
        },
        "id": "dtbmogeGNbtR",
        "outputId": "e257dff5-e355-4a65-fdd0-66dddc7e99eb"
      },
      "execution_count": null,
      "outputs": [
        {
          "output_type": "stream",
          "name": "stdout",
          "text": [
            "iteration: 0\n",
            "iteration: 100\n",
            "iteration: 200\n",
            "iteration: 300\n",
            "iteration: 400\n",
            "iteration: 500\n",
            "iteration: 600\n",
            "iteration: 700\n",
            "iteration: 800\n",
            "iteration: 900\n"
          ]
        },
        {
          "output_type": "execute_result",
          "data": {
            "text/plain": [
              "QNetwork(\n",
              "  (fc1): Linear(in_features=8, out_features=64, bias=True)\n",
              "  (fc2): Linear(in_features=64, out_features=64, bias=True)\n",
              "  (fc3): Linear(in_features=64, out_features=4, bias=True)\n",
              ")"
            ]
          },
          "metadata": {},
          "execution_count": 18
        }
      ]
    },
    {
      "cell_type": "code",
      "source": [
        "dqn_per_df.describe()"
      ],
      "metadata": {
        "colab": {
          "base_uri": "https://localhost:8080/",
          "height": 300
        },
        "id": "-k7vN2X-Ngtq",
        "outputId": "d88a072c-f401-4991-9d2c-e1c4b7e733b4"
      },
      "execution_count": null,
      "outputs": [
        {
          "output_type": "execute_result",
          "data": {
            "text/plain": [
              "                 0\n",
              "count  1000.000000\n",
              "mean    238.414657\n",
              "std      47.320906\n",
              "min    -110.243500\n",
              "25%     228.466705\n",
              "50%     247.766746\n",
              "75%     265.100657\n",
              "max     306.878612"
            ],
            "text/html": [
              "\n",
              "  <div id=\"df-54c529dd-f09a-48d0-8cca-833e2a0dae2c\">\n",
              "    <div class=\"colab-df-container\">\n",
              "      <div>\n",
              "<style scoped>\n",
              "    .dataframe tbody tr th:only-of-type {\n",
              "        vertical-align: middle;\n",
              "    }\n",
              "\n",
              "    .dataframe tbody tr th {\n",
              "        vertical-align: top;\n",
              "    }\n",
              "\n",
              "    .dataframe thead th {\n",
              "        text-align: right;\n",
              "    }\n",
              "</style>\n",
              "<table border=\"1\" class=\"dataframe\">\n",
              "  <thead>\n",
              "    <tr style=\"text-align: right;\">\n",
              "      <th></th>\n",
              "      <th>0</th>\n",
              "    </tr>\n",
              "  </thead>\n",
              "  <tbody>\n",
              "    <tr>\n",
              "      <th>count</th>\n",
              "      <td>1000.000000</td>\n",
              "    </tr>\n",
              "    <tr>\n",
              "      <th>mean</th>\n",
              "      <td>238.414657</td>\n",
              "    </tr>\n",
              "    <tr>\n",
              "      <th>std</th>\n",
              "      <td>47.320906</td>\n",
              "    </tr>\n",
              "    <tr>\n",
              "      <th>min</th>\n",
              "      <td>-110.243500</td>\n",
              "    </tr>\n",
              "    <tr>\n",
              "      <th>25%</th>\n",
              "      <td>228.466705</td>\n",
              "    </tr>\n",
              "    <tr>\n",
              "      <th>50%</th>\n",
              "      <td>247.766746</td>\n",
              "    </tr>\n",
              "    <tr>\n",
              "      <th>75%</th>\n",
              "      <td>265.100657</td>\n",
              "    </tr>\n",
              "    <tr>\n",
              "      <th>max</th>\n",
              "      <td>306.878612</td>\n",
              "    </tr>\n",
              "  </tbody>\n",
              "</table>\n",
              "</div>\n",
              "      <button class=\"colab-df-convert\" onclick=\"convertToInteractive('df-54c529dd-f09a-48d0-8cca-833e2a0dae2c')\"\n",
              "              title=\"Convert this dataframe to an interactive table.\"\n",
              "              style=\"display:none;\">\n",
              "        \n",
              "  <svg xmlns=\"http://www.w3.org/2000/svg\" height=\"24px\"viewBox=\"0 0 24 24\"\n",
              "       width=\"24px\">\n",
              "    <path d=\"M0 0h24v24H0V0z\" fill=\"none\"/>\n",
              "    <path d=\"M18.56 5.44l.94 2.06.94-2.06 2.06-.94-2.06-.94-.94-2.06-.94 2.06-2.06.94zm-11 1L8.5 8.5l.94-2.06 2.06-.94-2.06-.94L8.5 2.5l-.94 2.06-2.06.94zm10 10l.94 2.06.94-2.06 2.06-.94-2.06-.94-.94-2.06-.94 2.06-2.06.94z\"/><path d=\"M17.41 7.96l-1.37-1.37c-.4-.4-.92-.59-1.43-.59-.52 0-1.04.2-1.43.59L10.3 9.45l-7.72 7.72c-.78.78-.78 2.05 0 2.83L4 21.41c.39.39.9.59 1.41.59.51 0 1.02-.2 1.41-.59l7.78-7.78 2.81-2.81c.8-.78.8-2.07 0-2.86zM5.41 20L4 18.59l7.72-7.72 1.47 1.35L5.41 20z\"/>\n",
              "  </svg>\n",
              "      </button>\n",
              "      \n",
              "  <style>\n",
              "    .colab-df-container {\n",
              "      display:flex;\n",
              "      flex-wrap:wrap;\n",
              "      gap: 12px;\n",
              "    }\n",
              "\n",
              "    .colab-df-convert {\n",
              "      background-color: #E8F0FE;\n",
              "      border: none;\n",
              "      border-radius: 50%;\n",
              "      cursor: pointer;\n",
              "      display: none;\n",
              "      fill: #1967D2;\n",
              "      height: 32px;\n",
              "      padding: 0 0 0 0;\n",
              "      width: 32px;\n",
              "    }\n",
              "\n",
              "    .colab-df-convert:hover {\n",
              "      background-color: #E2EBFA;\n",
              "      box-shadow: 0px 1px 2px rgba(60, 64, 67, 0.3), 0px 1px 3px 1px rgba(60, 64, 67, 0.15);\n",
              "      fill: #174EA6;\n",
              "    }\n",
              "\n",
              "    [theme=dark] .colab-df-convert {\n",
              "      background-color: #3B4455;\n",
              "      fill: #D2E3FC;\n",
              "    }\n",
              "\n",
              "    [theme=dark] .colab-df-convert:hover {\n",
              "      background-color: #434B5C;\n",
              "      box-shadow: 0px 1px 3px 1px rgba(0, 0, 0, 0.15);\n",
              "      filter: drop-shadow(0px 1px 2px rgba(0, 0, 0, 0.3));\n",
              "      fill: #FFFFFF;\n",
              "    }\n",
              "  </style>\n",
              "\n",
              "      <script>\n",
              "        const buttonEl =\n",
              "          document.querySelector('#df-54c529dd-f09a-48d0-8cca-833e2a0dae2c button.colab-df-convert');\n",
              "        buttonEl.style.display =\n",
              "          google.colab.kernel.accessAllowed ? 'block' : 'none';\n",
              "\n",
              "        async function convertToInteractive(key) {\n",
              "          const element = document.querySelector('#df-54c529dd-f09a-48d0-8cca-833e2a0dae2c');\n",
              "          const dataTable =\n",
              "            await google.colab.kernel.invokeFunction('convertToInteractive',\n",
              "                                                     [key], {});\n",
              "          if (!dataTable) return;\n",
              "\n",
              "          const docLinkHtml = 'Like what you see? Visit the ' +\n",
              "            '<a target=\"_blank\" href=https://colab.research.google.com/notebooks/data_table.ipynb>data table notebook</a>'\n",
              "            + ' to learn more about interactive tables.';\n",
              "          element.innerHTML = '';\n",
              "          dataTable['output_type'] = 'display_data';\n",
              "          await google.colab.output.renderOutput(dataTable, element);\n",
              "          const docLink = document.createElement('div');\n",
              "          docLink.innerHTML = docLinkHtml;\n",
              "          element.appendChild(docLink);\n",
              "        }\n",
              "      </script>\n",
              "    </div>\n",
              "  </div>\n",
              "  "
            ]
          },
          "metadata": {},
          "execution_count": 21
        }
      ]
    },
    {
      "cell_type": "code",
      "source": [
        "display = Display(visible=0, size=(1400, 900))\n",
        "display.start()\n",
        "\n",
        "env = wrap_env(gym.make('LunarLander-v2'))\n",
        "play_game(env, agent, True, checkpoint_fname)"
      ],
      "metadata": {
        "id": "8RleEZDYfupj",
        "colab": {
          "base_uri": "https://localhost:8080/",
          "height": 459
        },
        "outputId": "bbecc908-3042-4f0e-acd4-843b4c923e00"
      },
      "execution_count": null,
      "outputs": [
        {
          "output_type": "stream",
          "name": "stdout",
          "text": [
            "reward = 263.1173359634573\n"
          ]
        },
        {
          "output_type": "display_data",
          "data": {
            "text/plain": [
              "<IPython.core.display.HTML object>"
            ],
            "text/html": [
              "<video alt=\"test\" autoplay \n",
              "                loop controls style=\"height: 400px;\">\n",
              "                <source src=\"data:video/mp4;base64,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\" type=\"video/mp4\" />\n",
              "             </video>"
            ]
          },
          "metadata": {}
        },
        {
          "output_type": "execute_result",
          "data": {
            "text/plain": [
              "263.1173359634573"
            ]
          },
          "metadata": {},
          "execution_count": 44
        }
      ]
    },
    {
      "cell_type": "markdown",
      "source": [
        "#Train Agent on DDQN"
      ],
      "metadata": {
        "id": "ND_RMOfffk-L"
      }
    },
    {
      "cell_type": "code",
      "execution_count": null,
      "metadata": {
        "colab": {
          "base_uri": "https://localhost:8080/"
        },
        "id": "1q4vWTL-56kL",
        "outputId": "a123c7aa-23c4-4ccb-89b3-d1f4825c77e3"
      },
      "outputs": [
        {
          "output_type": "stream",
          "name": "stdout",
          "text": [
            "Episode 100\tAverage Score: -163.70\n",
            "Episode 200\tAverage Score: -95.97\n",
            "Episode 300\tAverage Score: -9.46\n",
            "Episode 400\tAverage Score: 56.48\n",
            "Episode 500\tAverage Score: 137.10\n",
            "Episode 600\tAverage Score: 140.27\n",
            "Episode 700\tAverage Score: 181.75\n",
            "Episode 743\tAverage Score: 200.45\n",
            "Environment solved in 643 episodes!\tAverage Score: 200.45\n",
            "Time elapsed:  946.9031009674072  s\n"
          ]
        }
      ],
      "source": [
        "#set up parameters for agent\n",
        "seed = 0\n",
        "learning_rate = 5e-4\n",
        "memory_capacity = 100000\n",
        "batch_size = 64\n",
        "update_every = 4\n",
        "gamma = 0.99 \n",
        "tau = 0.001\n",
        "ddqn = True #using DQN now\n",
        "per = False\n",
        "alpha = 0.5 #0 - uniform sampling \n",
        "beta = 1 #fix this to decay - doesnt matter, dont need to pass in \n",
        "\n",
        "#training params \n",
        "num_episodes = 2000\n",
        "max_steps = 1000\n",
        "eps_start = 1.0\n",
        "eps_end = 0.01\n",
        "eps_decay = 0.995\n",
        "\n",
        "checkpoint_fname = 'ddqn.pth'\n",
        "\n",
        "time_start = time.time()\n",
        "agent = Agent(num_states, num_actions, seed, learning_rate, memory_capacity, batch_size, update_every, gamma, tau, alpha, beta, ddqn, per )\n",
        "scores = train_ddqn(env, agent, checkpoint_fname, num_episodes, max_steps , eps_start, eps_end , eps_decay)\n",
        "print(\"Time elapsed: \", time.time()-time_start, \" s\")\n"
      ]
    },
    {
      "cell_type": "code",
      "source": [
        "plot_scores(scores)"
      ],
      "metadata": {
        "colab": {
          "base_uri": "https://localhost:8080/",
          "height": 279
        },
        "id": "bSdP7f5msQRM",
        "outputId": "6d02e0c3-282d-41e6-8666-6984d2be9a09"
      },
      "execution_count": null,
      "outputs": [
        {
          "output_type": "display_data",
          "data": {
            "text/plain": [
              "<Figure size 432x288 with 1 Axes>"
            ],
            "image/png": "[encoded data removed]"
          },
          "metadata": {
            "needs_background": "light"
          }
        }
      ]
    },
    {
      "cell_type": "code",
      "source": [
        "env = gym.make('LunarLander-v2')\n",
        "agent.policy_net.eval()\n",
        "rewards = []\n",
        "\n",
        "\n",
        "for i in range(1000):\n",
        "    if i % 100 == 0:\n",
        "        print(f'iteration: {i}')\n",
        "    rewards.append(play_game(env, agent, False, 'ddqn.pth'))\n",
        "\n",
        "ddqn_df = pd.DataFrame(rewards)\n",
        "\n",
        "agent.policy_net.train()"
      ],
      "metadata": {
        "colab": {
          "base_uri": "https://localhost:8080/"
        },
        "id": "PJ7RJMQEOGHv",
        "outputId": "3fcdd74b-0ded-4342-9851-6f1ed30235cd"
      },
      "execution_count": null,
      "outputs": [
        {
          "output_type": "stream",
          "name": "stdout",
          "text": [
            "iteration: 0\n",
            "iteration: 100\n",
            "iteration: 200\n",
            "iteration: 300\n",
            "iteration: 400\n",
            "iteration: 500\n",
            "iteration: 600\n",
            "iteration: 700\n",
            "iteration: 800\n",
            "iteration: 900\n"
          ]
        },
        {
          "output_type": "execute_result",
          "data": {
            "text/plain": [
              "QNetwork(\n",
              "  (fc1): Linear(in_features=8, out_features=64, bias=True)\n",
              "  (fc2): Linear(in_features=64, out_features=64, bias=True)\n",
              "  (fc3): Linear(in_features=64, out_features=4, bias=True)\n",
              ")"
            ]
          },
          "metadata": {},
          "execution_count": 22
        }
      ]
    },
    {
      "cell_type": "code",
      "source": [
        "ddqn_df.describe()"
      ],
      "metadata": {
        "colab": {
          "base_uri": "https://localhost:8080/",
          "height": 300
        },
        "id": "9juc40PDOL1o",
        "outputId": "2b345a5a-2ef8-4d30-96b5-8ae221877838"
      },
      "execution_count": null,
      "outputs": [
        {
          "output_type": "execute_result",
          "data": {
            "text/plain": [
              "                 0\n",
              "count  1000.000000\n",
              "mean    206.803422\n",
              "std      52.332438\n",
              "min     -59.857134\n",
              "25%     191.893496\n",
              "50%     224.433775\n",
              "75%     238.974038\n",
              "max     281.321888"
            ],
            "text/html": [
              "\n",
              "  <div id=\"df-e42fcfa3-718c-48f8-8dba-9331f1b70c5b\">\n",
              "    <div class=\"colab-df-container\">\n",
              "      <div>\n",
              "<style scoped>\n",
              "    .dataframe tbody tr th:only-of-type {\n",
              "        vertical-align: middle;\n",
              "    }\n",
              "\n",
              "    .dataframe tbody tr th {\n",
              "        vertical-align: top;\n",
              "    }\n",
              "\n",
              "    .dataframe thead th {\n",
              "        text-align: right;\n",
              "    }\n",
              "</style>\n",
              "<table border=\"1\" class=\"dataframe\">\n",
              "  <thead>\n",
              "    <tr style=\"text-align: right;\">\n",
              "      <th></th>\n",
              "      <th>0</th>\n",
              "    </tr>\n",
              "  </thead>\n",
              "  <tbody>\n",
              "    <tr>\n",
              "      <th>count</th>\n",
              "      <td>1000.000000</td>\n",
              "    </tr>\n",
              "    <tr>\n",
              "      <th>mean</th>\n",
              "      <td>206.803422</td>\n",
              "    </tr>\n",
              "    <tr>\n",
              "      <th>std</th>\n",
              "      <td>52.332438</td>\n",
              "    </tr>\n",
              "    <tr>\n",
              "      <th>min</th>\n",
              "      <td>-59.857134</td>\n",
              "    </tr>\n",
              "    <tr>\n",
              "      <th>25%</th>\n",
              "      <td>191.893496</td>\n",
              "    </tr>\n",
              "    <tr>\n",
              "      <th>50%</th>\n",
              "      <td>224.433775</td>\n",
              "    </tr>\n",
              "    <tr>\n",
              "      <th>75%</th>\n",
              "      <td>238.974038</td>\n",
              "    </tr>\n",
              "    <tr>\n",
              "      <th>max</th>\n",
              "      <td>281.321888</td>\n",
              "    </tr>\n",
              "  </tbody>\n",
              "</table>\n",
              "</div>\n",
              "      <button class=\"colab-df-convert\" onclick=\"convertToInteractive('df-e42fcfa3-718c-48f8-8dba-9331f1b70c5b')\"\n",
              "              title=\"Convert this dataframe to an interactive table.\"\n",
              "              style=\"display:none;\">\n",
              "        \n",
              "  <svg xmlns=\"http://www.w3.org/2000/svg\" height=\"24px\"viewBox=\"0 0 24 24\"\n",
              "       width=\"24px\">\n",
              "    <path d=\"M0 0h24v24H0V0z\" fill=\"none\"/>\n",
              "    <path d=\"M18.56 5.44l.94 2.06.94-2.06 2.06-.94-2.06-.94-.94-2.06-.94 2.06-2.06.94zm-11 1L8.5 8.5l.94-2.06 2.06-.94-2.06-.94L8.5 2.5l-.94 2.06-2.06.94zm10 10l.94 2.06.94-2.06 2.06-.94-2.06-.94-.94-2.06-.94 2.06-2.06.94z\"/><path d=\"M17.41 7.96l-1.37-1.37c-.4-.4-.92-.59-1.43-.59-.52 0-1.04.2-1.43.59L10.3 9.45l-7.72 7.72c-.78.78-.78 2.05 0 2.83L4 21.41c.39.39.9.59 1.41.59.51 0 1.02-.2 1.41-.59l7.78-7.78 2.81-2.81c.8-.78.8-2.07 0-2.86zM5.41 20L4 18.59l7.72-7.72 1.47 1.35L5.41 20z\"/>\n",
              "  </svg>\n",
              "      </button>\n",
              "      \n",
              "  <style>\n",
              "    .colab-df-container {\n",
              "      display:flex;\n",
              "      flex-wrap:wrap;\n",
              "      gap: 12px;\n",
              "    }\n",
              "\n",
              "    .colab-df-convert {\n",
              "      background-color: #E8F0FE;\n",
              "      border: none;\n",
              "      border-radius: 50%;\n",
              "      cursor: pointer;\n",
              "      display: none;\n",
              "      fill: #1967D2;\n",
              "      height: 32px;\n",
              "      padding: 0 0 0 0;\n",
              "      width: 32px;\n",
              "    }\n",
              "\n",
              "    .colab-df-convert:hover {\n",
              "      background-color: #E2EBFA;\n",
              "      box-shadow: 0px 1px 2px rgba(60, 64, 67, 0.3), 0px 1px 3px 1px rgba(60, 64, 67, 0.15);\n",
              "      fill: #174EA6;\n",
              "    }\n",
              "\n",
              "    [theme=dark] .colab-df-convert {\n",
              "      background-color: #3B4455;\n",
              "      fill: #D2E3FC;\n",
              "    }\n",
              "\n",
              "    [theme=dark] .colab-df-convert:hover {\n",
              "      background-color: #434B5C;\n",
              "      box-shadow: 0px 1px 3px 1px rgba(0, 0, 0, 0.15);\n",
              "      filter: drop-shadow(0px 1px 2px rgba(0, 0, 0, 0.3));\n",
              "      fill: #FFFFFF;\n",
              "    }\n",
              "  </style>\n",
              "\n",
              "      <script>\n",
              "        const buttonEl =\n",
              "          document.querySelector('#df-e42fcfa3-718c-48f8-8dba-9331f1b70c5b button.colab-df-convert');\n",
              "        buttonEl.style.display =\n",
              "          google.colab.kernel.accessAllowed ? 'block' : 'none';\n",
              "\n",
              "        async function convertToInteractive(key) {\n",
              "          const element = document.querySelector('#df-e42fcfa3-718c-48f8-8dba-9331f1b70c5b');\n",
              "          const dataTable =\n",
              "            await google.colab.kernel.invokeFunction('convertToInteractive',\n",
              "                                                     [key], {});\n",
              "          if (!dataTable) return;\n",
              "\n",
              "          const docLinkHtml = 'Like what you see? Visit the ' +\n",
              "            '<a target=\"_blank\" href=https://colab.research.google.com/notebooks/data_table.ipynb>data table notebook</a>'\n",
              "            + ' to learn more about interactive tables.';\n",
              "          element.innerHTML = '';\n",
              "          dataTable['output_type'] = 'display_data';\n",
              "          await google.colab.output.renderOutput(dataTable, element);\n",
              "          const docLink = document.createElement('div');\n",
              "          docLink.innerHTML = docLinkHtml;\n",
              "          element.appendChild(docLink);\n",
              "        }\n",
              "      </script>\n",
              "    </div>\n",
              "  </div>\n",
              "  "
            ]
          },
          "metadata": {},
          "execution_count": 23
        }
      ]
    },
    {
      "cell_type": "code",
      "execution_count": null,
      "metadata": {
        "id": "ru47l5BgoS9M",
        "colab": {
          "base_uri": "https://localhost:8080/",
          "height": 459
        },
        "outputId": "b6d40718-975b-4b57-e9a9-a201209cf8d8"
      },
      "outputs": [
        {
          "output_type": "stream",
          "name": "stdout",
          "text": [
            "reward = 257.44427237566526\n"
          ]
        },
        {
          "output_type": "display_data",
          "data": {
            "text/plain": [
              "<IPython.core.display.HTML object>"
            ],
            "text/html": [
              "<video alt=\"test\" autoplay \n",
              "                loop controls style=\"height: 400px;\">\n",
              "                <source src=\"data:video/mp4;base64,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\" type=\"video/mp4\" />\n",
              "             </video>"
            ]
          },
          "metadata": {}
        },
        {
          "output_type": "execute_result",
          "data": {
            "text/plain": [
              "257.44427237566526"
            ]
          },
          "metadata": {},
          "execution_count": 45
        }
      ],
      "source": [
        "display = Display(visible=0, size=(1400, 900))\n",
        "display.start()\n",
        "env = wrap_env(gym.make('LunarLander-v2'))\n",
        "play_game(env, agent, True, checkpoint_fname)"
      ]
    },
    {
      "cell_type": "markdown",
      "metadata": {
        "id": "mALjl2TMozCa"
      },
      "source": [
        "# Train Agent on DQN"
      ]
    },
    {
      "cell_type": "code",
      "execution_count": null,
      "metadata": {
        "colab": {
          "base_uri": "https://localhost:8080/"
        },
        "id": "izAySBoMoeud",
        "outputId": "72d5c154-80e3-42c2-c619-8c37f2491d9f"
      },
      "outputs": [
        {
          "output_type": "stream",
          "name": "stdout",
          "text": [
            "Episode 100\tAverage Score: -165.26\n",
            "Episode 200\tAverage Score: -122.13\n",
            "Episode 300\tAverage Score: -66.93\n",
            "Episode 400\tAverage Score: -10.67\n",
            "Episode 500\tAverage Score: 28.71\n",
            "Episode 600\tAverage Score: 27.95\n",
            "Episode 700\tAverage Score: 59.96\n",
            "Episode 800\tAverage Score: 77.67\n",
            "Episode 900\tAverage Score: 107.58\n",
            "Episode 1000\tAverage Score: 112.07\n",
            "Episode 1100\tAverage Score: 125.33\n",
            "Episode 1200\tAverage Score: 162.16\n",
            "Episode 1300\tAverage Score: 165.38\n",
            "Episode 1400\tAverage Score: 168.47\n",
            "Episode 1479\tAverage Score: 201.53\n",
            "Environment solved in 1379 episodes!\tAverage Score: 201.53\n",
            "Time elapsed:  1644.5343823432922  s\n"
          ]
        }
      ],
      "source": [
        "#set up parameters for agent\n",
        "seed = 0\n",
        "learning_rate = 5e-4\n",
        "memory_capacity = 100000\n",
        "batch_size = 64\n",
        "update_every = 4\n",
        "gamma = 0.99 \n",
        "tau = 0.001\n",
        "ddqn = False #using DQN now\n",
        "per = False\n",
        "\n",
        "#training params \n",
        "num_episodes = 2000\n",
        "max_steps = 1000\n",
        "eps_start = 1.0\n",
        "eps_end = 0.01\n",
        "eps_decay = 0.995\n",
        "\n",
        "checkpoint_fname = 'dqn.pth'\n",
        "\n",
        "time_start = time.time()\n",
        "agent = Agent(num_states, num_actions, seed, learning_rate, memory_capacity, batch_size, update_every, gamma, tau, alpha, beta, ddqn, per )\n",
        "scores = train_ddqn(env, agent, checkpoint_fname, num_episodes, max_steps , eps_start, eps_end , eps_decay)\n",
        "print(\"Time elapsed: \", time.time()-time_start, \" s\")\n",
        "\n"
      ]
    },
    {
      "cell_type": "code",
      "source": [
        "plot_scores(scores)"
      ],
      "metadata": {
        "colab": {
          "base_uri": "https://localhost:8080/",
          "height": 279
        },
        "id": "TsW2WQtXsSeE",
        "outputId": "5a26d017-f6a7-480e-9970-c16cfa84cb18"
      },
      "execution_count": null,
      "outputs": [
        {
          "output_type": "display_data",
          "data": {
            "text/plain": [
              "<Figure size 432x288 with 1 Axes>"
            ],
            "image/png": "[encoded data removed]"
          },
          "metadata": {
            "needs_background": "light"
          }
        }
      ]
    },
    {
      "cell_type": "code",
      "source": [
        "env = gym.make('LunarLander-v2')\n",
        "agent.policy_net.eval()\n",
        "rewards = []\n",
        "\n",
        "\n",
        "for i in range(1000):\n",
        "    if i % 100 == 0:\n",
        "        print(f'iteration: {i}')\n",
        "    rewards.append(play_game(env, agent, False, 'dqn.pth'))\n",
        "\n",
        "dqn_df = pd.DataFrame(rewards)\n",
        "\n",
        "agent.policy_net.train()"
      ],
      "metadata": {
        "colab": {
          "base_uri": "https://localhost:8080/"
        },
        "id": "MU3OesPdPCUb",
        "outputId": "2127a99c-46fe-4354-a122-fb23a3996d16"
      },
      "execution_count": null,
      "outputs": [
        {
          "output_type": "stream",
          "name": "stdout",
          "text": [
            "iteration: 0\n",
            "iteration: 100\n",
            "iteration: 200\n",
            "iteration: 300\n",
            "iteration: 400\n",
            "iteration: 500\n",
            "iteration: 600\n",
            "iteration: 700\n",
            "iteration: 800\n",
            "iteration: 900\n"
          ]
        },
        {
          "output_type": "execute_result",
          "data": {
            "text/plain": [
              "QNetwork(\n",
              "  (fc1): Linear(in_features=8, out_features=64, bias=True)\n",
              "  (fc2): Linear(in_features=64, out_features=64, bias=True)\n",
              "  (fc3): Linear(in_features=64, out_features=4, bias=True)\n",
              ")"
            ]
          },
          "metadata": {},
          "execution_count": 24
        }
      ]
    },
    {
      "cell_type": "code",
      "source": [
        "dqn_df.describe()"
      ],
      "metadata": {
        "colab": {
          "base_uri": "https://localhost:8080/",
          "height": 300
        },
        "id": "Ea1-toNuPQm7",
        "outputId": "f735a3de-e1ce-4ad6-91a7-3bc9b4779729"
      },
      "execution_count": null,
      "outputs": [
        {
          "output_type": "execute_result",
          "data": {
            "text/plain": [
              "                 0\n",
              "count  1000.000000\n",
              "mean    259.461549\n",
              "std      41.706626\n",
              "min    -208.482091\n",
              "25%     249.937826\n",
              "50%     267.921259\n",
              "75%     282.110772\n",
              "max     313.532069"
            ],
            "text/html": [
              "\n",
              "  <div id=\"df-6ea78166-595a-45fe-be4e-6d831ddfa4d4\">\n",
              "    <div class=\"colab-df-container\">\n",
              "      <div>\n",
              "<style scoped>\n",
              "    .dataframe tbody tr th:only-of-type {\n",
              "        vertical-align: middle;\n",
              "    }\n",
              "\n",
              "    .dataframe tbody tr th {\n",
              "        vertical-align: top;\n",
              "    }\n",
              "\n",
              "    .dataframe thead th {\n",
              "        text-align: right;\n",
              "    }\n",
              "</style>\n",
              "<table border=\"1\" class=\"dataframe\">\n",
              "  <thead>\n",
              "    <tr style=\"text-align: right;\">\n",
              "      <th></th>\n",
              "      <th>0</th>\n",
              "    </tr>\n",
              "  </thead>\n",
              "  <tbody>\n",
              "    <tr>\n",
              "      <th>count</th>\n",
              "      <td>1000.000000</td>\n",
              "    </tr>\n",
              "    <tr>\n",
              "      <th>mean</th>\n",
              "      <td>259.461549</td>\n",
              "    </tr>\n",
              "    <tr>\n",
              "      <th>std</th>\n",
              "      <td>41.706626</td>\n",
              "    </tr>\n",
              "    <tr>\n",
              "      <th>min</th>\n",
              "      <td>-208.482091</td>\n",
              "    </tr>\n",
              "    <tr>\n",
              "      <th>25%</th>\n",
              "      <td>249.937826</td>\n",
              "    </tr>\n",
              "    <tr>\n",
              "      <th>50%</th>\n",
              "      <td>267.921259</td>\n",
              "    </tr>\n",
              "    <tr>\n",
              "      <th>75%</th>\n",
              "      <td>282.110772</td>\n",
              "    </tr>\n",
              "    <tr>\n",
              "      <th>max</th>\n",
              "      <td>313.532069</td>\n",
              "    </tr>\n",
              "  </tbody>\n",
              "</table>\n",
              "</div>\n",
              "      <button class=\"colab-df-convert\" onclick=\"convertToInteractive('df-6ea78166-595a-45fe-be4e-6d831ddfa4d4')\"\n",
              "              title=\"Convert this dataframe to an interactive table.\"\n",
              "              style=\"display:none;\">\n",
              "        \n",
              "  <svg xmlns=\"http://www.w3.org/2000/svg\" height=\"24px\"viewBox=\"0 0 24 24\"\n",
              "       width=\"24px\">\n",
              "    <path d=\"M0 0h24v24H0V0z\" fill=\"none\"/>\n",
              "    <path d=\"M18.56 5.44l.94 2.06.94-2.06 2.06-.94-2.06-.94-.94-2.06-.94 2.06-2.06.94zm-11 1L8.5 8.5l.94-2.06 2.06-.94-2.06-.94L8.5 2.5l-.94 2.06-2.06.94zm10 10l.94 2.06.94-2.06 2.06-.94-2.06-.94-.94-2.06-.94 2.06-2.06.94z\"/><path d=\"M17.41 7.96l-1.37-1.37c-.4-.4-.92-.59-1.43-.59-.52 0-1.04.2-1.43.59L10.3 9.45l-7.72 7.72c-.78.78-.78 2.05 0 2.83L4 21.41c.39.39.9.59 1.41.59.51 0 1.02-.2 1.41-.59l7.78-7.78 2.81-2.81c.8-.78.8-2.07 0-2.86zM5.41 20L4 18.59l7.72-7.72 1.47 1.35L5.41 20z\"/>\n",
              "  </svg>\n",
              "      </button>\n",
              "      \n",
              "  <style>\n",
              "    .colab-df-container {\n",
              "      display:flex;\n",
              "      flex-wrap:wrap;\n",
              "      gap: 12px;\n",
              "    }\n",
              "\n",
              "    .colab-df-convert {\n",
              "      background-color: #E8F0FE;\n",
              "      border: none;\n",
              "      border-radius: 50%;\n",
              "      cursor: pointer;\n",
              "      display: none;\n",
              "      fill: #1967D2;\n",
              "      height: 32px;\n",
              "      padding: 0 0 0 0;\n",
              "      width: 32px;\n",
              "    }\n",
              "\n",
              "    .colab-df-convert:hover {\n",
              "      background-color: #E2EBFA;\n",
              "      box-shadow: 0px 1px 2px rgba(60, 64, 67, 0.3), 0px 1px 3px 1px rgba(60, 64, 67, 0.15);\n",
              "      fill: #174EA6;\n",
              "    }\n",
              "\n",
              "    [theme=dark] .colab-df-convert {\n",
              "      background-color: #3B4455;\n",
              "      fill: #D2E3FC;\n",
              "    }\n",
              "\n",
              "    [theme=dark] .colab-df-convert:hover {\n",
              "      background-color: #434B5C;\n",
              "      box-shadow: 0px 1px 3px 1px rgba(0, 0, 0, 0.15);\n",
              "      filter: drop-shadow(0px 1px 2px rgba(0, 0, 0, 0.3));\n",
              "      fill: #FFFFFF;\n",
              "    }\n",
              "  </style>\n",
              "\n",
              "      <script>\n",
              "        const buttonEl =\n",
              "          document.querySelector('#df-6ea78166-595a-45fe-be4e-6d831ddfa4d4 button.colab-df-convert');\n",
              "        buttonEl.style.display =\n",
              "          google.colab.kernel.accessAllowed ? 'block' : 'none';\n",
              "\n",
              "        async function convertToInteractive(key) {\n",
              "          const element = document.querySelector('#df-6ea78166-595a-45fe-be4e-6d831ddfa4d4');\n",
              "          const dataTable =\n",
              "            await google.colab.kernel.invokeFunction('convertToInteractive',\n",
              "                                                     [key], {});\n",
              "          if (!dataTable) return;\n",
              "\n",
              "          const docLinkHtml = 'Like what you see? Visit the ' +\n",
              "            '<a target=\"_blank\" href=https://colab.research.google.com/notebooks/data_table.ipynb>data table notebook</a>'\n",
              "            + ' to learn more about interactive tables.';\n",
              "          element.innerHTML = '';\n",
              "          dataTable['output_type'] = 'display_data';\n",
              "          await google.colab.output.renderOutput(dataTable, element);\n",
              "          const docLink = document.createElement('div');\n",
              "          docLink.innerHTML = docLinkHtml;\n",
              "          element.appendChild(docLink);\n",
              "        }\n",
              "      </script>\n",
              "    </div>\n",
              "  </div>\n",
              "  "
            ]
          },
          "metadata": {},
          "execution_count": 25
        }
      ]
    },
    {
      "cell_type": "code",
      "execution_count": null,
      "metadata": {
        "id": "EVtsQsfNo3MA",
        "colab": {
          "base_uri": "https://localhost:8080/",
          "height": 459
        },
        "outputId": "84d3eb7a-9c59-4a8f-abcf-90131b4ad33f"
      },
      "outputs": [
        {
          "output_type": "stream",
          "name": "stdout",
          "text": [
            "reward = 247.448458603218\n"
          ]
        },
        {
          "output_type": "display_data",
          "data": {
            "text/plain": [
              "<IPython.core.display.HTML object>"
            ],
            "text/html": [
              "<video alt=\"test\" autoplay \n",
              "                loop controls style=\"height: 400px;\">\n",
              "                <source src=\"data:video/mp4;base64,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\" type=\"video/mp4\" />\n",
              "             </video>"
            ]
          },
          "metadata": {}
        },
        {
          "output_type": "execute_result",
          "data": {
            "text/plain": [
              "247.448458603218"
            ]
          },
          "metadata": {},
          "execution_count": 46
        }
      ],
      "source": [
        "display = Display(visible=0, size=(1400, 900))\n",
        "display.start()\n",
        "env = wrap_env(gym.make('LunarLander-v2'))\n",
        "play_game(env, agent, True, checkpoint_fname)"
      ]
    },
    {
      "cell_type": "code",
      "source": [
        "dqn_df = dqn_df.describe().transpose()\n",
        "dqn_df.insert(loc=0, column='model', value='DQN')\n",
        "\n",
        "ddqn_df = ddqn_df.describe().transpose()\n",
        "ddqn_df.insert(loc=0, column='model', value='DDQN')\n",
        "\n",
        "dqn_per_df = dqn_per_df.describe().transpose()\n",
        "dqn_per_df.insert(loc=0, column='model', value='DQN PER')\n",
        "\n",
        "ddqn_per_df = ddqn_per_df.describe().transpose()\n",
        "ddqn_per_df.insert(loc=0, column='model', value='DDQN PER')"
      ],
      "metadata": {
        "id": "QGvE4IEnwHca"
      },
      "execution_count": null,
      "outputs": []
    },
    {
      "cell_type": "code",
      "source": [
        "df= pd.concat([dqn_df, ddqn_df, dqn_per_df, ddqn_per_df], ignore_index=True)"
      ],
      "metadata": {
        "id": "sTIt-2jpSqa5"
      },
      "execution_count": null,
      "outputs": []
    },
    {
      "cell_type": "code",
      "source": [
        "df.round(2)"
      ],
      "metadata": {
        "colab": {
          "base_uri": "https://localhost:8080/",
          "height": 175
        },
        "id": "CqdnAAjfSrxI",
        "outputId": "0092e25e-2f3f-44a1-de57-9ed0e58c6a3f"
      },
      "execution_count": null,
      "outputs": [
        {
          "output_type": "execute_result",
          "data": {
            "text/plain": [
              "      model   count    mean     std     min     25%     50%     75%     max\n",
              "0       DQN  1000.0  259.46   41.71 -208.48  249.94  267.92  282.11  313.53\n",
              "1      DDQN  1000.0  206.80   52.33  -59.86  191.89  224.43  238.97  281.32\n",
              "2   DQN PER  1000.0  238.41   47.32 -110.24  228.47  247.77  265.10  306.88\n",
              "3  DDQN PER  1000.0  198.98  143.25 -209.89  238.61  253.69  267.53  301.22"
            ],
            "text/html": [
              "\n",
              "  <div id=\"df-9426e3d7-de3c-4cff-8eb8-c54ce2ebe97c\">\n",
              "    <div class=\"colab-df-container\">\n",
              "      <div>\n",
              "<style scoped>\n",
              "    .dataframe tbody tr th:only-of-type {\n",
              "        vertical-align: middle;\n",
              "    }\n",
              "\n",
              "    .dataframe tbody tr th {\n",
              "        vertical-align: top;\n",
              "    }\n",
              "\n",
              "    .dataframe thead th {\n",
              "        text-align: right;\n",
              "    }\n",
              "</style>\n",
              "<table border=\"1\" class=\"dataframe\">\n",
              "  <thead>\n",
              "    <tr style=\"text-align: right;\">\n",
              "      <th></th>\n",
              "      <th>model</th>\n",
              "      <th>count</th>\n",
              "      <th>mean</th>\n",
              "      <th>std</th>\n",
              "      <th>min</th>\n",
              "      <th>25%</th>\n",
              "      <th>50%</th>\n",
              "      <th>75%</th>\n",
              "      <th>max</th>\n",
              "    </tr>\n",
              "  </thead>\n",
              "  <tbody>\n",
              "    <tr>\n",
              "      <th>0</th>\n",
              "      <td>DQN</td>\n",
              "      <td>1000.0</td>\n",
              "      <td>259.46</td>\n",
              "      <td>41.71</td>\n",
              "      <td>-208.48</td>\n",
              "      <td>249.94</td>\n",
              "      <td>267.92</td>\n",
              "      <td>282.11</td>\n",
              "      <td>313.53</td>\n",
              "    </tr>\n",
              "    <tr>\n",
              "      <th>1</th>\n",
              "      <td>DDQN</td>\n",
              "      <td>1000.0</td>\n",
              "      <td>206.80</td>\n",
              "      <td>52.33</td>\n",
              "      <td>-59.86</td>\n",
              "      <td>191.89</td>\n",
              "      <td>224.43</td>\n",
              "      <td>238.97</td>\n",
              "      <td>281.32</td>\n",
              "    </tr>\n",
              "    <tr>\n",
              "      <th>2</th>\n",
              "      <td>DQN PER</td>\n",
              "      <td>1000.0</td>\n",
              "      <td>238.41</td>\n",
              "      <td>47.32</td>\n",
              "      <td>-110.24</td>\n",
              "      <td>228.47</td>\n",
              "      <td>247.77</td>\n",
              "      <td>265.10</td>\n",
              "      <td>306.88</td>\n",
              "    </tr>\n",
              "    <tr>\n",
              "      <th>3</th>\n",
              "      <td>DDQN PER</td>\n",
              "      <td>1000.0</td>\n",
              "      <td>198.98</td>\n",
              "      <td>143.25</td>\n",
              "      <td>-209.89</td>\n",
              "      <td>238.61</td>\n",
              "      <td>253.69</td>\n",
              "      <td>267.53</td>\n",
              "      <td>301.22</td>\n",
              "    </tr>\n",
              "  </tbody>\n",
              "</table>\n",
              "</div>\n",
              "      <button class=\"colab-df-convert\" onclick=\"convertToInteractive('df-9426e3d7-de3c-4cff-8eb8-c54ce2ebe97c')\"\n",
              "              title=\"Convert this dataframe to an interactive table.\"\n",
              "              style=\"display:none;\">\n",
              "        \n",
              "  <svg xmlns=\"http://www.w3.org/2000/svg\" height=\"24px\"viewBox=\"0 0 24 24\"\n",
              "       width=\"24px\">\n",
              "    <path d=\"M0 0h24v24H0V0z\" fill=\"none\"/>\n",
              "    <path d=\"M18.56 5.44l.94 2.06.94-2.06 2.06-.94-2.06-.94-.94-2.06-.94 2.06-2.06.94zm-11 1L8.5 8.5l.94-2.06 2.06-.94-2.06-.94L8.5 2.5l-.94 2.06-2.06.94zm10 10l.94 2.06.94-2.06 2.06-.94-2.06-.94-.94-2.06-.94 2.06-2.06.94z\"/><path d=\"M17.41 7.96l-1.37-1.37c-.4-.4-.92-.59-1.43-.59-.52 0-1.04.2-1.43.59L10.3 9.45l-7.72 7.72c-.78.78-.78 2.05 0 2.83L4 21.41c.39.39.9.59 1.41.59.51 0 1.02-.2 1.41-.59l7.78-7.78 2.81-2.81c.8-.78.8-2.07 0-2.86zM5.41 20L4 18.59l7.72-7.72 1.47 1.35L5.41 20z\"/>\n",
              "  </svg>\n",
              "      </button>\n",
              "      \n",
              "  <style>\n",
              "    .colab-df-container {\n",
              "      display:flex;\n",
              "      flex-wrap:wrap;\n",
              "      gap: 12px;\n",
              "    }\n",
              "\n",
              "    .colab-df-convert {\n",
              "      background-color: #E8F0FE;\n",
              "      border: none;\n",
              "      border-radius: 50%;\n",
              "      cursor: pointer;\n",
              "      display: none;\n",
              "      fill: #1967D2;\n",
              "      height: 32px;\n",
              "      padding: 0 0 0 0;\n",
              "      width: 32px;\n",
              "    }\n",
              "\n",
              "    .colab-df-convert:hover {\n",
              "      background-color: #E2EBFA;\n",
              "      box-shadow: 0px 1px 2px rgba(60, 64, 67, 0.3), 0px 1px 3px 1px rgba(60, 64, 67, 0.15);\n",
              "      fill: #174EA6;\n",
              "    }\n",
              "\n",
              "    [theme=dark] .colab-df-convert {\n",
              "      background-color: #3B4455;\n",
              "      fill: #D2E3FC;\n",
              "    }\n",
              "\n",
              "    [theme=dark] .colab-df-convert:hover {\n",
              "      background-color: #434B5C;\n",
              "      box-shadow: 0px 1px 3px 1px rgba(0, 0, 0, 0.15);\n",
              "      filter: drop-shadow(0px 1px 2px rgba(0, 0, 0, 0.3));\n",
              "      fill: #FFFFFF;\n",
              "    }\n",
              "  </style>\n",
              "\n",
              "      <script>\n",
              "        const buttonEl =\n",
              "          document.querySelector('#df-9426e3d7-de3c-4cff-8eb8-c54ce2ebe97c button.colab-df-convert');\n",
              "        buttonEl.style.display =\n",
              "          google.colab.kernel.accessAllowed ? 'block' : 'none';\n",
              "\n",
              "        async function convertToInteractive(key) {\n",
              "          const element = document.querySelector('#df-9426e3d7-de3c-4cff-8eb8-c54ce2ebe97c');\n",
              "          const dataTable =\n",
              "            await google.colab.kernel.invokeFunction('convertToInteractive',\n",
              "                                                     [key], {});\n",
              "          if (!dataTable) return;\n",
              "\n",
              "          const docLinkHtml = 'Like what you see? Visit the ' +\n",
              "            '<a target=\"_blank\" href=https://colab.research.google.com/notebooks/data_table.ipynb>data table notebook</a>'\n",
              "            + ' to learn more about interactive tables.';\n",
              "          element.innerHTML = '';\n",
              "          dataTable['output_type'] = 'display_data';\n",
              "          await google.colab.output.renderOutput(dataTable, element);\n",
              "          const docLink = document.createElement('div');\n",
              "          docLink.innerHTML = docLinkHtml;\n",
              "          element.appendChild(docLink);\n",
              "        }\n",
              "      </script>\n",
              "    </div>\n",
              "  </div>\n",
              "  "
            ]
          },
          "metadata": {},
          "execution_count": 29
        }
      ]
    },
    {
      "cell_type": "code",
      "source": [
        ""
      ],
      "metadata": {
        "id": "qGGPAUvYTeni"
      },
      "execution_count": null,
      "outputs": []
    }
  ],
  "metadata": {
    "accelerator": "GPU",
    "colab": {
      "collapsed_sections": [],
      "name": "(D)DQN_lunarlanding.ipynb",
      "provenance": []
    },
    "kernelspec": {
      "display_name": "Python 3",
      "name": "python3"
    },
    "language_info": {
      "name": "python"
    }
  },
  "nbformat": 4,
  "nbformat_minor": 0
}