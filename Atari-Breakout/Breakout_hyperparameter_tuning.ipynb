{
  "nbformat": 4,
  "nbformat_minor": 0,
  "metadata": {
    "colab": {
      "name": "Breakout_hyperparameter_tuning.ipynb",
      "provenance": [],
      "toc_visible": true
    },
    "kernelspec": {
      "name": "python3",
      "display_name": "Python 3"
    },
    "language_info": {
      "name": "python"
    },
    "accelerator": "GPU"
  },
  "cells": [
    {
      "cell_type": "markdown",
      "source": [
        "#Setup"
      ],
      "metadata": {
        "id": "2miQMBXDMfrX"
      }
    },
    {
      "cell_type": "code",
      "source": [
        "import urllib.request\n",
        "urllib.request.urlretrieve('http://www.atarimania.com/roms/Roms.rar','Roms.rar')\n",
        "!pip install unrar\n",
        "!unrar x Roms.rar\n",
        "\n",
        "!pip3 install atari-py\n",
        "\n",
        "!python -m atari_py.import_roms ROMS\n",
        "\n",
        "!pip install \"gym[atari]\" \"gym[accept-rom-license]\" atari_py"
      ],
      "metadata": {
        "id": "9GDk0fH3MhWl"
      },
      "execution_count": null,
      "outputs": []
    },
    {
      "cell_type": "code",
      "source": [
        "!pip install -U \"ray[rllib]==1.11.0\""
      ],
      "metadata": {
        "id": "89iTbcIrMkBe"
      },
      "execution_count": null,
      "outputs": []
    },
    {
      "cell_type": "code",
      "source": [
        "from google.colab import drive\n",
        "drive.mount('/content/drive/')"
      ],
      "metadata": {
        "colab": {
          "base_uri": "https://localhost:8080/"
        },
        "id": "oDJTww2aMoff",
        "outputId": "92cdf730-78de-40c9-8806-f511a704c9ab"
      },
      "execution_count": null,
      "outputs": [
        {
          "output_type": "stream",
          "name": "stdout",
          "text": [
            "Mounted at /content/drive/\n"
          ]
        }
      ]
    },
    {
      "cell_type": "code",
      "source": [
        "import gym\n",
        "import torch\n",
        "\n",
        "import numpy as np\n",
        "from collections import namedtuple\n",
        "import random, math\n",
        "import matplotlib.pyplot as plt\n",
        "from ray.rllib.models import ModelCatalog\n",
        "\n",
        "from ray.rllib.env.env_context import EnvContext\n",
        "import time\n",
        "import os\n",
        "\n",
        "from gym.spaces import Discrete, Box\n",
        "from ray import tune\n",
        "import ray\n",
        "import ray.rllib.agents.dqn as dqn"
      ],
      "metadata": {
        "id": "rDCewKyAMqcq"
      },
      "execution_count": null,
      "outputs": []
    },
    {
      "cell_type": "code",
      "source": [
        "# Visualizer setup\n",
        "!pip install gym pyvirtualdisplay > /dev/null 2>&1\n",
        "!apt-get install -y xvfb python-opengl ffmpeg > /dev/null 2>&1\n"
      ],
      "metadata": {
        "id": "doVFKotNMvMA"
      },
      "execution_count": null,
      "outputs": []
    },
    {
      "cell_type": "markdown",
      "source": [
        "# Code for visualization"
      ],
      "metadata": {
        "id": "hdrWWYKzNPcR"
      }
    },
    {
      "cell_type": "code",
      "source": [
        "# How to get gym AI visuals in colab\n",
        "# https://colab.research.google.com/github/jeffheaton/t81_558_deep_learning/blob/master/t81_558_class_12_01_ai_gym.ipynb#scrollTo=T9RpF49oOsZj\n",
        "\n",
        "from gym.wrappers import Monitor\n",
        "import glob\n",
        "import io\n",
        "import base64\n",
        "from IPython.display import HTML\n",
        "from pyvirtualdisplay import Display\n",
        "from IPython import display as ipythondisplay\n",
        "\n",
        "display = Display(visible=0, size=(1400, 900))\n",
        "display.start()\n",
        "\n",
        "def show_video():\n",
        "  mp4list = glob.glob('video/*.mp4')\n",
        "  if len(mp4list) > 0:\n",
        "    mp4 = mp4list[0]\n",
        "    video = io.open(mp4, 'r+b').read()\n",
        "    encoded = base64.b64encode(video)\n",
        "    ipythondisplay.display(HTML(data='''<video alt=\"test\" autoplay \n",
        "                loop controls style=\"height: 400px;\">\n",
        "                <source src=\"data:video/mp4;base64,{0}\" type=\"video/mp4\" />\n",
        "             </video>'''.format(encoded.decode('ascii'))))\n",
        "  else: \n",
        "    print(\"Could not find video\")\n",
        "    \n",
        "\n",
        "def wrap_env(env):\n",
        "  env = Monitor(env, './video', force=True)\n",
        "  return env"
      ],
      "metadata": {
        "id": "sP1lw7BvNIIf"
      },
      "execution_count": null,
      "outputs": []
    },
    {
      "cell_type": "markdown",
      "source": [
        "# Test env with random actions\n",
        "\n"
      ],
      "metadata": {
        "id": "BvIdwFr0NXIQ"
      }
    },
    {
      "cell_type": "code",
      "source": [
        "device = torch.device(\"cuda:0\" if torch.cuda.is_available() else \"cpu\")\n",
        "print(\"device: \", device)\n",
        "\n",
        "game =  'Breakout-ram-v0' \n",
        "env =  wrap_env(gym.make(game))\n",
        "\n",
        "print(\"game: \", game)\n",
        "num_states = env.observation_space.shape[0]\n",
        "num_actions = env.action_space.n\n",
        "\n",
        "print(\"States size:\", num_states, \"Actions size: \",  num_actions)"
      ],
      "metadata": {
        "colab": {
          "base_uri": "https://localhost:8080/"
        },
        "id": "Yjm6Pbf2NWcw",
        "outputId": "ef6d400a-53bb-4b66-c88b-5691e23290a4"
      },
      "execution_count": null,
      "outputs": [
        {
          "output_type": "stream",
          "name": "stdout",
          "text": [
            "device:  cuda:0\n",
            "game:  Breakout-v0\n",
            "States size: 210 Actions size:  4\n"
          ]
        }
      ]
    },
    {
      "cell_type": "code",
      "source": [
        "done = False\n",
        "\n",
        "env.reset()\n",
        "\n",
        "total_reward = 0 \n",
        "while not done:\n",
        "    env.render()\n",
        "    state, reward, done, _ = env.step(env.action_space.sample()) # take a random action\n",
        "    total_reward += reward\n",
        "\n",
        "env.close()\n",
        "show_video()"
      ],
      "metadata": {
        "colab": {
          "base_uri": "https://localhost:8080/",
          "height": 421
        },
        "id": "XFfvvuw5NTzQ",
        "outputId": "6f7120d4-274d-4df0-a449-b70881a90950"
      },
      "execution_count": null,
      "outputs": [
        {
          "output_type": "display_data",
          "data": {
            "text/plain": [
              "<IPython.core.display.HTML object>"
            ],
            "text/html": [
              "<video alt=\"test\" autoplay \n",
              "                loop controls style=\"height: 400px;\">\n",
              "                <source src=\"data:video/mp4;base64,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\" type=\"video/mp4\" />\n",
              "             </video>"
            ]
          },
          "metadata": {}
        }
      ]
    },
    {
      "cell_type": "code",
      "source": [
        "print(\"Total reward with random actions: {}\".format(total_reward))"
      ],
      "metadata": {
        "colab": {
          "base_uri": "https://localhost:8080/"
        },
        "id": "871iPzwOPpvp",
        "outputId": "f40c6706-f37a-4c66-c6c1-e9b3fdd4a0d0"
      },
      "execution_count": null,
      "outputs": [
        {
          "output_type": "stream",
          "name": "stdout",
          "text": [
            "Total reward with random actions: 2.0\n"
          ]
        }
      ]
    },
    {
      "cell_type": "markdown",
      "source": [
        "# Use ray_tune for hyperparameter search"
      ],
      "metadata": {
        "id": "jyqnPhNCmBj2"
      }
    },
    {
      "cell_type": "code",
      "source": [
        "import json\n",
        "def evaluation_fn(result):\n",
        "    return result['episode_reward_mean']\n",
        "\n",
        "\n",
        "def objective_fn(config, checkpoint_dir = \"/content/drive/MyDrive/INM707/breakout_v1\"):\n",
        "    start = 0\n",
        "    if checkpoint_dir:\n",
        "        with open(os.path.join(checkpoint_dir, \"checkpoint\")) as f:\n",
        "            state = json.loads(f.read())\n",
        "            start = state[\"step\"] + 1\n",
        "\n",
        "\n",
        "    trainer = dqn.DQNTrainer(config = config) \n",
        "\n",
        "    for i in range(start, 100):\n",
        "      # Perform one iteration of training the policy with DQN\n",
        "      result = trainer.train()\n",
        "      intermediate_score = evaluation_fn(result)\n",
        "\n",
        "      with tune.checkpoint_dir(step=i) as checkpoint_dir:\n",
        "          path = os.path.join(checkpoint_dir, \"checkpoint\")\n",
        "          with open(path, \"w\") as f:\n",
        "              f.write(json.dumps({\"step\": i}))\n",
        "    \n",
        "      # Feed the score back back to Tune.\n",
        "      tune.report(iterations=i, mean_reward=intermediate_score)"
      ],
      "metadata": {
        "id": "ulLO4fndXVP4"
      },
      "execution_count": null,
      "outputs": []
    },
    {
      "cell_type": "markdown",
      "source": [
        "##set up config"
      ],
      "metadata": {
        "id": "eEeHaFnvmnl6"
      }
    },
    {
      "cell_type": "code",
      "source": [
        "ray.shutdown()\n",
        "ray.init(num_cpus= 2, num_gpus=1)"
      ],
      "metadata": {
        "id": "won9M_QzmInX"
      },
      "execution_count": null,
      "outputs": []
    },
    {
      "cell_type": "code",
      "source": [
        "config = dqn.DEFAULT_CONFIG.copy()\n",
        "\n",
        "config[\"dueling\"] = tune.grid_search([True, False])\n",
        "config[\"double_q\"] = tune.grid_search([True, False])\n",
        "config[\"noisy\"] = tune.grid_search([True, False])\n",
        "config[\"prioritized_replay\"] = tune.grid_search([True, False])\n",
        "\n",
        "\n",
        "#evluation config \n",
        "config[\"evaluation_interval\"] =  10\n",
        "config[\"evaluation_config\"] = {\"explore\": False} \n",
        "\n",
        "config[\"env\"] = 'Breakout-ram-v0' \n",
        "\n",
        "config[\"model\"] = {\"fcnet_hiddens\": [128],\n",
        "                  \"fcnet_activation\": 'relu',\n",
        "                   }\n",
        "\n",
        "config[\"num_gpus\"] = 1"
      ],
      "metadata": {
        "id": "Gul4ItYjmuzk"
      },
      "execution_count": null,
      "outputs": []
    },
    {
      "cell_type": "code",
      "source": [
        "analysis = tune.run(\n",
        "        objective_fn,\n",
        "        stop={\"mean_reward\": 5},\n",
        "        metric=\"mean_reward\",\n",
        "        mode=\"max\",\n",
        "        resources_per_trial={'gpu': 1},\n",
        "        num_samples=3,\n",
        "        local_dir = \"/content/drive/MyDrive/INM707/breakout_v1\",\n",
        "        config=config)\n",
        "\n"
      ],
      "metadata": {
        "colab": {
          "base_uri": "https://localhost:8080/",
          "height": 1000
        },
        "id": "3w2h9iJgr_b4",
        "outputId": "d588726d-c280-4ee0-a238-89ad8b169dda"
      },
      "execution_count": null,
      "outputs": []
    },
    {
      "cell_type": "code",
      "source": [
        "print(\"Best hyperparameters found were: \", analysis.best_config)"
      ],
      "metadata": {
        "id": "_2YqATmSsZNP",
        "colab": {
          "base_uri": "https://localhost:8080/"
        },
        "outputId": "d6902c73-6dac-4236-fc86-506d85c070cd"
      },
      "execution_count": null,
      "outputs": [
        {
          "output_type": "stream",
          "name": "stdout",
          "text": [
            "Best hyperparameters found were:  {'num_workers': 0, 'num_envs_per_worker': 1, 'create_env_on_driver': False, 'rollout_fragment_length': 4, 'batch_mode': 'truncate_episodes', 'gamma': 0.99, 'lr': 0.0005, 'train_batch_size': 32, 'model': {'fcnet_hiddens': [128], 'fcnet_activation': 'relu'}, 'optimizer': {}, 'horizon': None, 'soft_horizon': False, 'no_done_at_end': False, 'env': 'Breakout-ram-v0', 'observation_space': None, 'action_space': None, 'env_config': {}, 'remote_worker_envs': False, 'remote_env_batch_wait_ms': 0, 'env_task_fn': None, 'render_env': False, 'record_env': False, 'clip_rewards': None, 'normalize_actions': True, 'clip_actions': False, 'preprocessor_pref': 'deepmind', 'log_level': 'WARN', 'callbacks': <class 'ray.rllib.agents.callbacks.DefaultCallbacks'>, 'ignore_worker_failures': False, 'log_sys_usage': True, 'fake_sampler': False, 'framework': 'tf', 'eager_tracing': False, 'eager_max_retraces': 20, 'explore': True, 'exploration_config': {'type': 'EpsilonGreedy', 'initial_epsilon': 1.0, 'final_epsilon': 0.02, 'epsilon_timesteps': 10000}, 'evaluation_interval': 10, 'evaluation_duration': 10, 'evaluation_duration_unit': 'episodes', 'evaluation_parallel_to_training': False, 'in_evaluation': False, 'evaluation_config': {'explore': False}, 'evaluation_num_workers': 0, 'custom_eval_function': None, 'always_attach_evaluation_results': False, 'sample_async': False, 'sample_collector': <class 'ray.rllib.evaluation.collectors.simple_list_collector.SimpleListCollector'>, 'observation_filter': 'NoFilter', 'synchronize_filters': True, 'tf_session_args': {'intra_op_parallelism_threads': 2, 'inter_op_parallelism_threads': 2, 'gpu_options': {'allow_growth': True}, 'log_device_placement': False, 'device_count': {'CPU': 1}, 'allow_soft_placement': True}, 'local_tf_session_args': {'intra_op_parallelism_threads': 8, 'inter_op_parallelism_threads': 8}, 'compress_observations': False, 'metrics_episode_collection_timeout_s': 180, 'metrics_num_episodes_for_smoothing': 100, 'min_time_s_per_reporting': 1, 'min_train_timesteps_per_reporting': None, 'min_sample_timesteps_per_reporting': None, 'seed': None, 'extra_python_environs_for_driver': {}, 'extra_python_environs_for_worker': {}, 'num_gpus': 1, '_fake_gpus': False, 'num_cpus_per_worker': 1, 'num_gpus_per_worker': 0, 'custom_resources_per_worker': {}, 'num_cpus_for_driver': 1, 'placement_strategy': 'PACK', 'input': 'sampler', 'input_config': {}, 'actions_in_input_normalized': False, 'input_evaluation': ['is', 'wis'], 'postprocess_inputs': False, 'shuffle_buffer_size': 0, 'output': None, 'output_compress_columns': ['obs', 'new_obs'], 'output_max_file_size': 67108864, 'multiagent': {'policies': {}, 'policy_map_capacity': 100, 'policy_map_cache': None, 'policy_mapping_fn': None, 'policies_to_train': None, 'observation_fn': None, 'replay_mode': 'independent', 'count_steps_by': 'env_steps'}, 'logger_config': None, '_tf_policy_handles_more_than_one_loss': False, '_disable_preprocessor_api': False, '_disable_action_flattening': False, '_disable_execution_plan_api': False, 'simple_optimizer': -1, 'monitor': -1, 'evaluation_num_episodes': -1, 'metrics_smoothing_episodes': -1, 'timesteps_per_iteration': 1000, 'min_iter_time_s': -1, 'collect_metrics_timeout': -1, 'target_network_update_freq': 500, 'buffer_size': -1, 'replay_buffer_config': {'type': 'MultiAgentReplayBuffer', 'capacity': 50000}, 'store_buffer_in_checkpoints': False, 'replay_sequence_length': 1, 'lr_schedule': None, 'adam_epsilon': 1e-08, 'grad_clip': 40, 'learning_starts': 1000, 'num_atoms': 1, 'v_min': -10.0, 'v_max': 10.0, 'noisy': True, 'sigma0': 0.5, 'dueling': True, 'hiddens': [256], 'double_q': False, 'n_step': 1, 'prioritized_replay': True, 'prioritized_replay_alpha': 0.6, 'prioritized_replay_beta': 0.4, 'final_prioritized_replay_beta': 0.4, 'prioritized_replay_beta_annealing_timesteps': 20000, 'prioritized_replay_eps': 1e-06, 'before_learn_on_batch': None, 'training_intensity': None, 'worker_side_prioritization': False}\n"
          ]
        }
      ]
    },
    {
      "cell_type": "code",
      "source": [
        "analysis.best_checkpoint.local_path"
      ],
      "metadata": {
        "id": "5owQQhxRsfyR",
        "colab": {
          "base_uri": "https://localhost:8080/",
          "height": 69
        },
        "outputId": "9cb5952f-8595-47c3-a557-9ff35e928b1c"
      },
      "execution_count": null,
      "outputs": [
        {
          "output_type": "execute_result",
          "data": {
            "text/plain": [
              "'/content/drive/MyDrive/INM707/breakout_v1/objective_fn_2022-04-22_15-37-53/objective_fn_Breakout-ram-v0_2d00f_00033_33_double_q=False,dueling=True,noisy=True,prioritized_replay=True_2022-04-22_17-29-09/checkpoint_000000/'"
            ],
            "application/vnd.google.colaboratory.intrinsic+json": {
              "type": "string"
            }
          },
          "metadata": {},
          "execution_count": 17
        }
      ]
    },
    {
      "cell_type": "markdown",
      "source": [
        ""
      ],
      "metadata": {
        "id": "34fUImML_RNf"
      }
    },
    {
      "cell_type": "markdown",
      "source": [
        "## Save best params in a file"
      ],
      "metadata": {
        "id": "myQ3ELlXskGI"
      }
    },
    {
      "cell_type": "code",
      "source": [
        "#save best config to file \n",
        "import json \n",
        "#path = '/content/drive/MyDrive/INM707/cartpole_v1/objective_fn_2022-04-21_20-53-06'\n",
        "\n",
        "path = ''\n",
        "for val in analysis.best_checkpoint.local_path.split('/')[1:-3]: \n",
        "  path = path + '/' + val \n",
        "\n",
        "fname = 'best_params.json'\n",
        "full_path = path + '/' + fname \n",
        "\n",
        "\n",
        "f = open(full_path, \"w\")\n",
        "json_dict = json.dumps(str(analysis.best_config))\n",
        "f.write(json_dict)\n",
        "f.close()\n"
      ],
      "metadata": {
        "id": "8XbyaHOKsh9o"
      },
      "execution_count": null,
      "outputs": []
    },
    {
      "cell_type": "code",
      "source": [
        "path = ''\n",
        "for val in analysis.best_checkpoint.local_path.split('/')[1:-3]: \n",
        "  path = path + '/' + val \n",
        "\n",
        "df = analysis.dataframe(metric=\"mean_reward\", mode=\"max\")\n",
        "df = df[['config/noisy', 'config/double_q', 'config/dueling', 'config/prioritized_replay', 'mean_reward']].sort_values( by=\"mean_reward\", ascending=False)#.head()\n",
        "\n",
        "fname = \"analysis_df.csv\"\n",
        "full_path =  path + '/' + fname\n",
        "\n",
        "df.to_csv(full_path)\n",
        "print(\"Saved to: \", full_path)"
      ],
      "metadata": {
        "colab": {
          "base_uri": "https://localhost:8080/"
        },
        "id": "bqoHKFWEimiy",
        "outputId": "38ba6708-15c3-4750-cd95-52df3f60f82e"
      },
      "execution_count": null,
      "outputs": [
        {
          "output_type": "stream",
          "name": "stdout",
          "text": [
            "Saved to:  /content/drive/MyDrive/INM707/breakout_v1/objective_fn_2022-04-22_15-37-53/analysis_df.csv\n"
          ]
        }
      ]
    },
    {
      "cell_type": "code",
      "source": [
        "df[['config/noisy', 'config/double_q', 'config/dueling', 'config/prioritized_replay', 'mean_reward']].sort_values( by=\"mean_reward\", ascending=False).head()"
      ],
      "metadata": {
        "colab": {
          "base_uri": "https://localhost:8080/",
          "height": 206
        },
        "id": "3Y8Ag4zGhRLl",
        "outputId": "177ca0af-7a1d-44a6-a27d-0a25c9c4c535"
      },
      "execution_count": null,
      "outputs": [
        {
          "output_type": "execute_result",
          "data": {
            "text/plain": [
              "    config/noisy  config/double_q  config/dueling  config/prioritized_replay  \\\n",
              "33          True            False            True                       True   \n",
              "13         False            False            True                      False   \n",
              "43          True            False           False                      False   \n",
              "35          True            False           False                       True   \n",
              "24          True             True            True                      False   \n",
              "\n",
              "    mean_reward  \n",
              "33     5.000000  \n",
              "13     3.500000  \n",
              "43     3.000000  \n",
              "35     3.000000  \n",
              "24     2.333333  "
            ],
            "text/html": [
              "\n",
              "  <div id=\"df-1b959895-2fbf-4528-8560-da2dcfcf5a28\">\n",
              "    <div class=\"colab-df-container\">\n",
              "      <div>\n",
              "<style scoped>\n",
              "    .dataframe tbody tr th:only-of-type {\n",
              "        vertical-align: middle;\n",
              "    }\n",
              "\n",
              "    .dataframe tbody tr th {\n",
              "        vertical-align: top;\n",
              "    }\n",
              "\n",
              "    .dataframe thead th {\n",
              "        text-align: right;\n",
              "    }\n",
              "</style>\n",
              "<table border=\"1\" class=\"dataframe\">\n",
              "  <thead>\n",
              "    <tr style=\"text-align: right;\">\n",
              "      <th></th>\n",
              "      <th>config/noisy</th>\n",
              "      <th>config/double_q</th>\n",
              "      <th>config/dueling</th>\n",
              "      <th>config/prioritized_replay</th>\n",
              "      <th>mean_reward</th>\n",
              "    </tr>\n",
              "  </thead>\n",
              "  <tbody>\n",
              "    <tr>\n",
              "      <th>33</th>\n",
              "      <td>True</td>\n",
              "      <td>False</td>\n",
              "      <td>True</td>\n",
              "      <td>True</td>\n",
              "      <td>5.000000</td>\n",
              "    </tr>\n",
              "    <tr>\n",
              "      <th>13</th>\n",
              "      <td>False</td>\n",
              "      <td>False</td>\n",
              "      <td>True</td>\n",
              "      <td>False</td>\n",
              "      <td>3.500000</td>\n",
              "    </tr>\n",
              "    <tr>\n",
              "      <th>43</th>\n",
              "      <td>True</td>\n",
              "      <td>False</td>\n",
              "      <td>False</td>\n",
              "      <td>False</td>\n",
              "      <td>3.000000</td>\n",
              "    </tr>\n",
              "    <tr>\n",
              "      <th>35</th>\n",
              "      <td>True</td>\n",
              "      <td>False</td>\n",
              "      <td>False</td>\n",
              "      <td>True</td>\n",
              "      <td>3.000000</td>\n",
              "    </tr>\n",
              "    <tr>\n",
              "      <th>24</th>\n",
              "      <td>True</td>\n",
              "      <td>True</td>\n",
              "      <td>True</td>\n",
              "      <td>False</td>\n",
              "      <td>2.333333</td>\n",
              "    </tr>\n",
              "  </tbody>\n",
              "</table>\n",
              "</div>\n",
              "      <button class=\"colab-df-convert\" onclick=\"convertToInteractive('df-1b959895-2fbf-4528-8560-da2dcfcf5a28')\"\n",
              "              title=\"Convert this dataframe to an interactive table.\"\n",
              "              style=\"display:none;\">\n",
              "        \n",
              "  <svg xmlns=\"http://www.w3.org/2000/svg\" height=\"24px\"viewBox=\"0 0 24 24\"\n",
              "       width=\"24px\">\n",
              "    <path d=\"M0 0h24v24H0V0z\" fill=\"none\"/>\n",
              "    <path d=\"M18.56 5.44l.94 2.06.94-2.06 2.06-.94-2.06-.94-.94-2.06-.94 2.06-2.06.94zm-11 1L8.5 8.5l.94-2.06 2.06-.94-2.06-.94L8.5 2.5l-.94 2.06-2.06.94zm10 10l.94 2.06.94-2.06 2.06-.94-2.06-.94-.94-2.06-.94 2.06-2.06.94z\"/><path d=\"M17.41 7.96l-1.37-1.37c-.4-.4-.92-.59-1.43-.59-.52 0-1.04.2-1.43.59L10.3 9.45l-7.72 7.72c-.78.78-.78 2.05 0 2.83L4 21.41c.39.39.9.59 1.41.59.51 0 1.02-.2 1.41-.59l7.78-7.78 2.81-2.81c.8-.78.8-2.07 0-2.86zM5.41 20L4 18.59l7.72-7.72 1.47 1.35L5.41 20z\"/>\n",
              "  </svg>\n",
              "      </button>\n",
              "      \n",
              "  <style>\n",
              "    .colab-df-container {\n",
              "      display:flex;\n",
              "      flex-wrap:wrap;\n",
              "      gap: 12px;\n",
              "    }\n",
              "\n",
              "    .colab-df-convert {\n",
              "      background-color: #E8F0FE;\n",
              "      border: none;\n",
              "      border-radius: 50%;\n",
              "      cursor: pointer;\n",
              "      display: none;\n",
              "      fill: #1967D2;\n",
              "      height: 32px;\n",
              "      padding: 0 0 0 0;\n",
              "      width: 32px;\n",
              "    }\n",
              "\n",
              "    .colab-df-convert:hover {\n",
              "      background-color: #E2EBFA;\n",
              "      box-shadow: 0px 1px 2px rgba(60, 64, 67, 0.3), 0px 1px 3px 1px rgba(60, 64, 67, 0.15);\n",
              "      fill: #174EA6;\n",
              "    }\n",
              "\n",
              "    [theme=dark] .colab-df-convert {\n",
              "      background-color: #3B4455;\n",
              "      fill: #D2E3FC;\n",
              "    }\n",
              "\n",
              "    [theme=dark] .colab-df-convert:hover {\n",
              "      background-color: #434B5C;\n",
              "      box-shadow: 0px 1px 3px 1px rgba(0, 0, 0, 0.15);\n",
              "      filter: drop-shadow(0px 1px 2px rgba(0, 0, 0, 0.3));\n",
              "      fill: #FFFFFF;\n",
              "    }\n",
              "  </style>\n",
              "\n",
              "      <script>\n",
              "        const buttonEl =\n",
              "          document.querySelector('#df-1b959895-2fbf-4528-8560-da2dcfcf5a28 button.colab-df-convert');\n",
              "        buttonEl.style.display =\n",
              "          google.colab.kernel.accessAllowed ? 'block' : 'none';\n",
              "\n",
              "        async function convertToInteractive(key) {\n",
              "          const element = document.querySelector('#df-1b959895-2fbf-4528-8560-da2dcfcf5a28');\n",
              "          const dataTable =\n",
              "            await google.colab.kernel.invokeFunction('convertToInteractive',\n",
              "                                                     [key], {});\n",
              "          if (!dataTable) return;\n",
              "\n",
              "          const docLinkHtml = 'Like what you see? Visit the ' +\n",
              "            '<a target=\"_blank\" href=https://colab.research.google.com/notebooks/data_table.ipynb>data table notebook</a>'\n",
              "            + ' to learn more about interactive tables.';\n",
              "          element.innerHTML = '';\n",
              "          dataTable['output_type'] = 'display_data';\n",
              "          await google.colab.output.renderOutput(dataTable, element);\n",
              "          const docLink = document.createElement('div');\n",
              "          docLink.innerHTML = docLinkHtml;\n",
              "          element.appendChild(docLink);\n",
              "        }\n",
              "      </script>\n",
              "    </div>\n",
              "  </div>\n",
              "  "
            ]
          },
          "metadata": {},
          "execution_count": 23
        }
      ]
    }
  ]
}