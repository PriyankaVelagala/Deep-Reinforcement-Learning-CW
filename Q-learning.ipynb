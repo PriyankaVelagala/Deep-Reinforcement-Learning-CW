{
 "cells": [
  {
   "cell_type": "markdown",
   "id": "2b2aa22d-efbd-4ffa-9262-a171ab4d29c9",
   "metadata": {},
   "source": [
    "# States and Actions"
   ]
  },
  {
   "cell_type": "code",
   "execution_count": 6,
   "id": "b4c2e0b9-9b60-46dd-a23e-5ad327a8afd9",
   "metadata": {},
   "outputs": [],
   "source": [
    "S = range(6)\n",
    "A = range(6)"
   ]
  },
  {
   "cell_type": "markdown",
   "id": "d77d2be0-f154-4db6-95dc-ce13b4f71e25",
   "metadata": {},
   "source": [
    "![alt text](grid.jpeg \"Title\")"
   ]
  },
  {
   "cell_type": "markdown",
   "id": "aec2bd20-f4ee-4c13-906a-171a044258d9",
   "metadata": {},
   "source": [
    "Possible Actions"
   ]
  },
  {
   "cell_type": "code",
   "execution_count": 8,
   "id": "9c539876-448b-4f35-9ab7-aa8b370a21b4",
   "metadata": {},
   "outputs": [
    {
     "name": "stdout",
     "output_type": "stream",
     "text": [
      "120\n",
      "110\n"
     ]
    }
   ],
   "source": [
    "possible_actions = []\n",
    "\n",
    "for row in range(0,6):\n",
    "    for col in range(0, 6):\n",
    "        current = row * 6 + col\n",
    "\n",
    "        if col > 0:\n",
    "            left = current - 1\n",
    "            possible_actions.append((current, left))\n",
    "        if col < 5:\n",
    "            right = current + 1\n",
    "            possible_actions.append((current, right))\n",
    "        if row > 0:\n",
    "            up = current - 6\n",
    "            possible_actions.append((current, up))\n",
    "        if row < 5:\n",
    "            down = current + 6\n",
    "            possible_actions.append((current, down))\n",
    "\n",
    "print(len(possible_actions))\n",
    "\n",
    "walls = [(3,4), (3,9), (4,5), (11,17), (17,23), (12,18), (18,24), (30,31), (27,33), (29,35)]\n",
    "\n",
    "for w in walls:\n",
    "    possible_actions.remove(w)\n",
    "\n",
    "print(len(possible_actions))"
   ]
  },
  {
   "cell_type": "code",
   "execution_count": 9,
   "id": "844f209a-0299-44ff-b196-165802a680e7",
   "metadata": {},
   "outputs": [
    {
     "data": {
      "text/plain": [
       "[(0, 1),\n",
       " (0, 6),\n",
       " (1, 0),\n",
       " (1, 2),\n",
       " (1, 7),\n",
       " (2, 1),\n",
       " (2, 3),\n",
       " (2, 8),\n",
       " (3, 2),\n",
       " (4, 3),\n",
       " (4, 10),\n",
       " (5, 4),\n",
       " (5, 11),\n",
       " (6, 7),\n",
       " (6, 0),\n",
       " (6, 12),\n",
       " (7, 6),\n",
       " (7, 8),\n",
       " (7, 1),\n",
       " (7, 13),\n",
       " (8, 7),\n",
       " (8, 9),\n",
       " (8, 2),\n",
       " (8, 14),\n",
       " (9, 8),\n",
       " (9, 10),\n",
       " (9, 3),\n",
       " (9, 15),\n",
       " (10, 9),\n",
       " (10, 11),\n",
       " (10, 4),\n",
       " (10, 16),\n",
       " (11, 10),\n",
       " (11, 5),\n",
       " (12, 13),\n",
       " (12, 6),\n",
       " (13, 12),\n",
       " (13, 14),\n",
       " (13, 7),\n",
       " (13, 19),\n",
       " (14, 13),\n",
       " (14, 15),\n",
       " (14, 8),\n",
       " (14, 20),\n",
       " (15, 14),\n",
       " (15, 16),\n",
       " (15, 9),\n",
       " (15, 21),\n",
       " (16, 15),\n",
       " (16, 17),\n",
       " (16, 10),\n",
       " (16, 22),\n",
       " (17, 16),\n",
       " (17, 11),\n",
       " (18, 19),\n",
       " (18, 12),\n",
       " (19, 18),\n",
       " (19, 20),\n",
       " (19, 13),\n",
       " (19, 25),\n",
       " (20, 19),\n",
       " (20, 21),\n",
       " (20, 14),\n",
       " (20, 26),\n",
       " (21, 20),\n",
       " (21, 22),\n",
       " (21, 15),\n",
       " (21, 27),\n",
       " (22, 21),\n",
       " (22, 23),\n",
       " (22, 16),\n",
       " (22, 28),\n",
       " (23, 22),\n",
       " (23, 17),\n",
       " (23, 29),\n",
       " (24, 25),\n",
       " (24, 18),\n",
       " (24, 30),\n",
       " (25, 24),\n",
       " (25, 26),\n",
       " (25, 19),\n",
       " (25, 31),\n",
       " (26, 25),\n",
       " (26, 27),\n",
       " (26, 20),\n",
       " (26, 32),\n",
       " (27, 26),\n",
       " (27, 28),\n",
       " (27, 21),\n",
       " (28, 27),\n",
       " (28, 29),\n",
       " (28, 22),\n",
       " (28, 34),\n",
       " (29, 28),\n",
       " (29, 23),\n",
       " (30, 24),\n",
       " (31, 30),\n",
       " (31, 32),\n",
       " (31, 25),\n",
       " (32, 31),\n",
       " (32, 33),\n",
       " (32, 26),\n",
       " (33, 32),\n",
       " (33, 34),\n",
       " (33, 27),\n",
       " (34, 33),\n",
       " (34, 35),\n",
       " (34, 28),\n",
       " (35, 34),\n",
       " (35, 29)]"
      ]
     },
     "execution_count": 9,
     "metadata": {},
     "output_type": "execute_result"
    }
   ],
   "source": [
    "possible_actions"
   ]
  },
  {
   "cell_type": "code",
   "execution_count": null,
   "id": "666b8649-ea99-4171-a5e4-007c04078942",
   "metadata": {},
   "outputs": [],
   "source": []
  }
 ],
 "metadata": {
  "kernelspec": {
   "display_name": "Python 3 (ipykernel)",
   "language": "python",
   "name": "python3"
  },
  "language_info": {
   "codemirror_mode": {
    "name": "ipython",
    "version": 3
   },
   "file_extension": ".py",
   "mimetype": "text/x-python",
   "name": "python",
   "nbconvert_exporter": "python",
   "pygments_lexer": "ipython3",
   "version": "3.8.8"
  }
 },
 "nbformat": 4,
 "nbformat_minor": 5
}
