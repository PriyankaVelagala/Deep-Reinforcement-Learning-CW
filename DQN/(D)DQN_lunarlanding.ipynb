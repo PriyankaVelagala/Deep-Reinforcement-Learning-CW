{
  "nbformat": 4,
  "nbformat_minor": 0,
  "metadata": {
    "colab": {
      "name": "(D)DQN_lunarlanding.ipynb",
      "provenance": [],
      "collapsed_sections": []
    },
    "kernelspec": {
      "name": "python3",
      "display_name": "Python 3"
    },
    "language_info": {
      "name": "python"
    },
    "accelerator": "GPU"
  },
  "cells": [
    {
      "cell_type": "code",
      "execution_count": null,
      "metadata": {
        "colab": {
          "base_uri": "https://localhost:8080/"
        },
        "id": "UC0YBv93ZFSw",
        "outputId": "2c5987be-089a-4f0c-e20f-af26590bf4aa"
      },
      "outputs": [
        {
          "output_type": "stream",
          "name": "stdout",
          "text": [
            "Requirement already satisfied: box2d-py in /usr/local/lib/python3.7/dist-packages (2.3.8)\n",
            "Requirement already satisfied: gym[Box_2D] in /usr/local/lib/python3.7/dist-packages (0.17.3)\n",
            "\u001b[33mWARNING: gym 0.17.3 does not provide the extra 'box_2d'\u001b[0m\n",
            "Requirement already satisfied: cloudpickle<1.7.0,>=1.2.0 in /usr/local/lib/python3.7/dist-packages (from gym[Box_2D]) (1.3.0)\n",
            "Requirement already satisfied: numpy>=1.10.4 in /usr/local/lib/python3.7/dist-packages (from gym[Box_2D]) (1.21.5)\n",
            "Requirement already satisfied: scipy in /usr/local/lib/python3.7/dist-packages (from gym[Box_2D]) (1.4.1)\n",
            "Requirement already satisfied: pyglet<=1.5.0,>=1.4.0 in /usr/local/lib/python3.7/dist-packages (from gym[Box_2D]) (1.5.0)\n",
            "Requirement already satisfied: future in /usr/local/lib/python3.7/dist-packages (from pyglet<=1.5.0,>=1.4.0->gym[Box_2D]) (0.16.0)\n",
            "Requirement already satisfied: ipdb in /usr/local/lib/python3.7/dist-packages (0.13.9)\n",
            "Requirement already satisfied: toml>=0.10.2 in /usr/local/lib/python3.7/dist-packages (from ipdb) (0.10.2)\n",
            "Requirement already satisfied: ipython>=7.17.0 in /usr/local/lib/python3.7/dist-packages (from ipdb) (7.32.0)\n",
            "Requirement already satisfied: setuptools in /usr/local/lib/python3.7/dist-packages (from ipdb) (57.4.0)\n",
            "Requirement already satisfied: decorator in /usr/local/lib/python3.7/dist-packages (from ipdb) (4.4.2)\n",
            "Requirement already satisfied: prompt-toolkit!=3.0.0,!=3.0.1,<3.1.0,>=2.0.0 in /usr/local/lib/python3.7/dist-packages (from ipython>=7.17.0->ipdb) (3.0.29)\n",
            "Requirement already satisfied: pickleshare in /usr/local/lib/python3.7/dist-packages (from ipython>=7.17.0->ipdb) (0.7.5)\n",
            "Requirement already satisfied: traitlets>=4.2 in /usr/local/lib/python3.7/dist-packages (from ipython>=7.17.0->ipdb) (5.1.1)\n",
            "Requirement already satisfied: pygments in /usr/local/lib/python3.7/dist-packages (from ipython>=7.17.0->ipdb) (2.6.1)\n",
            "Requirement already satisfied: backcall in /usr/local/lib/python3.7/dist-packages (from ipython>=7.17.0->ipdb) (0.2.0)\n",
            "Requirement already satisfied: pexpect>4.3 in /usr/local/lib/python3.7/dist-packages (from ipython>=7.17.0->ipdb) (4.8.0)\n",
            "Requirement already satisfied: jedi>=0.16 in /usr/local/lib/python3.7/dist-packages (from ipython>=7.17.0->ipdb) (0.18.1)\n",
            "Requirement already satisfied: matplotlib-inline in /usr/local/lib/python3.7/dist-packages (from ipython>=7.17.0->ipdb) (0.1.3)\n",
            "Requirement already satisfied: parso<0.9.0,>=0.8.0 in /usr/local/lib/python3.7/dist-packages (from jedi>=0.16->ipython>=7.17.0->ipdb) (0.8.3)\n",
            "Requirement already satisfied: ptyprocess>=0.5 in /usr/local/lib/python3.7/dist-packages (from pexpect>4.3->ipython>=7.17.0->ipdb) (0.7.0)\n",
            "Requirement already satisfied: wcwidth in /usr/local/lib/python3.7/dist-packages (from prompt-toolkit!=3.0.0,!=3.0.1,<3.1.0,>=2.0.0->ipython>=7.17.0->ipdb) (0.2.5)\n"
          ]
        }
      ],
      "source": [
        "!pip3 install box2d-py\n",
        "!pip3 install gym[Box_2D]\n",
        "!pip3 install ipdb\n",
        "\n",
        "!pip install gym pyvirtualdisplay > /dev/null 2>&1\n",
        "!apt-get install -y xvfb python-opengl ffmpeg > /dev/null 2>&1"
      ]
    },
    {
      "cell_type": "code",
      "source": [
        "import gym\n",
        "import math\n",
        "import random\n",
        "import torch\n",
        "import torch.nn as nn\n",
        "import torch.nn.functional as F\n",
        "import numpy as np\n",
        "from collections import deque\n",
        "import torch.optim as optim\n",
        "import matplotlib.pyplot as plt\n",
        "from collections import namedtuple, deque\n",
        "from itertools import count\n",
        "from gym import wrappers\n",
        "\n",
        "from IPython.display import clear_output"
      ],
      "metadata": {
        "id": "TnBmoW03ZiGN"
      },
      "execution_count": null,
      "outputs": []
    },
    {
      "cell_type": "code",
      "source": [
        "# For visualization\n",
        "from gym.wrappers.monitoring import video_recorder\n",
        "from IPython.display import HTML\n",
        "from IPython import display \n",
        "import glob\n",
        "import base64, io\n",
        "from pyvirtualdisplay import Display\n",
        "from IPython import display as ipythondisplay\n",
        "from gym.wrappers import Monitor\n",
        "\n"
      ],
      "metadata": {
        "id": "cMNluhHrob_1"
      },
      "execution_count": null,
      "outputs": []
    },
    {
      "cell_type": "code",
      "source": [
        "\"\"\"\n",
        "Q-network class\n",
        "\"\"\"\n",
        "class QNetwork(nn.Module):\n",
        "  def __init__(self, num_states, num_actions, hidden_layers, seed):\n",
        "    super(QNetwork, self).__init__()\n",
        "    self.seed = torch.manual_seed(seed)\n",
        "    self.fc1 = nn.Linear(num_states, hidden_layers[0])\n",
        "    self.fc2 = nn.Linear(hidden_layers[0], hidden_layers[1])\n",
        "    self.fc3 = nn.Linear(hidden_layers[1], num_actions)\n",
        "\n",
        "  def forward(self, X):\n",
        "    X = F.relu((self.fc1(X)))\n",
        "    X = F.relu((self.fc2(X)))\n",
        "    return self.fc3(X)"
      ],
      "metadata": {
        "id": "ZDlE3HDWcDEj"
      },
      "execution_count": null,
      "outputs": []
    },
    {
      "cell_type": "code",
      "source": [
        "#define data structure for experience \n",
        "Experience = namedtuple('Experience',\n",
        "                        ('state', 'action', 'next_state', 'reward', 'done'))\n",
        "\"\"\"\n",
        "Replay Memory to store experiences \n",
        "\"\"\"\n",
        "class ReplayMemory:\n",
        "  def __init__(self, num_actions, mem_capacity, rand_seed):\n",
        "    self.num_actions = num_actions\n",
        "    self.memory = deque(maxlen = mem_capacity)\n",
        "    self.seed = random.seed(rand_seed)\n",
        "\n",
        "  \"\"\"\n",
        "  Magic method to return size of memory\n",
        "  \"\"\"\n",
        "  def __len__(self):\n",
        "    return len(self.memory)\n",
        "\n",
        "  \"\"\"\n",
        "  Add experience to memory\n",
        "  \"\"\"\n",
        "  def add_experience(self, state, action, next_state, reward, done):\n",
        "    self.memory.append(Experience(state, action, next_state, reward, done))\n",
        "\n",
        "  \"\"\"\n",
        "  Get n experiences from memory\n",
        "  \"\"\"\n",
        "  def sample_exp(self, n):\n",
        "\n",
        "    #get n exp\n",
        "    experiences = random.sample(self.memory, k=n)\n",
        "\n",
        "    states = [] \n",
        "    actions = []\n",
        "    rewards = [] \n",
        "    next_states = [] \n",
        "    dones = []  \n",
        "\n",
        "    #get states, actions..\n",
        "    for e in experiences:\n",
        "      if e is not None:\n",
        "        state, action, next_state, reward, done = e\n",
        "        states.append(state)\n",
        "        actions.append(action)\n",
        "        next_states.append(next_state)\n",
        "        rewards.append(reward)\n",
        "        dones.append(done)\n",
        "\n",
        "    #convert to tensors \n",
        "    states = torch.from_numpy(np.vstack(states)).to(torch.float).to(device)\n",
        "    actions = torch.from_numpy(np.vstack(actions)).to(torch.long).to(device)\n",
        "    next_states = torch.from_numpy(np.vstack(next_states)).to(torch.float).to(device)\n",
        "    rewards = torch.from_numpy(np.vstack(rewards)).to(torch.float).to(device)\n",
        "    dones = torch.from_numpy(np.vstack(dones).astype(np.uint8)).to(torch.float).to(device)\n",
        "\n",
        "    #return as tuple \n",
        "    return (states, actions, next_states, rewards, dones)\n"
      ],
      "metadata": {
        "id": "XbS3JV0lj7jA"
      },
      "execution_count": null,
      "outputs": []
    },
    {
      "cell_type": "code",
      "source": [
        "class Agent():\n",
        "\n",
        "  def __init__(self, num_states, num_actions, seed, learning_rate, memory_capacity, batch_size, update_frequency, gamma, tau, ddqn = True):\n",
        "    self.num_states = num_states\n",
        "    self.num_actions = num_actions\n",
        "    self.seed = seed #random.seed(seed)\n",
        "    self.update_frequency = update_frequency \n",
        "    self.batch_size = batch_size\n",
        "    self.gamma = gamma \n",
        "    self.tau = tau \n",
        "    self.ddqn = ddqn\n",
        "    self.time_step = 0 \n",
        "\n",
        "\n",
        "    #Q-network \n",
        "    # local = policy, target = target \n",
        "    self.policy_net = QNetwork(num_states, num_actions, [64, 64], self.seed).to(device)\n",
        "    self.target_net = QNetwork(num_states, num_actions,[64,64],  self.seed).to(device)\n",
        "    #initialize target with policy net params \n",
        "    self.sync_networks()\n",
        "\n",
        "    self.optimizer = optim.Adam(self.policy_net.parameters(), lr = learning_rate)\n",
        "\n",
        "    #memory\n",
        "    self.memory = ReplayMemory(num_actions, memory_capacity, self.seed)\n",
        "\n",
        "\n",
        "  \"\"\"\n",
        "  sync both networks\n",
        "  \"\"\"\n",
        "  def sync_networks(self):\n",
        "    _ = self.target_net.load_state_dict(self.policy_net.state_dict())\n",
        "\n",
        "  \"\"\"\n",
        "  Agent executes action to build knowledge base\n",
        "  Every n steps, learns from experience \n",
        "  \"\"\"\n",
        "  def execute_action(self, state, action, reward, next_state, done):\n",
        "    #add experience\n",
        "    self.memory.add_experience(state, action, reward, next_state, done)\n",
        "    \n",
        "    #back prop every n steps \n",
        "    self.time_step += 1 \n",
        "    if self.time_step % self.update_frequency == 0:\n",
        "      #check if there are enough experiences\n",
        "      if len(self.memory) > self.batch_size:\n",
        "        exp = self.memory.sample_exp(self.batch_size)\n",
        "        #learn from experience\n",
        "        self.ddqn_learn(exp, self.gamma)\n",
        "\n",
        "\n",
        "  \"\"\"\n",
        "  Select an actions based on actions available for a given state\n",
        "  \"\"\"\n",
        "  def select_action(self, state, eps = 0 ):\n",
        "    state = torch.from_numpy(state).float().unsqueeze(0).to(device)\n",
        "    #turn off grad for forward pass \n",
        "    self.policy_net.eval()\n",
        "    with torch.no_grad():\n",
        "        actions = self.policy_net(state)\n",
        "    self.policy_net.train()\n",
        "    \n",
        "    # Epsilon-greedy action selection\n",
        "    if random.random() > eps:\n",
        "        return np.argmax(actions.cpu().data.numpy())\n",
        "    else:\n",
        "        return random.choice(np.arange(self.num_actions))\n",
        "\n",
        "\n",
        "  \"\"\"\n",
        "  Learns from prior experiences\n",
        "  only for ddqn \n",
        "  \"\"\"\n",
        "  def ddqn_learn(self, experiences, gamma):\n",
        "    states, actions, rewards, next_states, dones = experiences \n",
        "\n",
        "    # Target Q-value calculation \n",
        "    # Q-value of next state \n",
        "    if self.ddqn:\n",
        "      #q_targets_next = self.target_net(next_states).detach().max(1)[0].unsqueeze(1)\n",
        "      ### Calculate target value from bellman equation\n",
        "      #q_targets = rewards + gamma * q_targets_next * (1 - dones)\n",
        "      ### Calculate expected value from policy network \n",
        "      #q_expected = self.policy_net(states).gather(1, actions)\n",
        "      #loss = F.mse_loss(q_expected, q_targets)\n",
        "      _, q_values = self.policy_net(next_states).max(dim =1 , keepdim = True) #gets actions \n",
        "      \n",
        "    else:\n",
        "      _, q_values = self.target_net(next_states).max(dim =1 , keepdim = True) #gets actions \n",
        "\n",
        "    q_values_next = self.target_net(next_states).gather(dim = 1, index = q_values)\n",
        "    target_q_values = rewards + gamma * q_values_next * (1 - dones)\n",
        "\n",
        "    policy_q_values = self.policy_net(states).gather(1, actions)\n",
        "\n",
        "\n",
        "    ### Loss calculation \n",
        "    loss = F.mse_loss(policy_q_values, target_q_values)\n",
        "\n",
        "    \n",
        "    self.optimizer.zero_grad()\n",
        "    loss.backward()\n",
        "    self.optimizer.step()\n",
        "\n",
        "    #update target net based on policy net \n",
        "    for target_param, policy_param in zip(self.target_net.parameters(), self.policy_net.parameters()):\n",
        "       target_param.data.copy_(self.tau*policy_param.data + (1.0-self.tau)*target_param.data)\n",
        "    "
      ],
      "metadata": {
        "id": "OxVhs2ta70wv"
      },
      "execution_count": null,
      "outputs": []
    },
    {
      "cell_type": "code",
      "source": [
        "def train_ddqn(env, agent, num_episodes = 2000, max_steps = 1000, eps_start = 1.0, eps_end = 0.01, eps_decay = 0.995):\n",
        "  scores = [] \n",
        "  scores_window = deque(maxlen = 100)\n",
        "  eps = eps_start \n",
        "\n",
        "  for i in range(1, num_episodes+1):\n",
        "    state = env.reset() \n",
        "    current_score = 0 \n",
        "    for step in range(max_steps):\n",
        "      #select action \n",
        "      action = agent.select_action(state, eps)\n",
        "      #take action in environment\n",
        "      next_state, reward, done, _ = env.step(action)\n",
        "      #store experience in memory & learn \n",
        "      agent.execute_action(state, action, reward, next_state, done)\n",
        "      \n",
        "      #update state & rewards \n",
        "      state = next_state \n",
        "      current_score += reward\n",
        "\n",
        "      # game over \n",
        "      if done:\n",
        "        break \n",
        "\n",
        "\n",
        "    #save episode scores   \n",
        "    scores_window.append(current_score)       \n",
        "    scores.append(current_score)                    \n",
        "    \n",
        "    #decay epsilon \n",
        "    eps = max(eps_end, eps_decay*eps) \n",
        "\n",
        "    #Score printing formatting  \n",
        "    print('\\rEpisode {}\\tAverage Score: {:.2f}'.format(i, np.mean(scores_window)), end=\"\")\n",
        "    if i % 100 == 0:\n",
        "          print('\\rEpisode {}\\tAverage Score: {:.2f}'.format(i, np.mean(scores_window)))\n",
        "\n",
        "    #break condition to stop training \n",
        "    if np.mean(scores_window)>=200.0:\n",
        "          print('\\nEnvironment solved in {:d} episodes!\\tAverage Score: {:.2f}'.format(i-100, np.mean(scores_window)))\n",
        "          torch.save(agent.policy_net.state_dict(), 'checkpoint.pth')\n",
        "          break\n",
        "          \n",
        "  return scores\n",
        "\n",
        "\n",
        "\n"
      ],
      "metadata": {
        "id": "D0uKre1S1xTA"
      },
      "execution_count": null,
      "outputs": []
    },
    {
      "cell_type": "markdown",
      "source": [
        "# Train agent on DQN"
      ],
      "metadata": {
        "id": "pDBrhA1w6Tuh"
      }
    },
    {
      "cell_type": "code",
      "source": [
        "device = torch.device(\"cuda:0\" if torch.cuda.is_available() else \"cpu\")\n",
        "print(\"device: \", device)\n",
        "\n",
        "game = 'LunarLander-v2'\n",
        "env = gym.make(game)\n",
        "\n",
        "print(\"game: \", game)\n",
        "num_states = env.observation_space.shape[0]\n",
        "num_actions = env.action_space.n\n",
        "\n",
        "print(\"States size:\", num_states, \"Actions size: \",  num_actions)\n"
      ],
      "metadata": {
        "colab": {
          "base_uri": "https://localhost:8080/"
        },
        "id": "JSqXulLM6cxd",
        "outputId": "8b16b4e8-2d69-4461-c446-b324fad17978"
      },
      "execution_count": null,
      "outputs": [
        {
          "output_type": "stream",
          "name": "stdout",
          "text": [
            "device:  cuda:0\n",
            "game:  LunarLander-v2\n",
            "States size: 8 Actions size:  4\n"
          ]
        }
      ]
    },
    {
      "cell_type": "code",
      "source": [
        "#set up parameters for agent\n",
        "seed = 0\n",
        "learning_rate = 5e-4\n",
        "memory_capacity = 100000\n",
        "batch_size = 64\n",
        "update_every = 4\n",
        "gamma = 0.99 \n",
        "tau = 0.001\n",
        "ddqn = False #using DQN now\n",
        "\n",
        "#training params \n",
        "num_episodes = 2000\n",
        "max_steps = 1000\n",
        "eps_start = 1.0\n",
        "eps_end = 0.01\n",
        "eps_decay = 0.995\n",
        "\n",
        "\n",
        "agent = Agent(num_states, num_actions, seed, learning_rate, memory_capacity, batch_size, update_every, gamma, tau, \n",
        "              ddqn )\n",
        "scores = train_ddqn(env, agent, num_episodes, max_steps , eps_start, eps_end , eps_decay)\n",
        "\n",
        "\n"
      ],
      "metadata": {
        "colab": {
          "base_uri": "https://localhost:8080/"
        },
        "id": "1q4vWTL-56kL",
        "outputId": "05ae6262-2398-4f59-f2d4-3b36cb4896bb"
      },
      "execution_count": null,
      "outputs": [
        {
          "output_type": "stream",
          "name": "stdout",
          "text": [
            "Episode 100\tAverage Score: -168.92\n",
            "Episode 200\tAverage Score: -112.55\n",
            "Episode 300\tAverage Score: -32.44\n",
            "Episode 400\tAverage Score: 70.39\n",
            "Episode 500\tAverage Score: 164.18\n",
            "Episode 600\tAverage Score: 142.66\n",
            "Episode 700\tAverage Score: 156.91\n",
            "Episode 800\tAverage Score: 162.22\n",
            "Episode 900\tAverage Score: 176.59\n",
            "Episode 963\tAverage Score: 201.44\n",
            "Environment solved in 863 episodes!\tAverage Score: 201.44\n"
          ]
        }
      ]
    },
    {
      "cell_type": "code",
      "source": [
        "def play_game(agent, render):\n",
        "    done = False\n",
        "    state = env.reset()\n",
        "    reward_total = 0\n",
        "\n",
        "    while not done:\n",
        "        state_t = torch.from_numpy(state).float().unsqueeze(0).to(device)\n",
        "        action = agent.policy_net(state_t).max(1)[1].view(1, 1)\n",
        "        \n",
        "        state, reward, done, _ = env.step(action.item())\n",
        "        reward_total += reward\n",
        "        \n",
        "        if render: env.render()\n",
        "        \n",
        "    \n",
        "    if render:\n",
        "        env.close()\n",
        "        show_video()\n",
        "    \n",
        "    print(f'reward = {reward_total}')\n",
        "\n",
        "\n",
        "def show_video():\n",
        "  mp4list = glob.glob('video/*.mp4')\n",
        "  if len(mp4list) > 0:\n",
        "    mp4 = mp4list[0]\n",
        "    video = io.open(mp4, 'r+b').read()\n",
        "    encoded = base64.b64encode(video)\n",
        "    ipythondisplay.display(HTML(data='''<video alt=\"test\" autoplay \n",
        "                loop controls style=\"height: 400px;\">\n",
        "                <source src=\"data:video/mp4;base64,{0}\" type=\"video/mp4\" />\n",
        "             </video>'''.format(encoded.decode('ascii'))))\n",
        "  else: \n",
        "    print(\"Could not find video\")\n",
        "    \n",
        "\n",
        "def wrap_env(env):\n",
        "  env = Monitor(env, './video', force=True)\n",
        "  return env"
      ],
      "metadata": {
        "id": "0tJRcYz27Z9D"
      },
      "execution_count": null,
      "outputs": []
    },
    {
      "cell_type": "code",
      "source": [
        "\n",
        "display = Display(visible=0, size=(1400, 900))\n",
        "display.start()\n",
        "env = wrap_env(gym.make('LunarLander-v2'))\n",
        "play_game(agent, render=True)"
      ],
      "metadata": {
        "id": "ru47l5BgoS9M",
        "outputId": "abf13c0d-0c80-4e01-f31f-7a7b5f2c650f",
        "colab": {
          "base_uri": "https://localhost:8080/",
          "height": 439
        }
      },
      "execution_count": null,
      "outputs": [
        {
          "output_type": "display_data",
          "data": {
            "text/plain": [
              "<IPython.core.display.HTML object>"
            ],
            "text/html": [
              "<video alt=\"test\" autoplay \n",
              "                loop controls style=\"height: 400px;\">\n",
              "                <source src=\"data:video/mp4;base64,AAAAIGZ0eXBpc29tAAACAGlzb21pc28yYXZjMW1wNDEAAAAIZnJlZQAA8wNtZGF0AAACrgYF//+q3EXpvebZSLeWLNgg2SPu73gyNjQgLSBjb3JlIDE1MiByMjg1NCBlOWE1OTAzIC0gSC4yNjQvTVBFRy00IEFWQyBjb2RlYyAtIENvcHlsZWZ0IDIwMDMtMjAxNyAtIGh0dHA6Ly93d3cudmlkZW9sYW4ub3JnL3gyNjQuaHRtbCAtIG9wdGlvbnM6IGNhYmFjPTEgcmVmPTMgZGVibG9jaz0xOjA6MCBhbmFseXNlPTB4MzoweDExMyBtZT1oZXggc3VibWU9NyBwc3k9MSBwc3lfcmQ9MS4wMDowLjAwIG1peGVkX3JlZj0xIG1lX3JhbmdlPTE2IGNocm9tYV9tZT0xIHRyZWxsaXM9MSA4eDhkY3Q9MSBjcW09MCBkZWFkem9uZT0yMSwxMSBmYXN0X3Bza2lwPTEgY2hyb21hX3FwX29mZnNldD0tMiB0aHJlYWRzPTMgbG9va2FoZWFkX3RocmVhZHM9MSBzbGljZWRfdGhyZWFkcz0wIG5yPTAgZGVjaW1hdGU9MSBpbnRlcmxhY2VkPTAgYmx1cmF5X2NvbXBhdD0wIGNvbnN0cmFpbmVkX2ludHJhPTAgYmZyYW1lcz0zIGJfcHlyYW1pZD0yIGJfYWRhcHQ9MSBiX2JpYXM9MCBkaXJlY3Q9MSB3ZWlnaHRiPTEgb3Blbl9nb3A9MCB3ZWlnaHRwPTIga2V5aW50PTI1MCBrZXlpbnRfbWluPTI1IHNjZW5lY3V0PTQwIGludHJhX3JlZnJlc2g9MCByY19sb29rYWhlYWQ9NDAgcmM9Y3JmIG1idHJlZT0xIGNyZj0yMy4wIHFjb21wPTAuNjAgcXBtaW49MCBxcG1heD02OSBxcHN0ZXA9NCBpcF9yYXRpbz0xLjQwIGFxPTE6MS4wMACAAAAGDWWIhAAz//727L4FNhTIUJcRLMXaSnA+KqSAgHc02r/BFAXaAIPfqcu8zCWfr51hNPrhSb+OlCLzkD1Cx5Tohuf/ZkFK4x54jlQggRONEXPH+kfGUmz4TkVWGyOiECGBhjYSyjl5XHfaPXG3Dp1XP/NjpwfT/6d+R6X1foo3y4uDHjSMq8a8cZEWJv4eaBv/WotGLkOde0O5jbLy4ZUxn4EaUk7XF4HT0a9zB8lwN9ypP0KwufEwZBUC6S2oT8KFJ+O/T2d+MUM56NJUVR3GUyHcfduaa8CA0gAAAwAABXE5nf9daaSJV7nYIx1AAF9EG6NMHaGFGOHMI4PYbw5RukOLoDeAXffYTk10J2n9Oug/0/qdBjr7talcTG5Me4djszIxiv0MN7QAICCEbPxwajqPesNrigOsePhtR8eAPrOkKk/A6VsO96ibBP8R6oF6v8CYLMw1Jb8HO6onrPIn2llTHQfAtLtlbzyTh/kb6ISOfgd0GC5lyGdBKv0JXeLzCY+MUO1Eu1Vc4320bRTlRrjQ+pQu6BxvCMamudvHrSsNKtkshSPKhM/0jp0um2QV+9VoyHSrN8lFq14Ra/togPPEymcYmW4hL91extfUsLbyKa1B2TNL5pkFTm5E/A7U1z+bU3zQVmvCaqzasR6EbNyieuY4MtGnqjYM5GRz2IWzsTh+HwDdbF69e4u4vXOA2ZKhx6wHDYp+PYf/xAMazyt1g10JPea3R7QkYnwXbqctbdOjpLolYOUIyzwCqzX6H3kQOK4FmErG3+hL1I8z08XzHAGI/3RYvJq+Lm4TF/A4AaA8GjRaq/nN++ZzAP4xIraVXK5T3db+plHpenampEHGRLJSgFyLakdNru8y/16kn5mdPvPAIauKcTK0QJkbTWcsB0SosAkzt/73qTroCzZFwavz/1Lxdcw93EUcTzHr8rpVX6Vdx7cSq7bObEe+WQFik7AeTAx4qYVJ7IOes7vq/nCtSSVWN2oqw3mbfUxFrgH1AxsjBbm5/KdAThNq3KCeNK6xvuNfGehEU4sS7ELQy6Ck7oOVr831semHdiORkvmAUGciXHEsUZK82tN6BLJXZF42L6fJ0PCgjiNQloa8LaTrK6TLIRbFXe4GrmJTZlGIkXOuNwhURbqpkMmPdt+LYrDOwd8VB2VdbKvgbt/5vxdjfFyE8xQ9v8gHECGfWXNDjm5g0hx+zL7l5fqcNHwEpJwGUiXjSluVA+rclx+oz50POGeogWpBasgSW5e41FF4fzZQaMIK6Fx9xCwA2HxiA1sLyOAmehL4pXIGiv1QxkGNezghCGVxn4uC+dLm73qtJ3PoNvp+hmdyQ/HhfFRCFihMfS/LaB9teSdrnA3EXp9mB5aX/8V5Z/6SGZpyDz3w5OXq/zOesr5Xkr75VQbLiZIlRQKYCX1CrWVw+Y6B/HDn0SxWXxey4IZeNoYQdxtkxpyt10qfTJWZB4G/7FoP5ZSeOsAV99EvN3mRai+YE9n0I8V6Ctb5bdzZ+SwGtzI9totqZh1E8+fwL36eJYxYyCK/sl+ydaHW6D72Zbe7qO/6/hdi0yDFcmlb6W3rBYArqXAkAo+AFiMATKGoap9MLZ1M8d8rP9hcBbyB0okddi/ioLyGEaxzCmZHkMf//9yQmxLX8er8BBG4aqmoWlHQxEhixHsVuS0PefwW8nEd9Eu2mapICYON4beGiktZVtAx2PK6+tPRli7jqA1A6DaZD4yDlecZNjZPtHAYz/++ebISU7GNtqRMtwSGf3nvpsaWSi/PBGUSC/IsOYnT+g1x+bVEIe5OBUJuN4nYYrRaCh5Pb4d5/76scO4P8dVoB12zuW865c+6Qqp6l8O//oj8XJ6Fn3Z2tX0ZjJXDXh+Cs5mVZsb3pJOSWAZHRUA/Sy6fBzMxFYIAlZCgP3v//fsyJrAVzVnoKUi0rrmcP56ZsDcnt/SBoSBTP38XjMtLYxkD16d0KAAAEOG7rYbHTn8RrgbxqOkwBrA+6SzGB4uGKG39+4lUXYew7EojWuvdWLvpObpEACQiNOKJUDOf64AAAAMDVAAiIAZEAYEAAADFQZokbEM//p4t2OIpvF+a4AF6kGZxYzVn6KR/uO1sok0sV5H8jgSXDJtEauk9rMLqo7EkAAAH/D/g/oEb9qmXLCrpKVx1TNrcOZVNKTobxukCWsl5K8Whx1FjvO2IaVm9Grr9lT4jum/7j480kMpWC9QQs385foI0fkP745hPrkQzsnmu8yxhymcfDfdecOZIbEtW48LbfoGOB4xKys9LJnhWybx1Cbjd97UuBFavo2VF6t9c16kkOutPi3jssg6faUhEGGAAAABRQZ5CeIR/D2iJahTstSPagBtYQWt7mzE+59UDLFQbDOKP9/QrNlhLlxZ9gA58jINAS9vAGuQ2MB3lrWlFlU8DSGKigZLSfTlhN7ROwwt6P/F3AAAASgGeYXRH/xUFaHTPLOs+XAC3i+wkgkvd25ORmjaHIwZ3xUNc/PnGgA8rFd5saX74jvyf2aDd7IvY6dxtLpJRxXXvH6p/B0vIombMAAAAPQGeY2pH/xT86U+LPPve0MB/c3FblEDEZPYE9KcAI6IASKkMJZuFhEwGYuwJBf6CCf7zpHYWThZdq0xx+ekAAAB9QZpoSahBaJlMCF///ozGpl+99DwyeMPgY9RkhlJ8OAd7YdwkczwACY/HSheQ4KAGRTRHY+Z2w/ZSUh2entb5eAAABIMbTttSqb08MLVn6fn7w0HNsDAEwWC4qk+2Dez8hfZIFTbm7O+ebsAgmazsc+hSxdR+G5Mv0p9//YEAAABJQZ6GRREsI/8OCj7D4AmFo46B34WaXS6Ri2XIAN/Ut6GF/mu2d21dAA0vwwxo0Dtl39CmookYZF+2LXNUjvOFFu6U229bm+AQcQAAADsBnqV0R/8TJNnPlqA1Q/C0HgAmaJSRh9PGVpqEk39O7mJHfAA+yX49Slnems+xog8n9kI7reXibcAO6QAAADUBnqdqR/8S7LwADjdgC4HAP+DaiIUf3pch0SIqAAbU2VWMcltiAw3TOmVFwEHVtYBrgTTpgAAAAJ1BmqxJqEFsmUwIX//+jL7652P16fduvr76AGzJQATIEzv8dXQOzl5wEY8OnOtz0SGI544l6bbe2D+L4GlDymLJevAkNBFC6BCI9FMwjwHcHgAAMOSfAOfilUZuEOAvWTF2rruvfE6OWe8DnW2/d1Y73a9vu2qZrjEYHBX/dFGlMI//JTxnw256q/cfnUqzN4zOHauiP219lzcl02uMAAAAQEGeykUVLCP/C9Eg1Bwy9N1f+QoNuEOJ4lCWVG0HzZC7vgpJ2Q3l7iwAWLxlxupmH7AKCAFQ7qUCLzMiQGyCA48AAAArAZ7pdEf/EVM6sLj2kkj6baQAAmR6DV4ue4hzNOpxdoAKNTC3rNG7k5CBswAAADABnutqR/8RacZnIg6V63t2ypUdpS8HLCOoqmFqAL2D8Zikp7QAUfKUvn7HA8QAYEAAAADEQZrvSahBbJlMCF///oy/YJ/P73oaELMxjdJ2y9GVAA2m+/zP8BsphCXHxEsLXks+NKRsitlvNH7zYqckfV4vbHagrNV0hcZ47906I0bZA6ptm7YFqLLBZEYgC6UJ0r1hjX8ASH2aJNyfapwAAAosT9HFG18S9th10L2/kUXVkp1xeO57mu1iCIVHbVecekgmNOtv73vu2qZ8z+NdxQGG4UMLJA1rshF2Id6fa8fxPiaQiEISPxZGKQ8f1CcFHJJfWtzceQAAAFVBnw1FFSwj/wx9PUaO+aS8GSZutIAHkw5m4DL//GtG/GXUnQtm08yV7llgFA5V2bV/9KK6pUTDmWHoN4dsBH5x4cADYboEmNAGOwTYaMI/QL2KgPaBAAAAOAGfLmpH/xFFU5/YJF54jhJa/co5sSmK6kZyNX+HRV2sAIX+vK3M4z0HABYb1x5nKwcX5n9IwAJfAAAAw0GbMkmoQWyZTAhf//6MuZUNSxxjgA3skDjgYTnhmmL869y2EsbGGzf8PEiKHiguVW5ygmVXkcc31b/e7EbT48evJ6cy2NukRPqkJTrtKvwjqA7kbC1xedBc6ZT5nYCpSLcFIAACvHXqGy8OEla1VBZpef9tQ42utbHa5U4wxNy85kVsGR6PsvxMO1iAd3C67e/hWb3u2qOd1WQe4zDIjXix5dBuDBx2msGfnGr1XwFp7LiVhfH2sMbFyw7dFqWy+Z2vgAAAAGdBn1BFFSwj/wtUOkeP+iERABNN6W2THkpShKQuPu9GJgfS+zMMsZKWZPmmDI/nmKaCq9UuxR54MR43ipG8lQ33VmxeP80O3+kslNCnpV0zTd6EupAA0gynj80zbAL9o7V1CGOfaFTAAAAAPQGfcWpH/xAV0m2G4ALeUXp6MIInGS1gXIhnzXxtiqUXWetnJnTriUuSkDlviYB6AChyjv3fq8jinnXANmEAAADPQZt1SahBbJlMCF///oy6pN/oogrGIgMAId5I7B1KU07Vkiahb0d5336fN8EjLURFXGHgAl4f7Niq+h/v1KhxDjiUoeatWIqSBOA/N7eT2ehTH8T0lEPQkJ7bk2XHsAAAD27K4O0FUscNotah530mleYyAeCTpduoMdVn97/n7bBWkwrbWYXcVyodQg1fcpEJYKdNCsD94FoCx3s7xqI497tqjIC+OzJdLmF9I05/KjD4G2YZ7XquEbsT6YOkYkRH9VKoGmVmGu2Zo5mKN1t4AAAATEGfk0UVLCP/C4h2zd/DkAVs7nFXvgSae9tA3L2tf1HoX3vPhacdpfevaIvQqL12vkh6hAABJgreGt04MKNOTyN7aK76KF+uh2NjhZQAAAA+AZ+0akf/EAih3W1N7otWQ6pHHSOXs68AG6xVu4wepM4OJ85DepLUHKU5BGybQABWDp4WxFkHg3mkD6kgakEAAAEzQZu4SahBbJlMCF///oy/W0xL12rYAIhqUtT58uWXGfmu0Mvwffhe3snIwB8dVOf1CfP5V5m+Geu95wzCP4cuSuWu7smbGyhUoLljst8pb3VC3975UoxWuM27WsUYuUmJg4ang1CiHarXVbLvsPVAa8LbYTr5OnCZxgACd8biWkRaQi9Ny72rB4n3j6/fcIVk6An6UbUsEVpXQDYH7IgxmLEyspXGlhZr2YG8I7FrplLyFhLNc3CE0bc1GT7b89tU0rHwaM3yjbtKHSHkA8MUQjISVfzAswp2G0md3FIs2onWAz98UsDpKYKy3eRkEk7vGVopftGcUfp/BUttFXjwK9EEM1ubwQ29CUvkAAreovoH1xPXXJPTO/6zhNQWQod2m64c94omYj31p7r0QchJnPdgaAAAAH5Bn9ZFFSwj/wv4jKoGAK4aWVUmNw6cXRNLOifPf0y+LyljD/SeNWG65Z8PIOOWe6kUooy/JT5jHOpYmWha6hHIKeVkvTDIEKs64tJHKphZZ05UkQqeIbsZkM/gBMrBkdHPAob+NDFX5j2Zw62RSKeAA70f+OWcn7wHv0QJBF0AAACtAZ/3akf/EZtBY7AkgBVqeso5J7wPxw28J7DRmg3buiZGyRknXmW2d19cPFznxDUnQimMCGDJnY3pdAK+rfSDFaX8tp4b4+6SiN+x/o4lyCtka45ul9IyEOTACd71/1yOJ3mhPaC95V57RsZejtfAVQODiUM/6YnRwUvkA983uTQ5issOwRBpDP9nc3hzsP7DNp7UkGDaFP49Ss0hTFucJtqDNOgEqcTSjhvgu4EAAAFgQZv7SahBbJlMCF///oy/W0+DWUawAlq2I6+V9he1YPf1Zf4iMT3LMXY60m1a4/JatW4iA1FxkFR+XxYZC9XPZGr61YxYOVZ1yffvRqv9fuIeA2naGcoQ0p2QAFIOCiqhRFSI8qPJPT9lFtAXtFdNZ47TBOFx2F97ht9JbWD+57h2CCo4bGLRTEte3aEskp0PUvK4907S4TRUCJJu7amZ+mLziv5I6LT3d0Mrnmn+IP4nS7qxIw6UQee5YVkbuXvW77sZMyWtrmrRZF1Qmv2PEZz641AeDbqoPQuvR7TA7nFtlsNHXPcd11XdM95TsaPjr/l4ywATsRpEL0PqyeBJTz4wtwBztyZHWMjO7kEjBBZpNGYoXviP+FubXY8V8QHjgr8bkhCLiND8ERRsFViyStX7VPfpE+3JmZkvdQ3efQgR0tZAuedsMDCEa7KvMfeYrQ3PfzGcUhhLjWHku4fhWwAAALBBnhlFFSwj/wysQfnuF3qj/iWLACa5qi/HR/HZu3emjZAFPutfPYddQDxuTE7LqofWx4CtqpZM7Ci5Z8Oo8Cg6Xg7vaEvJHYj2AtOEHhn17UdNpkF8lBXpFj6bQmEte/cXl2I6hqc2PbgWbRuIv7Rrt9+7+mariWESRL6qFgl12sGjhbmCqi63xBMuH9cfNVOWeQ/4LnUBUxJk7KABElJc95KJDeaLmDlzOli1jNjPgQAAALABnjpqR/8Rm0EAh0wcRvABaH0pqqzxktmM13xzI0og+YnU/zTQlOnqqcrsAGdZbahYrUYVX7FoR+QoPGP507XQqM21tP0EsL+S6ZSHlyXNGXHbkh+kGDBbxuVwJlT92K4bYgEOM3jOkl5VO8fvz9TtUJdfOtkvhyz+EVj2QuCepTe7aZdtiTMvwXwPYR33YF2/4FBOz5WgDoy1IAfSoYbeYcJqLSRlT60ljrLUSWAEPAAAAO9Bmj5JqEFsmUwIZ//+nhwwCuD+DjsAgA43rfvDv67bRcPGv5OZZSp8gz/SBSvc8sYB6ukKK3xFVDYxPiZ5Vxs+0nIBNjNfuKE4Hkh9qxpRFoGRH5zw8Jqf9T/t3g1qJuR/6D1lq5E6mB8uuAmH0PcfT3bwppQZRnHp0fbnqGArUJfR33epeJ/dI5seC4OYvnx7FFGFzmw20JExuUz6EuPk+b8jRW1LG0ixPHjofFsb6nqNKPoPcvULgmnXPeFcDr6wwtlEiGyhoyKsHHr2PpAW49Wz2Vgqeu46TK3hsyQlOVeb65bwNJeABM28YNrLpwAAALFBnlxFFSwj/wyVRY/wA90mlSAEtTaUSLzQ86rUWi3GJUUIT8wYp+Z8Nj/4jGTWdFRAAOwGbxVlLR8zttSSYwS18wi1+w7DKBGj5zdmeKbnNIUXaW9vzMbuNMdf51nvbGw63ci4MWSdH83HLJNQL574n7mr0Ib6PmcOHaS6JXql11kyXG3PpMLlq4p743mv7VJHSjb1dCXuqPkrUZVuhIK7wKDkTZscugnRw27tYTFIQZUAAACtAZ59akf/EBtBAIVGTowAcYKyKiIvgLE/RlUiWZWnHPpEIDX8957Lghj9y8eqqn8ZgFLE3+Ib4bNW9zYfqpobE9pNcfZdbFBGWc7XYmPVOsb7r8BzEWqS+iFVS/LWvd2SyNdL8sx45uXhH2NFHr8H/afYDu+pWCOOsPxedLQFEmt9pfyw+DUDIWT06J7rqa1DnVrC+7DMxtedr1k5PC1vmK2Ap+O8coR/7HUARcAAAAFBQZpiSahBbJlMCGf//p4Ya42Y6AHMx+s8+I2jLAZoDPZgs/4nIUq4Ba+s7JB5xivbnfcbHaDGP4yfMhcrrrwAYi1Jy2grb8OihQWqrUlN85otdNT92Grut+yIDSoUiL1oYg48x68MdHBGHsaevJrVNDU6LdLcq31dbrxIF2Xsh3539q6AIGyLotEhn2jrzMPmVgtf59QDxn2gFzZ/i9F1/8F1ffH9y4ZWr1/lfSv+i8HmoA7kTQIuLOyIwCPXjotx1NQLF+3kyN8F+PxuclLdPgRyGI+qq11XTYA51u3j7lbUkALzN1EalsGp1ts9c4LZtop193UkTfGP3mR+Zyhyrh7wtUK/M3Ov4YP92kjosmxjSeDj22ETAnWjW5O2zPL7o6LyBFxD1Y9jE7vyR5oxj/aIBUm/vbcp8Dd46f/gAAFDAAAA8EGegEUVLCP/C3coo6kCk0WKHwIRyRKsymikAJbHX/KMqRsmgB6Hm6DLNNmKfHOc74x2bJ6I1OqvOEfzbucZ/AEMPiD+PnSO3+8BLPXS56M4MvtQ2YHtyI6D3+BPzN2DPq2QgL65gT7h7/L+n8gwxFPbi4bLbfit48Zu7ZvEhns80/xXrHaqn9ZbEEs+ubfxkCm2rmfOQCwxC3Qqh6iCVna8RRXm0EfagvVvRmMNaxOEsocBLvpUDiezAZ1XOZOGbW0M1gpYA5qBCW/gtUbQ9ASagejUT8J1C24ROrdAq0gyJOW0x7nvT6ff6Rdgk8qpgQAAAIYBnr90R/8P/WlsWERjY7TIEprbEOWqK/8B2IfACWpp4qFL57EkthjRbJed2xe6yW3DiLrI+altsCQpEqG3Q/OMj0AhzBID1c5LhjwwtOFVZY2GT8FwCmMD7Q3vX9f5r+TVFzF05hPot0L5XhD1PV2p64eIJbQSoevp4pHlaxWpIHIbeIArYAAAAK0BnqFqR/8MxlXw7kA7Bb/p+wnro1mAFtHE3UDH/FZtgWPE5FPGfwaATU8I4Kon+KNl/j9uHrm66i5Hnf34Wu/9I9vNqub1MgBWTXnShdvbMiXAVpXcTTDEmMWrjznCVP9sCcQM8p6W5wgECELxHm4vEJUE/TflZBsjW+ZQL29FWenaidM53ZEQQ6X5kC/HBYBgplsWHYXBn4K5l6ObU8yQnNwNA/Q11pwkdpNkzQAAARtBmqZJqEFsmUwIZ//+nhGIdPgjPMiADLaFE9MGHByFk2oRTaqI8eS0nuJNE6/DRvmfQoki8XZsGEcfZog/BYtP6aydSeztMMLHJIwbpaNIJ1PYDSlfvMOVBCiZ7lc/gv523HoPRSBGyp9F2gDdRmineIeyie6Ftsft/TNpN3J1sqL1yIVS88KzNCArVOayxiyeJ62v7xULnFQxqxcqIBn0uY7wocpczdpS2M9wHSE/u3zXd4u2yv85YoyTwf9X8F8JpNkdvFjLJPJ7igNp+d4hh94DkDmNAer5hfu8reWgzGjxHEIOIVfxLkFmjh0J5vcPY6BVzuCqsi0DEoZqHrZnVbdNsvvvNfPjUIRBi1DsSHk0YS22UgqwAB6QAAAAwUGexEUVLCP/B/Uc8cwvHapjtSfqNeJS+9/doYO6AgrD4APrywAtEkXoStLTRdxjIx7gj9MajnmbJ11AbyXYj4Wl6wLyywY75/cuPjGFlu0yXcBO5Yzbo5NT/dDL/B6zvd7TKw+4zn6POenWfxhGr1cqzKgf02d5pgFG5UleJedyenS9bfrHtlMZFL+y5/68CAjAgh/3C3sKiBa+c/39MOIdFjSjv5HKSBxSAw2T3hbR0YFAGG9UyH8YpVxWcqzsl4EAAACUAZ7jdEf/C96nATF8AcwvIMk4O3/HemHi508ynL4dsvqkj8meCOnrpITfiMEcfeZUCFPMV+Il2w5HE7NcLE/IF+OAipv7jvXnhHAn/xB5HW92J6rrzYqOJHb4jqfdrvKrCs0kkY5Rt1TopjC5h05sEefe6RCTrU7W8hvPk/ATFxkZUzT9g6utwIXeFqQfrvx4A0ABKwAAAK8BnuVqR/8L8KW+xjhmLgciTzou4AH6Gtspdu4aqNs7Ax5GjmKO6thgJVL6RlL96OZFY34WDTvYLvEaNTnfo2+Jt5iOX8T2eprK4uHDIk7ZneOaPbbUgI0bE8l0hA+Mijn2ogkpsv2uuLGjHJW/CVaynII5rhPZ/zocLX0+1skYrb9Zkf2alW4mC7bERE1e023fAI9Y4Of56Xoa+Cbg6Me7qBEJmsC3vbZMVABDQBtRAAABKUGa6kmoQWyZTAhn//6eEYnHQI85PxzxR1Jtp7kw49PhD68ApbuFo/KzuSnN/aTqD+1y62hPIy3ucMWsgUlINDdpruNygyP0MQBxf5b1XohFq2NZbrpRg8aodhPDWfcsr/GJyF37V9PiawYowSpIniozML16U1r7yRzvA9IP1yXe712Y7iVADM3XZwHNg+eCs/lWYkt4MaIHeF63WDSe7Zf9PL4HyA+KzFhuZpM5OQpF/OVBH9wd+mhw3iWd53Opv1CGt2Nsx5gLI83kIYdGG8DYt4lXSXu3DhjWzM3I/cWbhC9hboCGrQuCvEZQOMGpYjhJzyedDUb2zqxv9KfANU3mxfVArOJ2PRmbT6fK2SBhNv4Tbru0ELcenDJg1ouc8ECeXBe0B9BdwQAAAMFBnwhFFSwj/whWA3EXIUn4Gw5vXrkmsp80Df5G4MyfpaO0lX2FAABxHK4/4j1Ru5yAxxDJ0e7WbUitXDYatEzWZYQsdejy61VgqxrdFZiwgh5PDLu7VeLmID6fi5JV/kW8JuaSR7AHWtpJ8Qdi4a4lDhL9Y4lrAm58QLPfKgVOltw6PPVa0jsEQflGA4rAcPJGOmy8QqQ43Ka+IX9n8lOiwhFP3IIB5mJGiGUkt/IqivmGoh0GQ5GGjFM2P2nZhQj4AAAAmQGfJ3RH/wveta9D4Ah5/byJ1InExetcbFLrfT2kEt+nOQzSyni5s0/L9hWpRy8d0DZxy7H8zMIKA4LNuboMA7CGcaclrLMHQD+ZeWIpsBwGKdhwLcQe8q5zjUl48OMrVVk2w63/S4HwyuvNuBqHzqbdyOCueRlZPVXE0ozkRpDNMtXr6xN6NxhQa+jwTqu99koRY/5SgugDpgAAAKEBnylqR/8L8KUV15DcUzZppJQz5YZ6ASVl/plBNpwAcOtE73l4K5+RvYlXsI5C0dvYk8y7jA/OwtoTSgSim8RntDSqB042gvqoDSmDY6E0mnDUhVHuI9S7fO8dHs+u0FBxP6wEIOz0xmZ0Mc0pIYQULQ/Mo+5/D40BiGLt/2FlmK5gAmspVzrERAOBiSsnGBhROdXhTYrLeqoPtRq7X5ABoQAAAR5Bmy5JqEFsmUwIZ//+nhAGR03pJX3FlBWwOXJ6YWwAi4iFARr8VefBrEVN/RW2oWVp0oHgj1CUAmlzXEDYjk0u3C0VdxSIa4WaFfcQFh6u6wgjaxQIkZD6Z68lCozEFk98j72tlYidqlHRPmFPg1MYH3ZHd9h7EfMatbkIYA32H7A6MpzYgARWoHyG0037OEJETRuO/GTBPKKFjsGXOEkFMqFkYaP4W8OUUMvHahY/pnL8clNXnqz3qs2LjjWGEjPctGBav+1vEGNlOR1bNTBMO0yddZAK+otIMha0Omk4p+xRTfPodQV0UYjOX7ahkGCWihADPUrOZchPavY+8CAiLNTQ6vGeixBXkHAWyvEOQHrlrkutMhw4RO5gAEjAAAAAuEGfTEUVLCP/CFYDb0MsnpI5F+cRtx3LykFgDii6CeCuzDmB7VbAC1oFpHsmmy/feKGT1IdIpuC4suAlKxgfxQCIosavOW06P5Ga3fgccI1sS+gv+EGonxopSe4prnFeoWn8DtNlMjlkPPsop+B6SzmrwuK6Hiqijb5tSnTLRB0x+Up6MtyoEJeKlfQmO0fSCqRh3AmAH8ClhPmv2bPCVW2U3mA7Ged38auqKCwNoaesXUkXuDryUVUAAADDAZ9rdEf/C96mtc6e1gAALZyKlTn8b3Cfif794bEwbWKCj3Z8HZ5ugGmKwhrMK13GXqzSCrEboIN2Nycdp/9HpfJZOlbjG/OeZDYb691pOkoM/JyEbKA2RWGL97LvHqoheobM1E1+mQnOhZDPO0PwYUSm8xAw+0UL0N1eDvKGsdD02dqxIasw0K29Gj1V+59QVRPoylWUQWtx862PrJOpAlhQsSPA+1mPku6AZzO6eNBeo1R78Iqtv7v1BcUXwQFKAAHHAAAAuAGfbWpH/wvwpbYhiuzeL/wOArFZF9JOBevQACPc4DTOYY6ZfF8uFvQp0df9d62y2isojx7dNS8cD3TgF+wSD6+Rn4KbLQTqNEC0mAvY8vdX74fHiatAjEzr+Khf4Cwm7l2Ps6zuJMHBXt/iD+lXAydrKX4AaemW2csonMfQCj1xSmTEm4xWrZMAVtCnQwIivKmy3XuLbAaFB6WNld1tgX2Aocx+mSo77kiJneYlMiQJ88UEePIwAqcAAAFHQZtySahBbJlMCGf//p4QAk3TedaMU4BOVkndrQjQA3GKwp7hATsB95lcJACF46Ht7bu1lXJAxvV5tn5hnFQZ2RjXkRP42PKAKMEqtHwWm9ZetexRTTL+IsLtwQZw1+/7nLgLE3TInaX88bi+PJeTKBqUh79xlv45e2NObCDYRb4hwJemoyi3JVIJ7u+xNl2Ut11WcC2Xx/Tb3QOoOwnHKQzkEtYECcifBFOqFO2PMwE39QmYvvb0jEiP1Sz4GRO08m36PsxMqz/+i9FH19g+5DoW7lfet1gykduM/txMVz0EdhRj0vRSfl8V05YIhys3zpRDURFieEb86YI+yZXDnIOaJwm15nKo9/UtPSlAOZ8mjLcE1i3OnEr96CLHhUhqVAXL2l2BMm/ug6tfGrkwYiOae214go33Ws33WkUSIcYI/tcUCBExAAAAnUGfkEUVLCP/CFYDbjEnfRjHjQY+wFMGwA3Ov+TjvsAN0+A6lE1PR0zecmctp5A4riGadjaY0q/QyYZvnHxDjozS2Gm5VJ6WXNedFsskB1CCKZBVIHbRWft8nwXuydXaOY6Ce3DZ77qZrdCabY7b6HDF4nNQim5DqNrKhj+BFh98i/kkKT9Aofpiqkrbez1grFSC65wzsmhsw4ouLKAAAACYAZ+vdEf/C96mq86eTbs/IzAgrKN0T43wwdWfjhDxLIXfwfSAH2OvE55mjtRXx+11hphVgyQmLjA4HI4mOImT0AQ9wV47hm+4IKvV7DJEWphcG5yG00zCHBxJeAxAubM4L7mlmDOl29xedi4XJRU5tmfN+cNOR2SCaGUbislX57lAMU1uFusS/luzsGAzrAlgB8FJ68gKAZ8AAACpAZ+xakf/C/CltiGL/Ndio9RpRg6RrFr5veiQaPQALDeOjLrDt/AVb/xtTzBf4fkbn0jls/PlAnZ1vR7TPPFf8Ny4JfTP/nQw3oTsNpM3+P5ercSMYPKr362aLoetWi9J7ys+k4L1Q9NOeVfoFlxBLQWXKUwvuHozk6ZCIZvUL5IbPCgJo1TGU+lZhWLzftESW9m4VW7AbRApkTPQnwZHPee2CBfSJC4EfQAAAUlBm7ZJqEFsmUwIX//+jLACQ9N6a76kilZ6tczABCBPKN/DdW2AUlx+j2PCKgKNUckKNmkikZvGcxqwENKFnhZVo5S+gSf+WAozy9VKNe9Sgxq3lERLtKFI7A3jzk88JJsz1VeRGr7UF0smCCEnsOkZWfueeglKbeM4Msn8UhTZpH4Pt62JrDpDy88v9MmYJidY7KDYB25N63ewWA28+fiJ8eZj6nL66ubGINelTy1MHAr3USkvsvC8bdS+h0qHLfTAhL9ObB/MJ1u4I+ILfBdIRRPPkz6jePfsjpBNjmycins23dKYITTss0E/qcZh7qt6+cCyon8Gsi8xLHlrFd9eLOhOEZG1Gh7dvKgSa9iqhebBe50Kz+TWwTeldGlXLW30y+IQM1WuHkXkv+dz1pVbpLNZmtJO2taLpS+4uHPwYHiZrdIGwuQFtAAAALxBn9RFFSwj/whWA24xJ10SqyAEIwcGDVW52kG7KA4RmMD/p4tqovHEr2j80MTP3QS4wQ4bP7h+mBu4W9Qq4PfrZ3tzX8FFWywiDaOl0GNO6KVLUtKaqcFjs6oJ6YhBQrb67y+Z2LbwJ76ANfzytpfZ/uXiJb80+YndjcNXXIy6LSc7OSx9Z5b0TA5mWfg13V9G9FJVPrHHpRwUvXCZjmwM7hiwLjZ5XyO5gPmIXEMg+EaWcs+LtHdO61mhiwAAAKUBn/N0R/8L3qarzpkVAmtOOABHpBsIlyBemJM9PeNGD6ePZ6G4v/hjd0Zc5M4Putt1AU6rPvUVHxzX+ZK0fEN6zI5GP6L016V0H6KTRGRiaTd3qG7S9xcY0qhiRXdco3vyl/YX1sSIQrnDb+sZwof1NjOSNGTwyHwRWBka1HXE6pLnX0urv6Vk2pwNrDcV86Duv78qBszpKJ10P9GdzEYV2+2AGBEAAACtAZ/1akf/C/CltiGJvJvUsp27pYYAOLBoMi9buKfaGzeHrA1/j5WvoGPBi6ovsD454s6wRKrLlWgeycNRZN01huMQQV5NO+rbD+xGFtZx3WoAzCOoJpY+tsdeLU7/wkXlSEGPmhd65wJpMvlO1DVu2GAYVbH9ddkaT7ljz3JQh4F5EPzwcbTpNRLDj2QkEMt2LR1eYrJ1AAzBBgYQ/jMPYVDgXB2chx43ikwADUgAAAE3QZv6SahBbJlMCF///oywAN9wnQYRu2EV0fQBEgvq2GnK/GKEYh81hrii0I9CvXOxL/ljMCgzr+okpWXRX0RsHf+nWcc+2js84/V8mZmAQKT6aMkW2EDRC/OtB4Vr0CywQ4XPm3w23E+LRCMrnFQagYpHXUq3LXY1D51rVXgNsEEj7KGNK2jYIdTCdfWm6SfgHT1CXbPcaWfcrBOGXltndlmz2qCkpTNi+rx+3u4DVppg6NPVBKSlHdKcIjMzgPXBgXCV19gm7qFzOcaSYPWdXUXiB3y6UrLfulUGczD/gNCFK5EsWXXpxv6vIABV57AdiF8PAMcZQPXnPUKHg6ykeOp8+HJWKTvFuKrPprjsbQ7mPZC5k18ZI/2cZt4WrC/suvmlqirsbPzT6XqPH0zyJzXswG2ACbkAAADHQZ4YRRUsI/8IVgNuMSUTDVe2Gq07O87SgAbQ4RwdxkMwrvX2Qy4Z/aUj+lm7UNDl6gAtrl3yBsEPLpSb5alpNBgQggX/t6uf0SvbKcciBbzMaIZmDAvF8nrdq2cGB+Dp4lPh2vRsYsoel1tnmXMMW2IIi8OBafhNjxxkufsoGPYeKEPdaw/r1Jk62IKk3rpuxE0UlRysYNQ8Hf2Elu9O0JFAwT99gEwMByPlGy07rUNF5PrXRWAHn2T7Xht/Jmgm8PKfduSGLQAAAKYBnjd0R/8L3qarzmGlz4kM4KOvFsdHhNgAjHj9ly1cVizlC/JN1Ii8n6cTlv78TCnYbz/GqWRcNmpMFd9NAlG8pff7VI/3bDYER0eYvnSq4GDQV6cYCCHMf8gtyGOnX9g4Sts7uxIXXLEr3sbdeKLn1YXD4pudz0JJFsi3n6y5BBIUYxjBQKWIbGiOGbvGiREgA69xEt4ty8twAdLtoOhEudL7oBgQAAAAjgGeOWpH/wvwpbYhdfPKHsQijnA+TEYvhOE1y8BtACaN/HFEmDANg+Bv+iWtDtECaExghlqkmGYgsnxO2SAF8mTaEE2PyoH8v7FviAB1IXQ6BjvUK6VURSd8j5IpbV5daC6+O7x6R1HUCa8LVVeSfQrz1FDc0RH7HxkPj15itAJ6doQ5mUiyIEKkCsAAGfEAAAEbQZo8SahBbJlMFEwz//6eEADXsFKEPEvQoUIzq6AAfuxcyKD3cXDNXdhOsKmaxGEr5kef92UewMtIf0fStqhhrNgCso9YZqpdLwVlq/zldvXfP5eojErNAtMt0yDconxERsiNpZP+AmDdv2sfgT9MygaMHWvBhq13Yzahoj4KQbAKGLcbQ7RCHperqfzloYRW0S6ppeIZPPkSwq40g+D6dRtr29+Psv4aypygmBk48dByiLKfGSg0u/QMjpEu8/H7o2TCgsbnzr5w2NjdsAajebuILLT68GHlsM7b/xGn0/uT+K2jGzZ4akLl79iMk64d7nIKToo8AM/OkCDpbu0ukNvOp7JQ+d4AGgcLvR8AV7NehaRkyOJUya8MqAAAAJMBnltqR/8L+GGrH8ri58kv4zUsnLYxRrFOLF+QBthRergAlhb+L2Nuef5ikmoP1hOqxDxXT+A5NBeouFvjtWmA5I9BFgY6UxCQUz6scv+F4yDlwvtiY42rBhjeKpjrgX52lLWt/5h/g7jbJoBgWP7WsLv2i4nkKiX5a9Uqtc5qPr0LM1OjjUs9bgwlVtHA9ESGj5kAAADlQZpASeEKUmUwIZ/+nhAA2PCc74utS14AC6iiOkTsSe+py8GLJ2S+loHzgeJrdDM23fAbwHf8fF2Bd/Nvud1U4Y5KKh5WeOo8J3COb0i7+PlDJefQeErpiXppoOL1V1PjnoKO41lDFeYcVL9o0vUbt0zrEL4QK8fd1MgpPVRicW0MvoUR8VaiRaDNe2cw1oeqLoz3+jevaufBsOZdJCHSEqlm/oZoV/esMmFMTFaP49a1CON0nhcYQp8g3ug52rPIb7Z7GYyeCqS9evMdpFRR8Bt4TvfcSVtztuC+5MoW6NOXrQABqQAAAMdBnn5FNEwj/whTIyuQwIdoPWnl9vTtsb44bOFvb6uGAOYOikJJ52HpJiYXQBHqrHp6MsBJmmKnDYe3BP5Bl0ocWHBrtMxsBXsGY9aw/UNo115XeD5jKGdb4D8Loz6hFGEQubiOUdGpbLhDhde6L10oRdRZIxRObq+MMe9AOzcpDG7yHtVnQNTzeYJngM/Bha5DvXM2kyP1EtF5tIkjRHLeGgpV1F9iGMo1T1N5X32qpIqiyGGgrwNPp/sw93ayToS7HxaqQALuAAAAsAGenXRH/wvepqvOYab6Rc5N6AsAUH89iSQ01GsWL0oAF0CkMmjzkzk+f0o6K5c/b5H3Ddex2IYMCQ8mUC7yvcudgEhFYsd2V0jSyfeL/lvgP/JiMv2LkSzHRITKoV2Id3B5b768Tlq+04legS+rJrnt+IMOKgF5rDPE8u+HAIcBFkeF4ZnbpfpaCuJzL1au4lWW0WXOlX3J+pQBOlnHltjB4ABId3800dqkZjTgAK2AAAAApAGen2pH/wvwpbYhdfPIQEJT4hvGKT0bCdQ+GWXSsAJUV+6aPQZtRqPPeyavuycMMlJHjyUq2DvipNRxgxCIVwmotc1W5RbHd2kmyhUNn00E0kVCjViwj5eRZCkbp6wCF8iPnATTsm+mNdPtxH/Kt1x8EfEn3KbOXWHCdfQ7v+YNAadO4mJQutBco0rmuVsrZqRqA0onrmplH4X8v5pBoDUAAO6BAAABEEGahEmoQWiZTAhf//6MsADVcJahXVGj0K82E6f8BiXQAEyHhCF2Kz+PRkWX18Lz4/ag7XLXPWo9b6Z9K9cZiqPdKPpyaOrL9j95MsBlTc6qn1dzP/41cyHu97fFNMY0xn6EzLtQ9hud5ZkGUuOQhVuZG+ACRg5xiUPnoK6BKPrK8qJQlnyAyAHJxRHvoyFQ0ASFfY7mq742TZPkWkiA8ii2nc7KtQMXGsDs574HqNSGWKTyx4IQpQ6OurtUgcW9oGWg5/LLI3ZMu69zUx3phXtQAJ6rR1QvE543rjktq8EuUwEe1uFDcgHLzqfQ82c1MXtGJMVSMhqxx9i6vSXWKgC3hZdkkIEfiu+Z1NzwAKCAAAAA1EGeokURLCP/CFYDbjElEw1ZN+XojT0HiE+h/MHwGIAW06ytZufK7IYBMI0tLGFALIwvOx/L2hjdgkTR8vDGz75214ROZ69ecqakC8ynoyr+D4kVkWe0HKq/1MyaMCDq6YH8frErXi0UnaUkIpDCv8nSEbMB8K9eXruoRKaZC8IbmUpXYP7Dt+Ak4tFkaXUVMb3GC1TeffynrZ3FeHOnnWjH9Jo2lRuZFh4xDV1apvduLQaeTA3i13ClH35VygNSZTEakZ6G2+AxPj0R7XkWFA0XyXFtAAAAqwGewXRH/wvepqvOYabpi6OUAArYVnS7UcKwwMLgD39qSEnuSxOOaffmQ6gbwW0dcxhEFQbqiA9nJ3/qXJUWBUbnxpy2Zedk7OTpIJLrSS+ocjL/EO2nuMWPyaoa3lhRUnIkMoW/JafpGuMhkgSFFtRtTGIQvOqPK5m8bxD0nVxFoD5Oy0esgLqkMo3Jcb+fAGZIMjb9XDP/UQhbv8OXMYrLz1CGhBM/G9oCbgAAAJ8BnsNqR/8L8KW2IXXzxhnqLkI8ybZ+Lyhy2fOJuf2a8CABayWqsbl1HQsSyHYdzb1bb1WPlLDYzYERE5PxEZ7m2TPYI6hhmEdHauWkFALRFH8Ami8KyOBsXkr/IR5LN9NKa8lbwioppeBNIogOdiKp6d50xdyyHyf/nDc4d2Ka4zZArDfrCm6HHItBsG45eoNvqW8IwW3YWyNg1SAACykAAAEKQZrISahBbJlMCF///oywAFJpXje1xEqQRhvKR5T6G2lrtAA4fZLp8P/LRftwlsaWHzzmlgvpnZ7sKHhFdr4oPCPFVxbFJG8rYbXy8Rr/xNPkEVUqE2Pdf4ADkDEcq5Q2WFNmG05b+IoDRJOGOdQJ4dVtOnKC1sJASLLVhwES+Zl/NlY+mWHVD2Dy5VMTNM53H+tdYS1DqM+Kev3MpTfd5s8XwJ1uaeB+nnZmu/lCizWHvonvkl16nYVv44R0NCGWo1VzTRFCJjbQkdXj2B8Ws4VcOUL63ejetbVf+elxzOknfzO5cung5JGIIJdDy3PxJLML/kge6izil/ch60LhJ60Y3dvqmsYAEnEAAADZQZ7mRRUsI/8IVgNuMSUTDVjSxTFwHxzZf/mo+9zGZ0s8gNJzWfCyEyPmNgAXQMknNG8buVMxmKw+2ZMHH6Fff5fUPXncVNmPsG18kODChahkaPpLDC3HMF0FkiYQQTUlc7Dj9fqwAjdKfJqVk+HjFG+mwjhrDJ2QAhL26zOAtTCKP9aZyvBMDAC6++g6kk49+R6jbkxrRY7M4Kc5uh1ZOLY1ag5z9/H42v3q8ohdFff5UAFhPZl6381GlOZ5loPuZDX2aKA1JAKBps2NKvOWQEFbCF7v3jwj4QAAAIcBnwV0R/8L3qarzmGmTdUCuWSPfb4Ff1TUPoxfll0/64YAJZC/13gh5vDLH6xZ0VyvzjJjjVEIPgkGsGm455SEmcwHmUOaKjg37DHyVKW9+SrOQb56huerifGJGkKInA7cJae2QsvgQ2Qmsx29OpA6UtkyCClVnpxxyfQ7uQZUpYVbyhtyytkAAAC3AZ8Hakf/C/CltiF18595VCoDEZBQRKTAyFkIuuNJeQlkJWOV0Pu0RZ5/fRgA4vpetVU1rNicjhCobOXm+A4Wkf0NO6ISd8OjNFQx4t56/3rj+15yCYPLSl7BH8OGBj8RoAT7xzZS8hwYVatsbG+Ej6Aix9QVsrh/gS4xCSKbqtHlA9DZ1S2kBrWtx4d95hh2WR1V3IeVi/59HkuqGcRwG7zZMSusNnGigTWSNk1lrpTQTQLWZHHAAAABHUGbC0moQWyZTAhf//6MsABS/3soy6uTfWF526SavVSoAGUf3CbsE97w+DoN1Y8wHExMvv18KvcophnmSDXY28+3Ud8bLsrq+vlflM5uyu7XdnYRloik0bnL9n9D9EVdNfyNcPrOWz2XY6IJ/7q9hjJxss/fgnkCsEE0FdlxWTju8chCPSTFzK+WNsmwqgdNOjzwdzvrJGVryYSGyB3H42cIHgnPqTJZED5LPKgFj+NfNHfeEKc9fgWTqSG/PHXtAgA/m/GkFGcT05+eDREEVb/BU4mvbnClZTkjb0l+48jS5L7plKN6/VYuHtqa03zxBP9y1ETMVgo5dwFkGmOm2BRwaxtcEfg+oOM148EyivBJ39FLhrZ+Q3NG5QAcsAAAAKRBnylFFSwj/whWA24xJRMNWNLFSOyMTrSIyCVjvHNdVh0/WpBwA4MCFVKeTmvmuL5oVVtuYV0XNtGgzWLRGKKPPVHZ35hyakYLvcXxkxfYCZySO0JN79I6WrSCK6lh8OqOc+d1hxCG5KtX+FOADyG1WGbBGOMniTauJYWgNDaTok3Hn6Y3JWR0nBFdW2uB9c+G5r/qYuVjoBHF4klbBB0wVZw7ZwAAAH4Bn0pqR/8L8KW2IXXzn3lfePvg1wP6bw+EpObZtgASmeIgQAJw0YUlKo57F0jd5FxriDwJbx0X4fD0z1bjGDPr98zId0bap49RyE1Tgs6IK/b/MzGQslUBca6nhCVJs5Fa9490j6/L0+1SZ7t+PXQb5GkXS1feCKQeHWOhMWAAAADRQZtOSahBbJlMCGf//p4QAON6isbpj86/ZltoARsDLSiR/Mh//nhzN94AXjaXtzg0UpYXvQG6kyf7tD9JIIROGal+guzuTWy6cIOAHrZtYTT22WQXZ/Q2zDfqcoy32xwoxbvanovnUBY5joB25kQsgI7RA7dTySrsXOYMEqltbhmwYAwgZc+G08LxtF3Gv2gl075o5f/pZ/DaJk+bx3J6i0kwAMXR4qf2hYuQfoZ2x4+HTKSNzbrQ2fQJjfupPD3JLCGa7zmhVNDru+1muMEzh20AAACoQZ9sRRUsI/8IVgNuMSUTDNfSMITMeFuHSCLv9ksnwrtAWNkkrLWWym6UcZPTe0AA43KA9OguXpF3n/bNjBhgMMq8ceZa/14QaeEUcVxj7CiF27Kom4raFwqJImWEqZn7oDLFf5DcxkBl1ABSPsQNgs42UrCxNS+dUPnBH5uWUQRdUOwMM1filf0ssrmTZFKjCAUFPYl13Sbl7z5EdbiL6SMYzwd0ioeBAAAApwGfjWpH/wvwpbYhbleCWQf1RA9THH/oLGkXwAC6hD/vIvf04DYuuxQO51neK7zORjYA4hggWMrDQtEUxUhlAnpfO6v4sPpfCYGJgt0/LiP6ocJJ70c5HtlO/0l5dUZXb+8D8aMEiGUtPyy0psWPAbhhJlTuTpQjWuztitNxByX0zOonDmREEbl/shY0UJiZSljlwUSrvmTFSSUzQ4h1KKfVABern0NTAAABPkGbkkmoQWyZTAhn//6eEABP+ZdHomeMojyaJGTCAA3XRnp0W9hYYWcn5P932t1SWCDlGlJzx+lSCF7EtujDYZfKk827cVJ8Huu+1zZ2ITycmeDuFtpI26n0syA50NOwag/CoFxI9GJYcBmb8YUBOWO/uSaq8pgqf0OrB9eIaxggXhGj9LDoG/KU3sQjSOrercAW0JKC7ND+6G4yjUlyB3UIh0w9foitgbVgFgMpN1aXCLZEHluYL9eN/Wo9aSI6D6TAc2jBjNrUdOrFhaONRh1K/O5D1G83zmtUrifxtD/dpCvZAf+fQbHTw4xpi/ey+wEn++RDQoPZ5VzZrNTHdNTErgBX/OpyLfNfF/TweWwiGNHWJMwHa4zs+l9llTOm8NpHQpmMXlidKw1qlDStrHARjwuFeUdxRi1i6yFWUQAAALdBn7BFFSwj/whWA24xJRLqnsX5awzmwDQAd7E1vh5o3UlhKy+5zVWCH3prH9FA3xmWTBRbH5eSuEbx3hB3Wnx1s95UR7uk1VY/xz8UQmGsgJf7b03gv6ogwR/0KmW6LpCcWunzmfzzfGaAeriDD4rotrr3avULyErWtNtkuol7HbtSB7W1kzgM+8JbY+aFznWb5XVszscMtjYXZzElBC85eBUrCnB8nasw0fjXRzEIUUEz+WhACrgAAACqAZ/PdEf/C96mq85Mi5rR+UkYFdswG3nbsmzACgB7+dgW0729H+a6rR0aolSeFt+tvNbwcJvk0MgBTWTlV+i9nsEmRl0oFdOg8JSAOfhSCqZ8owzZoTP1lIxk5BqPQiOkfRrghgAqFDc5oaN3QnEw/yoGDfc/rJHUazSDo7jB2gRozivB7/ZQz55L/k75jLhWCsw2Tb5WOb9e2JWUZ3G0YWQ1lVnoATEA44AAAAC8AZ/Rakf/C/CltiFuV4AM+mu1ACt87KmPZb/CyD5klEweQKyyiyDgtKXjotG/ie0Yg97epXw/zU/ETKa6pbIKjPi2XLuOHbUPfRsLSV3fFz9sNbFNYmGvvUDllxh6e+Xnjrqp3MHIL0B/DaqzXq7lmefe7B6rDZlYJvqHG+Txz21uzgG53h/3YPfL65HXKT7J47Tc3/YY0NdJjSmSg3WtvjoEUtE6L1aiP7hKIDiF8Ug9YO5qGGWlulhALuEAAAFLQZvWSahBbJlMCGf//p4QAB5VWipRkAEJqfypIUyR4i8qEcgm7/L2kNtzuX6gipziCFOXHMeeIE1jMUrwNfOLdrb8gwl63Ex4NoKxZC3fea6nlslR4is9TwyWVEB0fA0CsyUYaWB+zQx6HbkV4rpLTzFrB28xhcEUzDDrEtPB6AwKOZamK2zz1XQNGY9bE1GSkzk3adQSO+Mn/JveZqAXWxkDnJ5MEZD0JjzAe8UU6j3viSxE+naVJrNHynpAvMpNZ4u50jE7MWWtr1oO8S3XrUHq+RQFg2oCxWQjrEDgvVwBcDtVoZYvDlV+b51YmJmbFnPXq6wu4fzWvh5JxVhhrKEshc7N0ML1VhLUIhDmNx2scF/cDfonYLj4ZAA3cCUhOY5cYGbzAU51quBgGP2DGFvgencCpLcPPi88GkWkj0zwHvhxI2NIFZn13AAAAM9Bn/RFFSwj/whWA24xJRLqnqOMzTLCgF6gK2MLABc2/seE65NY+0LONPxsWzkafe7s7v6PVZq6Q6HXWsFLi9l6qXLobcmT94yZjhUvKQX+s71iODbP+q/2vkVWfiZ4ri/pKJ4Mlqaxo8epMSn65Tn+cFylSO3lWSaY+IZUs1SMGQAgMoHLC3zRnTePZlp9gSjwz7iAzCKtG5p4SIxotUstMi2OecuEEXqSOHeRPFPT5BJwP4PlvMJlINKd7HvzzT3QSbgelw0mqGj7pijOihgAAACkAZ4TdEf/C96mq85Mi1QGC1M7KXDWMBo65JAlJo5b1e0sZgxCQE18fDAAlWSi5Z9z3lg0axSGDjHRtDtfXzFbmBCCpA4uLM2OLQl35oTlN5rJTEVJFWQa5iuMv2M2WqMqkvHO52dLf2sRoUt1f5ylqAb4TscBlcZvDuW+TFVrsWJ2FalXGXIGdCLVNMJ/T0S55tD5tNTf3D490wjdYaDDImcQDPkAAACBAZ4Vakf/C/CltiFuV2zlDtM1Ngo14d0VykWNTqIrQAtuzfARmxKJlEO0DuY9n+VfEsLsP7mId409OZiP4alDIP/ODCuDqkgyFP8Dxj53CUtKKjqXOwYPU3xc8BFVf11adhj/N+K92MkkRSPP5pj0MOqHaEXhfOa+8tuF2xyCUAJuAAABXUGaGkmoQWyZTAhn//6eEAAeVTEPSNIAYvGjqZyptsxW6aO4f12u91LXnefeCsWrw9/yB5N4NUzSNQw5RZ/PmHZ5h+jfzb6EMbHsfgKsnhZkD0kbJm17I7TSZSl/OyzxOCdQhbBQlxucW3VwKvFBIbe+zMgnLUmkpE1iyZDaKX3eSjFyoyPEbrWo7i7C/FoFchEmiapPlawNR0LMaIfDyfD2jd30vmM7hZeH+r1UG9aTkaUDww80KhP4I074H5uO/7n5CLuDrd9lW/yzEmV+ZQ/MNsi4Xk12FedF1dzShQI/KSAqgXHlekwaYrNqR3K1dzxj4D6VvJ1I/UPXW7A9Vi/1dTR06HW0I6ldtZ4+fNoTbmem675VdXbChyENLrX88YCcpJfvmpdzqlp5tKla51pUZarqWmEh3Pem2AYTMkBVUx/KrC621S3Ao2UQNVnFRdtAExSmAPDo56YZWL0AAADGQZ44RRUsI/8IVgNuMSUS6p69VTYAQeRF/FPjDdFyFRGmBhsx/AdfNpCaY4ydQcPUOYsh1F8utKIcHf2lCgkLNKDNjMpQ3BbFyc5FD3ZH04P8IErgYnpuhR4adXfkiK9+Zzs/l3RXUVIYeyVLIG/MS35AXK+YYtzIxE0yhnMW13VND+kqKn2g7Vq/1I4xRY9+aknmEPJskDSKG3yGJ1sxmOQf4xvFQs5hPW0vwIjCpJg4X33Yno+18N2i5zM+6nTUxvRm1w9JAAAAlAGeV3RH/wvepqvOTIuIuJunyhVrAOiowiO1e/UkI9GAC0HhZomu4TExT9QpsSSVt6NrwuNZRhgyZujieXPc1La330QQrV0r1oDKC4jSzg/Wrvxoa3Mt7KvHri+GqByAy/eU5OmewjyKXvkbANQEng1O5o2A3s9helNEFMDgXhH3qvqFabWZ5TEZcdqKbu13wtAU2YAAAACoAZ5Zakf/C/CltiFuV3ypTk44Pj4iCV1VZIZbnsAC6PGsP5C5LJwFNnDIuhWwkp70WSY/sdzVPq5DzREt3YuMLre+t9+dgkH8/jdTCi8h7xsll8Soc6IQqbtPlh1qJAFkbsSGPK8VgXmdCpXg7NTmqNh7H5mmYUzdb0zJJWQYknAru42AjLdcGEDH0/01NXwK5ITVq2L+M+ho/PXaR1BPOHmOuSgJiASdAAABBkGaXkmoQWyZTAhn//6eEAAefhLa4RUl2gcrPwrP4GushyZLaosEesaCNokkyE2ww2hRAIhiYU1H09cI6H/2j15HXG3T/qpEUbKeZm9k1C4b4JmT9mmTv2g3qSQDNxssd6quSthweEWVbtHhLTYShrx8R5hoB7iAMmnV1Do+T2oot08qq1ksdqsbiqarESJ9/91Ccw8J5T714fm5mst9odPexfgTRLdC5bMFFfsq97lWhtoq7SdMhalRwMK24T/jGZ8gKY9rubS1GOCrAoiqAqTsMekm4Y+DoFxEIRYMR0tLdcfhp5nqqAU3nN20RNtkYNMdwgalDeC2u8ZSzmtB2ibiobhF8sAAAADQQZ58RRUsI/8IVgNuMSUS6p6jjI8ZtC+3vMJzzFITgOy4AHBqk9CVpaaLuMdEomTYyP2SK4Uv05DxrIJ6NeN48j2kRf6EoLAY4q9tXoLuXKPLiantXK4Stgvq3o/VWsytzmBOcK6Hy34wCvU8sYGZ5ghywcyp79Q5DpZt3SsibkgqLuCJImF0+U7Onmc1qpmm/jiaWtyiH/YR6mcEczyU8laY0NbLKEApIL4bnOhvSvlP2aq9ltPWWf20kNPNcc72VWAENgKbcxReoVCH1q2y2wAAAJkBnpt0R/8L3qarzkyLVAVHloVX4oV/cr9G6AxZAAR1L2GyTaCh1zp7v6Duw9ZRyT3gfjht4T2GjNBu3dG07l3xlyryfO6vVljmytSWlyBMZlz3jX4QfFX8IbUhtjbljwDC2S9RRHsBXB6EeisR3SWleQzxi/4/aDxczshfbqyNaRO1anHoG/iCxKze/CzoNAYSc8KrKfSAK2EAAACMAZ6dakf/C/CltiFuV2zk30PGiicoJ4P4+PW8u3OvxIac8tbGgAE4mWJ6twJ1mVSKbLvkCFbHTJlnLJv75i+jozkEZ+xj5q33QJJ3rEkyLWDMZYCViuqjG1sD6Ued6cz45FmFOXH5CCwaVNHZio11GGEsaWbbcV4/2CW0geRqT076IegD5gyue9YARcAAAAEVQZqCSahBbJlMCGf//p4QAAurvX2jUYGwALjJGMKn/fC3lK6HuA/Jpij8/izIL6Zr0rpzhek/MaTrttIAADssnGnp0ZSVx/HesIt9WG+lBVKpSWSEOluCg/HsoSPPhR2qRiirLSzdmLKmytsm8ypkyVk6cgc87kJ10rKodZH6A5iXM7k387pQU7HuIv/977QswcNjXS0t6G0jmwTH+pdr1WQcFRA5dzds2ck6AW+YxpOKVWMc+S8skMo9HsW9u3rFrndW2ISkpPGQLFOfbssQeobkiVsbbwAgISVL2vnyW6P8k4da2LBzT8YNTt4+NC0nS+eR7nfirwvZ6wnDfqZmDsurD+/7L/BvmBi/i8e1UJPE2yAkYAAAALBBnqBFFSwj/whWA24xJRLqnqOMj4gIy7fwwaLsgf1qAPZdxS73IkALcG7/5Ri1C+pwdSgUHWLj/O0SkqVqMjvpovzTJP0H0wWiHaCpkw24Kdc3/H1PXjuVhHEnKoRsSaVUZHVeCnuXjhFXlVIb9KqUSLnhYA5Rzb/tj5taBPTILncditAfMca/BRyZw2wm2ra1UAIe0CmFxtZv7luJWhSzWnfbnZPMso9nNLv948x6QQAAAKwBnt90R/8L3qarzkyLVAVKAPRx1fb4mWY5eAMEAE7F2rHjS8Rel4ibWuSoFg4m45/FIQF90yrrdCkYkwvbteGc6m48DDMAXlXlvJ7FyLeIkxBW8wXs4QjdnmArpqGbozmb4mUr0wxQAsnUCXyBWSDxDrH4urBmjPGFrAVseAZwtBqnl9WgbCPYCdtK4kNmW+zXnlX6Unxtxm36Lc1JNh4ipr917t9vXi5RdC2gAAAAnwGewWpH/wvwpbYhblds5N+7CoqUezKCSwEktpILBqaWEAEziGLU7Q2jxAyc+Km7CET2/UHorb/HUbAj9N/T1SOTQHBu1YF+UWbav3nvRQlMuNJbWDiaV3ppWFhxuhfZTjuvifK/qyIn2+TiAU1AJFUJB+TnLBX9kwvXkBFL1tXHi9KSExtutxTJHr7Cm9DNMHneG3znVFpjHCUAufsBUwAAAQJBmsZJqEFsmUwIZ//+nhAAC52H7w9yAE1dDcVnDYc/ToTs56asDqcKbOM+eBIwOaog4sQEtEZwrYCJ9uUICSfP3BKpZWLL5bvcCgNINiZb/wCf6QXioMg7hsR+WmEbCZYDz9P88uF0DO8zBcatOzUggVhLiyj76LWoykJ6qXjQTGXDBeuxaATfj6zy7oU+BS66yKnk/lhJ3mzCrU3KLzVxxxF4fbulr4Vsc00UdWlIDNb+F4+qXuujAqfpUu0IEtduFjmgLJttRvSPg4VTehocJCLP2WXErj5UQgxRQbZPSKubWggGz/OXNER5UpwjAMr16mLwo/1azL7wK+PJWR9gAb0AAACtQZ7kRRUsI/8IVgNuMSUS6p6jjI+IAk+820fTo4xqRn6CpHBJhkAK/cKkWVFVcgMZjNQ8RNjepSiOYw73DKHh3n7METCjewWQekVc9adpHLuhGyghI3qL8mpHRknSV0VWG3VHsdj/GlwjItABOw0bClQgLbN66Vj366Y/QEAY5RiDAXl29Xl2o4NRh5Uwcwd4ODIP7xGztX3LB664vAE9nvndtjaJLHsHd524yUkAAACQAZ8DdEf/C96mq85Mi1QFSgHKoqKxVICRUGyeNlswArk+d83t5UMsoiUGxQS6wdlaZrJGzt6GeVdbvzq0rEi6+HqRru6JSBlqBj5Re89jyCH2iJNCauxZVZN3GiChxqSlnI7hkF68JBsk2aDDQQvJHUyk5qPLtnurNRRA2KLaebCIKTdL/P7qbiUyhomsnB0xAAAAlgGfBWpH/wvwpbYhblds5N+7F2+6tXNZ3C6qPm6Wer/jo4AJZEJ/3WlzGGDnk4pBUR963puo7AVs2omEnOcCzqF7ugEhrEoITpi2+dgOJ7I3gdOWZ5cBy+jKLp3EoPamT5rscSXUckJtDkPMjR3kHd7BCbWwqonZjr2sNoSrnyhKd1VK9vRPV6j+9vvgEbircpIFE30NmQAAASdBmwpJqEFsmUwIZ//+nhAAC6/0fpJhLkwo3Dr3BfSRdYPlB8QICMBvBaDLr4Wa7+bqy2FL7kMNyxDET6JK2FCsZt7EEM/BAnv1aT56MeXywQWX30X6U7Oxw+YoxluM1hLVNJ2f1zMIwSQuJSYm9pgXCsrj9NfnbCBoDK3cgHqV3NbCeaVUt3o58ptm4e9g2JK+DMthPaD4gIrOJOk4ttuyMR7TSYt0PJw43RNKPPsyLUVgFD7N9kZ1WqWGP3n2TTPzGk6D1s3qJu+EAsfA0zqVTc8kDkH2QeTidiNZnhPA/LzW7ZqRiBziLdnyrHKZMqHxwJlSZrKiIT5HzfFALJW31N67FcVqSOc94Hnim1m315AfhSsUjaQBdbmwMCfwX8o5aq2dOAEvAAAAzUGfKEUVLCP/CFYDbjElEuqeo4yPiA+Oi0rS7wAbrBwdfT9OaFL2GBdusdj0D0Br7ZCW4PoX0gkH/HLl/Lt6hwibJM7EfVZnb9nRJnZpTkasJXRIuz6v/Rr9Y+fMktE1Ca0/dMq39P7tCKA1AwDc80P7xb5tjntNi4t7/ZvQscA/rTm5XJpnjHdhbtV2WuotNYQQXLovNTuPkmigw05npAn6hDlfCt0v6mgMGFYTspfVwl208qAikoKjds88hhNr95skz2NR3SR10VCUH5AAAACnAZ9HdEf/C96mq85Mi1QFSgJUcuC9ykV/PonUAJXQPGA9YJ4j7ynZtPRLboKPP0nqGPEf0xxhmlSOczTxIwCGS6T90E90wo/VpU4O98dqxPNa9O9PJxmemR46tYPj5fir/aLlbaqhCBR3Rk7xBphyJq4o4ucPINMsROfF9wHTaMNvo5tq6TCBX+9BPkXIAyv9qsfxaHA3OqxCuEtrKEMqGsqkJ2LQXEAAAADUAZ9Jakf/C/CltiFuV2zk37sn5ofqQArfaS5q2vh4yIz82FLXGj+adILuN49Z/9gbtKDqN/6C5GK4gZCRnDnPdMfK3/c4nmnt/IWwdxiLDcAMkrgUK8TbCDa/LZ/NFvWZsgGO4VHAyUNbOsg90azVPAA+4O5rKqhOsim6m8KRMDLVFH7DN6wr3oPHfR6+YguEzqjVDECVb6Xg9Hglwco1Xa1fT/n7R3tsgpMKE2TzhHqc2Yjh4+nBzDGMbxV/1wDFBbbfYf7hYnrvDlWCium0C2/4DVkAAAECQZtOSahBbJlMCGf//p4QAAtnMulXdGS7PkoSrCyVxOeUAABdnJ0VGTdR0LE8nISMiGWBoPHKUEcXB47mOsZkh5ArMq7La7M8JxrclYJIOQ6by+nZEYuWMNPu/+3X15jfGOUxE9tMk0mJtkxvM2utjNi7BbrDNmHbYlD2Z8oR+JY9FjOVEudKkKAjikYLQXyxF0FM5TWnb0eDi094OPbyHkvpNxQyVFWeVgS9UzQ1vCJuMHm3KUbvUiCigHFgpASvRQ0497W1TccON7bV4TLTiVMGsA3BNwqPWZ370xrxmOv2nkPNT48/9Y4pfQmz+ZLvtV1Mssb00kuOrjDZZ2gtqFWwAAAAwEGfbEUVLCP/CFYDbjElEuqeo4yPh25YXUR7HC3NwoAS1PgyihE2fTv8PB5rFZyv/w6Anti5rJijRHF+Idm5r3hZiI5Vnynyts19i4xMDUV8WyxO9sKGptNCzWMPhXKvYDE5fupRI96JFBtfNuFAqkuvtZxi1GyTGSEjRCTuVqlDV9ILHcltw2v0uYhoA7M9lopZLYZczhK41dYPqSQnWKbVFKP+70RDvKJegz23Ky5mZHWSWyqFyQ0zToret4Yk4AAAAMEBn4t0R/8L3qarzkyLVAVKAohrpMaAUkvQ4GrZlTbOThzHfEFOnYN4WsHcrOVJVXvpbKZ3oHrGbEoG8yAC68+BPWg+uhEcHEVFBGX0Vvc4Wn+j2m6jls60o7+TO+lW/zDzurnCCneZeD/A3UDQNQWuxJeWKJI07H9oHLCG7PwQaiE2ELRlhEzQHe1mh+2tzVQOqxU4n8edGBKJG9hTYqNW8AG9Yhu9+Xj3ny8kwb6TLtf7HQvn4GeEbb8wcxh9S8GXAAAAvwGfjWpH/wvwpbYhblds5N+7HYC/1qKTZnAAEX/jrz2ZalYtITYghfSIfra6JPbQ8ut+a+PkaI9XPmjZbonvcC9Fw1eLv62izMEjlEHv6QyDtfZ9wt32mvCN9Qa+WAGKJnN9ALLrxDLQ3R4z+89CEm7+nOuMlPSiQ9hKFPskL1te8Uv+ieCEOl5Zn3H/wlz/gfTKHjdNMq4IJO3Bl49EHbgGGQlY5er7lrd3qQa2gHi1LZyfb0UcZ2mYSrUmkBJxAAABMEGbkkmoQWyZTAhn//6eEAAEe48+SIMTABzRNBWqQW7PvU4X3KkmAK1MrdIOzZvS4gAMQGjoldWfKcZITIVVxZVJwTRoiyu9TcgC4WHNfUMhaMT66fnMIJiucTG5CKglRwKSoc5vmgHOzYAB58+mwF48HFNM+PMyfhx4ytZKZjyyihs8h0CuxNG6DXwOX09lI3j/Ne0o7uP252clHdhPuurmtpFStn3iek5IT6WDCEsEr0noPCVc1kZ6wwFBbeoKWBhp1pft2M43WdwYArCeYelZHNodM5CrlFTnwAs64Pmvy8/V1hhxVHZs0mhrRBtJ8yhFl47MvrBSAdgIGRkdHOiliaOjxHQF3VS+edRTJXYMqg2nKAB11mXxiKNNAML6gi2zr+JOGq8fIae5HnJ+5BEAAAC7QZ+wRRUsI/8IVgNuMSUS6p6jjI9/Jki2I2XG9iKugj+b0YW057CbC18oAEYBKiCQXuO2IHbRoJhw2alSgtczXJVoYyiFlBsjIwtFZSfEpSC52Hgplaynd9P2uiWGuubHJ7qrgJ0ngJLgRzc+VYa9GX/WlfR+3l9GPpHq6ist9bb2AEd6GS0H82HpVhYCNpzorDDmmw+X35Bf1uBfW/0nGMMrcj7pvX0p2kxGGRtXXV88bo9B6QN1Fwa1MAAAALkBn890R/8L3qarzkyLVAVJ3lQZ+UvciFRZE3yZ/qyMAKiFudpQ21J7GBiDLoZvXGrTEMVS10XnAk5i+KtBJktx9ySEMkt8iElXUyVahyI2sZKNi7A2/p/qFACG24I5aJ4HzV3TcLZF3ysjIxIx6u4JgxTK92UURemjFyoXrSNE07Pu5P1XHdvIFOUmU/fdUCaDhIRaCwSoPo8timkkal5iIWM7gX3RT3SI0P5xMoNitkk214Ou/hBdwAAAAMQBn9FqR/8L8KW2IW5XbOTfsg/EdRQBW9L5t3X6XVD4zDigHtpYz6/IDHw1CyGohNoPfmg0X6jf/PAVGbbZSaoQFC53RnbkH58HyRaTDI8KhhT1ztkhfXK5lR7wSKoRlfrrkWTEgzysNMxUHp8I4rruuA7DGB7aewdXbU2lzp7Fgl3jgn+NoVqhNa1Yq1bUEez8Lm41GvLj99gd2jk3n3yd/WO0400kAJuX2uoaNTOMu1lxIISXmS4trbydlItnXfNVscFJAAABJUGb1kmoQWyZTAhn//6eEAAElIlyAE00qfWnhnHAWLryvyDr1hrvGAqwUIpADBp/QTDViuS6H+FH1tzrd7B9Pb/H/qH9aP5AM0QBmkBKMVP7FAgShXxiRlL1efSq0styfGy4URFIWvGfgs1S7g490BWMCJs52i9PqgzCaFjsiuJH88Punr24RhFgoOar6hpgm+yHFzI9eRyE050lFz3IasybucdGm0McUBmz3a57cnc8SaOZD1/z5hc6c+92r2PWkMnZ/tggxCJLdNWYhv96Mr8CIP2t8BENfEuUvVG6IB5CZgspXxUfIpgMTKeUOazGAPFlFYRJn1pIp78t0lPsPjihXSrn52eg2AAfwfecMMHFCNTQN5j/SOshkTa027U8psBHNDk4AAAAwEGf9EUVLCP/CFYDbjElEuqeo4yPf3+MsAFh7jom7BuzflusET0Q29q6Bmv1WwCyxcXA9LSQHhyXZKjNu7HfKaUkP0asXiffPiI1HsdGfK2cXt6K/oZfGzQqH1r7ZTml8W2nfM2Ds6Mqwf4ujKkse2mp1DoHBYU1PUizfNfLCptQXjqgEQA3XlN26xH1ph48/beJzKBR/fUjZ6AMuBWZNfptuhr9iQiZxWT9YCfpVC8QfhuUc7IDc/FKkH0ZKWADZgAAAJcBnhN0R/8L3qarzkyLVAVJaDy1QjXI6xuAER/Oet22p5T+t1JdycxqxnsxHBoiDXd4F0M7dtXoXesufYOHzVwPL/3k17BHxH9K9kB0Llb0MPXuK00VZyecWU2wx3Vz1n/Lg857DLXsPRIjDc+Fu35PPzF6PLCs1IGtZ48yQpZmYtfJSmHaT0fBgXMtVycA7zL86B5zASHhAAAApQGeFWpH/wvwpbYhblds5N+Y2iyfueLjQzlegAra88HcfvH4tl+XDODl9TIeRg4z6pfvmEC+YpZIVEA1mT5+6bThjk8VGDQffpz5MqmBfWg/FuIi74OyTU16FO5D1UihU5sd9D4jT1k4pB2xr/bLFeb6nYxHrQnYx8T8LarR0w/qUaZz8mWeRTu+s13Ynaq64cBZp0ck5kNLU3vY0rw9a01lgKivgAAAAQpBmhpJqEFsmUwIZ//+nhAABJvixdp/D//+nzLndxbzmkfQAkzorZC1yKFwQc+Cuwny20xFsQx2iigW1ab5XiowAQ//rUzO40eZr1G6iv76uEixByvZY2TUavQOze9JTlFAZEE1jMkvB1U1UrUujkCSljoi8zs+gNbhEhWorZTtlq7sTyNeM5zm3fFYRcAA0S484suQ5DM96mC6ySe0Ddy5HhP+NHIkGBpoC1rKQSRYlvI8Ji6m3n8sAYQRUXL8Y2LzHW4Tp6eLOq5HIsLslPP4vprsOYrBkYpi8plckYcGFlyF9rnzCVPazx/zUMak0+ZYBTpB30K4SAtuYxTKYlm11P0tBi5xDzULgQAAALdBnjhFFSwj/whWA24xJRLqnqOMj39QgPqHwz4rbAC5nb7oX7oUIL7spy4A5g6KQknnYLhHWwh2IEJ7B2yG6oUeUt7Ri2VBmpuZjbyZ792IMmhTM/1K6c+eC9sRH+Yg0rpB6HBu4Gj3VAis6m/zTIfVI90CAb5xN3980d2T00O81w6PFb/6gTZ7cd0hwgpzudXIa9CxEpNiLyOy0okG7M9XY08kAzDvO5ahZt0EoKgsxS7T0uaE44EAAADAAZ5XdEf/C96mq85Mi1QFSd+NGUAmvaTIqjoMwDZV77+x4Bvy1oZRY6Qtr1nc3+xXyxjg0VvdHmuK2d3D4CIpikdtJ+VTYofuoY+FO6EoHvPCRKMoaJacHMkNENTs5JSY0dBwrv7EcJzZgK4Wt9xSoJrspLR5WYxfK2CyVKB4xCsWPi6v8RDfytcnbcTYkpfeomoanPk30DnBuAbxkMJ2Won985ff/NnKm208rTLLQLx+eSJALZ3HdNtZlevDgJGAAAAAmQGeWWpH/wvwpbYhblds5N+uaBwzSbR+sVazbEQrH4gALD07qADM26NnR8J9e6jaBy/Hd3Leyc5znKaEZGyuM0AMPjuMCnEMkTkasI9i6qq4PhzEqvKK2vJbyr6opKYCsQVsrbj1yIf21Ot3wfWVWJMzhaQNreH+cOkTN5WslQ7ZYzuSoaHsa7eAmTC/6tYDOn1yk5yXBbgBJwAAARVBml5JqEFsmUwIZ//+nhAAAbAAm6J2ncp+g0SzuPB7Y/yDvLOIAMtpbwgTqhPdBB6cJajeLSiOYaUxI59HwaLUH5C18A6SPUxGWyj+fh1meCahK+d5/mWYMgLEEeV5mjak0UI4x0AoohMkQH02Gpnfb/uPRz6zGAAIysd2irB6y0TNG368jO23Va5po3PGbHOlHRdswKYlt5QatuGZgv1mjlfdRwAep3dBXs6QTtj1MFmE+MnKsd507f065fwWeKUdE2xhFX2qlqMOMj2JLLsbHvHr0JG/hzhCf5Ug1y5xYqbNFs77KTmT37YejNEdj88eDHTm9yKAP6r6SdQZWDbVaqyt9M3oskW6HNJsndTQ99BDDBNwAAAAjUGefEUVLCP/CFYDbjElEuqeo4yPfnJ/gGYdQQ2AFpuVSy1GdMzN3nekcyHUnQHD7PY6hhbv77toK29HSoKoN5BuEgxMQbqKvORMHcvCNqNi1+fR4Uon2txNvaKAI3ROxovHUf9RYsRNJD9HqrfbaARSnFwiIxnvfRbDmoAUK5doJTTdTXXSQjoo1wwrYQAAAKQBnpt0R/8L3qarzkyLVAVJz+7ZFLWmAAP3MC8P/Av3qsic0H16hDpuCueeEfWL6qYAz60a/mfIv1kWAqxXs8Au/vHw888aC+1rm6PkN/UgxPkHbWDaMgPQOtIDvjuGxFMIvtaGV58eyTJB6wsh4i9FMoR99KUm2uaCaStWVICaLc7WFUjZ0H9K1s4xIcESCtCeUJe87EAL3WTGHr+DlIWu8uQBlQAAAMQBnp1qR/8L8KW2IW5XbOTfroXHsI5sYo8ARIAvWs1L/8J65QGH/CqMZTL60OQMY54RNbjx7A96QYebclNEGqaKCbbNHWRJDAnjOeDnUKk/SyOIv9zl+njgq9fw4YHJbxc/OMZT74lWeqiRrD9FCBBJ1NHfK+tIT2tXrk+1+FF3L1GICpLbFH8u0AP2IAEQEqxcKDUqxzzK478YYhL7qvciBFaNK9oeyfVe24jBwdpzy1rrNpatrWqz8jgskPLNpX+rVAHTAAAA8EGagkmoQWyZTAhn//6eEAABr2BVnSFP01J+xwATrS4Wgzgfau6m8qGqfxfxs6+mOMjjf+1bqucimDafH5/JD6M5oL5/cmbJFMf5e4DO8d2T5aggQigriB2ahs2CWG12GYVkkCz5ldKa11zXisgGtLM8iPOZK6BW/RjYjOaIqRKv6OBN/X5DJnr2s1dymaSAXJCHIMfFKspI4mfrWQP2F1e9oS8wGSKxI9QN8LT/cqoL7dsAhTl+LdKXJgxV17qh1uHCR/LB7//ghpkcxO312RMZJIN8XJFBFL/FTEt0VE4jzmBJoJEFK9e/r1/CTbCkgAAAAL1BnqBFFSwj/whWA24xJRLqnqOMj35yf58I2ADjd42gAJVITIJaWcHL8+f9dukeI5oBmB/ChiYYAfbYvbvbwuOGoc7L85nFQQVvJ4kCRY13nJhc6zStSCzVjvJFq/ITTOhlMaAARgAH+VEGmQIGO1hq57hesp/MniFr1sN7p+TMh38pJPHddMPmDM4IF6f+KsrSl1cHFNBruFpY0bAbePDHBHMiuyPrc1kKyOolAtrmPPGOJTw9OJYvMNk6sWEAAAC8AZ7fdEf/C96mq85Mi1QFSc/u9H2/tKoTGmrCBceWRgCPdMoLnIjyy5FbTazFLa2H/sNCAfGRxXwaYFCrQl+NRiyazzVZhyMbD4QNftXd+Hkr/BYyVl/u/uyg9hBxLgvu1FmNH0k5EO71XGYsMVTWP0q78yTZV+n/f7n14yIfQHpfrm9WQ1osAqmKgPRgRcccT70aF6dgZJcQT0fh5feW1XoqooGCcaXNbWAbrxi5ghNLiSRqs1LKo2XNQZ8AAAC5AZ7Bakf/C/CltiFuV2zk3657auAAcoUlC3lmG07Job/QAMgk5pBTVWT7w1NzKah9k0SBcqJB30arCAq6M5+4eL6VRY/RtR/qrCPyTAaRsACJWkIELG/Y2sZH+BBGyqB6eGNphCaC/SaqaW8qS8hA7fSG7pFB2ioBZRKunJ97R4t6GfsrkwTreRKsHONCOi28A466OQ3GKnrcxr9675dAK/+LQq6CnFRouEeSvEt6RiRsV4MiBq5FDKkAAAEjQZrGSahBbJlMCGf//p4QAAGx4To9A45+884Zp1Db2oGKZAB9POvCWtnsCessiwgggRRtBgDekHOlecCqU26gl0o0iA9oBCVn3Tcmd0/s79RXTsKySgqfz4W5SBvpVXbMXWyK43meCuU4MQRJ+LoBhi1HT6RA34Mf3mZQUQVTrNK0hhZo2+3XRupxTmOa3qYe+RMMLzpQlEyy+LkzEq4v/KAkFA9vleIP6348F3ks4agMCAMg7vqne6dLR2yAYhr2Qu6B7DdoBgmGjtMnxxGCfXNcxRt+zxu0CNttcsXS/p8v6DHjQgU7TCf3x9vR3SQkkAPnWnMO63S4u94MpMyBHPaBxzmJAmak2sy/P7BUbvXmrdqSAv0r9GwfvMZMn/Gb1BNwAAAAuUGe5EUVLCP/CFYDbjElEuqeo4yPfnJ/9KJ0DzYAOK9TjBmYgE6wVpzF3g8CLPhYhA3ePsiFK8ZSZ05qI4i/XdmCjKtlUiSWmeymGD8KlYtJ/AsEYt5GeycDBKaNOog+zxQZy4O0EjsvuNk+T8e3sBGRJ1QJHYD2ShzseOi9z/Em156S1ywIyraQy98srB2YXdzD0CcqPQAgtHmOYYDcV/xlmULT2DMoLZHt0NebxcR9Pw1PBRu4AO6BAAAAxAGfA3RH/wvepqvOTItUBUnQLsuw1ACJAFeW2r92BAVPLKU8mz4MdxoV0QdnFqgeHhSH4knzAAbwUQgAZYby4rVgMa7e9vKem++C0sZf1brfnKVQ0eFQ3BTgTvY7aeithOaUAddAEHv5OFw+Lh6vG7dXTSv0KmDvYyecyyxAhwYkuKo14ig+hsJAXvu4qY6D/hmpngP/Pr4lCC3GwDY/EQYTVHEBC6ZQAt12519Gklcb8XTRxH1ougwtAK8nEeEo6H3Mga0AAACzAZ8Fakf/C/CltiFuV2zk366twHAFrJaqxuXZhZHjpu1ff4zfcuPlLBXWO1ntjvwudfShHelAxVgvpY1qG9AN+loXRUAmz0da78x6Hj6jW/63uxd7LzDCQzaKEFWzqQtOdU2ubxPbRhalIJ67sgWRGaOHG0LYiAiRifXh6FTOL2gbG7NRLe0gAiEwMCavLTEiJhoa72SX3S5FgAcCbn0YpO/oeLmz5l46DqYwgJiXEOcwAb0AAAEhQZsKSahBbJlMCGf//p4QAAGx4TpKBxf2mgAcLHJTAYW16i6sMo+d5cerglleqYdwmL1DkVjG5ZDHUSpi2oX+cYsgzPKLWt2zNNENwB0MIfaNdC971zhPJiyasrmlHBKOLevdCY2tqUN/1UTFgCOAWe3QdYfkEmZG9ZE0f2xTHbUo+WDbHeMeIowOvi6plCL7by2IankrV3D6Ll6YLEFp9Yrx6G+pPDh8PsHiTaHyt0Xf64sTgloFpjuEwFrTUlpU7LSxRI3o+MYkBn60zUhlofs+VUe46fD93axwEUv9ekpQ+uLVH7h/0zMGY4aVBV9it2+/OUYLepCwZCsSQAYdRY5ocyapfmlQ2OvcUTIw1/MHb4hhTKTNAV4cUn2SsrzCkwAAALtBnyhFFSwj/whWA24xJRLqnqOMj35ygGwKF4KCALWniKHqlLxEUgBNXUlhEog+ul+u/XHRCfNFRk/pJo8sTgZ5hRQlh+mdv9BOk2EXTRsGhottjUIhYsJyBs5NiA42Zg7L4M/XBma0KGghylycOZi1uN96UhGpG5yQO2Bjb82UyP1wi6KxiOSkU0KOiRAbysMYuJVr5h3eEiszcurWBHmsIp7aJnwN3GKIqlBHmFhYrTVFtlySvWpegp3QAAAAtwGfR3RH/wvepqvOTItUBUnPorbMHfZ+AmSCafqlVroKGuSpusn3P++hABuZf2oc7QVluxxoCxPKLtnCBi5X8kE63Psr8KFRtgv1Xjfp+bNSgW4Vo8tld79IDLEc8HNlhzcnaLzTnDxMQJvZvrnvr/4z06kHEF0a6SS9EL85uapH52o8XJI0/zEpbOUaIJH4ax7FfHXf3R5b4GVezyWH2WhDlPHDxqOY8H4ZTrr1aatxVH2LFoHPSAAAALwBn0lqR/8L8KW2IW5XbOTfrpirHsMACRHhQPoyMAFofQ4GrIw5AJWU+QxLVd6BOzbyIFBixdGLNqV5HWGZoLKcO80ROmpTFVlieC9wMa+JVS9UNlewnULxuV0Hw3lSKiuinzj6kZJthOjPe6XWRyb3VPNCch4j79CKAiiDYvFEMSjWyILzZGKoRJ3q/tmkhZHavHVpVDg/eGUNt7Gvwrmmq++fpjFyD3b2wH8gqbKm36tKvSWvcCMYkzAI+QAAAMxBm05JqEFsmUwIZ//+nhAAALZ7vWARVnbAzn+RYAGi0VZDBO8gOGnbCsDGJBTYzmfHlkQ/k+SzW6XJNYaZXxxfOkM5XlCHzFIzV8mSJTSwewGQ7GmatB/xfCY9tzvwLIn6v+afkBcFfCW/4qb0afpbM+qEcq283WZ7iK4psLtXQ52CfGjlgJNH1lp6gnyKnGxpQzwBC9DjvN9C2BI9lZ2rKntkMnkgSjg2c8OnspMJ1N1oT4XqavjHXKVU24okCxNhvPBDletiALWHlUwAAAC2QZ9sRRUsI/8IVgNuMSUS6p6jjI9+coBe6gkJ33isTq+gKeIZkPdn0ALeNdf8oxah/OhLN6Jg0cd/0gzscVkjmlVmcArxhLdfAGSqjxJ5nzsFYB65cXkuoRXw384LebFtS7UhEHttee+0zDpn8fox+pJLZv8seLRemY0B8Xeq/EoVOzpOc4EPIBJVEyqyGvx83+19Bp5iBIv7pk0VpWtJLfff33xT8EApa+7Fib80/cLmrrkWxlQAAADPAZ+LdEf/C96mq85Mi1QFSdBitEycQK/trdBQ4iuBEDMfACyOShbytGEKIAmwM7hueRApQ7HoNcl4sTJKB738n/1Qdz1rO1cGaPjDxqwHWtaWz4rm8CPzIFBGxY9stCraOqcqFjqusOgw5NXf5Jii3DdxQYFdLU/IZd/fYrFbcT5MieHH830ewjM4LqNF4ucOz7FMk7NKWyhG3fMWpEV22nGiqhFCFXms8huiMOv/PKjjvZVxnGUzcwfimb2R1bHoxoLgmj8f/rkVQAUYTAwJAAAAxAGfjWpH/wvwpbYhblds5N+umKWj1BsOYAFqbfyY6N1uobNXcJ0NkevmRQXh+vzQ0ZpRMCA+wTt7OI7mzKBueFXXP1IqQvFm/hZsB2Kw4lWeuEUXocRr7X1SdDOUqBzBbsr9YQilpsfTVDzSNfDRYc3vXCGsd9SItgvu3EnEBJVfuee3KOq03Dg6XZMnuCJNg6dDHxbu5USPWWKeHnE4M9aL4giCdHudqFAUXeij5tXT8Tsw1wXdsgfC+41YWumyDlHTAccAAADDQZuSSahBbJlMCGf//p4QAACsgoQnTn3wixz8SDa481unyeAGwDbL/KkgyzX4ha3KWAwMna4XjylCsQzjgS8ttC/98B1bTkdSLpMvhgzg3Qx4YCh3KW7LiKCjVtvb81FLPBcrpTEWulTz+1jffIzn6sYDP0+tRHbbSj+PWrEoeJYJL6Kx7zpA3efx7qYRxuMSwwgLlRSAWo3InSwHhOBEQKNzadB6+hm8BVUB5zUAFWU9WmTHbg9deyAcvq32vYAQiFFtAAAAdEGfsEUVLCP/CFYDbjElEuqeo4yPfnKAXtclV5aNcfWUgKoc0QAzDWpnZNlhzmLjzr0YjsbHCHOPPU0tI0Hh0AJDtCJ7DC2IxTtAe2smJXAnsbGh4pLIdulJ3WK2HhGsZufc8csL6s33CWhPRf8HbjTngA6YAAAA1wGfz3RH/wvepqvOTItUBUnQYqrPE4gB9js/Cy6L/IJUQsMp1SFnGhWyEJxnuXmMRIwMPLMzTKLWxu14h9D9foQrCDG7W/2KOnbE4PW7nU+8mbeAbKguYX+WZ1bZVaODD4P81DgMlIL+phPsLZFlxtSR7F+/c2dnE37jF4TdvHkxShGeybUbXvx9QpNHsS1TmxaoZRvQZxpTJ6FMJafklyOe33szGHb0HPxiSmHTo8fXy68J1+KfDy2vF+6/HGDMtWn1frNbQZDvlJ82siMtgdQDGsDnAMCAAAAAvgGf0WpH/wvwpbYhblds5N+umKWJCLh0W+uSN8ABGAqDBtRwEEN/keSm9065DFwqD+Z5MnblCo/U9E3sb2UH8wary8q/r5+Ml9nKYB2GuHWQTBYml7BTYH2MUJZIRi6VEGX1lRWJ7JmsvTOC9iBtXN0zey6ZEN+tdRe2P+U0ajKVenMoXWyBmmFdFOT2OwHnBJd/5H6StFHQt8ty6sphHWw6YiXnzsVcLQQpjEbqh1M6dCpmEBsqm8UQNJkob0EAAADkQZvWSahBbJlMCGf//p4QAACo8y6Qxmx7ChKZkvVSkpV43Y/ZXGboUDcCgA7I0Ni5JJzf3b5dsCailbq2E5Kauph/8+EvqAG4i7UFqX5aZrwhyPsQ7w6pc8mps4TQihpQVWgcSVMNWzo312BunNP+c56jY17ah47ZECThtbGZ/sCIRy397F9avJ90OK+JRLBS0q/QCASO7XBKQ/kXSxgIV8ruqNnXXD/2i67SLKBNxDeI7WjPgYZeZYOUt0Z9eolr5ikuAbrbCu1r5oQEpv2XlNj04bKJfwbjvA6uHLwCGLKoXxbQAAAAuUGf9EUVLCP/CFYDbjElEuqeo4yPfnKAXtaVnQgk8Y8J2HwAK6a9ZTXC79/HvyKILfxUIPHBCnkNiD52bjKYCRYe/f19mrx1ZBVp8tPs5I8b33XH3ntc7NGIde5vhHmkJjm2GMUtNsRghpWugtpcKvTk0XxKYTjCmWvXdAO7p44p+JboXUuny+j8iQ/8TnKuINs0nCkxglEIJp0ifH2w0d86d9ObyYLPMqqOmLX9VljF5fuDvl0ljTFgAAAAwQGeE3RH/wvepqvOTItUBUnQYpnnqiGZACg1nZPonAeEFvMQOCJCPFrQ+Tg5C1x2nbd6/llWq+nlzQwRuhtXn0sSRHpj4ULpGDusQ5qStI+ht3TAfOVvz5Bclk1jO1lQVXExOh/PDZREad948oX1/7FBDoi3OP0xNeyuTzeaG8gHkflWJqAfyn3NQBTjhrbqZrd/XHEArDB3elK0UG9E9tQBdk+c6kbnRYtF6NRqCIVKE5jOpxhHxqHtUMWs1z6YwIEAAACjAZ4Vakf/C/CltiFuV2zk366Yoj34LoARMHvMpcv/APJSI480zYJifgMa2b6P32cJ7wVejduMsIpJ734yGXeBuPZ0hZyQVxPjsz7eUX200OHiABvuKWx8PAWHMx63qgyVtMqrV9VkDNC4AeH2hWL7JvPkwPnjmWP1v3lqsIyNPMnyizhQmv/67hmzLVQ9o9hhzMUXcNY8OYKRAaxsKR6AGjAG3AAAAUFBmhpJqEFsmUwIZ//+nhAAAD9h/HACD+cLztA50G/jxm1AZiPb3DBeTGBJqpR2EWX04bLa22Ng2NuSPrx1nugJ6kUafvtelfV7jbXnEEAO6myri0XkAMS8CxSWdy5fQezQ8RB7Ou8+hN9GBCmPejvm420OqR1j/+vcS2mDwFfUGLF43/aC29t3uRuwRO8w3sioyY4cq+tf3EOEIWQJvADoMrjlat4XC672CkrXw2X3/6aLDFfUc1V2eJa1F6Wfcc+hB+bcrpUkyW4mbhApwRIleMOcBDMzyJwsKp9HpX+wZO6suKCQdN1veYssQ0xztL1+EEGVGdxo/ptYefpdyBBQlllTX6jdjCVIZRSJXkvTS2qzxYJ66N1CQB6EscLYs4G4zrhy6tst5tH2TFuM9fcg3J3sxHIpIWf865igKD3obUEAAAC1QZ44RRUsI/8IVgNuMSUS6p6jjI9+coBe1LNnfrl5ZbO4525TVJGi216RMONVWK9Oonp6nRDi91didGpQrJMQk4yP+op/ddbgBNXebY7sd9tO1FJkNCFsKYO85qDAPz+790ZnkZyk2MRjq9t+4IGoyY9cXqcp0LNFAHxlCdZC/raRPQoRnr55SW3U3tTh/p3oHvS4P7lsMO3j1R1wGHcm5kXSZDkDVUHDomScYCnsL7abjdhHwQAAAKEBnld0R/8L3qarzkyLVAVJ0GKYBA+Xpwp6CQILrQyiYwAJ0s4KEWRAFo9OfGsAeqwOtCzvoCB5p/PkqU1GdrUOtBn35AmNM9MSYRl8QXfbV8q8XoETauhr2bGjd0lxdb/H/nEF24NfY6fz4xWAmGQPdkIVaIfbJxvB9mQpumAr8Clrszsbx1v9ZiVK0Py6WEdAueFK2+7DvEveiPXyS+VGpAAAAIwBnllqR/8L8KW2IW5XbOTfrpilEwLHlZcqjAz5J4OTeN2ANpwVmUX4j4sMXEJfkRToAW0ALpftYQIm8l+Q+TBdk9yc8ZdEITgHwpr1MwQUC96Hpgy5VMvqNQ6YEWr7dgsSUecXZ/pnWS1T2zkG4EoYDDvDa4Les27yL2mvWZWnT+k/YXLf1tXD7FDUgQAAASZBml5JqEFsmUwIZ//+nhAAAKjzLpJ1dF7bR+xywwAcXadA4EcFNeKx8a3kQqxxCZCDpgwhNVV5xCmv3YpnWHKpgPmiz9IHHrXCi9pPH6K7LrCir28qUphvcw6rP7X3XfFRg0fGphsK919eFWQh5aLsZv61Na7uNxMjOkjOmpukmXSXAPVRF7dWF7AM6ioFMuLqnIQGIZLDgPBcXef+G0SAo+t1YnM3EnLDcXClGqdfHg/vO4cVvO8Rv3kW0lCN68rtLgBLhmL+6vFCCwnxo24WaXs6bOFCncwdtCm66WEiu6AkbxViBPSZiLXWLxWcyU6yeevg6SM0n1JMRl/YjeUG1F325MRn1GyBKZNBMxDWIgBV/pRgm1gSQfFzb6vWfC3OTLkou4AAAADEQZ58RRUsI/8IVgNuMSUS6p6jjI9+coBe1MR5GIzeAFs7wZXEhSruoU7Xt6fFjIYqiXemjUBdW8mVe5YdK5R7+6sfnZZfsViwfEUVOCgIHjCIrGbwEiuUgV9pb9QqZuUJkcJdW4kJFAO2jtjrztsbvS9MlXi8m30aLbW/xDCqZvNZctlNPhrDmDmzBimkOIdn5m4Qkg1mZHFWJd51dMxHIoi81hFC07Wxecs9HoLspGnEFipKhfJLLoLsm4cI4wFSDUgDjwAAALIBnpt0R/8L3qarzkyLVAVJ0GKvtwEqwftgxTjsUj870ANzMsu68Xgs/zPpHhiOPzfo/lm3bgtg5u/GAVYCsv5B86Px1kL6jAOmzDC5GEoALQPZ/ima6LgStAFd4mKIyxTXmlablY7QdD//SCch/BfrR2iNaz5tDcwbTw86P6N2ZaHnhRzWbvnXT6+E8+xvIlkDY9Ha1yQ4VSW3Ls6t844UtqIIgYbgRlbB1+3mUYQ4nizhAAAArgGenWpH/wvwpbYhblds5N+umKnhvoW77d6iJYcAC586Dj7NzwVZZg17P4NJD0n6PXsCX/YJOahTtBHv8VmINiSlkKkYGB5rqafzmhINP38JPuuajC5/OLsbwEc0WNeklmyywEUZuzlpKFan1YPuGmyfzPK4qtlbf4v0lV2URDZM6/gnain2dosdTO2cXXglb49E/BLxuENNPF0F1I0cOCavKN0SwWXqm28gc4HCvgAAARFBmoJJqEFsmUwIZ//+nhAAAD+65+DVKTABzhvPtQFOf4te/AGdzT/S9iP6oC1PWxAGHJht1RYssGA5Ra27TKbWeRmKLh91jSHwez2mhPS/GPM7t4jnr2bBfCoxjriTtNEfIyEHpBEK387jR1UJZ64noCUJ5tX4GEkQ3CCKeq/F5HmJyFNiekR0mKmJeASDKfakiwFynd9nB/BGC6Kl5dvnDmxwXxPkaHvaQAEOGsppK3YX4OTQwLv9B6U/kT1Am1lrArwlvlE4brisga0Xs8Jp82mXLqTcQ9/qDjrTZtliIVkWSVbwOg2MenRFwFYvnICNufT9ajlCE0Umh5bA2FIsvkYYmr76TPtKPJ2xbSDCTWgAAADQQZ6gRRUsI/8IVgNuMSUS6p6jjI9+coBe1MR19/Ar/rbaOAFqXu9271xLT87SiMwwl4nDotPPsAjNSAW69mh8Md1RU0K4PKUbP/XnK3aA3p5wkq9nJDei18Zji3a+Iwn2aNsqApdAk1ILY135O22PDrDR7aXJiMy8/KUWKKYxSCIUjhQrbnt0jtv0QdRix1vpyM4Axui7MeYUdbcaNLb1X13//JngNkmOkgrBKvztPpT0+zeluxYJz1xwsyLFFHZOtClBuwUs94E72j7Ae6i+YQAAAIgBnt90R/8L3qarzkyLVAVJ0GKYBAarMryE8rbkhSIGH18oAcemAwhYwEc9++4qlLswUcPicGg4PzWKmVO7Jgj/V8E9jegaAFRB+c4pz6jryvn2GAwjCyb8YhCdhTfcZzSQQf91wSGIwmsXnjMvjGhNTHh9MtdDoM/ISVmiEgzTP9zrhc+zmgQ8AAAAiQGewWpH/wvwpbYhblds5N+umKUTAci8rAACWQ1TQd44L3rv8hmj1I+Vr+HJy+PKmHbxkv3lslDOFKV6UKQ6XtARZvPXKN2h6+M+jPWSGGDQ6+iocNJGpBLfGXttZfwKQPLja7XbNEsZOKAzoskG21l3z/tPnc8nxzyaxgpvAPtELz10gw+6/CHhAAAA9UGaxkmoQWyZTAhn//6eEAAAP16R+ZnAAHaASGPwXjIIbtQN/6h6O+g0GOZ2tZsDYqspKzobf1u4IAFABD/AUbqxWdtoluY+3950MsY+sSlKyQefKGdzPwtA+EzzVVe636mAO87Cdyoe80LIpSUn5/jIjlUhA9YXvFaOT/mjnNQT6l92jhTXNVI7GUKww2UsF4w74sOfdkujvpNQPbFwOutpAnl+fJ7WjwNooeaNcDcGKlfeRxmTjObhd60HEjAhNn8b364Wy58R8OjrW848LA+q9lCtCrWLA529NtN1m5OzZsX+6sQe2kDgFffAZaS9aZM7UhuNAAAAmkGe5EUVLCP/CFYDbjElEuqeo4yPfnKAXtTEdTkS7b9gOOg8aQS3YwBpV1O+0OKDp/2OqAcG1n00ox4C3KvPrVJyrxA4uJkHxQtmSvhDLJlKRlyYgT+kq7SSaNHZn7prJSIpk5OQRpGezDb7P2EwNdiqm7OjiFI6Nwq6qnfrIUbaVQFqdjji/0x9HT1zlZXpNhzDMRkOotVsJmEAAACYAZ8DdEf/C96mq85Mi1QFSdBimAQOj0QIQoPACwMa0NGxfE60baJ+i9KM8KS8OLmU1vOPk9IO2ye9igG4ox9APjlxOZ4UYmUYXGkF+qTfC+AEyPjJimA0UIkvn4qBIGdbiBE5sgX3dUG+UxS0BOruRwT+i8aov4tGiMXqFT0Xa6TwcwZAHK17E5qTtM2rbfCl54qc4UR2md0AAACYAZ8Fakf/C/CltiFuV2zk366YpRMByGro267MehVPEw+AK32oMKDb5OUdKOgfix7NdarUVUS0JjCFwZxv7MowfrQfOFVbxcXp4WgCdeROwjG/9mETjl8ZfvLRkoFyeLxlvezEyj57dYbYG16kF1TAvGE0wO5Y35jZ/T47YOjtPFbLZarki32Zb2LiRnpKVYeQ7YLs4DkAN6EAAAEZQZsKSahBbJlMCGf//p4QAAA/vsdg/HtF1eh6iNZzzR/a24uADlOKPbmtsN27+wHODRUrFP4acitVKS+XmX6rtvY3dN8A4ULEQzDUQ9n9DVKlX2ycTFaz/EQFMvo2BSQ/6pLR3ftf9oZVQBZeEzHwFKsFKHABWJw62515NesC1aXsPWVMto5EEZtl4fa899BLJt3+hBZJlUjd1IeZOpTb7CrLJSOUafxw/6MiYZT5RAK++O6BIpRyPtdgQlK+9ymw/c77esKTnLyiMoZle7reSeifG771VNtk78D8LZZrj/2dl2METtxnFtl/8olGO4Sw4P3MYsTMnsPzP51G4bWSTDL4U/ib5H4+gVQk33V4kkyHXLpVkDMkA7sAAACrQZ8oRRUsI/8IVgNuMSUS6p6jjI9+coBe1MR5QvJR5+v+RWxibyu38g1NwAS1YJA06WL8lBOeWJCzWcpXS6iiGxN/1BSz4wYwnBABCoFtF0t+2sojNWyxxq6xJTrgtTI7n6bK4v7//ulD64IPBSuLIDcL9PN8r5Yaizr8e33RB/Tr5qTX7q5oVTTEwpw8EC2pKzQxJ9c695/97JPmcXrRDsHKfoDNXG2Y+RMCAAAAvAGfR3RH/wvepqvOTItUBUnQYpgEEDbs9/zHUsAAR0brYiiD6IJuyEQYksmq0lfln1P51TW1L2vd0HqII4V9KOpgJismn8PGGh53RvqGxq5dnH+zah8NVg/jijtaq3uLdobbQQyXRjAVYAegBZ5e7Yed53zK50Z1nIh6qsjy/vnesCVFe+KPxmDUCpHESY+gByehjNOB3w/pZClwV0b52Ud0jwgP9XkxMv+D7N2JcwPn/cgqYCPTnARwOCXgAAAAnwGfSWpH/wvwpbYhblds5N+umKUTArNXv+01H5O0+PwA1uSzxIU0gsS1aeR9Rmocuo5PYt/k0Njg9jE9rpwA4GFZoO4vPpyx4eB3nrityd0mnkVtw4jtwTgaz8tW7+/ahOmuHxjIOfCHQJacnweG3OKFD8OIxyPBlhSq+9qmVTsMmdyH0QqXywx/8qDbAlJIGNFi9WbQ1YNqNkk1SRSUDQAAAQxBm05JqEFsmUwIZ//+nhAAABkbggcADrRta1Td9f83kwmYWt/38QWn3Mc5fWvtktBzTwhTYW23UnzjN7eSJzU2pyS/SX2POYhJgh8VxINpr1dzOEEQ955dl6k62zjcExsI14leF6vm++skUMyeCSrszxi4iKadrUcJ+hZG7GhZ8RQXMb9YxNMhHdK20Iz7oDRBuapgLFMzmnepBH/Su/FGFt3OrZ57ad1O2YjRW00Nl1/MMcSszBRu78C3PXb2NK1mjvZuGzCWzIoA7TTEOZv3KZJFaJ2L3tMneq0t1QXhStYF6uNQ1Ox8yJoA5hskhiN9FwPoK5qdlbhHdKZjQO7oP7mg7eDKZ1VwQv6YAAAApUGfbEUVLCP/CFYDbjElEuqeo4yPfnKAXtTEeCvYEyFnyd+ORhSDaNZpQNAB6uFzsYj1aqT/MYeL1qux56RChi4Ydun+HLlLsqzHcYrgS2XCFaUvuxqVRtOjzWZyveiV+cx9XblECHLpxfYz0Q8UPnITmQ1Nuv9SJ4qR+9iHP+dgZVH1izzQ9O3Qn3wOpy+5PSQwiCVY4LEUN0GE1tMbuHz9K/pKmAAAAKsBn4t0R/8L3qarzkyLVAVJ0GKYBA+TNG3SdD9IENkn1VmZ0JNRcDTidyLncAFsvguhBtKfnkpu0E52YxqvXn/pHF0nzi51zHi3UPCMsPVvdgSl4cmRIAfZFHDwlSxHvoLtSXMkT2q9xJC/IhoQupOvDjfngWWm2aJqleK/FTqV/i0e4yGURHoER5Zkwf+X2scSWpQ3+zuWtmmMgvqXuVDS8m6R002wvp3kArcAAACsAZ+Nakf/C/CltiFuV2zk366YpRMCxLwaJHstddeBNI4B6K6eGKFzoALoANc92WDu1gWeiCljfxDBOPiYDw+H0uhf1ZJoAuZsuKj3iqapWnqWoIHai9fwOq8cLuP/Luc14XazAu3fP/ybPZHwI+n5A6meFkSnSMt/UEwbgcvoC8/G+I1Dh1xv2BhxZQTMTwznxRQdtx/ItHij/j6nOwWTJFGbefbEKgT7RAABvwAAATZBm5JJqEFsmUwIZ//+nhAAABkaUdRSQl+VEWwotjsKeiLwYYRhXh5s55yMClQkFXuC1VkyKe/bsDr58uSx6+6NBsKtNQL3mWJipVAIVyNlRfIR0K18tPJ81UMipRtsyiUjSTkBwZjyNCpwRkSmK/20FExilF93CDUunu4D2oo0LKQ2cdxrUQdin5yThHnmZQ5IMVFNolKux9YMv098MhplONsWrprfRsgArxf6bu0JZ9Dk61eQb4hABxKsu2FEl77s2Y10Wm9Apj3ekgf5OcfEb0T/Xnrm4Juq5RaQ1cfsl87pToLxlu3eksfyaGyMm/mTtpb9xa+iWGXPkOGuvatFUHMOa0uYN9KS2+1+/r8Dw0aSM66JR2y80r5t5PHiFoikM626dtLDzQzW5yzB9lgog0yGdsoJAAAAqkGfsEUVLCP/CFYDbjElEuqeo4yPfnKAXtTEeFHP7VNIvXlIAa3GSr8jjHJf9u+wijsY0TBySzvoeMeg63b2Trdsi0o8EJrKNJok9iJPxkxquPgkLKc+NNKB2yn8awDZopHJLuDyUxmqRjxkzW0+x6BpzxSx96J+xKnLg8Y4+ZUNUDBpmntBpUmvM0ECie5+tRPEkTAib4ZKjB3Dvv4EhHBndnjPJZSdMFR8AAAAqAGfz3RH/wvepqvOTItUBUnQYpgED3mHBfKCoHctAARkXocDVnkZB1+hUosxrf+4NIRI9lkjfxE5tY/S7Iq7l19YwYZC8wtXEb03A4jT/G3l6JRqF16FgPQB3z1i2NADSwH1UJMdVsNkzzcbJGAxMIshINw67wDJEVrnx1InxquZ5GZLD4PRVWvSwlOzT5HN6fSlzP+TaAjoI7P2aybR/VqlJvEFaCi7gAAAAJMBn9FqR/8L8KW2IW5XbOTfrpilEwLBSppXaKgJR9k3zo70FKvYgSEdusAC4G7iPAArhsJiLthpporbGYKm+tNluHx0fmgTTZ9eJXctWr3NPyaveA4NJumEAqFNfnfysj0Ny0XvWCaGy3AmGw60Co5EbxFyGV+Y4C8KNV8RLnCLA6WsORDSSVcX8xAsTPeahOhvBJ0AAAEBQZvWSahBbJlMCGf//p4QAAAZPXPzqWTJoAA60ZqA3dkcnDYQue5oaiu6uQ/oOEjU1ev5BV1jkJgM2/1F6C12XAPpji3BDENuayi5rSjoAlANz3Sh60gbkD/wVZ028hHUaGeJQjoYHk7l2WBc7sg1vgg7xkfZ5kzEGTIuIgrCkc7nSX0sxF8xHFxqoA9AB4TnKKEA3TxSe6SXyTxTjP6eMCqwWIRm8jzZ5YAbt//lUhTQprnTdEPPDjQAatEJjvsKeXRgYiwwF6sSWAAeIHAWNqqT8U/RmU8edWGjX4Yd8Q5p4/FwkJ2jj1HZ1JftBjPZNMKaG5lkwR0zCrB3Vo4YTMAAAADFQZ/0RRUsI/8IVgNuMSUS6p6jjI9+coBe1MR4UVGGb4AhHeYqy52JOqXpmvtqZ8BPmGkDanAduU1IfRincO0WnBlCWD9olTQx6rsMf/ZWHP3HWDOL5NFBsyPjHlp9Z8ApDOt6IboJZZXNcxkYZ6ZRdbBKf4pKd6R9cvZBkFOdfRFm8CfWIFepQuJ8cu7tABoTeva3iemT3NnIU4GUa8/faenp3UTxELzqw5IzOFupVOm61OxHphV33vLkudtPOwxo0ry1XcAAAACUAZ4TdEf/C96mq85Mi1QFSdBimAQPdyGyzN1P0AEySY428auPJywshaUoAvMGGsoi1Rxl92BNh26V+Uc+F9QVNBpQhsDjpGhfN3Lqz3QRPGSOcasBXfhehb4GKq36aIo5kGXvTQxPiqrS8V9pCt2RhkoMZ9h1qxrl6uA1H+mIz6dioFPPSrU/hJhmzlQKm0wH2/FWwQAAAKYBnhVqR/8L8KW2IW5XbOTfrpilEwLBH73VQAALgtGOhB36mBN2cwvqB2gv/5emCg/RVkbWvNAmYsYNODPEaSlOlYRrflfRJGGfM8kuJwZJzHHhYOeCPBlKsfiR52loYk/nnZCVK4BQM5zMM+erpIqSJyRa5Tsi29pVEBi9nXMtTfSR/PwVEwfzpAICfZTd8IHYtDQ5Tbyww9QOU2D/YJeBXxIcYCNgAAABFkGaGkmoQWyZTAhn//6eEAAAGT9ZxRVmm/llFe/fagPourSvT2A0twIn6LfH8tXknU8IAWPNc9lKek+YA50PqftTftsH5MDem9vlmvh7gYhknXTlyx84L3dlkzOhWq6yO4unqkbx7+3OprgMBcfnPr4v0F53VxtB2UECX2yayQg7OPnd996nRP7gTq06t76Rd1Mv4Xm367jBQ2S8wvJic9ovSp0WqI0HE1pvnypp3B6/3FZznvERXUcp8Uj4sSclOpEN1bJzUjQMKEXAPcuXp0o1n6Ch3vXLvs2Z2l8+V3OmDE0eUkF4CA2s1szXLINhNoU35JFJZuZKmg4FFh8YE+e76Wt19GUwbMcery+zAfEaErmHKDxhAAAAw0GeOEUVLCP/CFYDbjElEuqeo4yPfnKAXtTEeFHE7VM+T1mwAONxGSglRqswN7Imo94HJsniaASBWRKS7yv5O+YQeQIEH61wmQZ3D0q3QbCBTQMjmYAmfrjkapzlmIUIOdIAujXvRhQwigOo/i+tpUzUGFMTGjxHzoM21pzbap3m4gynr3lkKKEvQ6TLxNxu/VFQx9j2VTwbYBtdluZ+4xSwICWl8wnOuWPTe4k3GFUfFlwNNq9nqEMrGBxpNDiiE9AIOQAAAKQBnld0R/8L3qarzkyLVAVJ0GKYBA95WVWV8t5AA/ddQgTgMRuBvWDz/oheqIbrAMlwQ/FgxpoervHyET1uj7DYL2cp7oMa7/WSD8g352pE+Wt2am/hjb+D4IH0Ik6acsSZJNa57Bp9Y591DW3DFxDIlf076aRQHRzCtrv418r/+PMpEY8+RWDBj+gYOzPNteSJAGSnh4kVugzhB2KZS3fOIanFlAAAAKQBnllqR/8L8KW2IW5XbOTfrpilEwLBSKfIbahlwACJMPLGSbhSkrKaQ8ub80GsqSMedXcfepDyVRNh1D8myQgo/AVKgrhuH8xbiqHSY3YgXuS06EXRp1VqqAbBgjeaiUGv2lXVdn3pWyPOiJW3rApFktFxN+khT6Os8gSyNQ2cpL3y7lcCjkZ+MOeEjcp94x/e5l4FsCJk/DwvSHj+1IOrAiAW0QAAAPdBml5JqEFsmUwIZ//+nhAAABieE6Qxl83cYLa4G5gBdQXDENStfrIpA8dEnv1SWO7Ta4IvlDAV92Ij5xMaBOvt6s7psoZx6hSuJZla2nnrlHdETd18R/k6HhPx0q5bKAKfBtlTBcNtizNR0+4vRU6mNkxTEmfsjAQNmahu6Mge9NgeBpQUY3Ereo0dPc3psZ/OBUR2oNGlOzSdKSAW7ywao39+SGJm4wdgYW5ir53paqK26A3g4gF7ybsUld7yJ1ZooZUx9R3x40O+zqawUswYdVKgbEdeRWkLmTY+UcVFiQvON5bPa3eAtzuokmXse09R578KhSbgAAAAxEGefEUVLCP/CFYDbjElEuqeo4yPfnKAXtTEeFEtBKCdOd42UDqKjcQGTwLGnp4nP+XQAd3STwwzG/tVxb/9E2OLjal7fifsyzdkzZrTPg5+3QdlecaRCnz7YwrVuwo6SR1LKrHKfMbOlBgL8R0pRWtooIb/Hb+Khf0O8o13wsSlVwfRiy/7RtvmtncmdfjaF5YOnZVhtCLbHfzFp4lHAAJQi9j0BqhYa30SM3vzRb89kmLqUV/orhSg0cTTsaPUFZc0Yz8AAACGAZ6bdEf/C96mq85Mi1QFSdBimAQPdxxdJwySHCYwfmbEhjJvMN2UeaGkdZnSua+4rGrmqb3GXvu4WCp7IgBrvaq8gUI0xgc9HvH7JOc1Jn4uHaccdX0HlEhbGKlWrQ56lSMqnonm/tV58tkr4yHMRlllnhkRBr12SHfmO3FWsvsa2H3iJuEAAADFAZ6dakf/C/CltiFuV2zk366YpRMCwOrLcLyidgIjuLX4iIOj3VrUJY+qACe74JUQJv3wle3Gd9nvyKfs97QFTPRJLxfopxJFTO/xIwd1Tvzhebq6CIdUE4xlNPOx+1ypSyqLbE9kLvY+IuYoRCEpZNnOvu5pTz3N0+RCBjTk/o9yKrxhogs4ZyqvnllPqiyW/T4MgSCP//vRe42KHhzYkvwTClKOH4FzU2JpymWcJgHTVmVgUXgAAQMIP85ReFiTPyjDpHwAAAEBQZqCSahBbJlMCGf//p4QAAAJdx58PFtWgAO0PuFoMuvhue7ZN1C4vkhF+LMW0Mmx/oemzJaWLPuJzBI6HS5PSGZSVNboojjb3QADGzeZmbOxEiv+kWriQOuR3MZdftxkRh+MEjgp/rKxYfqIwEmYqEKOuaB/NRm64ZRl1b9kYuYyuKQvzvYIq32WbnWWdpXY1RgKuw6XLSZtbT2AuqeZvc7ExllSQieJfIuXVzRDzLoU+ElcG01T0VJDUwcolHPuG+XkfclBOH1OyDUwTvFdQSE0K33mBeJR8Sp8cfzrLE6vIg3fLHeEmJCoknJTVoismuMMU+2c0RafjJUcftO0OWAAAACdQZ6gRRUsI/8IVgNuMSUS6p6jjI9+coBe1MR4URsnYQ/M1+fBBqJdwZzJvluDAA2lIhToB6hmzojqbS6tGViEhnRy/EG/7v+/3QB5AETO900L1i/XA0A3GEGwfHlTZi2LD4+qDfaX8yD3+xmaoQCmo6LAdpiVb6lGnAzN4mKtpP+uvFICqaKTAd36p6buZBtkgtapqWJKN8UKl3R0wQAAALMBnt90R/8L3qarzkyLVAVJ0GKYBA929U+wv54x2Pflonm2svv9o/5bMvd4/VXwAtwTfzsC2ne7V3LGtacAZ1zWPlAOJcfNB599HSoBJYLn+FjqXs5bicfOSu/LLE5WCxGYFZB9c5VvIIC6k6Za6CesdDb7rZZnnnDyaG7YjUntfEhfpkpPipO55TNM8gCwjJ13QeHWfEEwOo6c9UfekG2KXUIOyV1i6mwTi0T2eHKhlVgXcAAAAK4BnsFqR/8L8KW2IW5XbOTfrpilEwLA6sIXbpwqZ9E16XuLrSn9zMoySlV8ANzL+2xHek18fWYozSBgMCw6tp6lU9Qhzqaz51tZY15iI9Cq7Z8zvHdmrtaZH3delR6HNp3cemhbGs+uGVVVKyvj2It0LsDxO8Payc7OZ5zZDEMUwZKrhyLeQFL1jx8JTc5NmO4QGJq2Cgu6tII+/dgQNuGuRdKKsAFaasv0C1jvAu8AAAEgQZrGSahBbJlMCGf//p4QAAAJdx583oTvggAS3EMw7fX+YrLhudk3ibojnGjWWw96oYZ55ycYqm8au0ywdeSyN7K1PfR2lScbNzcQvw+MN9J2Zq61yPKSKutzsGJPT2u21a9SGFsoWL1FNCvo0Z2d4x81w8wi4M0lT7mG2Ws1OD2Vcp9S+rk3QJIg474OBXblFf/0Mg+4ZZG8uam/Hax0wx6AOAXBn/O9qDFaIQFpdLtbfFHyD8hon1fKrxjvsKfnQVFOg3Za/sklVdqp2akrXFXHmsTG6aE0OkRXay4rAdB6ljIjPSKDJTgThw7ziD34BaVS0DajrjhqrOjrB2DCsYE5WzuJ/dVqBtccUP+ZlpLS7NDq712/m+ygxZEo2ypgAAAAkEGe5EUVLCP/CFYDbjElEuqeo4yPfnKAXtTEeFEbJ2EQms66mCJ/83eAFs7knoQkyUPDWyaQQE1Rx+zmcJIeYUey3IF/UU8eWQ9EBg2ptIk3syHdTxdZWsHXSkYYW4D5smJ7TURV2GS+G6Xxpe/pa2mcSRRKl5BFJ1rgJL6D1SB69wK3yvQQ2XyXgFB16TACpwAAALMBnwN0R/8L3qarzkyLVAVJ0GKYBA929U8kmbUPACdYCuJJNwJhSVrAlee50obsJQb8ikXp9lQJhQJWXcxo6uXgy9gXsP8YeyGO2m8kWYWL7jawxtUZUC4l/gGMEKbcC9Qx/+q6JXAT8qxnRN7rJ1ZMQ4TXQlh6dIBh/hKu3oCnlJ6c44WED3LUYosxtX9R1C4jCgUBe5srbS6t70QyyP193uS66tG+AppYnoViZNMRwEAVMQAAALUBnwVqR/8L8KW2IW5XbOTfrpilEwLA6sIXh5pPowoNZt2kF7hJSegAAlRYC6q6lV+qD5uP1Mkv04xYQevUM3oOSM0tKYbruYoKjHvLoJzG8ADC/GDXTbLghOWxJEGVq58AKEGyzLnkSO6QuQjz3Rf+aAu2e9UL6Y5Wx7gPAsn9k8H/TFYwrXFMOQ2W+n6V5Vr4UHrwEobqU/4ZHAaeihZyrItWZ2OyrGulhbqlCadFNOVH69EHAAABGkGbCkmoQWyZTAhn//6eEAAACXe/da1tSR7HWMAF1EpQQQXJqlJkmILC2yGh9oYOBhR9D/dIjzW+pdSixrYwDj6amd4DAgzmLouh9R9eHcQeLkOebO9V08ovNS1WByAgTrqwuwf03Lrvbc3f2dV6YJxC7I/7S9TGoqOs3ChUyZYwVX5MVx/MVjIU9xRUldG7eEomU+MByiG+FSdcUR8a/p/tb1pu+h+Xn48zxg8kknd/frsvBiSWbd/4/GuKY1tPbQ8yppiYwcSoWac3jFckW+XUbF0sSwfLjO+ktyALUuFzdsW1I/4S8tF4bCmSmVPwfJFOQb+K/yl4Zd2MvqCb6++xcVAAROq0kIKzEDjc/U5wwf4NsKjnlE2bJwAAAL1BnyhFFSwj/whWA24xJRLqnqOMj35ygF7UxHhRGydhETbfh1xVDTIAbaUfkdfZlO8ES/oFWaqy5hBH8eH798moZTLP4Kqha2RtqJ6F+l8DfFCgN41+zg6TPX0HQV0P4qIvRs0tP4aXES1Oi2CulTH6LQfSK/NdZmMzT2ghaIcfAigcmR8f5/uPQzXXDYFScxrZxZAwGUktA8nlvEdhRQIRQYGvsqBfHw/NeJ6wvQDSkQwi7HrUNUUg49z0zAgAAADLAZ9HdEf/C96mq85Mi1QFSdBimAQPdvVPJJplIiCnnIcgA2z1/OvF4Fc2TFcGYd9un+gz0YNJO+InVrs7oMjsD1AGU/EG2untsixNyHXr3zzAiwHKTnsdjCQytq7uNK9vozAoP4uzazhaDK6Ft55mQym7EO6PBksNSQm8p7L+Xx2VaRdgS48sG6PqxaDnDN5QykpI/jCvcn3tthkpDVSg63kEl/dXH7YsWdWtk1isXMVFsuMWEFpx5EHPS3adWUXVi+rDahVeX/arknAAAACpAZ9Jakf/C/CltiFuV2zk366YpRMCwOrCF4d/SpLC06LPhBMSVvNQKpsKVq+ga6horRiZs0KVZ3AAJwUiqmzKMymoUN3eahSoZtW4VKjRcNFEGV/cIZmcyaOkye4er5WhiMkbAtNB7lBD2fy4vg5O/JjhWSSfIkh+CPzGF6xoh1KGj/+KcwhmIN6bCGf8yStkkyV8unFgSc9a71zIo0qNUCwoDh/T96pDewAAAMFBm05JqEFsmUwIZ//+nhAAAAkqu/ThssT/WUgV20gxWYAQYBhbhDTRf5ZvSDokmSNCIG3v4GwnweQwx8Ct6UXf3MDrI9cdWUa502/eb5gg64y9BVKmf3jyTONA7FeoNYgssgkyBH9MQCh53lBTtfwshoZZbzfyQmn+ZZksxg/C2Nl4D0J2YuTfMJFJi9t3pQSdFjpIj0OnXIXJB9RaJQx00WGsbRaxf1yLShroUPfA55ljXr0v6lzCH0+EKPO/Hr2pAAAAsUGfbEUVLCP/CFYDbjElEuqeo4yPfnKAXtTEeFEbJ2EPtqLROEG8hKO4A7qDWkql+mphGZYXdEztRKH0HWeC932pE5WWkRYAVspsdvbucnbN27xbihbxSd1q2f6LH/Hb7jgocvzDlxlXZECmiJjBx5TGKPboc6uKC3V7CbdQ1pEOkbnFG0ODI9wt4G5kRMWZVdkWZBcDkhS2xm1bqYAeGJo+mcaHaVmrZlXvKmYH39TugAAAAKMBn4t0R/8L3qarzkyLVAVJ0GKYBA929U8iuPZeQNPSAIkEU0gMSQucx+U0hER6vIXzykXilvI5Yt47gS2EmVUd5NPOYCrt1MJKDYekmrPhh2JPbwmDgnKsqVF5ruZBOR/D5NvHCJwYvUmnYFo3XoKDiZB+ASsiMcS1oay+hPE7s9MLGW0BYL5qU2qQAjvHAkq0/eW1tJ2R/sMNhGJ1YPzVwgOrAAAAtwGfjWpH/wvwpbYhblds5N+umKUTAsDqwhdunr9d5MeEUynz1Kb7SGYI4wnAW3/4GACR/KmQvEt0AD7ZfFa3Zpp+KujeRQoSSea64ItcILbHHTKxqhIi0B5mSIANHpbYlJ4tmxqBZA2otCVzncNkG5NuK+A0zG6hRgeUkCVTyQAM7OOPhfZPHtUFnYuAf0HSzkvGMiO9CO6sjoO8104rq7R+0z3ZfrOtmAthlwFYeZHiZI2FfYEj0wAAAOdBm5JJqEFsmUwIZ//+nhAAAAg3zPAAGWH69m1gKDrL7JuwQ6qOMd80Ig9b2oU55ocb37WIR1c5TpzUnqXgAOfwhqEzEiq2kMMo+zHruU8tyenrw++PEYsGNWrpjuuAaYfOS2I4IJCELZfGAe7HW1vfzBGQOUIH2kzSkTegzdFJYMV+loS9Qf5W6JSaL90F7hSnKGfQA1GeKvURyFSA/bZlMvq24oDEScI9JueteS+caK6JjFibyHQa3rSB8fJvAQPr7J1J3UcNFj0SOhlOHY8vBgmXNyKfWy7rPyWLWHTMDn89QXOOgYEAAADEQZ+wRRUsI/8IVgNuMSUS6p6jjI9+coBe1MR4URsnYQ+zPzkZ3eJ2KkAM1YMm7ujrielQbdLO63WGp0ax7EDelFasDNHy8SXUm6sjf4CrVoqCSusDc1zhNWv9tYkmSYXi5zh9cj331XAD/mOn7OupBwGRxDe7YRgO3F+gLMo+W5jY71km2K19/sLX68EvZs/qazGaClrgLuT8TEgxp/wWggFGjuCUAcypCxZyjeLbLHzC1Dd3Nwh1K2i8nlhYGbTiZfgCPgAAANQBn890R/8L3qarzkyLVAVJ0GKYBA929U8jJOU50LO6uTb3+94ABwXqqxBjhUl1/pF2Etc3Pb3mFGhSkzPpkaCQv9vd0PeSSGxrp6/wvr7sgLoMsIPRqq/7lHTv3mbEgb6i2jrej/537jgAQLsaoAEUWSw5kJpAV0JiBImzzeBl3Q8psiGy1BqIXDFmX06/uUb8+KNJ0cVv7fYGB8M0xV5KvrXz1taV/Z370jDzpsL4zSLjYgPaNQ7Lc4ABnWj2MMoRt7SG/d45m2Tx0RZiabTtlwhVQAAAAKsBn9FqR/8L8KW2IW5XbOTfrpilEwLA6sIXbj/X8RyF6yRWmpCczZylAghSDk4QAW8FaVH9yE4uhbXiO2kxV+H6wN3m7TIPmDHh46X2BPP9shDlGtH5Vs42qjR0gmKuM23FkOjjZkw4Y22eFz2z+SCH/S0BGoJ3N4qogRCzf88PTUlWDAkugk97hnL3pNhe75HOg0dM611+s8UQYRQheyq7TkQuUv5/kpO4CZkAAAEIQZvWSahBbJlMCGf//p4QAAADA4mhDrNNM9//wFrZw6kAE3Mwrt+M8Iqupg7FwUJ7/0Qo4ZE00GIkyDHiWfW2X9Flx+fVtotPqifXFWIRpjdwg+OwZo0CSnm9YzZ9uFinLzuZWmOGY5IBHAEcuPrVQA8ma0f3YuXlB3+GmPlGhLOrxfhcHmUW0LKYiUn0Ni+es/GODztJFapKban0FQK0U9Z8pTeg6RGSaDdKYiwjeu3+dOvb3xtRKNN9aqCAkaDHIGLhLy+na/fZktYZnMpAhKe5zf4MWPqIo+DId4Ge4Ldb7Ytb0+TmSMLIMKs4RUtqJYaDz25/soN96BY/1yTasQCVrqCJ8n+AAAAAwEGf9EUVLCP/CFYDbjElEuqeo4yPfnKAXtTEeFEbJ2EQC7JkUlUukJKqEPfct20v6Af+2ngBUR2bTtRJz6ZxLqNw4GzN2xbNoSVIQRBUzA3nQuTvUiHWu41LXlYeHL0q51TP+p6RAmDJNyidqzONz3s00scgrXMhf2JppUL7mb+RtoRB76T2BVboV+RDYANZLgqt49b3sV4p+K6eM+8LgYtXauyX5SHm6uD0UBR4vugn9+HSYerM4TDnW+0rR+uruAAAAMMBnhN0R/8L3qarzkyLVAVJ0GKYBA929U8jJMr9HKuE28MAB+4E2U/D/Er4RlrqvyMbk9kNwSwth6JGA/6WTEzAOpA1mYbVydhQj9J9NrvNHzSPAMiIrjKnHp7lpnvLPzavRNr33/UBq63zE+a3NKP2FubZNwOupiEC9lTTRyLID7Prcqv4EYj7Gf8abte0t5CcMQ5/0oSRkc5fYIeyq5s6H151tfMJNLAbuUQY3tB86+XqXsz7aYWeQ+vJG4M1h7PyGVEAAACiAZ4Vakf/C/CltiFuV2zk366YpRMCwOrCF24/0muAVl9f2oAE1UO8demcx4vEZb2pf+pX6IaXPYePr40S39oqlet21gYTrIc4yuZ+1pmpP+lfJrF0kzUwxPd1lxRAuS+3p/1Dfffv6NFoSQytDp12WcnQkHeYDI4/R89ftutGUVu1sqVc3Yn+7DjwZ1oWg0xdlNVRs9as+mRCujFO78NKgD5gAAABHkGaGkmoQWyZTAhn//6eEAAAAwO0KhgAJ28mVYAuB+0QaLmHfuaeyESMyQLZY0QFTGsoZGFOO8tE9vxEI4/Re70dKkgGloZxMJTtEWKSSexRIUg2JB7ZnLsWb+Fq5VXcWsqzf2ZPHrRYPUA5xOvkK/OwuCDOf/bgOswY0FPwEyJ67sTuptua1WRXAfWEmedS7u8DPsPF7skeNe8jWehcS7h+yvYALZZ5e8L0N5tMPExxbLmlXnylQ4A6C9TwdK7g6HjOtIWwcFycaEzdDt1kNa7Bw4AbdO2dSsXRpBVoJZ66EWeYIrIWcsDQKjp60z8u4kdu76Wgeo05z1J3iw+4CrcMh8EMYA0nbs78Wok3gDamfqIcovdrINj9CZ7Xkn0AAADQQZ44RRUsI/8IVgNuMSUS6p6jjI9+coBe1MR4URsnYQ+zMmHbwaTk/B6V8TgA/dEE0Oj+RQaEGJqEhwCvA3ySfT+9t45w6hUtpTPq41JufCzrPQtIzPP5FH7TAUagADwOvZ3iuEX0rxIjCaKj/ZFb3CFh1+QUGL8Z/B7F16gc1KMpciDSnYTpWWzivu6nHeqqeJzajybaYYbi8+WKeAs0D8f1GjnXXQ528/L7TPHiTTPMIrNrIXV00t9C+UwC/XhyYO32VWmLos6Y9acYpWAhswAAAJ8Bnld0R/8L3qarzkyLVAVJ0GKYBA929U8jJMw3Z8/bi+soAPxUPFaw4utDclYDCldAiPT3EirYu5ZK70j2HxJRBwOWWqiKrKVH6BercyiBnbBt3oPmRUqtQbhURz10l5LiCiP39GL2xZEavrIx83aGO973Ql5MpojI21vClqCUQptAzWMJVh7btuTlsIlYj8521o/FLLoHHteJxIjEJmAAAAC0AZ5Zakf/C/CltiFuV2zk366YpRMCwOrCF24/1211Go+2iSHAAOLDQ4GrPTATL41jCh4CsgEOeY31d4g5MoM8wbbFOnK+dbOKSKAqR8Ja8z+QdqDO2oCdrT9ag5SvBrlcFH9nLS4Uto+hRcigzVjvlKil4fitDW/+DY1+DVT3yTa0xUx4q4H61cc29hTYxKtbxc/CMtZMS5RWMCIwf0Sc4xRjJxyq7a6sdj37N9hPZUpjYAS9AAABGUGaXkmoQWyZTAhn//6eEAAAAwO5rnj3IocKAA7Ijxu/eRoKpkE+Q3avApz6PS0+Pn4nxbB0QbACSK2AL0K2yayCFkn1DLUOIXdiFPk2NH7jxrwxMJB+3QoW/ohuYwrMCLHUy0PA/CNwZhhyR3tSCRhQJIjaviI7jEVXb7n8oinAVFzjdvZ/1Lbr4Fat2aIbMpPX39/eOcpvrB0dK3E6IEYw8MWbC1lORLTTJeJBkXKUYqplnOVjVFNTvGCFcgSHTstUxhWpBWNovmph8CfVQj5Fwp/9Jh3mO+lfJzRTl/1qyDp0QU9x9ku7voyWlbWvRmq6XRl0hrL6Q68qAru8GlF62xoRcljvPfJpw2+PEIXTaLNnRN7aMJmAAAAA2UGefEUVLCP/CFYDbjElEuqeo4yPfnKAXtTEeFEbJ2EPszJe0oyXVCFvwK+ADtAixgiJSf79CRAVfBbUS4+VBpVFNhhU6Wn7E+boc7pkI/gCN5ocMdQUh/vHxt4FdXj4mqoEzIqalSVP1nLGeZu1xLmYsPTU3wby7Enu/6KUpeMRNhfYtyhoU88I4hBvTGvDzCLIG39RfnUqREJRRZfyYk1AFoFkDxtkVSnfhLYaOegw0qcbVra26I44/aiOYGKYaA0VgWDRETDTr1A4wkzMfVSiKr7awEX+z4EAAAC5AZ6bdEf/C96mq85Mi1QFSdBimAQPdvVPIyTMzcamPBWNaAAjHQI61wsd6cm19VFEGA66xIV9V0HKZcXDwHxOMxaNApWiuomSgwzS+Dqtik/G6kRJdARQGHT8ut2cvhK4eKUvGvbxe3wnH1mzsjfNj5RCRtGLI+c1tJ4r5vytVaZHlhB4m6scB8Ov+BGzSbSKLJ/Lb4UqZR0ea4LWzBhNfe3OO0bD2VllZT4FxBFl3sXaOLqaafQ0G9EAAAClAZ6dakf/C/CltiFuV2zk366YpRMCwOrCF24/126yTyzl898AA4L1PeM6PSW/R6YldIn8lUNJolmMGZS2mpPurFaY9FFr5VOxK/1UZZDb8KmI0Hbt06cQv8uhQ5T8GCHqsf9KymbXpAjSDggE093vlqTZ9HVJBBHTBaYXbI4mJxwN4/3YVKiAfN0lw9/vN3a7cYlJV87qcDySRPVzi2jLabxuwG3AAAABYEGagkmoQWyZTAhn//6eEAAAAwO560O+xH8EodaAzKXC0btBJRDZS84BAHy3syBsxvG+GHMaCHlUPQ3f5KqLKaGxvE3YR6U0Le7RAMvEinWQAVSiH+QuDnxFJO/9n2zwnzWngTy3CEx5qB85b4Zgmz5igQHDwel1Wkn1KO4n/7PAJyhRMkkCpuwq/gS3BzspWh+mGb+y16YsXWuQjiOwzU1hRQPem21WMRqY/OZab02gaki4EYXd/R/I+CptDzjqRjKmdZcTDGic4MpssY8vYLisaKLPFBg/FTz1MblcQngYtmjcH4IWEtKEpRZO7Xe1gkHzuXt9am46AZpM53oT///OFGBiwEdBjxrSiBxaL3caaSQrRez1nuh9O4CQWx364mKRfF12Mzp6E/7QumMQjKIgGxXdE2lJHSzhBJX1MgZvno95hD2p84inS/6EQI1AFj/0CAzNgHVhLI1cY59aD+YAAADWQZ6gRRUsI/8IVgNuMSUS6p6jjI9+coBe1MR4URsnYQ+zMmPITJLOSiMHIAEZDe+G1AoINe28stC45xSoht+F/hdnCPZ17m6pt+V8u0ULVjQnuqwZ5spV2ew3UydoSiWJQwqZLdru9XFQiKerNLh/XfV15v9GOiWqvMbAB9DQYNcl7MIJqbfWMFaVI9wE0wPIeQbBFhnt6KTBCkXRsCKcv1LZjybQftJN1Wd/d0+wiOnBD9CFpuIStRZQBNSz6xr/cIM62tsAhKh/ECxtvysbszPbFhRhFwAAAKMBnt90R/8L3qarzkyLVAVJ0GKYBA929U8jJMzMTzLJ4TVCqfFzna5TPBc1MPX1kobsU9i9XLCe4n01RLEKiqic77rqVSFKPpjiRQy4Z5OPQhhC9hUDzyy/yyRRwqDKxBnVgUQ5q/y498kys7McfFx5S2DA6Q/n7NmKcqgB8ND8WqnxxzjuIuLplcC71/A1enaLU/zogm3KZWD7DFLZdBMMLlbAAAAAmAGewWpH/wvwpbYhblds5N+umKUTAsDqwhbm1ARDyKMH6gAWbBWxAul2hzMz/bf6LPrFOYeqo9zffqlSw4qwQALfj38IMqI3mbVNovpMldG2mJWT11Wx6FHePhHYg87F51eCFxUfzy/6qdNoW/muQkMC8Bps06nnQMzG/8beR9OfA3H947ZIUD4U6KfHdS6IN7IbewY1xAQdAAABRUGaxkmoQWyZTAhn//6eEAAAAwONwnST1mL1J4jEADKXseIEqyDFFksfl2xfYoHDG7MgjvO/bLKVIcQ5w05X1FeqUVB127pYtQFhpvyGbXU8FDTdMaKuk6nRB81G5jQBsBWsQ2SVr7gIxYD4TuLAosqO2pry5BY1zOj19d6fJH8azwZrb57CZJPgsuCGL34ZlBuHGc0b5cVtX0NJzXk/gDTKjc/2h88xswGpJ/RKLwBsE83qwcNOF9Zr/rQptn5I3Ccqh1zlPYp0Nk4a0W1cD1oDfAAAyTp6NEqX94x/YsRmRidA4q8lBbdmqzkyPyWfsvCTk4j07kCMwXIhUi13DwnXvUHGsbUERLIEnYarFu8SCp79QLm/Vlx9HW177j7ZXFUWFY6zXlI6ghaB1lhZf+pOnpbrHK/BcQPr1wNYMoUlp6XNeEAAAADXQZ7kRRUsI/8IVgNuMSUS6p6jjI9+coBe1MR4URsnYQ+zMfKiHQ3x6D97C2tiB4EIYeFaqCVHd6y7RdLiOOU+reUAE0rR7dRSvC3ul46pOTqv6bSUv1YxjDmH0xnMW4T79+AOnHcBJlD16/RDyAl0tTR/6RhsHVRoexklGOKDcySSLvUpQ80Dw4KNzpT9w+d0a0/iQo1BMWur5TuEBSKVhB44pYXFOztKBbufkEfWe8YMnxhFhwWj6/KSNiIfLvbrfyI+QxqcR0RECH2I4Fx2YPXs+6CLgccAAACIAZ8DdEf/C96mq85Mi1QFSdBimAQPdvVPHC0hN9+m5AJVISNf/wqAAQSRDPn1Fqh+SDw5f3VgviIDP2VDQiBxbPoCAM2WXkhGXksvNNefbTz6mgQnI/jyy12zoTF8dCi/neo4AU/tZIBwTF5G5lrdOwRSAcKY+keSY+E8sG1j0tQi8jEUBqbNmQAAALcBnwVqR/8L8KW2IW5XbOTfrpilEwLA6sIW5YDJVerdMb/ewAAuJ+qzYxP+4MAAB/ejLIzQP7JhQQAUPthYEaFKTM/ZPbj/2FhoJVLKW1bsKKMPebjaiPJ7v3+5SA+eWl17YcAXow8AxmpCeMsqfUxvwF+/EsWpNVW9lvMAOQ+swKaTYdlmIAlIg5EYdRJ9giKlq9qtiZd8ANEU5hpJxpcbGoY/HeCM/qhNAvCCvHcUGIsErGswFbEAAAFJQZsKSahBbJlMCGf//p4QAAADAWrgvbp28+XTqOiOwpcWs8OcGyxrQjz/kK4EugArHTfu1/ESzqABBJFAmm6MqIqnRXY6qWIm+9Joiuhp2x2DlRplb9ZLf9SXCq1ht+VUMlyKr/7iI5T+vxOtVAmwzSidZHq2AGmjvZePidZE18gG/lhcPQHgGuohxirb0bf+hCXyFVpj2JMZLD6NKJyx6IGQ4cy9miChGwip/1UH7RGk60CJZjdJv2pXbNy+sOagf6i+TQotfBgVz5CYoYdWD5z1HF6ydo8aehquM98GZj9XL0NovUgeEQ27wvLIec4oHMutBv4DGtAZYmf3v+zl661/2ryAAAADAKLZ1CDSYOMaz6erd4688OeuxAjcjkKPHZdS4ko4zDH68EXM3nwYI1krmF11YabGxW9nUN/4b8ap08jVV6F4AxsAAADDQZ8oRRUsI/8IVgNuMSUS6p6jjI9+coBe1MR4URsnYQ+zMZ5Ye9RvQ9DN7T2ju2mFQUelYMmSjG4vpxLcDdKYAPlh3X7c0UOHAOLvG6rR+u3xTQJF6r+/nf1UI7xFEG9kTFCv6NkGnbfAt5C+EO1DXUAlXPCSCssPQzwu+Ejp3WqxzeEyx4iooRD6o3YamUg/X80k1vEDW/7ViLnPbP0yBhdcCbPWWQIcFW2Or4CDhYAjIFdOXEl5b2hV+ioTB350k+dMAAAAtAGfR3RH/wvepqvOTItUBUnQYpgED3b1TxwvQ2eAG0XVSLBcuBC7E/vtky+Vr7eSd3/PNxbCrBjwDzlthEr0ZfMY1paEvc/9l+p90IsXteLewS0XUKSX7QE4waWHmIsR8l27VJy2LfWKZ6Yb38wteObTcO2d6myjh/QM7f4t9Nws4qnvEZsn2zONbyBb7IemGXLoZSIT8pYpOcEREGDf0qVcvRm7sB43WG44qvH1lz2LHNAIeAAAAKcBn0lqR/8L8KW2IW5XbOTfrpilEwLA6sIW5XxidxwSoiCqPX5ti3fJUAFkOuklSfwe37ZDxOGTEd2HF6nIlxSf+29Jf+XR5Kks15J9uy+2HpwOZ6za8M//4HQb/LwY8Lccchox8i/DfaZtzICOrxtCoThZzSxa8R6l+Oje1TQ0nIjPfmnQB6H1Lo3CyFXagGi0Uw5Tt9NfYdjjA59C4596ELWEmw0IGQAAASNBm05JqEFsmUwIZ//+nhAAH99jwWYJ71jYXkMWnYAQ3jKy9PLpa3oXq2zNlw8ShTxI3fxdeD2wOh2KV8MU2cr8fjoToPe1tKazQwqAkWB2MDmqrBB5Gw5DuZ/TqCn9WwaEkZstAaUAmyv5XG7HjHqf3IkYzaejonyVnykVYWK67l2goAEup2wMLdqX1KLrQzWtXVmx/b+szQGbbPHTzsE2LuG+hCyBRRTf1lwmKmCwHIEFICG+iPQZfaM9NvRbwwq4BKurzec2OjGXLzNrX92u+zsYvLfPxaf8ifc6l+HRffjsjpppI0AXK5Ae38I9aa54JJwmT5T4yI7g/QZ0E+YUGeecSBBgXNSqArrhCFVn0RPumUFGc/+Fw6F+snzrxk2Xx0wAAADcQZ9sRRUsI/8IVgNuMSUS6p6jkrAf5vEu1mRrYQElmUnKCOes/Wf+xvgAlqx89LPo9teO4H+vD8DGm2SNXM05Z9J4AnVqBrojHGshNM4mtZk6uFzzTggP/zzgW6hCb3dakTOUCUeOW4OW4X9GFJn+Em3bMvxWwQqICjHu/6Jzp61Hd16Z5ql8eJ8DvxLBVU9aOkrzxM8VAmpTDrYC87WLDE4tG4ka4RWj3aW/1f8LlEZcLtA5YkVOIGkGJOSJWos0daOFLsFyclSHNySXgO9ZJ6v6QgjhMaDOOfbDFgAAAJwBn4t0R/8L3qarzkyLVAVJ0GKYBA929U8cLHHr0VhbzvAALL8h4uzNFULnAvju7KhSK6IhWVgHPO14rs8tMC3DYdaO9mA2wq5aGa+LBO+OXBRLzWw0K2c2uUvp5bQNmef/5WODrJDJd84u0LHLKHz9wxztFSHacutqIvAcl7Y+ZUSFn4sGXunc9usqjtxjRI9uOqVpJesu6VVG0YEAAADAAZ+Nakf/C/CltiFuV2krpsRt6mXRdq4lLJImV59AF5J86jxuUaCBbmZXjQf9tUA+7tTjdrLCDmsjAnvs2zmaVQw209/MKZYmI7FUP//FFimn199f0IF6FKSUHmAKb+vWEj8m+WYcFw2Hzj3o1gNiZ6csN4wgJ22nVA8RALCMyKJr0QszkjOb0E5O/nZDwz4HN0n2CfSvbtebO29IHUa0tMCo7glRAmgw9wTxhPLT3iY//1khrKcoukH1yoBBfAIPAAAA6EGbkkmoQWyZTAhn//6eEAAAAwFZhKVFH/YrgA2oea6wDmYDrrJ6B+zvVQeIVF+PjzKsgrba0mM2CAFNpB3UanpUoIqpa/bnoqsfOlsftK3vvsS/zsQrEzp9EPs+IXuz/0gNlindfKKRYgDFhmHKfh7R+mfx9oPQFZbKmCjU510c8GFPcqZ3gsbbGN0ZxAImBHJsdhxl1jheIA2Os+mljpDw9v3bmaMl5IlnBZun5JCQswSC+pyHjlAcndDSu0kN6kCaW32m0GO3MXYUKCu/hXBJ5f76eMEH4LIqAvAjz32aJ/Vz2brVxbUAAADSQZ+wRRUsI/8IVgNuMSUS6p6b8pUASAZ2y66mNaulE2K1LjucTjnR30xgBurqPPYEUsi2fZvz9ISFO5emmuKpDuhcjTzsApfYBzMYHU+8aBCh1PHqvNIJV6SUhb4gzqiO/ravQRqPkRhVfIZ/OjAeSJHUtyoS2xyhN4DUUbXeHClKNROVFwavdhjpgR/hrrttIapWAFTpzS6LooPIFTN5VlhM3mjKAwTTvr/1rpKhi5epixbptdj6xXOgvnRI6qdGuuroe/ByMEYE6HRDos0iqYHTAAAAqwGfz3RH/wvepqvOTItFHdTY+NyJ9etlghJG7sbX9UfACrHM8wyUZjcexHHv9OPRjajYjIw8mop4RpK4jIhstxjjLTGKaNrfnsrhQU+y54xmGC3UkFdGokiT+zG/tvsL30MAN6+/a1K3BBsS/FE+eoz8sHTQ/FkmHpbanZiVrMOdKo1lRiqF+kVAfMgQxVEcEOyWscYgEL5PnKRhCebajWy7qqnypslcspQBnwAAAMkBn9FqR/8L8KW2IW5XaSumxG3qZdF2riUskiWOxsiAIH6ikTwq7e72RpPqfLHvK0f0C3Yx0tVnlsbFJhDNu/HOMc3yDbqIgwiYNn4TUAaaExg2FhKku1l/zSKY9d2KLqs42MmE5w+L6nL+AKx3EDKYr7F4QirYTW/4OJdg1+vWudwo7b+IK3jT3KOgrCSiZ5jNuggjz2m8M1Z7hw4aUe+OyEDaFzbeic1my84IMka7QAWHwZTOYyuFSn8BgHSdAtl4WHqjWb9IO6EAAAFiQZvWSahBbJlMCGf//p4QAAADAWrvs7hkAA3+fa3NJ+prqx+RYcpAOq9NrRrcoJdVtfJu2lJc3n/M7g2kplSK0AV+FhE7ePH1cHu9TXKvW2u3I1dyI1fFW9gD/P9XwlWg+4Y/7PV7Rq6erBg618258ceSzlIGaRnSA0EMoKyqKzufL4D7KsYplj9oGlELSCJ7ectguKkIpHGS2dgRR3wRUjFabx08hO0q7Oc5syPxxDH02vnR270wivQzSaDAlyke56u1Yann1COWHPF+S5wiQhuukg4kmLBP7fJ6A0Dxs9EMMzSZsDjcpe/6exKOLV8ZExg7TjEF3oBIYOS0eazEh7nlbR8dFJzTrQUGxjsz3+Z63pBhJ7x1yg5KpPB9cNUp/q8j7oTynT+cZtZFGhYajGW/YXvtA+XkFQLqKtaSZZP+MmnspuUrHnktJRQ69M7rM9x2wWi2rvUzJJ4A+p/h0hH0AAAAv0Gf9EUVLCP/CFYDbjElEuqem/KVAEgGdsuupjWrpRNitS47nE4ZbxgBtlquFdFRxJBq33DpGxVcvcLuLh3MM8V2OdkCVaztwL6Q5T89J6tbeemjZeiwI+pfr/TQtc6JE41zNgHYe1+Yk2TBRijpnNb/wtUziuDYordJwTIJaUCgvnDFUF3WBwElMiouSayyXX7WOy2hzkVfyWfbFZN15HLqVS0BpihZEI5G5oEC5X0d9DwbWxzmUjkUDWHpSlfMAAAAvgGeE3RH/wvepqvOTItFHdTY+NyJ9etlghJG7oJCagcdABbesb4XjS0T8RszuQrhsx6g1fX8Mq7BpOv1DWNgCjFOA/GTj0PsZd5KbkS4AwrArjImkCdYIiwfnf4C5V4qkC55zMcVE6k07B7TgQGedD7SuPhJmQJJzJY8r70rXblr0L9TYMiAP8/z+7gUkFaCk7AnKqSLlmUwFhFIAR4KtBmQRWIxw18K8grIDNwtiVF9IlG8J/CUOE0ScNNuRMEAAADDAZ4Vakf/C/CltiFuV2krpsRt6mXRdq4lLJIle+mHwBCGWFTm79+HsLpyiaFjeWPjcDTRgWYxpC/noqF+afDqS8VQdRhvnFYxUktkDvE01ByiGxSjfONgzq/q+V2nG3MY6IjIvlvpkqFGXBoQJs5XlCDNmmXlVLPoN0MTrEakpfU8mXZUritEIjPkrmmbNhMDT2QJfm+s6ph6WYfT2PyDJXGtCtNsJpnR0DJLfHAeJ3O7HHyuZWLYA0mr5VOOp8kH4B/gAAAAtkGaGUmoQWyZTAj//IQAAAMAU/oOIoR2iRoORKbAAuJ3SzRHMwSE3LemlKYrEkJszTnOh55+ER2dLEDarBeLWn9VWpGR9WXQQGO7rSXzCsozkVBkZnjyHMShazOxp1JDYdrBdmvfcNG/P3p6VeWEAlRAtY5yk8yethzabhnv0QxSm20AKVlastzqb5jQw4ICiKZYJl4k7lXShoqkZlBuh5Jr5ZasocQdE4xJ+UPIXD1Ny+Ml+2gRAAAAqUGeN0UVLH8L+GF6BfzKP3VxAc+JtxcrWI90DQBt9Cqsbl1/0sSyHO+4dHZvx8pZWXo1f2YVUPgOXFAL+n81/7LMP/4l6D6FVJe3Gzs9+gG/K/B0L4J5HKFkY6A/miXTSSfzAZfRDHArG/wE6O71tMrMV93DWxlq3THRFVifsSfhbV5mhIX1WYGQqwXLIVkRES/2AUugYX6ePG2n5ruNIOnbO6VqJfEAS8EAAACbAZ5Yakf/C/ClVAoWqK7bJw/QQfECOY2D49+zaffa1g2jSN8EBK5QS2/+IAAh7pkSV+z1xWoNgr44RsZpCJ9c42jVlmbnn7P8kXe57RLPZOxnRA693AwuOcvLeOMp/xlUBZYVS4dPC+JD+ApfTJQC6KO7QJ6GZQmaTgc+ESaTeFMy/YJC+cwW1Gf3DNvSe2fnkijCVOvQw2skAP8AAAfyZYiCAA///vdonwKbXmGqgOSVxSXbT4H/q2dwfI/pAwAAAwAAAwAAFbekZYZCdC/yYgAABXwAsgXYRISAUsbwqBIiSFwOMxASVohBn8Gaf0ATrUeIAoemxKEiQ1UurfxO2mSlS5LdCjOru9hryY/bZL07q/tzge04PMY6I+meMqxdPiqDRb3KUuXKUPSuEAeyWoelrKX/tjXJV1TRr1EDRFUZQY4SmockXVyC6YlC9QTU7WdbHYPuZELdfbg0KZ9nJt8q1iSYnZspJHi+GTAZbjc9heJm3IXi7e9GHOaIlrfl6roixs55sly0K75UTN48WMJfosyRxe5KTkL/xEg1QbjpcVuCep9D6/O9bJ2iIv8AAq1efNV+LVIouFhnjjvqXtaslKBI4/IlhaAkQ3ZEnqCTyyhMCVL6ByQSXFQFwXHfB0Q8UTmYF3ROvxep7tODulax7oftEbFNSu2I0T2UBCJCFGdf/cs95Kf/5HPSB9Kh05xCs2634LU7v6nDf77XBtsXTq8xm/oMiuSbhKYX+OB+/lBRXpERwokfSVgkmlbp3nJ95orkVydGo2NC7Sk6fHQNDVOKcl+Ht9q8mtjMPYYX6r8xEa20pDoYOMtLw24Xk+wB7s7hFgEjwv8I4IWkeme7PkESv9JsQDHZyVMOySYMsOBMlw3gQUakH3aujQSmRVFUlXPrBI3pgKz/MA1uVLHtbVE7D7aXmaKDpaOqXwRGCM2gVlkclOWWdMsKjIKlqe1s8bGxxFXp6+wHsfyyGKHj3+/8eWu6BITgQyiKyusU0x1qo0OkK13CU9R2J3/pCz/eOHNWQvBgPzjfx0eTnzxCOtL5v94kbFTS30ip/Yxuhpvc4S3pYgOyztax+hJn0TW81S2eRhmamiT4F7cgIhehSC/HE+6w7HSfPEV8JmI3BCxrKQYhDLeL519PGmvl0yU8wNC5OlafXzfdydHlorfTppanU62wr+6y15KR+vFsV0HaVGTVvhuV3zd+/sibme+Ot82sZfRpFIzcUU4Y+ZHMiyZ5Ac+zQcrpjrmp5u+588YK6S1FEqZ6iKJZsAd/9Om0wJnxq7RGuToiL8KKUSQpLGoHEwLeSmMZdMt/l0Kq7fLWmuxOACbAp3KkIzR/W5/W8kuTYirl4gQGzyGqV0F6fgMncEXO2sFtZV5uO2Qkfi60wAUSdYXJAA95NkiswtXdhYolHr7GtZqhtBRMrKobBJxNh0CgQxVl3NPkyJ68PdJE/FJzr1/T0Ws+jWbp0ve1IZu73tiGjN5AaS5ueN46RpD3z0SOw2mCRuw43Yp/Y2vmWARG7YqFOuzT6rl3RMtIvOPNAcDMlyi1qm1hp/GkFtvzMzwmSQKZeJuWgKtEVm2QNM2kbupIMXw1fFay0X3HTCbPDT6AgGgeUF9fy8Z3U3cUTjzCHiDper5DxuHppiwp/0tYusK1VcZSHyDvIXuuObJx4EBws2m0WOPWhGJ5KoWqN6WJvzM9h2dxVhZQwB13w0ObkzMRPbLMPuWYgZdLTKpB+Lo1wE1+wNv7ce2sba4wr5UvnQZiJMwV5EwUoW+5r7/ZGIZvE5wkN7oi8gxkJF/H4Rp5+3AXucsgg/XAIExcFTP3V+Rd8jMt+7OypXcTm2eBwoEHBq/PbVN+mHOGgj2cAVh1soFNYX2rX97NLjAsDmXeivnNpe8YC4Iwtl/8MJdRZbvs8G3YGBEyhEd2ODKMiVHIkYg1WKA5T1s0lOgwdekKuyE0Ajk+wu0+Y7PdWqqIUKCCSjNjLE8e+8XZ21Kx8KHYDYICpxK5FnnnbrVaSYLFQm3EsRIkGju8aaUSmo96OU7uNQeEq9D57I+HFuHuxiif8SVEiBWi1egAu76FcZo/JHAw5QEE+ImwHzhOcLQnLeKQ6GnUH5JgFUrllDDrwbknThtbC2l2nw02k4lMzNhIfF5U/AT+c+bfgwMYd9olPS3CI/e+jTLSVkp+Tb/hmSfQlEbBCootLFJCQadvGSjLvyJPtn86mHlojSqPgXFjoCMGxtQ54oLh0q5HG0rEtOFIfD/5QDxiwa/+v/noboynRoP0sxTI7PYU5A+NbEQLqQ9nVPjI0NxGEo+wPUHIwedO4ueDGIhJ+lZPNIa4ECaAUR8kJ+eHEYZuvWzD0U9V5uPVo+9ndTV0DKvtOkrZ9g49DmY5OGWXpqgrl6baqYjJ/mPeCxeuh5AV8KcAd09TkGXdDHDpoMYFIOLAVuCJWqONFz4f4r55lc7XnuKbCYjzsb0xlsCEwMtPTrZCZzqD//zV0xun2h/e8Bf0zIR4tjTZqO/YtwwP8b8oMO4hvf9QG1fEgxRrdm0VdleN5JEdALg0S4XieEv3iRONIzh3/BtHs4gV19fY+KFONUG527BszhxYo37X/9B65SNxirvuoe7xiJ8oVms1R4MJdQBKvozcDQpbiZE11XsQUY2dq5sv69Aczyo/Vvj19iQ77TiHtf8Unm8Wtf0i1y/pDhrCRmXUc5Wz4OdTsjf/ocLHLUC5Lp/DwEgf/DDb25jy0MB1o9SEHWhzniPqdXAEdNj/FPkSDzmcrTnWziL00RM39LarDnjqsTxnsZ2XjxgVvkqxPibO2/NzkztlkjEPIyT69Ip0PZkGldnZAAAQEir7k5+pcCCCjbT00VsYwp6PtO5qjpdAd70Y+1MNDUft0DIwx2mUK+4Id9t6Fe/dyAs9Em4AAAMAAAMAAICBAAABe0GaJGxDP/6eEAAAAwCLdN91nABhF62B2NtP/WQmuZnpdXRb/yMyY9HrMn5/o7GBUXeqIjF6UKkWjyicwMu8L6QErweA/QKirntE1b/mut7gKlY4LlqLzJiqkZ2tlkMyT8SjlcFF/xcj2IsUn0UxbZS27jaorBR0aUeEgLB90UtxlaYwk9gqThYjCkwVUPz3HDlH7kMA+cZLH+BsKaiq7fTfMKgDoZ9T1WFpLmqCZEdFivg1y6zYB25UQ2O/0krpIYDnUlfG9D6OBP7nomwuJ60rCAMfPgj5CQ1yi02zJ2KoN5+HMS7keCvQNgPuhha7kiR4TMUy0qHJqHwKrtScRNBMLS8GaZeSWJSFOzgs1NSZWG/NNSj6TLozx9QXhqH8K0FW9H2D1VxTgCqH7rEgpcvpnC9a0c69/TzzT3ZkrvQcsHY/l/MOllhtbRmX84eAwRG2Fyfv1wAVqrAM7pem6vihZRoVBMQfLLpNNLSkt1QfqwxutmNXC8+AS9YAAACMQZ5CeIR/AAADAC18ltHBgLL+o+daBxY5lhd7Go9SudklneOP00u4WS0Z/bUS0AHryfmzydD3lVD/SNjV5DaYtyc6jHUIPm1yRiqUiwZROEcpcGEoxHbimwwv5jdtftt/fB9kAVJGIdRGJ8ROkkSEHxLcFt66wg5cTlNc0mRZ3+hZndBo61exVeQ8LKEAAAB5AZ5hdEf/AAADAEM6r47xKIviQVg/t4AH7I8G1xs1FZ/lr6sbfqeNVgltnLCsz1haqWuubrvZ22N99OOgJe8yd66+ip/CQZBxrPwCcnpOLRkgyTxLI/wNmk4oNiESn8vviEEbTLBjP0wRc5SL26lc/0lyYKcRtKkUMQAAAKABnmNqR/8AAAMAR31t3OprPBUAAtTkMmjzo6hYQ/FBVlCSn7upAqeaQjApZsSRHqaqw0UnV8xZJ8fZe9OQ33FLcaSBZiXfcPP/e7kQ4B3urpZ/505AFvjlsDaGDvaO4/aczPBSMhXoJyjNLp9ImAFoisjIAOZNpdezuJR1svdEk0RAv00XJP7MfZoUeNDdpfNcMhmiVBdhfPUQMSVjpYrgAAABFUGaaEmoQWiZTAhn//6eEAAAAwCKpAvjITZxFEABLVuagNxN5VhdFgB5bfSH/keevn7wdf73iyWvjVBzYexU//sExBmKUOoHeYhaoTNYQFENIWmAtx5mKK3FnR1IJrrbUyevYyvDEXdf2b20IFi/4VgCTZIIjCKdxWOlkmmQ3NHFG+L4720W7+KtoubbjIAvT3vl/vJQ13YlSktF+PZ4gCkpL4Z33z3+Bc8cbc/jHaGguu0+B9FfrrD9M+gFhu50voKQKS0RJn9kR17h9KJbx9//H4NGX00BVID2HtfvOgsLn9NKEROyoDHcjnV74XIv/zuJVm6fdtkuvE+9XEf9RbisDS9iQwAwtokURFRbw/5TeVG9poAAAAC1QZ6GRREsI/8AAAMAdvccMH/ciFRteo0VINkalrXcwwANQBHamiKPBh9L7IbuIeh+SvQxN2hhP6D5F8MfEd+d1/A4CzVbu/OsV3PNfFt/3I7CJaweNQkA9lq/R9ezhENAlqlCtD3vM97mR9CickgkH+P0Y3G6/TJKAl3/UqR8QteRf1WIjDxEclRtr1jheSstj6igCdyYCgXmtCyo3OMIY1AF9yVMEzIr+MK1I2lGHIjFashWwQAAAIwBnqV0R/8AAAMAxL5MAmkGnhvi4DmBIJTus9+XfrKbCNIssQ5YE7kTdusIH3jK/3a/94lZO+nIvbAoQHdfM8qGhBoVzvgf0g5wHmW7CHZuAnzWO9I9gn2vrxmMklTVRc2MesGqUBe+8QuOIOddij+p1p1W3X3G4f/5C3WobqLVK8BjAg+jyeSFlE1TiwAAAJEBnqdqR/8AAAMAQm297IiPeJJTVXvAsgPlAMAI7GV3aSWCqqSE7fpzX8Be6rS/D469nXCdVA9+x0iQeAHsahCcjBZtiD94gFHaAs0Qx7+FmtCnbGaABMXlPW3Zm9ukV0xU/iZp2aOjCCK70XYjw04mQFxgywMnLcZfxuBmUrE2oATO29V9z9dnVF+bG5jFT4T5AAAA20GarEmoQWyZTAhn//6eEAAAAwCCob+qUNgAXT1iZt5onYuQpHpYLz0bZneO/9Sol1n8P41Ofo4A6b0FmcqvRd3i4XiJJvDT7CmGuhPKYHFMI/Er2ljtNHYQQyiMk62H1xBoBQvdF2khme2GigkGKbfhMtgCABFgZZTqsZvWqZzfnuYQCAyquK47cI9B3DnIqQUZqwn9uiCxzeT6hO0HpLe/q+ZKxl8wrKcCu9p1TNgL4QE+FRErTWRCGB4xe/qESM+n8CCr9kL1sLYZlcRO7PBiIQGzRVmrwtf9wAAAAINBnspFFSwj/wAAAwB29yETv3Hg5aRpmUzEIV6AWRXOVqFEJGnFppABM4TqEJ576UWW3Z34V3p0W7lzk1W78l+YXPtqgn5qCJrennvROuoefxL7ev/JC+JwtqZmZsGZpQrJJCffRYSZYcXyOxaqsTjxqUhMzeBPN3nR+ujF6wBRlgg6SQAAAJYBnul0R/8AAAMAQzEQ1w9PIx7IS2oALVO4/p1Lqa7N5RUzHYKLf9OMWLdo1xpjIq8JNTBKABUo1G+95twEkSOOB/nnXKLK9R3EeWfYoH9JeSfR1y6RjQycQgUD3hSkOHef6KCTFPsTBBlY5pxIeMy+F+4zIo2cvKKX+qLttVO+82ZTepC81/tHRicA2l37cuuMsBbuWNsAAACIAZ7rakf/AAADAEMXXF/VWUwwlNzZ+Nhgivl7OOzphWd+ngBa1IMmRRoxREOTn7O5zf2My7dhKSI9F7hl9/f98Jakwi4pFZqhZSctyax85WdIA4YBTzRzXPCFB1h0Wv62caQsdC4W6koEmTTzKvuKf4EPSndUr6HQnYXfjqcVfwcc4dujacpjgQAAAQxBmvBJqEFsmUwIZ//+nhAAAAMAgojOiV4AF1EpQSlqz3CmHiU1vTpawTDAm+RlZailMZMNIjt3IGJrmenOypj+y8Q4rIj+7+iRXA+O9nppB8YzMjrynGkh2oJMkwAgL+uWKWw6BfqSD3VNemIIv7yl0crXv5y8g8cX8r+kT3nVUnq4PSOlBGbzNSYouJ4BhTwFjt5Th/wCTju5OpoSVTPeMk4IAupBzlxuhELIiqT9LSjmcIlH3XTQM0rDvTlYwTzw0zL04bervByb6gJWdsfevvx/Qx4fSDZiTKvPyHmUtD7izaTduq2J4yRQDi8JJoSpXkcZMlxaJae/+KuyPG4mYwjdelblK0LMC/YjAAAAtkGfDkUVLCP/AAADAHb3IStipAAugc2sUcWolpFSaMSP+0433JQQNp+qC/lqN197zHPyfeaTDqZrf9Ni1jFLvfiTO13Wa0zwfOOJou6ECA2Wvgmi6PqxDpu8SKdNNWSHaHMSu2U3K8k6FW4655cvEXF1znBwt1EO9msGUAwaLL+zkviZykNeEuwahrMiuZVPU0ZWSA3RX7e2CKwL/j3i6nxpH6DqNMDeguVyQhdlWRqalHl6SxLwAAAAogGfLXRH/wAAAwBFhZ0jFiPk2faFYdCzSsd4JdFLSkCtHCO/qzU4UbYAAAlRULaUnLgtm4t3/GL3VCr1o5z67I3Vr840rksfuT5hz7dDooz8k1XVtYIZ7xibdKxxS4sviNCeQZJ+Shj9xH+zHrLoevpZu7Fe4rLlEuFQiuFaUplHftZcZW6dQWx46W8w/HWIh+Mp2PtospjQX3Gn7YSYI9trQAAAAL4Bny9qR/8AAAMASapCAC6iW9auRUYCfugHRq2vAbeukP824u1wu/MQdk2D2XJbCRSfDGTJIlrp3XVcQhV9f5SuYcvPomIbfjaZAqGH56DT5YQ9XnuziuyW4zBJXuReopBRWoh1Lnd8C2tyEcft2IpCAxgwwiuTt97f3f+HT0htK9pBrHCLlL8CCnP6gNWq4YaR1m0OfEhJE6zIxzSuWwP4l9SAFhqPSE0EX96LLV1N/h6m/Z9ym9ITbGdJiYUXAAAAykGbNEmoQWyZTAhn//6eEAAAAwCDf3SZ2t5aQSMlntqFueJsyH+uANMcWqw6nAEglRwRhHEYWLQJCXsWhoEOOcERIbj/XGqsFe46+99Q3P+ljchvKkizGy9FikesfQnFQryn8SPRL4a9N5Kc0/z55Tv/uxiTD4Sv5DfOCtxIkgMo/f23kqd2JgkIywnei8ojJg/ujfFaKNQMzNEm4sQdezuFAuCgiAttKSyxXgQs4mcEKpg7q8n8Z/eIGgIPwEO9vqf+Tog2h/rUfrQAAACnQZ9SRRUsI/8AAAMAdvchK2KkAEYDm9ut1SURLswAZiTRLpMG99rpP33rRzP9PV8dARhPIXy7d190aZGyRs0bl3a/mn0WoGXv6ZxBOk6Y2a4pqAG0VSvtXMmvw8TKopBiRRRFCxoG+J4FZNY9wmHvkmMvDjHR/bnmUle2VVO+IGcPKZSjlWZm8/MnCcK2MXQeZktN1pZuTgmF51JQpOO9ycbWvauzBzQAAACNAZ9xdEf/AAADAEWFqw63YbOAMPFwSywXZi/aaNKDFqsFeAEKdixz967kLFSZ+7QnHRD7BpIYO2kHPGClYf9MIH1tUqP8IqjX9lvlB3b8WwSAhgCDTZ7sMMGn9A9nx5SJGHbvRi1ynC5+NCMkcUmA6KdnBZIgRa0AgoMmCSS/Qa41WkPXUQ1M3yZSjq+BAAAAswGfc2pH/wAAAwBHsLmAOUKQyaPOgliG3tF6U5fD/JwazPSiNjINycgWarud8Ttx4+1sJKoV0RdeH5wu5nHNFtQR4Y1cSrkOi10f4fh5GQR1gCjTIyDUOT3C9wMw39hiyof6PqkdPDdyYy4GFhRq91HXlYKyBh5jykJpFHrrn6zH9NX5A2ZCbAwVbPUIR/I3UrSz/Mf/Iau/lY2fhPYyqd3woxmh4IxWk/jIlGZ2lCAgzWFtAAAA40GbeEmoQWyZTAhn//6eEAAAAwCDdN6Sf/RcoWl1qiTCAS5vZRomPI1rhsPDMbaM7VJ4wM8eCcTsMfhE1Sf+iLNX6fh9cc+0FZKrPnITF8Ae5lm3uVKB2rhg3fpLzFEqk3VobVAPVx2ozbAqqstjzLLI1H7XKu14nDS7UZj8U6JRPPRZ2uDv+bgD34Jp21QlyxH1LVMAF0piZj7uz6nZjpujLGxxdEObOnnNuIBldruGdwyyyioeEn7iAbkcO/DSby3Fd43KEWfZoQWCQeJT+gf7t/jeUrRPDXE6xWZ2jIOdl8nZAAAAfEGflkUVLCP/AAADAHb3IRUvlIJdPDdFrNJmrH/cLUrM0tDF/t4SLLdm9Z1XWI1LTtMBpGoL5zPVghBIbq0f8PABetkwaFr7HlyvrgJEZZKqU0guBEQ8fOYKPpgOWvrhdVXVk6fLPuZrl8mdsem0uXw+eTRuhEcJowN+V8AAAACgAZ+1dEf/AAADABucT88w9RqmjVIAGiTNM6m5cqVILa98dYgelgTIZrseXXlUCH1bGh3BIN+4GnfxL1fv2oZxcgL7cW/UMLLzshtljj55PUVdcpwa166mqTrod9SpSPKVnG2oGkiD3J+MSpvR7/0tYzzsAdm1KzBbFrokSW9T3sZVfUmgM+R81LFPP0jv1HFoDMxpVyu69xIcd1tzV1UekAAAAIcBn7dqR/8AAAMAQ34/G03l4a9dVQAju840V03jNV2mcIeAm60p221ZwjY9q3StAveLwlXwxsDyQxI6n5jzxP066Bi8Ar1Q/D0BLdGWZ+SgjbAraNzQrTs+qx5wl20w84izjdYC2yds6U6v5lKTe89VJOauMHzGN5fgyd0az1Ek+e1FcP8uLNkAAAEVQZu8SahBbJlMCGf//p4QAAADAHy9jwj/2f/kAVK48xtjtCkCfnXZx8MgEPnBmyJDwAoADbT+Os0FXZ5dPDxrZ5GreOC2knwfLMcE5X5kSR2SDwSZMf3ywuu6Apk/j0kVob7dk7NecTqdVEnpJIxoK6InEQCvf3hyVkbzq1Ij31i61nKW8M75QIOCdjlZ3MXD/QK6u25rditjBKi0wZXuR+7+vG9u7R0FS2Jtch9tfFGJgaYfxwK3uDMRdaZeH1x3bwiukrlWVH1spQLbNl+iQq9VsRZfMiQSsyHmLlGf+tEbLnTMPqq64YSfrfanr8PCzIY7qCbH14urzlZM2hJkmB8YcykksTQfk+kwTdtxbnmSuriKKwAAAJBBn9pFFSwj/wAAAwB29x8dv8K52HCyAEjoMnd1Dvjsd//efi237+HDjbjZB+CdtEWrOgoz93Czg9HUNNsA+XY/tilUgScogJQv/fUTFcbSjquS2pstXtdGP6+THwjEMogrwuvOLy9ByoLfn0jgsui3h4Ror0fB+S12SubgcBDaI/4IuXMRp9BW+eST2Mcwi4AAAACHAZ/5dEf/AAADAEWGjjcwdUO5/OJnchx0EpjW1ABB77xlYIQPWLLplMmhobVaaG8+czrOmb76+nejnKxvye06unmCBaI5KgG2trqn6lEXaL/Uttglek7owcoxV1d70KXqeu6i5bij2BP/nPZDhH6FB4S1mV2ni+coONSJofDbVIF6oE1l8iZVAAAAkgGf+2pH/wAAAwBFZHuxOdoFTtNcAA21pQiMSLDa48+Tk6vqxF63C5xK/OFzfWBDZKE7UkMiUitSSkmZlMzQSmnOKy9jrcRu182NTJGY+rufXLrALV1pkfVOqgYHryc/QLGU7jcEw3Pez93gYYicSUHUAynvC76mFM/C0bwI2DGbUL1SN+TppMj+/GRGxINjJq2gAAABLUGb4EmoQWyZTAhn//6eEAAAAwA19K4ulWm49w0XlgCNXbu2A5rOZO37kgd7CiyjMdp2okeVT5P5S2mnFiNL+N1iDcsuJvkxB1eaRS4m1T4HvhuQq2tWdNl4ZFyX6HX14BzdVhDzsUAC2Jp3B1Tob11kfnRBYFLqEcDUOI6GeIpQQQtWW0oY2VUkMnx5jnpEZ1eszoKRNNADdm/nZ0qVrsPX5U4KWvnwtJVFKZee1zQawi/u0+xCbKIeIDSOmdggpwONV1jghje3Q9gK51zwABGj68MJ1/q1UwNj+z3OWzIMrW03fxZySAFawWpuzRllWKiwapcAdRE70noVZTLDn6DWoCswmM/QE0HBFHDHSGNDb7u/uIPEBzftVKWtuGQK9T81rVMlG7du288nfCEAAACjQZ4eRRUsI/8AAAMAdvcfHU4GgBuu8XconoRBbJ10Dz3HS06MmNmvMSKTRGC3sWz2YesbPIFjNv8MMVG+CSEHNf5KXDj4XK7quafmXoB82t9ATUmwNaCbYQf+oeiO1nKTlFaLKT7ujGZJzla0inQZdT7Tj6beKdBl7NEpV+FSWmTiN0+k475gkcPC23Kx6vQxdtQAjcc2rERFa8Ml+bOZPDVKSQAAAJgBnj10R/8AAAMAG6QvA0AAjIlry21fuwOZNutNB+ivDYLeexTxitcj1F7y2xfvogFbBcGdhvdLtsr39CD51C5nGxSQD+GHnQ3DCmwD37Jzlw27aX3k4Uv6Y71bSsjX/qNm8zPXz7uqQ0xcNrpKDl5R7DXON8FB7DIcekjCZG4UlzwqfBtt2a7mYlJpvkDIWSH02Rq5TS62+AAAAHQBnj9qR/8AAAMAHGfJgBMoS0hYWavCvRydqnqfo9M2SkYlMMS5ydwntOMFtVLEAR47ZAdsjptH0n7cFLMC+drnf6FEc97/hC0lvp/4Gyb6T0/BDqEB6arIfdwHkef4DQqTNrY5njOtTwRshTI+++upqaYR8QAAARFBmiRJqEFsmUwIZ//+nhAAAAMAM6R5zBGigAnNYz+xQBifFr0NZkcbOkmtS2X8XeVyDVL1ZFPJuM+YO2+uDma2eO4cTW47ayc+WCkqIhmkEEcbVxagYVcJbUS8w4c1XMajyRVTgQfyfRqKkY5CzQuH7R6VHP88HLLIEzt6+muNTIwvFiRiUh6D3BcQnUyi0mIEmAgfyTMl6VFzMD0cx/JJcP9u+ZnsTsAOw8eKMAhmdcl8vNEdNzub9BWVbflu/QxhUpftFMG1QZdRlND+67XL70+WA2RMINxlsIRaOKS/55l9Gi/90mMZ9K2n10/Pn/jaL/sp49HlvVk++yMxYMZ4wj78K09FbVsG1KHhK876rbMAAACPQZ5CRRUsI/8AAAMAdvchFAyciaR7H/ERYyMliFPAB+5kEeoqT+T9SEAMwL1u8sFGcxnSoQzwVDEbQ4itSu5hDi8Jy7g+vaYJHyqdGo+9PZ8oOIZ+QcXAJ7NNrPkp2x64V4+Xk/HaFNGcGyBzEd+wJlvYDGFXp4E6xrs26wICCAAIYxeJ0oT5HO1XcT+5G9EAAABcAZ5hdEf/AAADAENYdKX85ZpoprXNOZPspRAAWX7KNTGvt4Ma9LbBP+aiS/P4nuYxlBqo7sYq9+QgkD8ZCEj6V0yE9sYsUC4ZjwI4OstXJI+4X20xlyHTBmo5zZkAAABgAZ5jakf/AAADABoPaoHbNGgf4AC3i27/qobXlg51RXRz2TCQSe/EkEliTOwY+3DsOfl7/zM+0HlIc+bl81XaYkHuPUWoG7/Zxtm00sFqUSxS4mptiYrVMSNMlAnWIBEvAAAA+0GaaEmoQWyZTAhn//6eEAAAAwA3LtxwBWqTY91k8B/Rw+BjVy0FAm6TBZk8ip0uCV2Mf94AQrse/t3bckEdxKnh3TQsDxmGWl2n0dcp4c4WPkBV69iWbaTFrYYhe4rslhgi79cfxfBj/Otw9qvugDD8QG2iLydUY/yNEcTBPyhkV1ComdLUr3FVf5Jdd/krFQdia1DbxVT0ekykVF7+TnFPu/Rx/vUSd32l0lPMMP0FJcxsG48Ow78D3hKRY7NciVyBnVP7is5e38lix1tkcNHP38ausZGhZWGXiF/ZepMJRGbHwA7+6Eh05g0Xg05UBYkA/oRUdUfcZVTMAAAAq0GehkUVLCP/AAADAHb3Hya8qhgABc7xHiNDg4gx2Rox9KqsSHhaopG2k0pR3gowHm9Cma/9Edwo9GKOy+gt0jaxdrJEN4+OURN9uYdanYF7s8z/7PvLwuTIKMEqjnna42dVnLsElb/aKwNZGJVnkFqufPEuvg4WxTFej7Ftc1Xu/PThgrmVwgyEFciR1lArkE6AMlK1KDXRoamVmDtRf7eO2XhHeCY0GAemuQAAAEkBnqV0R/8AAAMAG6sjs6ld/+4ALY1ljkKjGzVNpO+2bRnJQSjYZpxlRFdqEZ/RP+TtarzLNzGvROblDKiUMJm+K1NKIlP1lNSAAAAARwGep2pH/wAAAwAcbJEgAfuarheW5RajHI2nYIXWuuwOZQ/peZoxvSt8dSxuIkGsDbAtym9Db6ypML1NG2mjWIjWxM1JceypAAAAq0GarEmoQWyZTAhn//6eEAAAAwA3NK4Sj1blAFsdM8w8/R9XzL3uEJ0/xDoMHAH7/InGPbvxmt2hBj99jf1GZEVwJyq5dOYYnarjTNMfU7JHnefth/1MXlWMXy3N8rJI34i+Ve0x/WfFQbhvjN/R5+Tf4AMrJyeUSNoPJK4hSHB0vLoOWxqIjCywGo7GXcKI0k70rKssvQi35TREgYh6M2OsXSle49nazL2Z5AAAAElBnspFFSwj/wAAAwB29x8mM3qNK3ADbRNTMD4wq+CIqUzY0j5/qvE3SJfnRySOgSP6k87YtuxqDRYjsQMz/3ffqu5sAzqa5bXdAAAAJAGe6XRH/wAAAwAcSMDzB2CriLjNpuRzl6zZH5qyUveE7q/58QAAABoBnutqR/8AAAMAGck9RvQPzcd63aOYV2kK2QAAAKhBmvBJqEFsmUwIZ//+nhAAAAMAM4BwBz5iADThifA3TXSmWpHLJeSzYHu0p8xAOSsxihow45aTHaifTj6JdTH1io/JwTuWGZZS6djk7ov10O40/6XGb6kZHZXVlDTTYJXKtBV17Uu2TLBBGqHWhYw9XnqI2AVPsbIr6gGtFqzsyp13ew7pC1bqDZPiiCk/qNcr9qXcrJa7hcQXbTIPPh2Wgn9gS+wgNSEAAABCQZ8ORRUsI/8AAAMAdvcfAiey6aGAA2Qav0Q4axkQmhc21XVcf0bnLywyIZRwari5x0mpD4kHx435Nx9q1GqI+NvmAAAAJQGfLXRH/wAAAwAaEAsrx9eOn7LcxhvSZ9SiEjuboa+zqNGnHz4AAAAfAZ8vakf/AAADAAo6YIdrwZCwHFP0JT4JTua1ZtKmzQAAAJ9BmzRJqEFsmUwIZ//+nhAAAAMAM3bBv3fAnN1hbEooBBGZ7pakCoAAj7+fca4fQIXCjIgU5M9PhBQmDex5UeAtvgdM3pHnBQYKARByQIapnbgw4OOGmqGOaL2HJolFDutD2BxbMqfZqTuAwA6EGkrUCuSLHhKrxBr2YO8TYaOBLOu2btGbuu5xih5R8Fe1lWQAc2WMITDV8vt/7Qas8sAAAAAkQZ9SRRUsI/8AAAMAdvce+V0LqszqZoLoxeLcJJ+pXSare8d0AAAAIAGfcXRH/wAAAwAaa95h3nuMqj++zYyY3z6ux2OlUNSBAAAAHgGfc2pH/wAAAwAaaT0/zqQAQk17iHwuBYS0oslnwQAAAFhBm3hJqEFsmUwIZ//+nhAAAAMAMO9WuAL/Bwn9r59l23GQ0z9+R8PbpSferZy4CCkW8zYtGK9CHOGHFZHd+Uh91AIsHDJXd39//8niMoJlJQTcw42BT7l7AAAAHkGflkUVLCP/AAADAHb3HvlcHY3ICs3kvI1gly0VJAAAABkBn7V0R/8AAAMAGRwrPzu8Qo3kCE/0s8LKAAAAEwGft2pH/wAAAwABdM73mSIHfKsAAAAcQZu8SahBbJlMCGf//p4QAAADAALV6t8D1kLF4AAAABhBn9pFFSwj/wAAAwB29x3SFgshGybb0kAAAAATAZ/5dEf/AAADAAF0GRBo+/aBVwAAABABn/tqR/8AAAMAAGmk8RdAAAAAF0Gb4EmoQWyZTAhf//6MsAAAAwAAAwNDAAAAFEGeHkUVLCP/AAADAHb3HcUwSdy9AAAAEAGePXRH/wAAAwAAaXCf9YAAAAAQAZ4/akf/AAADAABppPEXQQAAABdBmiRJqEFsmUwIX//+jLAAAAMAAAMDQgAAABRBnkJFFSwj/wAAAwB29x3FMEncvQAAABABnmF0R/8AAAMAAGlwn/WBAAAAEAGeY2pH/wAAAwAAaaTxF0AAAAAXQZpoSahBbJlMCF///oywAAADAAADA0IAAAAUQZ6GRRUsI/8AAAMAdvcdxTBJ3L0AAAAQAZ6ldEf/AAADAABpcJ/1gAAAABABnqdqR/8AAAMAAGmk8RdBAAAAFkGarEmoQWyZTAhX//44QAAAAwAADKgAAAAUQZ7KRRUsI/8AAAMAdvcdxTBJ3L0AAAAQAZ7pdEf/AAADAABpcJ/1gQAAABABnutqR/8AAAMAAGmk8RdBAAAAFkGa70moQWyZTAj//IQAAAMAAAMAwIEAAAAUQZ8NRRUsI/8AAAMAdvcdxTBJ3LwAAAAQAZ8uakf/AAADAABppPEXQAAAEj9tb292AAAAbG12aGQAAAAAAAAAAAAAAAAAAAPoAAAZyAABAAABAAAAAAAAAAAAAAAAAQAAAAAAAAAAAAAAAAAAAAEAAAAAAAAAAAAAAAAAAEAAAAAAAAAAAAAAAAAAAAAAAAAAAAAAAAAAAAAAAAACAAARaXRyYWsAAABcdGtoZAAAAAMAAAAAAAAAAAAAAAEAAAAAAAAZyAAAAAAAAAAAAAAAAAAAAAAAAQAAAAAAAAAAAAAAAAAAAAEAAAAAAAAAAAAAAAAAAEAAAAACWAAAAZAAAAAAACRlZHRzAAAAHGVsc3QAAAAAAAAAAQAAGcgAAAIAAAEAAAAAEOFtZGlhAAAAIG1kaGQAAAAAAAAAAAAAAAAAADIAAAFKAFXEAAAAAAAtaGRscgAAAAAAAAAAdmlkZQAAAAAAAAAAAAAAAFZpZGVvSGFuZGxlcgAAABCMbWluZgAAABR2bWhkAAAAAQAAAAAAAAAAAAAAJGRpbmYAAAAcZHJlZgAAAAAAAAABAAAADHVybCAAAAABAAAQTHN0YmwAAACYc3RzZAAAAAAAAAABAAAAiGF2YzEAAAAAAAAAAQAAAAAAAAAAAAAAAAAAAAACWAGQAEgAAABIAAAAAAAAAAEAAAAAAAAAAAAAAAAAAAAAAAAAAAAAAAAAAAAAAAAAAAAY//8AAAAyYXZjQwFkAB//4QAZZ2QAH6zZQJgz5eEAAAMAAQAAAwBkDxgxlgEABmjr48siwAAAABhzdHRzAAAAAAAAAAEAAAFKAAABAAAAABhzdHNzAAAAAAAAAAIAAAABAAAA+wAAChBjdHRzAAAAAAAAAUAAAAABAAACAAAAAAEAAAUAAAAAAQAAAgAAAAABAAAAAAAAAAEAAAEAAAAAAQAABQAAAAABAAACAAAAAAEAAAAAAAAAAQAAAQAAAAABAAAFAAAAAAEAAAIAAAAAAQAAAAAAAAABAAABAAAAAAEAAAQAAAAAAgAAAQAAAAABAAAEAAAAAAIAAAEAAAAAAQAABAAAAAACAAABAAAAAAEAAAQAAAAAAgAAAQAAAAABAAAEAAAAAAIAAAEAAAAAAQAABAAAAAACAAABAAAAAAEAAAUAAAAAAQAAAgAAAAABAAAAAAAAAAEAAAEAAAAAAQAABQAAAAABAAACAAAAAAEAAAAAAAAAAQAAAQAAAAABAAAFAAAAAAEAAAIAAAAAAQAAAAAAAAABAAABAAAAAAEAAAUAAAAAAQAAAgAAAAABAAAAAAAAAAEAAAEAAAAAAQAABQAAAAABAAACAAAAAAEAAAAAAAAAAQAAAQAAAAABAAAFAAAAAAEAAAIAAAAAAQAAAAAAAAABAAABAAAAAAEAAAUAAAAAAQAAAgAAAAABAAAAAAAAAAEAAAEAAAAAAQAAAwAAAAABAAABAAAAAAEAAAUAAAAAAQAAAgAAAAABAAAAAAAAAAEAAAEAAAAAAQAABQAAAAABAAACAAAAAAEAAAAAAAAAAQAAAQAAAAABAAAFAAAAAAEAAAIAAAAAAQAAAAAAAAABAAABAAAAAAEAAAQAAAAAAgAAAQAAAAABAAAEAAAAAAIAAAEAAAAAAQAABQAAAAABAAACAAAAAAEAAAAAAAAAAQAAAQAAAAABAAAFAAAAAAEAAAIAAAAAAQAAAAAAAAABAAABAAAAAAEAAAUAAAAAAQAAAgAAAAABAAAAAAAAAAEAAAEAAAAAAQAABQAAAAABAAACAAAAAAEAAAAAAAAAAQAAAQAAAAABAAAFAAAAAAEAAAIAAAAAAQAAAAAAAAABAAABAAAAAAEAAAUAAAAAAQAAAgAAAAABAAAAAAAAAAEAAAEAAAAAAQAABQAAAAABAAACAAAAAAEAAAAAAAAAAQAAAQAAAAABAAAFAAAAAAEAAAIAAAAAAQAAAAAAAAABAAABAAAAAAEAAAUAAAAAAQAAAgAAAAABAAAAAAAAAAEAAAEAAAAAAQAABQAAAAABAAACAAAAAAEAAAAAAAAAAQAAAQAAAAABAAAFAAAAAAEAAAIAAAAAAQAAAAAAAAABAAABAAAAAAEAAAUAAAAAAQAAAgAAAAABAAAAAAAAAAEAAAEAAAAAAQAABQAAAAABAAACAAAAAAEAAAAAAAAAAQAAAQAAAAABAAAFAAAAAAEAAAIAAAAAAQAAAAAAAAABAAABAAAAAAEAAAUAAAAAAQAAAgAAAAABAAAAAAAAAAEAAAEAAAAAAQAABQAAAAABAAACAAAAAAEAAAAAAAAAAQAAAQAAAAABAAAFAAAAAAEAAAIAAAAAAQAAAAAAAAABAAABAAAAAAEAAAUAAAAAAQAAAgAAAAABAAAAAAAAAAEAAAEAAAAAAQAABQAAAAABAAACAAAAAAEAAAAAAAAAAQAAAQAAAAABAAAFAAAAAAEAAAIAAAAAAQAAAAAAAAABAAABAAAAAAEAAAUAAAAAAQAAAgAAAAABAAAAAAAAAAEAAAEAAAAAAQAABQAAAAABAAACAAAAAAEAAAAAAAAAAQAAAQAAAAABAAAFAAAAAAEAAAIAAAAAAQAAAAAAAAABAAABAAAAAAEAAAUAAAAAAQAAAgAAAAABAAAAAAAAAAEAAAEAAAAAAQAABQAAAAABAAACAAAAAAEAAAAAAAAAAQAAAQAAAAABAAAFAAAAAAEAAAIAAAAAAQAAAAAAAAABAAABAAAAAAEAAAUAAAAAAQAAAgAAAAABAAAAAAAAAAEAAAEAAAAAAQAABQAAAAABAAACAAAAAAEAAAAAAAAAAQAAAQAAAAABAAAFAAAAAAEAAAIAAAAAAQAAAAAAAAABAAABAAAAAAEAAAUAAAAAAQAAAgAAAAABAAAAAAAAAAEAAAEAAAAAAQAABQAAAAABAAACAAAAAAEAAAAAAAAAAQAAAQAAAAABAAAFAAAAAAEAAAIAAAAAAQAAAAAAAAABAAABAAAAAAEAAAUAAAAAAQAAAgAAAAABAAAAAAAAAAEAAAEAAAAAAQAABQAAAAABAAACAAAAAAEAAAAAAAAAAQAAAQAAAAABAAAFAAAAAAEAAAIAAAAAAQAAAAAAAAABAAABAAAAAAEAAAUAAAAAAQAAAgAAAAABAAAAAAAAAAEAAAEAAAAAAQAABQAAAAABAAACAAAAAAEAAAAAAAAAAQAAAQAAAAABAAAFAAAAAAEAAAIAAAAAAQAAAAAAAAABAAABAAAAAAEAAAUAAAAAAQAAAgAAAAABAAAAAAAAAAEAAAEAAAAAAQAABQAAAAABAAACAAAAAAEAAAAAAAAAAQAAAQAAAAABAAAFAAAAAAEAAAIAAAAAAQAAAAAAAAABAAABAAAAAAEAAAUAAAAAAQAAAgAAAAABAAAAAAAAAAEAAAEAAAAAAQAABAAAAAACAAABAAAAAAEAAAIAAAAAAQAABQAAAAABAAACAAAAAAEAAAAAAAAAAQAAAQAAAAABAAAFAAAAAAEAAAIAAAAAAQAAAAAAAAABAAABAAAAAAEAAAUAAAAAAQAAAgAAAAABAAAAAAAAAAEAAAEAAAAAAQAABQAAAAABAAACAAAAAAEAAAAAAAAAAQAAAQAAAAABAAAFAAAAAAEAAAIAAAAAAQAAAAAAAAABAAABAAAAAAEAAAUAAAAAAQAAAgAAAAABAAAAAAAAAAEAAAEAAAAAAQAABQAAAAABAAACAAAAAAEAAAAAAAAAAQAAAQAAAAABAAAFAAAAAAEAAAIAAAAAAQAAAAAAAAABAAABAAAAAAEAAAUAAAAAAQAAAgAAAAABAAAAAAAAAAEAAAEAAAAAAQAABQAAAAABAAACAAAAAAEAAAAAAAAAAQAAAQAAAAABAAAFAAAAAAEAAAIAAAAAAQAAAAAAAAABAAABAAAAAAEAAAUAAAAAAQAAAgAAAAABAAAAAAAAAAEAAAEAAAAAAQAABQAAAAABAAACAAAAAAEAAAAAAAAAAQAAAQAAAAABAAAFAAAAAAEAAAIAAAAAAQAAAAAAAAABAAABAAAAAAEAAAUAAAAAAQAAAgAAAAABAAAAAAAAAAEAAAEAAAAAAQAABQAAAAABAAACAAAAAAEAAAAAAAAAAQAAAQAAAAABAAAFAAAAAAEAAAIAAAAAAQAAAAAAAAABAAABAAAAAAEAAAUAAAAAAQAAAgAAAAABAAAAAAAAAAEAAAEAAAAAAQAABQAAAAABAAACAAAAAAEAAAAAAAAAAQAAAQAAAAABAAAEAAAAAAIAAAEAAAAAHHN0c2MAAAAAAAAAAQAAAAEAAAFKAAAAAQAABTxzdHN6AAAAAAAAAAAAAAFKAAAIwwAAAMkAAABVAAAATgAAAEEAAACBAAAATQAAAD8AAAA5AAAAoQAAAEQAAAAvAAAANAAAAMgAAABZAAAAPAAAAMcAAABrAAAAQQAAANMAAABQAAAAQgAAATcAAACCAAAAsQAAAWQAAAC0AAAAtAAAAPMAAAC1AAAAsQAAAUUAAAD0AAAAigAAALEAAAEfAAAAxQAAAJgAAACzAAABLQAAAMUAAACdAAAApQAAASIAAAC8AAAAxwAAALwAAAFLAAAAoQAAAJwAAACtAAABTQAAAMAAAACpAAAAsQAAATsAAADLAAAAqgAAAJIAAAEfAAAAlwAAAOkAAADLAAAAtAAAAKgAAAEUAAAA2AAAAK8AAACjAAABDgAAAN0AAACLAAAAuwAAASEAAACoAAAAggAAANUAAACsAAAAqwAAAUIAAAC7AAAArgAAAMAAAAFPAAAA0wAAAKgAAACFAAABYQAAAMoAAACYAAAArAAAAQoAAADUAAAAnQAAAJAAAAEZAAAAtAAAALAAAACjAAABBgAAALEAAACUAAAAmgAAASsAAADRAAAAqwAAANgAAAEGAAAAxAAAAMUAAADDAAABNAAAAL8AAAC9AAAAyAAAASkAAADEAAAAmwAAAKkAAAEOAAAAuwAAAMQAAACdAAABGQAAAJEAAACoAAAAyAAAAPQAAADBAAAAwAAAAL0AAAEnAAAAvQAAAMgAAAC3AAABJQAAAL8AAAC7AAAAwAAAANAAAAC6AAAA0wAAAMgAAADHAAAAeAAAANsAAADCAAAA6AAAAL0AAADFAAAApwAAAUUAAAC5AAAApQAAAJAAAAEqAAAAyAAAALYAAACyAAABFQAAANQAAACMAAAAjQAAAPkAAACeAAAAnAAAAJwAAAEdAAAArwAAAMAAAACjAAABEAAAAKkAAACvAAAAsAAAAToAAACuAAAArAAAAJcAAAEFAAAAyQAAAJgAAACqAAABGgAAAMcAAACoAAAAqAAAAPsAAADIAAAAigAAAMkAAAEFAAAAoQAAALcAAACyAAABJAAAAJQAAAC3AAAAuQAAAR4AAADBAAAAzwAAAK0AAADFAAAAtQAAAKcAAAC7AAAA6wAAAMgAAADYAAAArwAAAQwAAADEAAAAxwAAAKYAAAEiAAAA1AAAAKMAAAC4AAABHQAAAN0AAAC9AAAAqQAAAWQAAADaAAAApwAAAJwAAAFJAAAA2wAAAIwAAAC7AAABTQAAAMcAAAC4AAAAqwAAAScAAADgAAAAoAAAAMQAAADsAAAA1gAAAK8AAADNAAABZgAAAMMAAADCAAAAxwAAALoAAACtAAAAnwAAB/YAAAF/AAAAkAAAAH0AAACkAAABGQAAALkAAACQAAAAlQAAAN8AAACHAAAAmgAAAIwAAAEQAAAAugAAAKYAAADCAAAAzgAAAKsAAACRAAAAtwAAAOcAAACAAAAApAAAAIsAAAEZAAAAlAAAAIsAAACWAAABMQAAAKcAAACcAAAAeAAAARUAAACTAAAAYAAAAGQAAAD/AAAArwAAAE0AAABLAAAArwAAAE0AAAAoAAAAHgAAAKwAAABGAAAAKQAAACMAAACjAAAAKAAAACQAAAAiAAAAXAAAACIAAAAdAAAAFwAAACAAAAAcAAAAFwAAABQAAAAbAAAAGAAAABQAAAAUAAAAGwAAABgAAAAUAAAAFAAAABsAAAAYAAAAFAAAABQAAAAaAAAAGAAAABQAAAAUAAAAGgAAABgAAAAUAAAAFHN0Y28AAAAAAAAAAQAAADAAAABidWR0YQAAAFptZXRhAAAAAAAAACFoZGxyAAAAAAAAAABtZGlyYXBwbAAAAAAAAAAAAAAAAC1pbHN0AAAAJal0b28AAAAdZGF0YQAAAAEAAAAATGF2ZjU3LjgzLjEwMA==\" type=\"video/mp4\" />\n",
              "             </video>"
            ]
          },
          "metadata": {}
        },
        {
          "output_type": "stream",
          "name": "stdout",
          "text": [
            "reward = 285.9686929200702\n"
          ]
        }
      ]
    },
    {
      "cell_type": "markdown",
      "source": [
        "# Train Agent on DDQN"
      ],
      "metadata": {
        "id": "mALjl2TMozCa"
      }
    },
    {
      "cell_type": "code",
      "source": [
        "#set up parameters for agent\n",
        "seed = 0\n",
        "learning_rate = 5e-4\n",
        "memory_capacity = 100000\n",
        "batch_size = 64\n",
        "update_every = 4\n",
        "gamma = 0.99 \n",
        "tau = 0.001\n",
        "ddqn = True #using DQN now\n",
        "\n",
        "#training params \n",
        "num_episodes = 2000\n",
        "max_steps = 1000\n",
        "eps_start = 1.0\n",
        "eps_end = 0.01\n",
        "eps_decay = 0.995\n",
        "\n",
        "\n",
        "agent = Agent(num_states, num_actions, seed, learning_rate, memory_capacity, batch_size, update_every, gamma, tau, \n",
        "              ddqn )\n",
        "scores = train_ddqn(env, agent, num_episodes, max_steps , eps_start, eps_end , eps_decay)\n",
        "\n",
        "\n"
      ],
      "metadata": {
        "id": "izAySBoMoeud",
        "outputId": "c108bbd4-9f57-400a-c998-62a21cd10c3f",
        "colab": {
          "base_uri": "https://localhost:8080/",
          "height": 536
        }
      },
      "execution_count": null,
      "outputs": [
        {
          "output_type": "stream",
          "name": "stdout",
          "text": [
            "Episode 100\tAverage Score: -191.20\n",
            "Episode 200\tAverage Score: -117.45\n",
            "Episode 300\tAverage Score: -60.10\n",
            "Episode 400\tAverage Score: -12.22\n",
            "Episode 459\tAverage Score: 45.14"
          ]
        },
        {
          "output_type": "error",
          "ename": "KeyboardInterrupt",
          "evalue": "ignored",
          "traceback": [
            "\u001b[0;31m---------------------------------------------------------------------------\u001b[0m",
            "\u001b[0;31mKeyboardInterrupt\u001b[0m                         Traceback (most recent call last)",
            "\u001b[0;32m<ipython-input-21-938c4677371d>\u001b[0m in \u001b[0;36m<module>\u001b[0;34m\u001b[0m\n\u001b[1;32m     19\u001b[0m agent = Agent(num_states, num_actions, seed, learning_rate, memory_capacity, batch_size, update_every, gamma, tau, \n\u001b[1;32m     20\u001b[0m               ddqn )\n\u001b[0;32m---> 21\u001b[0;31m \u001b[0mscores\u001b[0m \u001b[0;34m=\u001b[0m \u001b[0mtrain_ddqn\u001b[0m\u001b[0;34m(\u001b[0m\u001b[0menv\u001b[0m\u001b[0;34m,\u001b[0m \u001b[0magent\u001b[0m\u001b[0;34m,\u001b[0m \u001b[0mnum_episodes\u001b[0m\u001b[0;34m,\u001b[0m \u001b[0mmax_steps\u001b[0m \u001b[0;34m,\u001b[0m \u001b[0meps_start\u001b[0m\u001b[0;34m,\u001b[0m \u001b[0meps_end\u001b[0m \u001b[0;34m,\u001b[0m \u001b[0meps_decay\u001b[0m\u001b[0;34m)\u001b[0m\u001b[0;34m\u001b[0m\u001b[0;34m\u001b[0m\u001b[0m\n\u001b[0m\u001b[1;32m     22\u001b[0m \u001b[0;34m\u001b[0m\u001b[0m\n\u001b[1;32m     23\u001b[0m \u001b[0;34m\u001b[0m\u001b[0m\n",
            "\u001b[0;32m<ipython-input-13-45723f59ec35>\u001b[0m in \u001b[0;36mtrain_ddqn\u001b[0;34m(env, agent, num_episodes, max_steps, eps_start, eps_end, eps_decay)\u001b[0m\n\u001b[1;32m     13\u001b[0m       \u001b[0mnext_state\u001b[0m\u001b[0;34m,\u001b[0m \u001b[0mreward\u001b[0m\u001b[0;34m,\u001b[0m \u001b[0mdone\u001b[0m\u001b[0;34m,\u001b[0m \u001b[0m_\u001b[0m \u001b[0;34m=\u001b[0m \u001b[0menv\u001b[0m\u001b[0;34m.\u001b[0m\u001b[0mstep\u001b[0m\u001b[0;34m(\u001b[0m\u001b[0maction\u001b[0m\u001b[0;34m)\u001b[0m\u001b[0;34m\u001b[0m\u001b[0;34m\u001b[0m\u001b[0m\n\u001b[1;32m     14\u001b[0m       \u001b[0;31m#store experience in memory & learn\u001b[0m\u001b[0;34m\u001b[0m\u001b[0;34m\u001b[0m\u001b[0;34m\u001b[0m\u001b[0m\n\u001b[0;32m---> 15\u001b[0;31m       \u001b[0magent\u001b[0m\u001b[0;34m.\u001b[0m\u001b[0mexecute_action\u001b[0m\u001b[0;34m(\u001b[0m\u001b[0mstate\u001b[0m\u001b[0;34m,\u001b[0m \u001b[0maction\u001b[0m\u001b[0;34m,\u001b[0m \u001b[0mreward\u001b[0m\u001b[0;34m,\u001b[0m \u001b[0mnext_state\u001b[0m\u001b[0;34m,\u001b[0m \u001b[0mdone\u001b[0m\u001b[0;34m)\u001b[0m\u001b[0;34m\u001b[0m\u001b[0;34m\u001b[0m\u001b[0m\n\u001b[0m\u001b[1;32m     16\u001b[0m \u001b[0;34m\u001b[0m\u001b[0m\n\u001b[1;32m     17\u001b[0m       \u001b[0;31m#update state & rewards\u001b[0m\u001b[0;34m\u001b[0m\u001b[0;34m\u001b[0m\u001b[0;34m\u001b[0m\u001b[0m\n",
            "\u001b[0;32m<ipython-input-12-8737defaa33e>\u001b[0m in \u001b[0;36mexecute_action\u001b[0;34m(self, state, action, reward, next_state, done)\u001b[0m\n\u001b[1;32m     45\u001b[0m       \u001b[0;31m#check if there are enough experiences\u001b[0m\u001b[0;34m\u001b[0m\u001b[0;34m\u001b[0m\u001b[0;34m\u001b[0m\u001b[0m\n\u001b[1;32m     46\u001b[0m       \u001b[0;32mif\u001b[0m \u001b[0mlen\u001b[0m\u001b[0;34m(\u001b[0m\u001b[0mself\u001b[0m\u001b[0;34m.\u001b[0m\u001b[0mmemory\u001b[0m\u001b[0;34m)\u001b[0m \u001b[0;34m>\u001b[0m \u001b[0mself\u001b[0m\u001b[0;34m.\u001b[0m\u001b[0mbatch_size\u001b[0m\u001b[0;34m:\u001b[0m\u001b[0;34m\u001b[0m\u001b[0;34m\u001b[0m\u001b[0m\n\u001b[0;32m---> 47\u001b[0;31m         \u001b[0mexp\u001b[0m \u001b[0;34m=\u001b[0m \u001b[0mself\u001b[0m\u001b[0;34m.\u001b[0m\u001b[0mmemory\u001b[0m\u001b[0;34m.\u001b[0m\u001b[0msample_exp\u001b[0m\u001b[0;34m(\u001b[0m\u001b[0mself\u001b[0m\u001b[0;34m.\u001b[0m\u001b[0mbatch_size\u001b[0m\u001b[0;34m)\u001b[0m\u001b[0;34m\u001b[0m\u001b[0;34m\u001b[0m\u001b[0m\n\u001b[0m\u001b[1;32m     48\u001b[0m         \u001b[0;31m#learn from experience\u001b[0m\u001b[0;34m\u001b[0m\u001b[0;34m\u001b[0m\u001b[0;34m\u001b[0m\u001b[0m\n\u001b[1;32m     49\u001b[0m         \u001b[0mself\u001b[0m\u001b[0;34m.\u001b[0m\u001b[0mddqn_learn\u001b[0m\u001b[0;34m(\u001b[0m\u001b[0mexp\u001b[0m\u001b[0;34m,\u001b[0m \u001b[0mself\u001b[0m\u001b[0;34m.\u001b[0m\u001b[0mgamma\u001b[0m\u001b[0;34m)\u001b[0m\u001b[0;34m\u001b[0m\u001b[0;34m\u001b[0m\u001b[0m\n",
            "\u001b[0;32m<ipython-input-5-9d002a3c6b87>\u001b[0m in \u001b[0;36msample_exp\u001b[0;34m(self, n)\u001b[0m\n\u001b[1;32m     52\u001b[0m     \u001b[0mnext_states\u001b[0m \u001b[0;34m=\u001b[0m \u001b[0mtorch\u001b[0m\u001b[0;34m.\u001b[0m\u001b[0mfrom_numpy\u001b[0m\u001b[0;34m(\u001b[0m\u001b[0mnp\u001b[0m\u001b[0;34m.\u001b[0m\u001b[0mvstack\u001b[0m\u001b[0;34m(\u001b[0m\u001b[0mnext_states\u001b[0m\u001b[0;34m)\u001b[0m\u001b[0;34m)\u001b[0m\u001b[0;34m.\u001b[0m\u001b[0mto\u001b[0m\u001b[0;34m(\u001b[0m\u001b[0mtorch\u001b[0m\u001b[0;34m.\u001b[0m\u001b[0mfloat\u001b[0m\u001b[0;34m)\u001b[0m\u001b[0;34m.\u001b[0m\u001b[0mto\u001b[0m\u001b[0;34m(\u001b[0m\u001b[0mdevice\u001b[0m\u001b[0;34m)\u001b[0m\u001b[0;34m\u001b[0m\u001b[0;34m\u001b[0m\u001b[0m\n\u001b[1;32m     53\u001b[0m     \u001b[0mrewards\u001b[0m \u001b[0;34m=\u001b[0m \u001b[0mtorch\u001b[0m\u001b[0;34m.\u001b[0m\u001b[0mfrom_numpy\u001b[0m\u001b[0;34m(\u001b[0m\u001b[0mnp\u001b[0m\u001b[0;34m.\u001b[0m\u001b[0mvstack\u001b[0m\u001b[0;34m(\u001b[0m\u001b[0mrewards\u001b[0m\u001b[0;34m)\u001b[0m\u001b[0;34m)\u001b[0m\u001b[0;34m.\u001b[0m\u001b[0mto\u001b[0m\u001b[0;34m(\u001b[0m\u001b[0mtorch\u001b[0m\u001b[0;34m.\u001b[0m\u001b[0mfloat\u001b[0m\u001b[0;34m)\u001b[0m\u001b[0;34m.\u001b[0m\u001b[0mto\u001b[0m\u001b[0;34m(\u001b[0m\u001b[0mdevice\u001b[0m\u001b[0;34m)\u001b[0m\u001b[0;34m\u001b[0m\u001b[0;34m\u001b[0m\u001b[0m\n\u001b[0;32m---> 54\u001b[0;31m     \u001b[0mdones\u001b[0m \u001b[0;34m=\u001b[0m \u001b[0mtorch\u001b[0m\u001b[0;34m.\u001b[0m\u001b[0mfrom_numpy\u001b[0m\u001b[0;34m(\u001b[0m\u001b[0mnp\u001b[0m\u001b[0;34m.\u001b[0m\u001b[0mvstack\u001b[0m\u001b[0;34m(\u001b[0m\u001b[0mdones\u001b[0m\u001b[0;34m)\u001b[0m\u001b[0;34m.\u001b[0m\u001b[0mastype\u001b[0m\u001b[0;34m(\u001b[0m\u001b[0mnp\u001b[0m\u001b[0;34m.\u001b[0m\u001b[0muint8\u001b[0m\u001b[0;34m)\u001b[0m\u001b[0;34m)\u001b[0m\u001b[0;34m.\u001b[0m\u001b[0mto\u001b[0m\u001b[0;34m(\u001b[0m\u001b[0mtorch\u001b[0m\u001b[0;34m.\u001b[0m\u001b[0mfloat\u001b[0m\u001b[0;34m)\u001b[0m\u001b[0;34m.\u001b[0m\u001b[0mto\u001b[0m\u001b[0;34m(\u001b[0m\u001b[0mdevice\u001b[0m\u001b[0;34m)\u001b[0m\u001b[0;34m\u001b[0m\u001b[0;34m\u001b[0m\u001b[0m\n\u001b[0m\u001b[1;32m     55\u001b[0m \u001b[0;34m\u001b[0m\u001b[0m\n\u001b[1;32m     56\u001b[0m     \u001b[0;31m#return as tuple\u001b[0m\u001b[0;34m\u001b[0m\u001b[0;34m\u001b[0m\u001b[0;34m\u001b[0m\u001b[0m\n",
            "\u001b[0;32m<__array_function__ internals>\u001b[0m in \u001b[0;36mvstack\u001b[0;34m(*args, **kwargs)\u001b[0m\n",
            "\u001b[0;32m/usr/local/lib/python3.7/dist-packages/numpy/core/shape_base.py\u001b[0m in \u001b[0;36mvstack\u001b[0;34m(tup)\u001b[0m\n\u001b[1;32m    277\u001b[0m         \u001b[0;31m# raise warning if necessary\u001b[0m\u001b[0;34m\u001b[0m\u001b[0;34m\u001b[0m\u001b[0;34m\u001b[0m\u001b[0m\n\u001b[1;32m    278\u001b[0m         \u001b[0m_arrays_for_stack_dispatcher\u001b[0m\u001b[0;34m(\u001b[0m\u001b[0mtup\u001b[0m\u001b[0;34m,\u001b[0m \u001b[0mstacklevel\u001b[0m\u001b[0;34m=\u001b[0m\u001b[0;36m2\u001b[0m\u001b[0;34m)\u001b[0m\u001b[0;34m\u001b[0m\u001b[0;34m\u001b[0m\u001b[0m\n\u001b[0;32m--> 279\u001b[0;31m     \u001b[0marrs\u001b[0m \u001b[0;34m=\u001b[0m \u001b[0matleast_2d\u001b[0m\u001b[0;34m(\u001b[0m\u001b[0;34m*\u001b[0m\u001b[0mtup\u001b[0m\u001b[0;34m)\u001b[0m\u001b[0;34m\u001b[0m\u001b[0;34m\u001b[0m\u001b[0m\n\u001b[0m\u001b[1;32m    280\u001b[0m     \u001b[0;32mif\u001b[0m \u001b[0;32mnot\u001b[0m \u001b[0misinstance\u001b[0m\u001b[0;34m(\u001b[0m\u001b[0marrs\u001b[0m\u001b[0;34m,\u001b[0m \u001b[0mlist\u001b[0m\u001b[0;34m)\u001b[0m\u001b[0;34m:\u001b[0m\u001b[0;34m\u001b[0m\u001b[0;34m\u001b[0m\u001b[0m\n\u001b[1;32m    281\u001b[0m         \u001b[0marrs\u001b[0m \u001b[0;34m=\u001b[0m \u001b[0;34m[\u001b[0m\u001b[0marrs\u001b[0m\u001b[0;34m]\u001b[0m\u001b[0;34m\u001b[0m\u001b[0;34m\u001b[0m\u001b[0m\n",
            "\u001b[0;32m<__array_function__ internals>\u001b[0m in \u001b[0;36matleast_2d\u001b[0;34m(*args, **kwargs)\u001b[0m\n",
            "\u001b[0;32m/usr/local/lib/python3.7/dist-packages/numpy/core/shape_base.py\u001b[0m in \u001b[0;36matleast_2d\u001b[0;34m(*arys)\u001b[0m\n\u001b[1;32m    117\u001b[0m \u001b[0;34m\u001b[0m\u001b[0m\n\u001b[1;32m    118\u001b[0m     \"\"\"\n\u001b[0;32m--> 119\u001b[0;31m     \u001b[0mres\u001b[0m \u001b[0;34m=\u001b[0m \u001b[0;34m[\u001b[0m\u001b[0;34m]\u001b[0m\u001b[0;34m\u001b[0m\u001b[0;34m\u001b[0m\u001b[0m\n\u001b[0m\u001b[1;32m    120\u001b[0m     \u001b[0;32mfor\u001b[0m \u001b[0mary\u001b[0m \u001b[0;32min\u001b[0m \u001b[0marys\u001b[0m\u001b[0;34m:\u001b[0m\u001b[0;34m\u001b[0m\u001b[0;34m\u001b[0m\u001b[0m\n\u001b[1;32m    121\u001b[0m         \u001b[0mary\u001b[0m \u001b[0;34m=\u001b[0m \u001b[0masanyarray\u001b[0m\u001b[0;34m(\u001b[0m\u001b[0mary\u001b[0m\u001b[0;34m)\u001b[0m\u001b[0;34m\u001b[0m\u001b[0;34m\u001b[0m\u001b[0m\n",
            "\u001b[0;31mKeyboardInterrupt\u001b[0m: "
          ]
        }
      ]
    },
    {
      "cell_type": "code",
      "source": [
        "\n",
        "display = Display(visible=0, size=(1400, 900))\n",
        "display.start()\n",
        "env = wrap_env(gym.make('LunarLander-v2'))\n",
        "play_game(agent, render=True)"
      ],
      "metadata": {
        "id": "EVtsQsfNo3MA"
      },
      "execution_count": null,
      "outputs": []
    }
  ]
}