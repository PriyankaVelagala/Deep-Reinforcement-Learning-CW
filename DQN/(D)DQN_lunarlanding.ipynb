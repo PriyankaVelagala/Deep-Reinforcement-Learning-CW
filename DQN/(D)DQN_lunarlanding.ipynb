{
  "cells": [
    {
      "cell_type": "code",
      "execution_count": 1,
      "metadata": {
        "id": "UC0YBv93ZFSw",
        "colab": {
          "base_uri": "https://localhost:8080/"
        },
        "outputId": "9dc1343a-468a-45fc-f3ee-ce10a2a3a36c"
      },
      "outputs": [
        {
          "output_type": "stream",
          "name": "stdout",
          "text": [
            "Requirement already satisfied: box2d-py in /usr/local/lib/python3.7/dist-packages (2.3.8)\n",
            "Requirement already satisfied: gym[Box_2D] in /usr/local/lib/python3.7/dist-packages (0.17.3)\n",
            "\u001b[33mWARNING: gym 0.17.3 does not provide the extra 'box_2d'\u001b[0m\n",
            "Requirement already satisfied: scipy in /usr/local/lib/python3.7/dist-packages (from gym[Box_2D]) (1.4.1)\n",
            "Requirement already satisfied: cloudpickle<1.7.0,>=1.2.0 in /usr/local/lib/python3.7/dist-packages (from gym[Box_2D]) (1.3.0)\n",
            "Requirement already satisfied: numpy>=1.10.4 in /usr/local/lib/python3.7/dist-packages (from gym[Box_2D]) (1.21.6)\n",
            "Requirement already satisfied: pyglet<=1.5.0,>=1.4.0 in /usr/local/lib/python3.7/dist-packages (from gym[Box_2D]) (1.5.0)\n",
            "Requirement already satisfied: future in /usr/local/lib/python3.7/dist-packages (from pyglet<=1.5.0,>=1.4.0->gym[Box_2D]) (0.16.0)\n",
            "Requirement already satisfied: ipdb in /usr/local/lib/python3.7/dist-packages (0.13.9)\n",
            "Requirement already satisfied: setuptools in /usr/local/lib/python3.7/dist-packages (from ipdb) (57.4.0)\n",
            "Requirement already satisfied: decorator in /usr/local/lib/python3.7/dist-packages (from ipdb) (4.4.2)\n",
            "Requirement already satisfied: toml>=0.10.2 in /usr/local/lib/python3.7/dist-packages (from ipdb) (0.10.2)\n",
            "Requirement already satisfied: ipython>=7.17.0 in /usr/local/lib/python3.7/dist-packages (from ipdb) (7.32.0)\n",
            "Requirement already satisfied: matplotlib-inline in /usr/local/lib/python3.7/dist-packages (from ipython>=7.17.0->ipdb) (0.1.3)\n",
            "Requirement already satisfied: pexpect>4.3 in /usr/local/lib/python3.7/dist-packages (from ipython>=7.17.0->ipdb) (4.8.0)\n",
            "Requirement already satisfied: jedi>=0.16 in /usr/local/lib/python3.7/dist-packages (from ipython>=7.17.0->ipdb) (0.18.1)\n",
            "Requirement already satisfied: traitlets>=4.2 in /usr/local/lib/python3.7/dist-packages (from ipython>=7.17.0->ipdb) (5.1.1)\n",
            "Requirement already satisfied: backcall in /usr/local/lib/python3.7/dist-packages (from ipython>=7.17.0->ipdb) (0.2.0)\n",
            "Requirement already satisfied: pygments in /usr/local/lib/python3.7/dist-packages (from ipython>=7.17.0->ipdb) (2.6.1)\n",
            "Requirement already satisfied: prompt-toolkit!=3.0.0,!=3.0.1,<3.1.0,>=2.0.0 in /usr/local/lib/python3.7/dist-packages (from ipython>=7.17.0->ipdb) (3.0.29)\n",
            "Requirement already satisfied: pickleshare in /usr/local/lib/python3.7/dist-packages (from ipython>=7.17.0->ipdb) (0.7.5)\n",
            "Requirement already satisfied: parso<0.9.0,>=0.8.0 in /usr/local/lib/python3.7/dist-packages (from jedi>=0.16->ipython>=7.17.0->ipdb) (0.8.3)\n",
            "Requirement already satisfied: ptyprocess>=0.5 in /usr/local/lib/python3.7/dist-packages (from pexpect>4.3->ipython>=7.17.0->ipdb) (0.7.0)\n",
            "Requirement already satisfied: wcwidth in /usr/local/lib/python3.7/dist-packages (from prompt-toolkit!=3.0.0,!=3.0.1,<3.1.0,>=2.0.0->ipython>=7.17.0->ipdb) (0.2.5)\n"
          ]
        }
      ],
      "source": [
        "!pip3 install box2d-py\n",
        "!pip3 install gym[Box_2D]\n",
        "!pip3 install ipdb\n",
        "\n",
        "!pip install gym pyvirtualdisplay > /dev/null 2>&1\n",
        "!apt-get install -y xvfb python-opengl ffmpeg > /dev/null 2>&1"
      ]
    },
    {
      "cell_type": "code",
      "execution_count": 2,
      "metadata": {
        "id": "TnBmoW03ZiGN"
      },
      "outputs": [],
      "source": [
        "import gym\n",
        "import math\n",
        "import random\n",
        "import pandas as pd\n",
        "import torch\n",
        "import torch.nn as nn\n",
        "import torch.nn.functional as F\n",
        "import numpy as np\n",
        "from collections import deque\n",
        "import torch.optim as optim\n",
        "import matplotlib.pyplot as plt\n",
        "from collections import namedtuple, deque\n",
        "from itertools import count\n",
        "from gym import wrappers\n",
        "import time\n",
        "from IPython.display import clear_output"
      ]
    },
    {
      "cell_type": "code",
      "execution_count": 3,
      "metadata": {
        "id": "cMNluhHrob_1"
      },
      "outputs": [],
      "source": [
        "# For visualization\n",
        "from gym.wrappers.monitoring import video_recorder\n",
        "from IPython.display import HTML\n",
        "from IPython import display \n",
        "import glob\n",
        "import base64, io\n",
        "from pyvirtualdisplay import Display\n",
        "from IPython import display as ipythondisplay\n",
        "from gym.wrappers import Monitor"
      ]
    },
    {
      "cell_type": "code",
      "source": [
        "def plot_scores(scores):\n",
        "    fig = plt.figure()\n",
        "    ax = fig.add_subplot(111)\n",
        "    plt.plot(np.arange(len(scores)), scores)\n",
        "    plt.ylabel('Score')\n",
        "    plt.xlabel('Episode #')\n",
        "     \n",
        "    # Take 100 episode averages and plot them too\n",
        "    if len(scores) >= 100:\n",
        "        cumsum_vec = np.cumsum(np.insert(scores, 0, 0)) \n",
        "        ma_vec = (cumsum_vec[100:] - cumsum_vec[:-100]) / 100 \n",
        "        plt.plot(ma_vec)\n",
        "    \n",
        "    plt.show()\n"
      ],
      "metadata": {
        "id": "XtZ5IQeg9x-x"
      },
      "execution_count": 4,
      "outputs": []
    },
    {
      "cell_type": "markdown",
      "source": [
        "#Q Network Class"
      ],
      "metadata": {
        "id": "P8oTHlnge2Ko"
      }
    },
    {
      "cell_type": "code",
      "execution_count": 5,
      "metadata": {
        "id": "ZDlE3HDWcDEj"
      },
      "outputs": [],
      "source": [
        "\"\"\"\n",
        "Q-network class\n",
        "\"\"\"\n",
        "class QNetwork(nn.Module):\n",
        "  def __init__(self, num_states, num_actions, hidden_layers, seed=0):\n",
        "    super(QNetwork, self).__init__()\n",
        "    self.seed = torch.manual_seed(seed)\n",
        "    self.fc1 = nn.Linear(num_states, hidden_layers[0])\n",
        "    self.fc2 = nn.Linear(hidden_layers[0], hidden_layers[1])\n",
        "    self.fc3 = nn.Linear(hidden_layers[1], num_actions)\n",
        "\n",
        "  def forward(self, X):\n",
        "    X = F.relu((self.fc1(X)))\n",
        "    X = F.relu((self.fc2(X)))\n",
        "    return self.fc3(X)"
      ]
    },
    {
      "cell_type": "markdown",
      "source": [
        "# Memory Classes"
      ],
      "metadata": {
        "id": "res_JiwLe62a"
      }
    },
    {
      "cell_type": "code",
      "execution_count": 6,
      "metadata": {
        "id": "XbS3JV0lj7jA"
      },
      "outputs": [],
      "source": [
        "#define data structure for experience \n",
        "Experience = namedtuple('Experience',\n",
        "                        ('state', 'action', 'next_state', 'reward', 'done'))\n",
        "\n",
        "\n",
        "\"\"\"\n",
        "Replay Memory to store experiences \n",
        "\"\"\"\n",
        "class ReplayMemory:\n",
        "  def __init__(self, mem_capacity, rand_seed):\n",
        "    #self.num_actions = num_actions\n",
        "    self.memory = deque(maxlen = mem_capacity)\n",
        "    self.seed = random.seed(rand_seed)\n",
        "\n",
        "  \"\"\"\n",
        "  Magic method to return size of memory\n",
        "  \"\"\"\n",
        "  def __len__(self):\n",
        "    return len(self.memory)\n",
        "\n",
        "  \"\"\"\n",
        "  Add experience to memory\n",
        "  \"\"\"\n",
        "  def add_experience(self, state, action, next_state, reward, done):\n",
        "    self.memory.append(Experience(state, action, next_state, reward, done))\n",
        "\n",
        "  \"\"\"\n",
        "  Get n experiences from memory\n",
        "  \"\"\"\n",
        "  def sample_exp(self, n):\n",
        "\n",
        "    #get n exp\n",
        "    experiences = random.sample(self.memory, k=n)\n",
        "\n",
        "    states = [] \n",
        "    actions = []\n",
        "    rewards = [] \n",
        "    next_states = [] \n",
        "    dones = []  \n",
        "\n",
        "    #get states, actions..\n",
        "    for e in experiences:\n",
        "      if e is not None:\n",
        "        state, action, next_state, reward, done = e\n",
        "        states.append(state)\n",
        "        actions.append(action)\n",
        "        next_states.append(next_state)\n",
        "        rewards.append(reward)\n",
        "        dones.append(done)\n",
        "\n",
        "    #convert to tensors \n",
        "    states = torch.from_numpy(np.vstack(states)).to(torch.float).to(device)\n",
        "    actions = torch.from_numpy(np.vstack(actions)).to(torch.long).to(device)\n",
        "    next_states = torch.from_numpy(np.vstack(next_states)).to(torch.float).to(device)\n",
        "    rewards = torch.from_numpy(np.vstack(rewards)).to(torch.float).to(device)\n",
        "    dones = torch.from_numpy(np.vstack(dones).astype(np.uint8)).to(torch.float).to(device)\n",
        "\n",
        "    #return as tuple \n",
        "    return (states, actions, next_states, rewards, dones)\n"
      ]
    },
    {
      "cell_type": "code",
      "execution_count": 7,
      "metadata": {
        "id": "p66NYVHDIfpd"
      },
      "outputs": [],
      "source": [
        "\n",
        "\"\"\"\n",
        "Priority Experience Replay Memory\n",
        "\"\"\"\n",
        "\n",
        "class PERMemory:\n",
        "  def __init__(self, mem_capacity, rand_seed, alpha):\n",
        "    self.alpha = alpha \n",
        "    self.mem_capacity = mem_capacity\n",
        "    self.memory = np.empty(self.mem_capacity, dtype=[(\"priority\", np.float32), (\"experience\", Experience)])\n",
        "    self.seed = np.random.RandomState(rand_seed)\n",
        "    self.mem_length = 0\n",
        "\n",
        "\n",
        "  \"\"\"\n",
        "  returns current size of memory\n",
        "  \"\"\"\n",
        "  def __len__(self):\n",
        "    return self.mem_length\n",
        "\n",
        "  \"\"\"\n",
        "  adds experience to memory and sets priority\n",
        "  \"\"\"\n",
        "  def add_experience(self, state, action, next_state, reward, done):\n",
        "    experience = Experience(state, action, next_state, reward, done)\n",
        "\n",
        "    ##if first entry\n",
        "    if self.mem_length == 0:\n",
        "      priority = 1\n",
        "    else:\n",
        "      priority = self.memory['priority'].max() \n",
        "\n",
        "    ##if memory is full \n",
        "    if self.mem_length == self.mem_capacity:\n",
        "      ##check if priority of new exp is more than the exp with the least priority is memory \n",
        "      ##and add to memeory \n",
        "      all_priorities = self.memory['priority']\n",
        "      if priority > all_priorities.min():\n",
        "        self.memory[all_priorities.argmin()] = (priority, experience)\n",
        "    else:\n",
        "      self.memory[self.mem_length] = (priority, experience)\n",
        "      self.mem_length += 1\n",
        "\n",
        "  \"\"\"\n",
        "  Get n experiences from memory\n",
        "  returns: experiences from memory & their indexes + weights    \n",
        "  \"\"\"\n",
        "  def sample_exp(self, n, beta):\n",
        "    #get priorities of all experiences \n",
        "    priorities = self.memory[:self.mem_length]['priority']\n",
        "    sampling_probs = priorities**self.alpha / np.sum(priorities**self.alpha)\n",
        "    #sample n experiences \n",
        "    idxs = self.seed.choice(np.arange(self.mem_length), size = n, replace = True, p = sampling_probs)\n",
        "    exp = self.memory['experience'][idxs]\n",
        "    weights = (self.mem_length * sampling_probs[idxs])**-beta \n",
        "    weights_norm = weights / weights.max() \n",
        "\n",
        "    return idxs, exp, weights_norm\n",
        "\n",
        "  \"\"\"\n",
        "  Helper Function to convert array of experiences to tensors\n",
        "  \"\"\"\n",
        "  def convert_exp_to_tensor(self, experiences):\n",
        "    states = [] \n",
        "    actions = []\n",
        "    rewards = [] \n",
        "    next_states = [] \n",
        "    dones = []  \n",
        "\n",
        "    #get states, actions..\n",
        "    for e in experiences:\n",
        "      if e is not None:\n",
        "        state, action, next_state, reward, done = e\n",
        "        states.append(state)\n",
        "        actions.append(action)\n",
        "        next_states.append(next_state)\n",
        "        rewards.append(reward)\n",
        "        dones.append(done)\n",
        "\n",
        "    #convert to tensors \n",
        "    states = torch.from_numpy(np.vstack(states)).to(torch.float).to(device)\n",
        "    actions = torch.from_numpy(np.vstack(actions)).to(torch.long).to(device)\n",
        "    next_states = torch.from_numpy(np.vstack(next_states)).to(torch.float).to(device)\n",
        "    rewards = torch.from_numpy(np.vstack(rewards)).to(torch.float).to(device)\n",
        "    dones = torch.from_numpy(np.vstack(dones).astype(np.uint8)).to(torch.float).to(device)\n",
        "\n",
        "    return (states, actions, next_states, rewards, dones)\n",
        "\n",
        "\n"
      ]
    },
    {
      "cell_type": "markdown",
      "source": [
        "# Agent Class"
      ],
      "metadata": {
        "id": "FxBKRFGnfA3G"
      }
    },
    {
      "cell_type": "code",
      "execution_count": 8,
      "metadata": {
        "id": "OxVhs2ta70wv"
      },
      "outputs": [],
      "source": [
        "class Agent():\n",
        "\n",
        "  def __init__(self, num_states, num_actions, seed, learning_rate, memory_capacity, batch_size, update_frequency, gamma, tau, alpha, beta, ddqn = True, per = True):\n",
        "    self.num_states = num_states\n",
        "    self.num_actions = num_actions\n",
        "    self.seed = seed #random.seed(seed)\n",
        "    self.update_frequency = update_frequency \n",
        "    self.batch_size = batch_size\n",
        "    self.gamma = gamma \n",
        "    self.tau = tau \n",
        "    self.ddqn = ddqn\n",
        "    self.time_step = 0 \n",
        "    self.per = per \n",
        "    self.beta = beta\n",
        "    self.num_episodes = 0 \n",
        "\n",
        "\n",
        "    #Q-network \n",
        "    # local = policy, target = target \n",
        "    self.policy_net = QNetwork(num_states, num_actions, [64, 64], self.seed).to(device)\n",
        "    self.target_net = QNetwork(num_states, num_actions,[64,64],  self.seed).to(device)\n",
        "    #initialize target with policy net params \n",
        "    self.sync_networks()\n",
        "\n",
        "    self.optimizer = optim.Adam(self.policy_net.parameters(), lr = learning_rate)\n",
        "\n",
        "    #memory\n",
        "    if per:\n",
        "      self.memory = PERMemory(memory_capacity, self.seed, alpha)\n",
        "    else:\n",
        "      self.memory = ReplayMemory(memory_capacity, self.seed)\n",
        "\n",
        "\n",
        "  \"\"\"\n",
        "  sync both networks\n",
        "  \"\"\"\n",
        "  def sync_networks(self):\n",
        "    _ = self.target_net.load_state_dict(self.policy_net.state_dict())\n",
        "\n",
        "  \"\"\"\n",
        "  Agent executes action to build knowledge base\n",
        "  Every n steps, learns from experience \n",
        "  \"\"\"\n",
        "  def execute_action(self, state, action, reward, next_state, done):\n",
        "    #add experience\n",
        "    self.memory.add_experience(state, action, reward, next_state, done)\n",
        "\n",
        "    \n",
        "    #back prop every n steps \n",
        "    if done:\n",
        "      self.num_episodes += 1\n",
        "    else:\n",
        "      self.time_step += 1 \n",
        "\n",
        "\n",
        "    if self.time_step % self.update_frequency == 0:\n",
        "      #check if there are enough experiences\n",
        "      if len(self.memory) > self.batch_size:\n",
        "        if self.per:\n",
        "          #sample from per \n",
        "          self.beta = 1 - np.exp(-1e-2 * self.num_episodes)\n",
        "          idxs, exps, weights = self.memory.sample_exp(self.batch_size, self.beta)\n",
        "          #learn from experience \n",
        "          self.per_learn(idxs, exps, weights, self.gamma)\n",
        "        else:\n",
        "          #sample from replay mempry\n",
        "          exp = self.memory.sample_exp(self.batch_size)\n",
        "          #learn from experience\n",
        "          self.ddqn_learn(exp, self.gamma)\n",
        "\n",
        "\n",
        "  \"\"\"\n",
        "  Select an actions based on actions available for a given state\n",
        "  \"\"\"\n",
        "  def select_action(self, state, eps = 0 ):\n",
        "    state = torch.from_numpy(state).float().unsqueeze(0).to(device)\n",
        "    #turn off grad for forward pass \n",
        "    self.policy_net.eval()\n",
        "    with torch.no_grad():\n",
        "        actions = self.policy_net(state)\n",
        "    self.policy_net.train()\n",
        "    \n",
        "    # Epsilon-greedy action selection\n",
        "    if random.random() > eps:\n",
        "        return np.argmax(actions.cpu().data.numpy())\n",
        "    else:\n",
        "        return random.choice(np.arange(self.num_actions))\n",
        "  \"\"\"\n",
        "  Learns from prior experiences \n",
        "  for per + dqn (or) per + ddqn \n",
        "  \"\"\"\n",
        "  def per_learn(self, indexes, experiences, weights, gamma):\n",
        "    states, actions, rewards, next_states, dones = self.memory.convert_exp_to_tensor(experiences)\n",
        "\n",
        "    \n",
        "\n",
        "    #get error in q calculation\n",
        "    if self.ddqn:\n",
        "       _, q_values = self.policy_net(next_states).max(dim =1 , keepdim = True) #gets actions \n",
        "    else:\n",
        "      #add code for dqn \n",
        "      _, q_values = self.target_net(next_states).max(dim =1 , keepdim = True) #gets actions \n",
        "\n",
        "    q_values_next = self.target_net(next_states).gather(dim = 1, index = q_values)\n",
        "    target_q_values = rewards + gamma * q_values_next * (1 - dones)\n",
        "    policy_q_values = self.policy_net(states).gather(1, actions)\n",
        "    q_error = target_q_values - policy_q_values \n",
        "\n",
        "    #fix dimenions for remainign calcs \n",
        "    actions = (actions.long().unsqueeze(dim=1))\n",
        "    rewards = rewards.unsqueeze(dim=1)\n",
        "    dones = dones.unsqueeze(dim=1)\n",
        "\n",
        "    #update priorities \n",
        "    priorities = (q_error.abs().cpu().detach().numpy().flatten())\n",
        "    self.memory.memory[\"priority\"][indexes] = priorities + 1e-6 #ensure val is positive \n",
        "\n",
        "    #calculate loss \n",
        "    weights = (torch.Tensor(weights).view((-1, 1))).to(device)\n",
        "    loss = torch.mean((q_error * weights)**2)\n",
        "    \n",
        "    #back-prop\n",
        "    self.optimizer.zero_grad()\n",
        "    loss.backward() \n",
        "    self.optimizer.step()\n",
        "\n",
        "    #sync networks \n",
        "    self.sync_networks()\n",
        "\n",
        "\n",
        "  \"\"\"\n",
        "  Learns from prior experiences\n",
        "  only for ddqn + dqn \n",
        "  \"\"\"\n",
        "  def ddqn_learn(self, experiences, gamma):\n",
        "    states, actions, rewards, next_states, dones = experiences \n",
        "\n",
        "    # Target Q-value calculation \n",
        "    # Q-value of next state \n",
        "    if self.ddqn:\n",
        "      _, q_values = self.policy_net(next_states).max(dim =1 , keepdim = True) #gets actions \n",
        "      \n",
        "    else:\n",
        "      _, q_values = self.target_net(next_states).max(dim =1 , keepdim = True) #gets actions \n",
        "\n",
        "    q_values_next = self.target_net(next_states).gather(dim = 1, index = q_values)\n",
        "    target_q_values = rewards + gamma * q_values_next * (1 - dones)\n",
        "\n",
        "    policy_q_values = self.policy_net(states).gather(1, actions)\n",
        "\n",
        "\n",
        "    ### Loss calculation \n",
        "    loss = F.mse_loss(policy_q_values, target_q_values)\n",
        "\n",
        "    \n",
        "    self.optimizer.zero_grad()\n",
        "    loss.backward()\n",
        "    self.optimizer.step()\n",
        "\n",
        "    #update target net based on policy net \n",
        "    for target_param, policy_param in zip(self.target_net.parameters(), self.policy_net.parameters()):\n",
        "       target_param.data.copy_(self.tau*policy_param.data + (1.0-self.tau)*target_param.data)\n",
        "\n",
        "    "
      ]
    },
    {
      "cell_type": "markdown",
      "source": [
        "#Training Function"
      ],
      "metadata": {
        "id": "uZnUQk-ofFn2"
      }
    },
    {
      "cell_type": "code",
      "execution_count": 9,
      "metadata": {
        "id": "D0uKre1S1xTA"
      },
      "outputs": [],
      "source": [
        "def train_ddqn(env, agent, fname, num_episodes = 2000, max_steps = 1000, eps_start = 1.0, eps_end = 0.01, eps_decay = 0.995):\n",
        "  scores = [] \n",
        "  scores_window = deque(maxlen = 100)\n",
        "  eps = eps_start \n",
        "\n",
        "  for i in range(1, num_episodes+1):\n",
        "    state = env.reset() \n",
        "    current_score = 0 \n",
        "    for step in range(max_steps):\n",
        "      #select action \n",
        "      action = agent.select_action(state, eps)\n",
        "      #take action in environment\n",
        "      next_state, reward, done, _ = env.step(action)\n",
        "      #store experience in memory & learn \n",
        "      agent.execute_action(state, action, reward, next_state, done)\n",
        "      \n",
        "      #update state & rewards \n",
        "      state = next_state \n",
        "      current_score += reward\n",
        "\n",
        "      # game over \n",
        "      if done:\n",
        "        break \n",
        "\n",
        "    #save episode scores   \n",
        "    scores_window.append(current_score)       \n",
        "    scores.append(current_score)                    \n",
        "    \n",
        "    #decay epsilon \n",
        "    eps = max(eps_end, eps_decay*eps) \n",
        "\n",
        "    #Score printing formatting  \n",
        "    print('\\rEpisode {}\\tAverage Score: {:.2f}'.format(i, np.mean(scores_window)), end=\"\")\n",
        "    if i % 100 == 0:\n",
        "          print('\\rEpisode {}\\tAverage Score: {:.2f}'.format(i, np.mean(scores_window)))\n",
        "\n",
        "    #break condition to stop training \n",
        "    if np.mean(scores_window)>=200.0:\n",
        "          print('\\nEnvironment solved in {:d} episodes!\\tAverage Score: {:.2f}'.format(i-100, np.mean(scores_window)))\n",
        "          torch.save(agent.policy_net.state_dict(), fname)\n",
        "          break\n",
        "          \n",
        "  return scores\n",
        "\n",
        "\n",
        "\n"
      ]
    },
    {
      "cell_type": "markdown",
      "source": [
        "#Code for visualization"
      ],
      "metadata": {
        "id": "Zo-mYUbaepK2"
      }
    },
    {
      "cell_type": "code",
      "execution_count": 10,
      "metadata": {
        "id": "0tJRcYz27Z9D"
      },
      "outputs": [],
      "source": [
        "def play_game(env, agent, render, checkpoint_fname = None):\n",
        "    done = False\n",
        "    state = env.reset()\n",
        "    reward_total = 0\n",
        "\n",
        "    if checkpoint_fname:\n",
        "      policy_net = QNetwork(num_states, num_actions, [64, 64]).to(device)\n",
        "      policy_net.load_state_dict(torch.load(checkpoint_fname))\n",
        "      policy_net.eval()\n",
        "    else:\n",
        "      policy_net = agent.policy_net\n",
        "\n",
        "\n",
        "    \n",
        "\n",
        "    while not done:\n",
        "        state_t = torch.from_numpy(state).float().unsqueeze(0).to(device)\n",
        "        action = policy_net(state_t).max(1)[1].view(1, 1)\n",
        "        \n",
        "        state, reward, done, _ = env.step(action.item())\n",
        "        reward_total += reward\n",
        "        \n",
        "        if render: env.render()\n",
        "        \n",
        "    \n",
        "    if render:\n",
        "        print(f'reward = {reward_total}')\n",
        "        env.close()\n",
        "        show_video()\n",
        "    \n",
        "\n",
        "    return reward_total\n",
        "\n",
        "\n",
        "def show_video():\n",
        "  mp4list = glob.glob('video/*.mp4')\n",
        "  if len(mp4list) > 0:\n",
        "    mp4 = mp4list[0]\n",
        "    video = io.open(mp4, 'r+b').read()\n",
        "    encoded = base64.b64encode(video)\n",
        "    ipythondisplay.display(HTML(data='''<video alt=\"test\" autoplay \n",
        "                loop controls style=\"height: 400px;\">\n",
        "                <source src=\"data:video/mp4;base64,{0}\" type=\"video/mp4\" />\n",
        "             </video>'''.format(encoded.decode('ascii'))))\n",
        "  else: \n",
        "    print(\"Could not find video\")\n",
        "    \n",
        "\n",
        "def wrap_env(env):\n",
        "  env = Monitor(env, './video', force=True)\n",
        "  return env"
      ]
    },
    {
      "cell_type": "markdown",
      "source": [
        "# Environment Setup"
      ],
      "metadata": {
        "id": "qM8neJpbet7J"
      }
    },
    {
      "cell_type": "code",
      "execution_count": 11,
      "metadata": {
        "colab": {
          "base_uri": "https://localhost:8080/"
        },
        "id": "EZFwfrNsc-a-",
        "outputId": "a0b213d7-7f17-4226-89be-cca9f66f91ce"
      },
      "outputs": [
        {
          "output_type": "stream",
          "name": "stdout",
          "text": [
            "device:  cuda:0\n",
            "game:  LunarLander-v2\n",
            "States size: 8 Actions size:  4\n"
          ]
        }
      ],
      "source": [
        "device = torch.device(\"cuda:0\" if torch.cuda.is_available() else \"cpu\")\n",
        "print(\"device: \", device)\n",
        "\n",
        "game = 'LunarLander-v2'\n",
        "env = gym.make(game)\n",
        "\n",
        "print(\"game: \", game)\n",
        "num_states = env.observation_space.shape[0]\n",
        "num_actions = env.action_space.n\n",
        "\n",
        "print(\"States size:\", num_states, \"Actions size: \",  num_actions)"
      ]
    },
    {
      "cell_type": "markdown",
      "metadata": {
        "id": "dXp8K9iec_Hg"
      },
      "source": [
        "# Train agent on DDQN + PER\n"
      ]
    },
    {
      "cell_type": "code",
      "execution_count": 24,
      "metadata": {
        "colab": {
          "base_uri": "https://localhost:8080/"
        },
        "id": "ggL6BNH8dWAi",
        "outputId": "f2dc7d22-bbd8-4aed-9174-3bf3b0cf565e"
      },
      "outputs": [
        {
          "output_type": "stream",
          "name": "stdout",
          "text": [
            "Episode 100\tAverage Score: -155.04\n",
            "Episode 200\tAverage Score: -119.05\n",
            "Episode 300\tAverage Score: 2.18\n",
            "Episode 400\tAverage Score: -2.14\n",
            "Episode 500\tAverage Score: 74.14\n",
            "Episode 586\tAverage Score: 200.18\n",
            "Environment solved in 486 episodes!\tAverage Score: 200.18\n"
          ]
        }
      ],
      "source": [
        "#set up parameters for agent\n",
        "seed = 0\n",
        "learning_rate = 5e-4\n",
        "memory_capacity = 100000\n",
        "batch_size = 64\n",
        "update_every = 4\n",
        "gamma = 0.99 \n",
        "tau = 0.001\n",
        "ddqn = True #using DQN now\n",
        "per = True\n",
        "alpha = 0.5 #0 - uniform sampling \n",
        "beta = 1 #fix this to decay - doesnt matter, dont need to pass in \n",
        "\n",
        "#training params \n",
        "num_episodes = 2000 ##changes this \n",
        "max_steps = 1000\n",
        "eps_start = 1.0\n",
        "eps_end = 0.01\n",
        "eps_decay = 0.995\n",
        "\n",
        "checkpoint_fname = 'ddqn_per.pth'\n",
        "\n",
        "agent = Agent(num_states, num_actions, seed, learning_rate, memory_capacity, batch_size, update_every, gamma, tau, alpha, beta, ddqn, per )\n",
        "scores = train_ddqn(env, agent, checkpoint_fname, num_episodes, max_steps , eps_start, eps_end , eps_decay)\n",
        "\n",
        "\n"
      ]
    },
    {
      "cell_type": "code",
      "execution_count": 25,
      "metadata": {
        "colab": {
          "base_uri": "https://localhost:8080/",
          "height": 279
        },
        "id": "p9FiNYhsLQF0",
        "outputId": "6b2bd359-a88b-48ad-8339-009d0d6d68bf"
      },
      "outputs": [
        {
          "output_type": "display_data",
          "data": {
            "text/plain": [
              "<Figure size 432x288 with 1 Axes>"
            ],
            "image/png": "[encoded data removed]"
          },
          "metadata": {
            "needs_background": "light"
          }
        }
      ],
      "source": [
        "plot_scores(scores)"
      ]
    },
    {
      "cell_type": "code",
      "source": [
        "env = gym.make('LunarLander-v2')\n",
        "agent.policy_net.eval()\n",
        "rewards = []\n",
        "\n",
        "\n",
        "for i in range(1000):\n",
        "    if i % 100 == 0:\n",
        "        print(f'iteration: {i}')\n",
        "    rewards.append(play_game(env, agent, False, 'ddqn_per.pth'))\n",
        "\n",
        "ddqn_per_df = pd.DataFrame(rewards)\n",
        "\n",
        "agent.policy_net.train()"
      ],
      "metadata": {
        "colab": {
          "base_uri": "https://localhost:8080/"
        },
        "id": "7wot3DurHpOE",
        "outputId": "c6fca755-b717-407b-8a73-a44960f1f82b"
      },
      "execution_count": 29,
      "outputs": [
        {
          "output_type": "stream",
          "name": "stdout",
          "text": [
            "iteration: 0\n",
            "iteration: 100\n",
            "iteration: 200\n",
            "iteration: 300\n",
            "iteration: 400\n",
            "iteration: 500\n",
            "iteration: 600\n",
            "iteration: 700\n",
            "iteration: 800\n",
            "iteration: 900\n"
          ]
        },
        {
          "output_type": "execute_result",
          "data": {
            "text/plain": [
              "QNetwork(\n",
              "  (fc1): Linear(in_features=8, out_features=64, bias=True)\n",
              "  (fc2): Linear(in_features=64, out_features=64, bias=True)\n",
              "  (fc3): Linear(in_features=64, out_features=4, bias=True)\n",
              ")"
            ]
          },
          "metadata": {},
          "execution_count": 29
        }
      ]
    },
    {
      "cell_type": "code",
      "source": [
        "ddqn_per_df.describe()"
      ],
      "metadata": {
        "colab": {
          "base_uri": "https://localhost:8080/",
          "height": 300
        },
        "id": "3j2DaYbhM4eX",
        "outputId": "9797e0d5-aec3-4d44-99f8-03c63f7559c5"
      },
      "execution_count": 30,
      "outputs": [
        {
          "output_type": "execute_result",
          "data": {
            "text/plain": [
              "                 0\n",
              "count  1000.000000\n",
              "mean    136.004989\n",
              "std     128.747253\n",
              "min    -480.798350\n",
              "25%     113.216856\n",
              "50%     182.337407\n",
              "75%     215.733548\n",
              "max     290.654059"
            ],
            "text/html": [
              "\n",
              "  <div id=\"df-e6e9da9d-9a43-401b-8247-f9fa3651fd43\">\n",
              "    <div class=\"colab-df-container\">\n",
              "      <div>\n",
              "<style scoped>\n",
              "    .dataframe tbody tr th:only-of-type {\n",
              "        vertical-align: middle;\n",
              "    }\n",
              "\n",
              "    .dataframe tbody tr th {\n",
              "        vertical-align: top;\n",
              "    }\n",
              "\n",
              "    .dataframe thead th {\n",
              "        text-align: right;\n",
              "    }\n",
              "</style>\n",
              "<table border=\"1\" class=\"dataframe\">\n",
              "  <thead>\n",
              "    <tr style=\"text-align: right;\">\n",
              "      <th></th>\n",
              "      <th>0</th>\n",
              "    </tr>\n",
              "  </thead>\n",
              "  <tbody>\n",
              "    <tr>\n",
              "      <th>count</th>\n",
              "      <td>1000.000000</td>\n",
              "    </tr>\n",
              "    <tr>\n",
              "      <th>mean</th>\n",
              "      <td>136.004989</td>\n",
              "    </tr>\n",
              "    <tr>\n",
              "      <th>std</th>\n",
              "      <td>128.747253</td>\n",
              "    </tr>\n",
              "    <tr>\n",
              "      <th>min</th>\n",
              "      <td>-480.798350</td>\n",
              "    </tr>\n",
              "    <tr>\n",
              "      <th>25%</th>\n",
              "      <td>113.216856</td>\n",
              "    </tr>\n",
              "    <tr>\n",
              "      <th>50%</th>\n",
              "      <td>182.337407</td>\n",
              "    </tr>\n",
              "    <tr>\n",
              "      <th>75%</th>\n",
              "      <td>215.733548</td>\n",
              "    </tr>\n",
              "    <tr>\n",
              "      <th>max</th>\n",
              "      <td>290.654059</td>\n",
              "    </tr>\n",
              "  </tbody>\n",
              "</table>\n",
              "</div>\n",
              "      <button class=\"colab-df-convert\" onclick=\"convertToInteractive('df-e6e9da9d-9a43-401b-8247-f9fa3651fd43')\"\n",
              "              title=\"Convert this dataframe to an interactive table.\"\n",
              "              style=\"display:none;\">\n",
              "        \n",
              "  <svg xmlns=\"http://www.w3.org/2000/svg\" height=\"24px\"viewBox=\"0 0 24 24\"\n",
              "       width=\"24px\">\n",
              "    <path d=\"M0 0h24v24H0V0z\" fill=\"none\"/>\n",
              "    <path d=\"M18.56 5.44l.94 2.06.94-2.06 2.06-.94-2.06-.94-.94-2.06-.94 2.06-2.06.94zm-11 1L8.5 8.5l.94-2.06 2.06-.94-2.06-.94L8.5 2.5l-.94 2.06-2.06.94zm10 10l.94 2.06.94-2.06 2.06-.94-2.06-.94-.94-2.06-.94 2.06-2.06.94z\"/><path d=\"M17.41 7.96l-1.37-1.37c-.4-.4-.92-.59-1.43-.59-.52 0-1.04.2-1.43.59L10.3 9.45l-7.72 7.72c-.78.78-.78 2.05 0 2.83L4 21.41c.39.39.9.59 1.41.59.51 0 1.02-.2 1.41-.59l7.78-7.78 2.81-2.81c.8-.78.8-2.07 0-2.86zM5.41 20L4 18.59l7.72-7.72 1.47 1.35L5.41 20z\"/>\n",
              "  </svg>\n",
              "      </button>\n",
              "      \n",
              "  <style>\n",
              "    .colab-df-container {\n",
              "      display:flex;\n",
              "      flex-wrap:wrap;\n",
              "      gap: 12px;\n",
              "    }\n",
              "\n",
              "    .colab-df-convert {\n",
              "      background-color: #E8F0FE;\n",
              "      border: none;\n",
              "      border-radius: 50%;\n",
              "      cursor: pointer;\n",
              "      display: none;\n",
              "      fill: #1967D2;\n",
              "      height: 32px;\n",
              "      padding: 0 0 0 0;\n",
              "      width: 32px;\n",
              "    }\n",
              "\n",
              "    .colab-df-convert:hover {\n",
              "      background-color: #E2EBFA;\n",
              "      box-shadow: 0px 1px 2px rgba(60, 64, 67, 0.3), 0px 1px 3px 1px rgba(60, 64, 67, 0.15);\n",
              "      fill: #174EA6;\n",
              "    }\n",
              "\n",
              "    [theme=dark] .colab-df-convert {\n",
              "      background-color: #3B4455;\n",
              "      fill: #D2E3FC;\n",
              "    }\n",
              "\n",
              "    [theme=dark] .colab-df-convert:hover {\n",
              "      background-color: #434B5C;\n",
              "      box-shadow: 0px 1px 3px 1px rgba(0, 0, 0, 0.15);\n",
              "      filter: drop-shadow(0px 1px 2px rgba(0, 0, 0, 0.3));\n",
              "      fill: #FFFFFF;\n",
              "    }\n",
              "  </style>\n",
              "\n",
              "      <script>\n",
              "        const buttonEl =\n",
              "          document.querySelector('#df-e6e9da9d-9a43-401b-8247-f9fa3651fd43 button.colab-df-convert');\n",
              "        buttonEl.style.display =\n",
              "          google.colab.kernel.accessAllowed ? 'block' : 'none';\n",
              "\n",
              "        async function convertToInteractive(key) {\n",
              "          const element = document.querySelector('#df-e6e9da9d-9a43-401b-8247-f9fa3651fd43');\n",
              "          const dataTable =\n",
              "            await google.colab.kernel.invokeFunction('convertToInteractive',\n",
              "                                                     [key], {});\n",
              "          if (!dataTable) return;\n",
              "\n",
              "          const docLinkHtml = 'Like what you see? Visit the ' +\n",
              "            '<a target=\"_blank\" href=https://colab.research.google.com/notebooks/data_table.ipynb>data table notebook</a>'\n",
              "            + ' to learn more about interactive tables.';\n",
              "          element.innerHTML = '';\n",
              "          dataTable['output_type'] = 'display_data';\n",
              "          await google.colab.output.renderOutput(dataTable, element);\n",
              "          const docLink = document.createElement('div');\n",
              "          docLink.innerHTML = docLinkHtml;\n",
              "          element.appendChild(docLink);\n",
              "        }\n",
              "      </script>\n",
              "    </div>\n",
              "  </div>\n",
              "  "
            ]
          },
          "metadata": {},
          "execution_count": 30
        }
      ]
    },
    {
      "cell_type": "code",
      "source": [
        "display = Display(visible=0, size=(1400, 900))\n",
        "display.start()\n",
        "\n",
        "env = wrap_env(gym.make('LunarLander-v2'))\n",
        "play_game(env, agent, True, checkpoint_fname)"
      ],
      "metadata": {
        "colab": {
          "base_uri": "https://localhost:8080/",
          "height": 459
        },
        "id": "es9vnnRJa3qG",
        "outputId": "4b882fb0-58c3-4463-9ec6-ed00295772e2"
      },
      "execution_count": 32,
      "outputs": [
        {
          "output_type": "stream",
          "name": "stdout",
          "text": [
            "reward = 123.9330539919671\n"
          ]
        },
        {
          "output_type": "display_data",
          "data": {
            "text/plain": [
              "<IPython.core.display.HTML object>"
            ],
            "text/html": [
              "<video alt=\"test\" autoplay \n",
              "                loop controls style=\"height: 400px;\">\n",
              "                <source src=\"data:video/mp4;base64,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\" type=\"video/mp4\" />\n",
              "             </video>"
            ]
          },
          "metadata": {}
        },
        {
          "output_type": "execute_result",
          "data": {
            "text/plain": [
              "123.9330539919671"
            ]
          },
          "metadata": {},
          "execution_count": 32
        }
      ]
    },
    {
      "cell_type": "markdown",
      "source": [
        "# Train agent on DQN + PER"
      ],
      "metadata": {
        "id": "_t7XOm_SeZga"
      }
    },
    {
      "cell_type": "code",
      "source": [
        "#set up parameters for agent\n",
        "seed = 0\n",
        "learning_rate = 5e-4\n",
        "memory_capacity = 100000\n",
        "batch_size = 64\n",
        "update_every = 4\n",
        "gamma = 0.99 \n",
        "tau = 0.001\n",
        "ddqn = False\n",
        "per = True\n",
        "alpha = 0.5 #0 - uniform sampling \n",
        "beta = 1 #fix this to decay - doesnt matter, dont need to pass in \n",
        "\n",
        "#training params \n",
        "num_episodes = 2000\n",
        "max_steps = 1000\n",
        "eps_start = 1.0\n",
        "eps_end = 0.01\n",
        "eps_decay = 0.995\n",
        "\n",
        "checkpoint_fname = 'dqn_per.pth'\n",
        "\n",
        "time_start = time.time()\n",
        "agent = Agent(num_states, num_actions, seed, learning_rate, memory_capacity, batch_size, update_every, gamma, tau, alpha, beta, ddqn, per )\n",
        "scores = train_ddqn(env, agent, checkpoint_fname, num_episodes, max_steps , eps_start, eps_end , eps_decay)\n",
        "print(\"Time elapsed: \", time.time()-time_start, \" s\")\n"
      ],
      "metadata": {
        "colab": {
          "base_uri": "https://localhost:8080/"
        },
        "id": "OI4Z-c9MfciL",
        "outputId": "f39ae314-e63e-4b6c-bd82-c04ebae7679c"
      },
      "execution_count": 12,
      "outputs": [
        {
          "output_type": "stream",
          "name": "stdout",
          "text": [
            "Episode 100\tAverage Score: -188.73\n",
            "Episode 200\tAverage Score: -95.49\n",
            "Episode 300\tAverage Score: -77.18\n",
            "Episode 400\tAverage Score: -20.59\n",
            "Episode 500\tAverage Score: -21.28\n",
            "Episode 600\tAverage Score: 22.37\n",
            "Episode 700\tAverage Score: 147.49\n",
            "Episode 800\tAverage Score: 166.67\n",
            "Episode 900\tAverage Score: 188.00\n",
            "Episode 926\tAverage Score: 200.03\n",
            "Environment solved in 826 episodes!\tAverage Score: 200.03\n",
            "Time elapsed:  1846.7090029716492  s\n"
          ]
        }
      ]
    },
    {
      "cell_type": "code",
      "source": [
        "plot_scores(scores)"
      ],
      "metadata": {
        "colab": {
          "base_uri": "https://localhost:8080/",
          "height": 279
        },
        "id": "hqZUDbnAfh4G",
        "outputId": "161b2453-7387-43e9-ad22-6ec15f413092"
      },
      "execution_count": 13,
      "outputs": [
        {
          "output_type": "display_data",
          "data": {
            "text/plain": [
              "<Figure size 432x288 with 1 Axes>"
            ],
            "image/png": "[encoded data removed]"
          },
          "metadata": {
            "needs_background": "light"
          }
        }
      ]
    },
    {
      "cell_type": "code",
      "source": [
        "env = gym.make('LunarLander-v2')\n",
        "agent.policy_net.eval()\n",
        "rewards = []\n",
        "\n",
        "\n",
        "for i in range(1000):\n",
        "    if i % 100 == 0:\n",
        "        print(f'iteration: {i}')\n",
        "    rewards.append(play_game(env, agent, False, 'dqn_per.pth'))\n",
        "\n",
        "dqn_per_df = pd.DataFrame(rewards)\n",
        "\n",
        "agent.policy_net.train()"
      ],
      "metadata": {
        "colab": {
          "base_uri": "https://localhost:8080/"
        },
        "id": "dtbmogeGNbtR",
        "outputId": "f7ae8fa5-f66b-434d-a3d7-69f830b9c5ab"
      },
      "execution_count": 14,
      "outputs": [
        {
          "output_type": "stream",
          "name": "stdout",
          "text": [
            "iteration: 0\n",
            "iteration: 100\n",
            "iteration: 200\n",
            "iteration: 300\n",
            "iteration: 400\n",
            "iteration: 500\n",
            "iteration: 600\n",
            "iteration: 700\n",
            "iteration: 800\n",
            "iteration: 900\n"
          ]
        },
        {
          "output_type": "execute_result",
          "data": {
            "text/plain": [
              "QNetwork(\n",
              "  (fc1): Linear(in_features=8, out_features=64, bias=True)\n",
              "  (fc2): Linear(in_features=64, out_features=64, bias=True)\n",
              "  (fc3): Linear(in_features=64, out_features=4, bias=True)\n",
              ")"
            ]
          },
          "metadata": {},
          "execution_count": 14
        }
      ]
    },
    {
      "cell_type": "code",
      "source": [
        "dqn_per_df.describe()"
      ],
      "metadata": {
        "colab": {
          "base_uri": "https://localhost:8080/",
          "height": 300
        },
        "id": "-k7vN2X-Ngtq",
        "outputId": "d2897357-37aa-460c-99ab-131900943253"
      },
      "execution_count": 15,
      "outputs": [
        {
          "output_type": "execute_result",
          "data": {
            "text/plain": [
              "                 0\n",
              "count  1000.000000\n",
              "mean    248.990615\n",
              "std      39.374935\n",
              "min    -135.971707\n",
              "25%     240.393860\n",
              "50%     255.065234\n",
              "75%     268.462787\n",
              "max     316.003551"
            ],
            "text/html": [
              "\n",
              "  <div id=\"df-1b7dd1d9-e3dc-4abc-b012-64520cd4be93\">\n",
              "    <div class=\"colab-df-container\">\n",
              "      <div>\n",
              "<style scoped>\n",
              "    .dataframe tbody tr th:only-of-type {\n",
              "        vertical-align: middle;\n",
              "    }\n",
              "\n",
              "    .dataframe tbody tr th {\n",
              "        vertical-align: top;\n",
              "    }\n",
              "\n",
              "    .dataframe thead th {\n",
              "        text-align: right;\n",
              "    }\n",
              "</style>\n",
              "<table border=\"1\" class=\"dataframe\">\n",
              "  <thead>\n",
              "    <tr style=\"text-align: right;\">\n",
              "      <th></th>\n",
              "      <th>0</th>\n",
              "    </tr>\n",
              "  </thead>\n",
              "  <tbody>\n",
              "    <tr>\n",
              "      <th>count</th>\n",
              "      <td>1000.000000</td>\n",
              "    </tr>\n",
              "    <tr>\n",
              "      <th>mean</th>\n",
              "      <td>248.990615</td>\n",
              "    </tr>\n",
              "    <tr>\n",
              "      <th>std</th>\n",
              "      <td>39.374935</td>\n",
              "    </tr>\n",
              "    <tr>\n",
              "      <th>min</th>\n",
              "      <td>-135.971707</td>\n",
              "    </tr>\n",
              "    <tr>\n",
              "      <th>25%</th>\n",
              "      <td>240.393860</td>\n",
              "    </tr>\n",
              "    <tr>\n",
              "      <th>50%</th>\n",
              "      <td>255.065234</td>\n",
              "    </tr>\n",
              "    <tr>\n",
              "      <th>75%</th>\n",
              "      <td>268.462787</td>\n",
              "    </tr>\n",
              "    <tr>\n",
              "      <th>max</th>\n",
              "      <td>316.003551</td>\n",
              "    </tr>\n",
              "  </tbody>\n",
              "</table>\n",
              "</div>\n",
              "      <button class=\"colab-df-convert\" onclick=\"convertToInteractive('df-1b7dd1d9-e3dc-4abc-b012-64520cd4be93')\"\n",
              "              title=\"Convert this dataframe to an interactive table.\"\n",
              "              style=\"display:none;\">\n",
              "        \n",
              "  <svg xmlns=\"http://www.w3.org/2000/svg\" height=\"24px\"viewBox=\"0 0 24 24\"\n",
              "       width=\"24px\">\n",
              "    <path d=\"M0 0h24v24H0V0z\" fill=\"none\"/>\n",
              "    <path d=\"M18.56 5.44l.94 2.06.94-2.06 2.06-.94-2.06-.94-.94-2.06-.94 2.06-2.06.94zm-11 1L8.5 8.5l.94-2.06 2.06-.94-2.06-.94L8.5 2.5l-.94 2.06-2.06.94zm10 10l.94 2.06.94-2.06 2.06-.94-2.06-.94-.94-2.06-.94 2.06-2.06.94z\"/><path d=\"M17.41 7.96l-1.37-1.37c-.4-.4-.92-.59-1.43-.59-.52 0-1.04.2-1.43.59L10.3 9.45l-7.72 7.72c-.78.78-.78 2.05 0 2.83L4 21.41c.39.39.9.59 1.41.59.51 0 1.02-.2 1.41-.59l7.78-7.78 2.81-2.81c.8-.78.8-2.07 0-2.86zM5.41 20L4 18.59l7.72-7.72 1.47 1.35L5.41 20z\"/>\n",
              "  </svg>\n",
              "      </button>\n",
              "      \n",
              "  <style>\n",
              "    .colab-df-container {\n",
              "      display:flex;\n",
              "      flex-wrap:wrap;\n",
              "      gap: 12px;\n",
              "    }\n",
              "\n",
              "    .colab-df-convert {\n",
              "      background-color: #E8F0FE;\n",
              "      border: none;\n",
              "      border-radius: 50%;\n",
              "      cursor: pointer;\n",
              "      display: none;\n",
              "      fill: #1967D2;\n",
              "      height: 32px;\n",
              "      padding: 0 0 0 0;\n",
              "      width: 32px;\n",
              "    }\n",
              "\n",
              "    .colab-df-convert:hover {\n",
              "      background-color: #E2EBFA;\n",
              "      box-shadow: 0px 1px 2px rgba(60, 64, 67, 0.3), 0px 1px 3px 1px rgba(60, 64, 67, 0.15);\n",
              "      fill: #174EA6;\n",
              "    }\n",
              "\n",
              "    [theme=dark] .colab-df-convert {\n",
              "      background-color: #3B4455;\n",
              "      fill: #D2E3FC;\n",
              "    }\n",
              "\n",
              "    [theme=dark] .colab-df-convert:hover {\n",
              "      background-color: #434B5C;\n",
              "      box-shadow: 0px 1px 3px 1px rgba(0, 0, 0, 0.15);\n",
              "      filter: drop-shadow(0px 1px 2px rgba(0, 0, 0, 0.3));\n",
              "      fill: #FFFFFF;\n",
              "    }\n",
              "  </style>\n",
              "\n",
              "      <script>\n",
              "        const buttonEl =\n",
              "          document.querySelector('#df-1b7dd1d9-e3dc-4abc-b012-64520cd4be93 button.colab-df-convert');\n",
              "        buttonEl.style.display =\n",
              "          google.colab.kernel.accessAllowed ? 'block' : 'none';\n",
              "\n",
              "        async function convertToInteractive(key) {\n",
              "          const element = document.querySelector('#df-1b7dd1d9-e3dc-4abc-b012-64520cd4be93');\n",
              "          const dataTable =\n",
              "            await google.colab.kernel.invokeFunction('convertToInteractive',\n",
              "                                                     [key], {});\n",
              "          if (!dataTable) return;\n",
              "\n",
              "          const docLinkHtml = 'Like what you see? Visit the ' +\n",
              "            '<a target=\"_blank\" href=https://colab.research.google.com/notebooks/data_table.ipynb>data table notebook</a>'\n",
              "            + ' to learn more about interactive tables.';\n",
              "          element.innerHTML = '';\n",
              "          dataTable['output_type'] = 'display_data';\n",
              "          await google.colab.output.renderOutput(dataTable, element);\n",
              "          const docLink = document.createElement('div');\n",
              "          docLink.innerHTML = docLinkHtml;\n",
              "          element.appendChild(docLink);\n",
              "        }\n",
              "      </script>\n",
              "    </div>\n",
              "  </div>\n",
              "  "
            ]
          },
          "metadata": {},
          "execution_count": 15
        }
      ]
    },
    {
      "cell_type": "code",
      "source": [
        "display = Display(visible=0, size=(1400, 900))\n",
        "display.start()\n",
        "\n",
        "env = wrap_env(gym.make('LunarLander-v2'))\n",
        "play_game(env, agent, True, checkpoint_fname)"
      ],
      "metadata": {
        "id": "8RleEZDYfupj"
      },
      "execution_count": null,
      "outputs": []
    },
    {
      "cell_type": "markdown",
      "source": [
        "#Train Agent on DDQN"
      ],
      "metadata": {
        "id": "ND_RMOfffk-L"
      }
    },
    {
      "cell_type": "code",
      "execution_count": 16,
      "metadata": {
        "colab": {
          "base_uri": "https://localhost:8080/"
        },
        "id": "1q4vWTL-56kL",
        "outputId": "fb2f2809-395a-40d8-8856-4ac2f5427fb4"
      },
      "outputs": [
        {
          "output_type": "stream",
          "name": "stdout",
          "text": [
            "Episode 100\tAverage Score: -160.25\n",
            "Episode 200\tAverage Score: -117.36\n",
            "Episode 300\tAverage Score: -72.26\n",
            "Episode 400\tAverage Score: -22.25\n",
            "Episode 500\tAverage Score: 41.89\n",
            "Episode 600\tAverage Score: 131.87\n",
            "Episode 700\tAverage Score: 162.16\n",
            "Episode 800\tAverage Score: 192.32\n",
            "Episode 842\tAverage Score: 201.06\n",
            "Environment solved in 742 episodes!\tAverage Score: 201.06\n",
            "Time elapsed:  1111.662095785141  s\n"
          ]
        }
      ],
      "source": [
        "#set up parameters for agent\n",
        "seed = 0\n",
        "learning_rate = 5e-4\n",
        "memory_capacity = 100000\n",
        "batch_size = 64\n",
        "update_every = 4\n",
        "gamma = 0.99 \n",
        "tau = 0.001\n",
        "ddqn = True #using DQN now\n",
        "per = False\n",
        "alpha = 0.5 #0 - uniform sampling \n",
        "beta = 1 #fix this to decay - doesnt matter, dont need to pass in \n",
        "\n",
        "#training params \n",
        "num_episodes = 2000\n",
        "max_steps = 1000\n",
        "eps_start = 1.0\n",
        "eps_end = 0.01\n",
        "eps_decay = 0.995\n",
        "\n",
        "checkpoint_fname = 'ddqn.pth'\n",
        "\n",
        "time_start = time.time()\n",
        "agent = Agent(num_states, num_actions, seed, learning_rate, memory_capacity, batch_size, update_every, gamma, tau, alpha, beta, ddqn, per )\n",
        "scores = train_ddqn(env, agent, checkpoint_fname, num_episodes, max_steps , eps_start, eps_end , eps_decay)\n",
        "print(\"Time elapsed: \", time.time()-time_start, \" s\")\n"
      ]
    },
    {
      "cell_type": "code",
      "source": [
        "plot_scores(scores)"
      ],
      "metadata": {
        "colab": {
          "base_uri": "https://localhost:8080/",
          "height": 279
        },
        "id": "bSdP7f5msQRM",
        "outputId": "e9f24166-3be8-452b-a43e-111552edb21d"
      },
      "execution_count": 17,
      "outputs": [
        {
          "output_type": "display_data",
          "data": {
            "text/plain": [
              "<Figure size 432x288 with 1 Axes>"
            ],
            "image/png": "[encoded data removed]"
          },
          "metadata": {
            "needs_background": "light"
          }
        }
      ]
    },
    {
      "cell_type": "code",
      "source": [
        "env = gym.make('LunarLander-v2')\n",
        "agent.policy_net.eval()\n",
        "rewards = []\n",
        "\n",
        "\n",
        "for i in range(1000):\n",
        "    if i % 100 == 0:\n",
        "        print(f'iteration: {i}')\n",
        "    rewards.append(play_game(env, agent, False, 'ddqn.pth'))\n",
        "\n",
        "ddqn_df = pd.DataFrame(rewards)\n",
        "\n",
        "agent.policy_net.train()"
      ],
      "metadata": {
        "colab": {
          "base_uri": "https://localhost:8080/"
        },
        "id": "PJ7RJMQEOGHv",
        "outputId": "f470802e-8404-475a-8003-44ce2249d9e9"
      },
      "execution_count": 18,
      "outputs": [
        {
          "output_type": "stream",
          "name": "stdout",
          "text": [
            "iteration: 0\n",
            "iteration: 100\n",
            "iteration: 200\n",
            "iteration: 300\n",
            "iteration: 400\n",
            "iteration: 500\n",
            "iteration: 600\n",
            "iteration: 700\n",
            "iteration: 800\n",
            "iteration: 900\n"
          ]
        },
        {
          "output_type": "execute_result",
          "data": {
            "text/plain": [
              "QNetwork(\n",
              "  (fc1): Linear(in_features=8, out_features=64, bias=True)\n",
              "  (fc2): Linear(in_features=64, out_features=64, bias=True)\n",
              "  (fc3): Linear(in_features=64, out_features=4, bias=True)\n",
              ")"
            ]
          },
          "metadata": {},
          "execution_count": 18
        }
      ]
    },
    {
      "cell_type": "code",
      "source": [
        "ddqn_df.describe()"
      ],
      "metadata": {
        "colab": {
          "base_uri": "https://localhost:8080/",
          "height": 300
        },
        "id": "9juc40PDOL1o",
        "outputId": "ef1baff1-519d-4074-c515-d7f3e62290ac"
      },
      "execution_count": 19,
      "outputs": [
        {
          "output_type": "execute_result",
          "data": {
            "text/plain": [
              "                 0\n",
              "count  1000.000000\n",
              "mean    210.909106\n",
              "std      65.052820\n",
              "min     -75.266943\n",
              "25%     202.251919\n",
              "50%     226.715365\n",
              "75%     248.474989\n",
              "max     301.420559"
            ],
            "text/html": [
              "\n",
              "  <div id=\"df-2fc31188-be4c-43db-b9ce-0cc68bedb154\">\n",
              "    <div class=\"colab-df-container\">\n",
              "      <div>\n",
              "<style scoped>\n",
              "    .dataframe tbody tr th:only-of-type {\n",
              "        vertical-align: middle;\n",
              "    }\n",
              "\n",
              "    .dataframe tbody tr th {\n",
              "        vertical-align: top;\n",
              "    }\n",
              "\n",
              "    .dataframe thead th {\n",
              "        text-align: right;\n",
              "    }\n",
              "</style>\n",
              "<table border=\"1\" class=\"dataframe\">\n",
              "  <thead>\n",
              "    <tr style=\"text-align: right;\">\n",
              "      <th></th>\n",
              "      <th>0</th>\n",
              "    </tr>\n",
              "  </thead>\n",
              "  <tbody>\n",
              "    <tr>\n",
              "      <th>count</th>\n",
              "      <td>1000.000000</td>\n",
              "    </tr>\n",
              "    <tr>\n",
              "      <th>mean</th>\n",
              "      <td>210.909106</td>\n",
              "    </tr>\n",
              "    <tr>\n",
              "      <th>std</th>\n",
              "      <td>65.052820</td>\n",
              "    </tr>\n",
              "    <tr>\n",
              "      <th>min</th>\n",
              "      <td>-75.266943</td>\n",
              "    </tr>\n",
              "    <tr>\n",
              "      <th>25%</th>\n",
              "      <td>202.251919</td>\n",
              "    </tr>\n",
              "    <tr>\n",
              "      <th>50%</th>\n",
              "      <td>226.715365</td>\n",
              "    </tr>\n",
              "    <tr>\n",
              "      <th>75%</th>\n",
              "      <td>248.474989</td>\n",
              "    </tr>\n",
              "    <tr>\n",
              "      <th>max</th>\n",
              "      <td>301.420559</td>\n",
              "    </tr>\n",
              "  </tbody>\n",
              "</table>\n",
              "</div>\n",
              "      <button class=\"colab-df-convert\" onclick=\"convertToInteractive('df-2fc31188-be4c-43db-b9ce-0cc68bedb154')\"\n",
              "              title=\"Convert this dataframe to an interactive table.\"\n",
              "              style=\"display:none;\">\n",
              "        \n",
              "  <svg xmlns=\"http://www.w3.org/2000/svg\" height=\"24px\"viewBox=\"0 0 24 24\"\n",
              "       width=\"24px\">\n",
              "    <path d=\"M0 0h24v24H0V0z\" fill=\"none\"/>\n",
              "    <path d=\"M18.56 5.44l.94 2.06.94-2.06 2.06-.94-2.06-.94-.94-2.06-.94 2.06-2.06.94zm-11 1L8.5 8.5l.94-2.06 2.06-.94-2.06-.94L8.5 2.5l-.94 2.06-2.06.94zm10 10l.94 2.06.94-2.06 2.06-.94-2.06-.94-.94-2.06-.94 2.06-2.06.94z\"/><path d=\"M17.41 7.96l-1.37-1.37c-.4-.4-.92-.59-1.43-.59-.52 0-1.04.2-1.43.59L10.3 9.45l-7.72 7.72c-.78.78-.78 2.05 0 2.83L4 21.41c.39.39.9.59 1.41.59.51 0 1.02-.2 1.41-.59l7.78-7.78 2.81-2.81c.8-.78.8-2.07 0-2.86zM5.41 20L4 18.59l7.72-7.72 1.47 1.35L5.41 20z\"/>\n",
              "  </svg>\n",
              "      </button>\n",
              "      \n",
              "  <style>\n",
              "    .colab-df-container {\n",
              "      display:flex;\n",
              "      flex-wrap:wrap;\n",
              "      gap: 12px;\n",
              "    }\n",
              "\n",
              "    .colab-df-convert {\n",
              "      background-color: #E8F0FE;\n",
              "      border: none;\n",
              "      border-radius: 50%;\n",
              "      cursor: pointer;\n",
              "      display: none;\n",
              "      fill: #1967D2;\n",
              "      height: 32px;\n",
              "      padding: 0 0 0 0;\n",
              "      width: 32px;\n",
              "    }\n",
              "\n",
              "    .colab-df-convert:hover {\n",
              "      background-color: #E2EBFA;\n",
              "      box-shadow: 0px 1px 2px rgba(60, 64, 67, 0.3), 0px 1px 3px 1px rgba(60, 64, 67, 0.15);\n",
              "      fill: #174EA6;\n",
              "    }\n",
              "\n",
              "    [theme=dark] .colab-df-convert {\n",
              "      background-color: #3B4455;\n",
              "      fill: #D2E3FC;\n",
              "    }\n",
              "\n",
              "    [theme=dark] .colab-df-convert:hover {\n",
              "      background-color: #434B5C;\n",
              "      box-shadow: 0px 1px 3px 1px rgba(0, 0, 0, 0.15);\n",
              "      filter: drop-shadow(0px 1px 2px rgba(0, 0, 0, 0.3));\n",
              "      fill: #FFFFFF;\n",
              "    }\n",
              "  </style>\n",
              "\n",
              "      <script>\n",
              "        const buttonEl =\n",
              "          document.querySelector('#df-2fc31188-be4c-43db-b9ce-0cc68bedb154 button.colab-df-convert');\n",
              "        buttonEl.style.display =\n",
              "          google.colab.kernel.accessAllowed ? 'block' : 'none';\n",
              "\n",
              "        async function convertToInteractive(key) {\n",
              "          const element = document.querySelector('#df-2fc31188-be4c-43db-b9ce-0cc68bedb154');\n",
              "          const dataTable =\n",
              "            await google.colab.kernel.invokeFunction('convertToInteractive',\n",
              "                                                     [key], {});\n",
              "          if (!dataTable) return;\n",
              "\n",
              "          const docLinkHtml = 'Like what you see? Visit the ' +\n",
              "            '<a target=\"_blank\" href=https://colab.research.google.com/notebooks/data_table.ipynb>data table notebook</a>'\n",
              "            + ' to learn more about interactive tables.';\n",
              "          element.innerHTML = '';\n",
              "          dataTable['output_type'] = 'display_data';\n",
              "          await google.colab.output.renderOutput(dataTable, element);\n",
              "          const docLink = document.createElement('div');\n",
              "          docLink.innerHTML = docLinkHtml;\n",
              "          element.appendChild(docLink);\n",
              "        }\n",
              "      </script>\n",
              "    </div>\n",
              "  </div>\n",
              "  "
            ]
          },
          "metadata": {},
          "execution_count": 19
        }
      ]
    },
    {
      "cell_type": "code",
      "execution_count": null,
      "metadata": {
        "id": "ru47l5BgoS9M"
      },
      "outputs": [],
      "source": [
        "display = Display(visible=0, size=(1400, 900))\n",
        "display.start()\n",
        "env = wrap_env(gym.make('LunarLander-v2'))\n",
        "play_game(env, agent, True, checkpoint_fname)"
      ]
    },
    {
      "cell_type": "markdown",
      "metadata": {
        "id": "mALjl2TMozCa"
      },
      "source": [
        "# Train Agent on DQN"
      ]
    },
    {
      "cell_type": "code",
      "execution_count": 20,
      "metadata": {
        "colab": {
          "base_uri": "https://localhost:8080/"
        },
        "id": "izAySBoMoeud",
        "outputId": "1053469f-aef8-461a-e39d-0bc70107b022"
      },
      "outputs": [
        {
          "output_type": "stream",
          "name": "stdout",
          "text": [
            "Episode 100\tAverage Score: -182.07\n",
            "Episode 200\tAverage Score: -141.81\n",
            "Episode 300\tAverage Score: -60.60\n",
            "Episode 400\tAverage Score: -56.60\n",
            "Episode 500\tAverage Score: -18.34\n",
            "Episode 600\tAverage Score: 27.50\n",
            "Episode 700\tAverage Score: 168.99\n",
            "Episode 740\tAverage Score: 201.22\n",
            "Environment solved in 640 episodes!\tAverage Score: 201.22\n",
            "Time elapsed:  1168.8180708885193  s\n"
          ]
        }
      ],
      "source": [
        "#set up parameters for agent\n",
        "seed = 0\n",
        "learning_rate = 5e-4\n",
        "memory_capacity = 100000\n",
        "batch_size = 64\n",
        "update_every = 4\n",
        "gamma = 0.99 \n",
        "tau = 0.001\n",
        "ddqn = False #using DQN now\n",
        "per = False\n",
        "\n",
        "#training params \n",
        "num_episodes = 2000\n",
        "max_steps = 1000\n",
        "eps_start = 1.0\n",
        "eps_end = 0.01\n",
        "eps_decay = 0.995\n",
        "\n",
        "checkpoint_fname = 'dqn.pth'\n",
        "\n",
        "time_start = time.time()\n",
        "agent = Agent(num_states, num_actions, seed, learning_rate, memory_capacity, batch_size, update_every, gamma, tau, alpha, beta, ddqn, per )\n",
        "scores = train_ddqn(env, agent, checkpoint_fname, num_episodes, max_steps , eps_start, eps_end , eps_decay)\n",
        "print(\"Time elapsed: \", time.time()-time_start, \" s\")\n",
        "\n"
      ]
    },
    {
      "cell_type": "code",
      "source": [
        "plot_scores(scores)"
      ],
      "metadata": {
        "colab": {
          "base_uri": "https://localhost:8080/",
          "height": 282
        },
        "id": "TsW2WQtXsSeE",
        "outputId": "491d2516-41d3-4569-81a4-596db51b7ebf"
      },
      "execution_count": 21,
      "outputs": [
        {
          "output_type": "display_data",
          "data": {
            "text/plain": [
              "<Figure size 432x288 with 1 Axes>"
            ],
            "image/png": "[encoded data removed]"
          },
          "metadata": {
            "needs_background": "light"
          }
        }
      ]
    },
    {
      "cell_type": "code",
      "source": [
        "env = gym.make('LunarLander-v2')\n",
        "agent.policy_net.eval()\n",
        "rewards = []\n",
        "\n",
        "\n",
        "for i in range(1000):\n",
        "    if i % 100 == 0:\n",
        "        print(f'iteration: {i}')\n",
        "    rewards.append(play_game(env, agent, False, 'dqn.pth'))\n",
        "\n",
        "dqn_df = pd.DataFrame(rewards)\n",
        "\n",
        "agent.policy_net.train()"
      ],
      "metadata": {
        "colab": {
          "base_uri": "https://localhost:8080/"
        },
        "id": "MU3OesPdPCUb",
        "outputId": "42af235e-fdf2-4633-a28d-af782fff2e82"
      },
      "execution_count": 22,
      "outputs": [
        {
          "output_type": "stream",
          "name": "stdout",
          "text": [
            "iteration: 0\n",
            "iteration: 100\n",
            "iteration: 200\n",
            "iteration: 300\n",
            "iteration: 400\n",
            "iteration: 500\n",
            "iteration: 600\n",
            "iteration: 700\n",
            "iteration: 800\n",
            "iteration: 900\n"
          ]
        },
        {
          "output_type": "execute_result",
          "data": {
            "text/plain": [
              "QNetwork(\n",
              "  (fc1): Linear(in_features=8, out_features=64, bias=True)\n",
              "  (fc2): Linear(in_features=64, out_features=64, bias=True)\n",
              "  (fc3): Linear(in_features=64, out_features=4, bias=True)\n",
              ")"
            ]
          },
          "metadata": {},
          "execution_count": 22
        }
      ]
    },
    {
      "cell_type": "code",
      "source": [
        "dqn_df.describe()"
      ],
      "metadata": {
        "colab": {
          "base_uri": "https://localhost:8080/",
          "height": 300
        },
        "id": "Ea1-toNuPQm7",
        "outputId": "46588993-a0bf-47a9-c83b-f07b5eb82355"
      },
      "execution_count": 28,
      "outputs": [
        {
          "output_type": "execute_result",
          "data": {
            "text/plain": [
              "                 0\n",
              "count  1000.000000\n",
              "mean    208.125858\n",
              "std      72.914419\n",
              "min    -370.797218\n",
              "25%     205.869395\n",
              "50%     222.459015\n",
              "75%     237.411000\n",
              "max     273.586051"
            ],
            "text/html": [
              "\n",
              "  <div id=\"df-060b4d46-972e-41a7-a57a-ac927cec6150\">\n",
              "    <div class=\"colab-df-container\">\n",
              "      <div>\n",
              "<style scoped>\n",
              "    .dataframe tbody tr th:only-of-type {\n",
              "        vertical-align: middle;\n",
              "    }\n",
              "\n",
              "    .dataframe tbody tr th {\n",
              "        vertical-align: top;\n",
              "    }\n",
              "\n",
              "    .dataframe thead th {\n",
              "        text-align: right;\n",
              "    }\n",
              "</style>\n",
              "<table border=\"1\" class=\"dataframe\">\n",
              "  <thead>\n",
              "    <tr style=\"text-align: right;\">\n",
              "      <th></th>\n",
              "      <th>0</th>\n",
              "    </tr>\n",
              "  </thead>\n",
              "  <tbody>\n",
              "    <tr>\n",
              "      <th>count</th>\n",
              "      <td>1000.000000</td>\n",
              "    </tr>\n",
              "    <tr>\n",
              "      <th>mean</th>\n",
              "      <td>208.125858</td>\n",
              "    </tr>\n",
              "    <tr>\n",
              "      <th>std</th>\n",
              "      <td>72.914419</td>\n",
              "    </tr>\n",
              "    <tr>\n",
              "      <th>min</th>\n",
              "      <td>-370.797218</td>\n",
              "    </tr>\n",
              "    <tr>\n",
              "      <th>25%</th>\n",
              "      <td>205.869395</td>\n",
              "    </tr>\n",
              "    <tr>\n",
              "      <th>50%</th>\n",
              "      <td>222.459015</td>\n",
              "    </tr>\n",
              "    <tr>\n",
              "      <th>75%</th>\n",
              "      <td>237.411000</td>\n",
              "    </tr>\n",
              "    <tr>\n",
              "      <th>max</th>\n",
              "      <td>273.586051</td>\n",
              "    </tr>\n",
              "  </tbody>\n",
              "</table>\n",
              "</div>\n",
              "      <button class=\"colab-df-convert\" onclick=\"convertToInteractive('df-060b4d46-972e-41a7-a57a-ac927cec6150')\"\n",
              "              title=\"Convert this dataframe to an interactive table.\"\n",
              "              style=\"display:none;\">\n",
              "        \n",
              "  <svg xmlns=\"http://www.w3.org/2000/svg\" height=\"24px\"viewBox=\"0 0 24 24\"\n",
              "       width=\"24px\">\n",
              "    <path d=\"M0 0h24v24H0V0z\" fill=\"none\"/>\n",
              "    <path d=\"M18.56 5.44l.94 2.06.94-2.06 2.06-.94-2.06-.94-.94-2.06-.94 2.06-2.06.94zm-11 1L8.5 8.5l.94-2.06 2.06-.94-2.06-.94L8.5 2.5l-.94 2.06-2.06.94zm10 10l.94 2.06.94-2.06 2.06-.94-2.06-.94-.94-2.06-.94 2.06-2.06.94z\"/><path d=\"M17.41 7.96l-1.37-1.37c-.4-.4-.92-.59-1.43-.59-.52 0-1.04.2-1.43.59L10.3 9.45l-7.72 7.72c-.78.78-.78 2.05 0 2.83L4 21.41c.39.39.9.59 1.41.59.51 0 1.02-.2 1.41-.59l7.78-7.78 2.81-2.81c.8-.78.8-2.07 0-2.86zM5.41 20L4 18.59l7.72-7.72 1.47 1.35L5.41 20z\"/>\n",
              "  </svg>\n",
              "      </button>\n",
              "      \n",
              "  <style>\n",
              "    .colab-df-container {\n",
              "      display:flex;\n",
              "      flex-wrap:wrap;\n",
              "      gap: 12px;\n",
              "    }\n",
              "\n",
              "    .colab-df-convert {\n",
              "      background-color: #E8F0FE;\n",
              "      border: none;\n",
              "      border-radius: 50%;\n",
              "      cursor: pointer;\n",
              "      display: none;\n",
              "      fill: #1967D2;\n",
              "      height: 32px;\n",
              "      padding: 0 0 0 0;\n",
              "      width: 32px;\n",
              "    }\n",
              "\n",
              "    .colab-df-convert:hover {\n",
              "      background-color: #E2EBFA;\n",
              "      box-shadow: 0px 1px 2px rgba(60, 64, 67, 0.3), 0px 1px 3px 1px rgba(60, 64, 67, 0.15);\n",
              "      fill: #174EA6;\n",
              "    }\n",
              "\n",
              "    [theme=dark] .colab-df-convert {\n",
              "      background-color: #3B4455;\n",
              "      fill: #D2E3FC;\n",
              "    }\n",
              "\n",
              "    [theme=dark] .colab-df-convert:hover {\n",
              "      background-color: #434B5C;\n",
              "      box-shadow: 0px 1px 3px 1px rgba(0, 0, 0, 0.15);\n",
              "      filter: drop-shadow(0px 1px 2px rgba(0, 0, 0, 0.3));\n",
              "      fill: #FFFFFF;\n",
              "    }\n",
              "  </style>\n",
              "\n",
              "      <script>\n",
              "        const buttonEl =\n",
              "          document.querySelector('#df-060b4d46-972e-41a7-a57a-ac927cec6150 button.colab-df-convert');\n",
              "        buttonEl.style.display =\n",
              "          google.colab.kernel.accessAllowed ? 'block' : 'none';\n",
              "\n",
              "        async function convertToInteractive(key) {\n",
              "          const element = document.querySelector('#df-060b4d46-972e-41a7-a57a-ac927cec6150');\n",
              "          const dataTable =\n",
              "            await google.colab.kernel.invokeFunction('convertToInteractive',\n",
              "                                                     [key], {});\n",
              "          if (!dataTable) return;\n",
              "\n",
              "          const docLinkHtml = 'Like what you see? Visit the ' +\n",
              "            '<a target=\"_blank\" href=https://colab.research.google.com/notebooks/data_table.ipynb>data table notebook</a>'\n",
              "            + ' to learn more about interactive tables.';\n",
              "          element.innerHTML = '';\n",
              "          dataTable['output_type'] = 'display_data';\n",
              "          await google.colab.output.renderOutput(dataTable, element);\n",
              "          const docLink = document.createElement('div');\n",
              "          docLink.innerHTML = docLinkHtml;\n",
              "          element.appendChild(docLink);\n",
              "        }\n",
              "      </script>\n",
              "    </div>\n",
              "  </div>\n",
              "  "
            ]
          },
          "metadata": {},
          "execution_count": 28
        }
      ]
    },
    {
      "cell_type": "code",
      "execution_count": null,
      "metadata": {
        "id": "EVtsQsfNo3MA"
      },
      "outputs": [],
      "source": [
        "display = Display(visible=0, size=(1400, 900))\n",
        "display.start()\n",
        "env = wrap_env(gym.make('LunarLander-v2'))\n",
        "play_game(env, agent, True, checkpoint_fname)"
      ]
    },
    {
      "cell_type": "code",
      "source": [
        "dqn_df = dqn_df.describe().transpose()\n",
        "dqn_df.insert(loc=0, column='model', value='DQN')\n",
        "\n",
        "ddqn_df = ddqn_df.describe().transpose()\n",
        "ddqn_df.insert(loc=0, column='model', value='DDQN')\n",
        "\n",
        "dqn_per_df = dqn_per_df.describe().transpose()\n",
        "dqn_per_df.insert(loc=0, column='model', value='DQN PER')\n",
        "\n",
        "ddqn_per_df = ddqn_per_df.describe().transpose()\n",
        "ddqn_per_df.insert(loc=0, column='model', value='DDQN PER')"
      ],
      "metadata": {
        "id": "QGvE4IEnwHca"
      },
      "execution_count": 33,
      "outputs": []
    },
    {
      "cell_type": "code",
      "source": [
        "pd.concat([dqn_df, ddqn_df, dqn_per_df, ddqn_per_df], ignore_index=True)"
      ],
      "metadata": {
        "colab": {
          "base_uri": "https://localhost:8080/",
          "height": 175
        },
        "id": "cy8VuwZN4DZN",
        "outputId": "485c3ea4-9991-4b9d-ada9-ee835b71ea67"
      },
      "execution_count": 34,
      "outputs": [
        {
          "output_type": "execute_result",
          "data": {
            "text/plain": [
              "      model   count        mean         std         min         25%  \\\n",
              "0       DQN  1000.0  208.125858   72.914419 -370.797218  205.869395   \n",
              "1      DDQN  1000.0  210.909106   65.052820  -75.266943  202.251919   \n",
              "2   DQN PER  1000.0  248.990615   39.374935 -135.971707  240.393860   \n",
              "3  DDQN PER  1000.0  136.004989  128.747253 -480.798350  113.216856   \n",
              "\n",
              "          50%         75%         max  \n",
              "0  222.459015  237.411000  273.586051  \n",
              "1  226.715365  248.474989  301.420559  \n",
              "2  255.065234  268.462787  316.003551  \n",
              "3  182.337407  215.733548  290.654059  "
            ],
            "text/html": [
              "\n",
              "  <div id=\"df-5aa263fa-69d5-42b7-a973-833bfa7bdf12\">\n",
              "    <div class=\"colab-df-container\">\n",
              "      <div>\n",
              "<style scoped>\n",
              "    .dataframe tbody tr th:only-of-type {\n",
              "        vertical-align: middle;\n",
              "    }\n",
              "\n",
              "    .dataframe tbody tr th {\n",
              "        vertical-align: top;\n",
              "    }\n",
              "\n",
              "    .dataframe thead th {\n",
              "        text-align: right;\n",
              "    }\n",
              "</style>\n",
              "<table border=\"1\" class=\"dataframe\">\n",
              "  <thead>\n",
              "    <tr style=\"text-align: right;\">\n",
              "      <th></th>\n",
              "      <th>model</th>\n",
              "      <th>count</th>\n",
              "      <th>mean</th>\n",
              "      <th>std</th>\n",
              "      <th>min</th>\n",
              "      <th>25%</th>\n",
              "      <th>50%</th>\n",
              "      <th>75%</th>\n",
              "      <th>max</th>\n",
              "    </tr>\n",
              "  </thead>\n",
              "  <tbody>\n",
              "    <tr>\n",
              "      <th>0</th>\n",
              "      <td>DQN</td>\n",
              "      <td>1000.0</td>\n",
              "      <td>208.125858</td>\n",
              "      <td>72.914419</td>\n",
              "      <td>-370.797218</td>\n",
              "      <td>205.869395</td>\n",
              "      <td>222.459015</td>\n",
              "      <td>237.411000</td>\n",
              "      <td>273.586051</td>\n",
              "    </tr>\n",
              "    <tr>\n",
              "      <th>1</th>\n",
              "      <td>DDQN</td>\n",
              "      <td>1000.0</td>\n",
              "      <td>210.909106</td>\n",
              "      <td>65.052820</td>\n",
              "      <td>-75.266943</td>\n",
              "      <td>202.251919</td>\n",
              "      <td>226.715365</td>\n",
              "      <td>248.474989</td>\n",
              "      <td>301.420559</td>\n",
              "    </tr>\n",
              "    <tr>\n",
              "      <th>2</th>\n",
              "      <td>DQN PER</td>\n",
              "      <td>1000.0</td>\n",
              "      <td>248.990615</td>\n",
              "      <td>39.374935</td>\n",
              "      <td>-135.971707</td>\n",
              "      <td>240.393860</td>\n",
              "      <td>255.065234</td>\n",
              "      <td>268.462787</td>\n",
              "      <td>316.003551</td>\n",
              "    </tr>\n",
              "    <tr>\n",
              "      <th>3</th>\n",
              "      <td>DDQN PER</td>\n",
              "      <td>1000.0</td>\n",
              "      <td>136.004989</td>\n",
              "      <td>128.747253</td>\n",
              "      <td>-480.798350</td>\n",
              "      <td>113.216856</td>\n",
              "      <td>182.337407</td>\n",
              "      <td>215.733548</td>\n",
              "      <td>290.654059</td>\n",
              "    </tr>\n",
              "  </tbody>\n",
              "</table>\n",
              "</div>\n",
              "      <button class=\"colab-df-convert\" onclick=\"convertToInteractive('df-5aa263fa-69d5-42b7-a973-833bfa7bdf12')\"\n",
              "              title=\"Convert this dataframe to an interactive table.\"\n",
              "              style=\"display:none;\">\n",
              "        \n",
              "  <svg xmlns=\"http://www.w3.org/2000/svg\" height=\"24px\"viewBox=\"0 0 24 24\"\n",
              "       width=\"24px\">\n",
              "    <path d=\"M0 0h24v24H0V0z\" fill=\"none\"/>\n",
              "    <path d=\"M18.56 5.44l.94 2.06.94-2.06 2.06-.94-2.06-.94-.94-2.06-.94 2.06-2.06.94zm-11 1L8.5 8.5l.94-2.06 2.06-.94-2.06-.94L8.5 2.5l-.94 2.06-2.06.94zm10 10l.94 2.06.94-2.06 2.06-.94-2.06-.94-.94-2.06-.94 2.06-2.06.94z\"/><path d=\"M17.41 7.96l-1.37-1.37c-.4-.4-.92-.59-1.43-.59-.52 0-1.04.2-1.43.59L10.3 9.45l-7.72 7.72c-.78.78-.78 2.05 0 2.83L4 21.41c.39.39.9.59 1.41.59.51 0 1.02-.2 1.41-.59l7.78-7.78 2.81-2.81c.8-.78.8-2.07 0-2.86zM5.41 20L4 18.59l7.72-7.72 1.47 1.35L5.41 20z\"/>\n",
              "  </svg>\n",
              "      </button>\n",
              "      \n",
              "  <style>\n",
              "    .colab-df-container {\n",
              "      display:flex;\n",
              "      flex-wrap:wrap;\n",
              "      gap: 12px;\n",
              "    }\n",
              "\n",
              "    .colab-df-convert {\n",
              "      background-color: #E8F0FE;\n",
              "      border: none;\n",
              "      border-radius: 50%;\n",
              "      cursor: pointer;\n",
              "      display: none;\n",
              "      fill: #1967D2;\n",
              "      height: 32px;\n",
              "      padding: 0 0 0 0;\n",
              "      width: 32px;\n",
              "    }\n",
              "\n",
              "    .colab-df-convert:hover {\n",
              "      background-color: #E2EBFA;\n",
              "      box-shadow: 0px 1px 2px rgba(60, 64, 67, 0.3), 0px 1px 3px 1px rgba(60, 64, 67, 0.15);\n",
              "      fill: #174EA6;\n",
              "    }\n",
              "\n",
              "    [theme=dark] .colab-df-convert {\n",
              "      background-color: #3B4455;\n",
              "      fill: #D2E3FC;\n",
              "    }\n",
              "\n",
              "    [theme=dark] .colab-df-convert:hover {\n",
              "      background-color: #434B5C;\n",
              "      box-shadow: 0px 1px 3px 1px rgba(0, 0, 0, 0.15);\n",
              "      filter: drop-shadow(0px 1px 2px rgba(0, 0, 0, 0.3));\n",
              "      fill: #FFFFFF;\n",
              "    }\n",
              "  </style>\n",
              "\n",
              "      <script>\n",
              "        const buttonEl =\n",
              "          document.querySelector('#df-5aa263fa-69d5-42b7-a973-833bfa7bdf12 button.colab-df-convert');\n",
              "        buttonEl.style.display =\n",
              "          google.colab.kernel.accessAllowed ? 'block' : 'none';\n",
              "\n",
              "        async function convertToInteractive(key) {\n",
              "          const element = document.querySelector('#df-5aa263fa-69d5-42b7-a973-833bfa7bdf12');\n",
              "          const dataTable =\n",
              "            await google.colab.kernel.invokeFunction('convertToInteractive',\n",
              "                                                     [key], {});\n",
              "          if (!dataTable) return;\n",
              "\n",
              "          const docLinkHtml = 'Like what you see? Visit the ' +\n",
              "            '<a target=\"_blank\" href=https://colab.research.google.com/notebooks/data_table.ipynb>data table notebook</a>'\n",
              "            + ' to learn more about interactive tables.';\n",
              "          element.innerHTML = '';\n",
              "          dataTable['output_type'] = 'display_data';\n",
              "          await google.colab.output.renderOutput(dataTable, element);\n",
              "          const docLink = document.createElement('div');\n",
              "          docLink.innerHTML = docLinkHtml;\n",
              "          element.appendChild(docLink);\n",
              "        }\n",
              "      </script>\n",
              "    </div>\n",
              "  </div>\n",
              "  "
            ]
          },
          "metadata": {},
          "execution_count": 34
        }
      ]
    },
    {
      "cell_type": "code",
      "source": [
        ""
      ],
      "metadata": {
        "id": "S2ss-8r94D2S"
      },
      "execution_count": null,
      "outputs": []
    }
  ],
  "metadata": {
    "accelerator": "GPU",
    "colab": {
      "collapsed_sections": [],
      "name": "(D)DQN_lunarlanding.ipynb",
      "provenance": []
    },
    "kernelspec": {
      "display_name": "Python 3",
      "name": "python3"
    },
    "language_info": {
      "name": "python"
    }
  },
  "nbformat": 4,
  "nbformat_minor": 0
}